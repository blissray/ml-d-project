{
 "cells": [
  {
   "cell_type": "markdown",
   "metadata": {},
   "source": [
    "# Lab #1 - Linear algebra basic I with python\n",
    "----------------------------------------------\n",
    "\n",
    "Copyright 2016 © document created by TeamLab.Gachon@gmail.com\n",
    "\n",
    "## Introduction\n",
    "첫 번째 Lab을 제출하기 위해 생각보다 많은 삽질을 했을거다. 현대의 프로그래밍 환경에서 프로그래밍을 실행하기 위해 많은 것들을 준비해야 하고 알아야 하는 것이 많다. 3월 12일 인간계왕 이세돌을 완벽하게 이긴 알파고는 총 1200대의 컴퓨터가 연결되어 파이썬 프로그램이 작동된다. \"진짜 일\"을 하기 위해서는 이런 부분에 대해서도 많은 이해가 필요하다.\n",
    "걱정마라. 이번에 우리는 바로 그런 일을 하진 않는다. 알파고와 같은 복잡한 수업 공식을 프로그래밍 언어로 만들기 전에 수업 시간에 배운 간단한 선형 대수학의 표현들을 코드로 변환하는 법을 배울 것 이다. 늘 얘기하지만 쉽다. 즐겁게 하자. \n",
    "\n",
    "## 숙제 다운로드 받기\n",
    "먼저 Lab을 다운로드하기 위하여는 아래와 같이 숙제를 다운로드하는 프로그램인 gachon-autograder-client을 여러분의 python interpreter에 설치하자. 참고로 본 설치를 이전에 했다면 다시 할 필요는 없다. 또한 본 설치를 하기전 git의 설치도 선행되어야 한다 (See: https://git-scm.com/downloads)\n",
    "\n",
    "```bash\n",
    "pip install py2exe\n",
    "pip install git+https://github.com/TeamLab/gachon-autograder-client.git\n",
    "```\n",
    "\n",
    "다음으로 Lab Template 파일을 다운로드 받자. 다운로드를 받기 위해서는 python 파일 또는 jupyter notebook 파일을 생성하여 아래 코드를 실행 시켜야 한다."
   ]
  },
  {
   "cell_type": "code",
   "execution_count": null,
   "metadata": {
    "collapsed": true
   },
   "outputs": [],
   "source": [
    "# import 문장은 삭제 하지 말 것\n",
    "import gachon_autograder_client as g_autograder\n",
    "\n",
    "EMAIL = \"#YOUR_EMAIL\"\n",
    "PASSWORD = \"#YOUR_PASSWORD\"\n",
    "ASSIGNMENT_NAME = \"linear_algebra_basic_I\" # I는 대문자 i를 의미함\n",
    "\n",
    "g_autograder.get_assignment(EMAIL, PASSWORD, ASSIGNMENT_NAME)"
   ]
  },
  {
   "cell_type": "markdown",
   "metadata": {},
   "source": [
    "위 소스 코드를 .py 파일 또는 jupyter notebook에 입력하여 파이썬으로 실행 시키면 \"linear_algebra_basic_I.ipynb\" 파일이 생성되며, `jupyter notebook`으로 실행하거나, 콘솔창(cmd)에서 해당 파일이 있는 폴더로 이동 후 아래와 같이 입력하면 해당 파일이 실행 될 것이다.\n",
    "\n",
    "```\n",
    "jupyter notebook linear_algebra_basic_I.ipynb\n",
    "```"
   ]
  },
  {
   "cell_type": "markdown",
   "metadata": {},
   "source": [
    "## linear_algebra_basic_I.py 코드 구조\n",
    "\n",
    "본 Lab은 vector와 matrix의 기초적인 연산을 수행하는 12개의 함수를 작성한다. 각각 함수의 기능과 역할은 아래와 같다. 비교적 문제가 평이하니 웃는 얼굴로 도전해보기 바란다.\n",
    "\n",
    "함수명 | 함수내용\n",
    "--------------------|--------------------------\n",
    "vector_size_check | vector 간 덧셈 또는 뺄셈 연산을 할 때, 연산이 가능한 사이즈인지를 확인하여 가능 여부를 True 또는 False로 반환함\n",
    "vector_addition | vector간 덧셈을 실행하여 결과를 반환함, 단 입력되는 vector의 갯수와 크기는 일정하지 않음\n",
    "vector_subtraction | vector간 뺄셈을 실행하여 결과를 반환함, 단 입력되는 vector의 갯수와 크기는 일정하지 않음\n",
    "scalar_vector_product | 하나의 scalar 값을 vector에 곱함, 단 입력되는 vector의 크기는 일정하지 않음\n",
    "matrix_size_check | matrix 간 덧셈 또는 뺄셈 연산을 할 때, 연산이 가능한 사이즈인지를 확인하여 가능 여부를 True 또는 False로 반환함\n",
    "is_matrix_equal | 비교가 되는 n개의 matrix가 서로 동치인지 확인하여 True 또는 False를 반환함\n",
    "matrix_addition | matrix간 덧셈을 실행하여 결과를 반환함, 단 입력되는 matrix의 갯수와 크기는 일정하지 않음\n",
    "matrix_subtraction | matrix간 뺄셈을 실행하여 결과를 반환함, 단 입력되는 matrix의 갯수와 크기는 일정하지 않음\n",
    "matrix_transpose | matrix의 역행렬을 구하여 결과를 반환함, 단 입력되는 matrix의 크기는 일정하지 않음\n",
    "scalar_matrix_product | 하나의 scalar 값을 matrix에 곱함, 단 입력되는 matrix의  크기는 일정하지 않음\n",
    "is_product_availability_matrix | 두 개의 matrix가 입력 되었을 경우, 두 matrix의 곱셈 연산의 가능 여부를 True 또는 False로 반환함\n",
    "matrix_product | 곱셈 연산이 가능한 두 개의 matrix의 곱셈을 실행하여 반환함\n"
   ]
  },
  {
   "cell_type": "markdown",
   "metadata": {},
   "source": [
    "### Problem #1 - vector_size_check (point 0.5 + 0.2)"
   ]
  },
  {
   "cell_type": "code",
   "execution_count": 6,
   "metadata": {
    "collapsed": true
   },
   "outputs": [],
   "source": [
    "def vector_size_check(*vector_variables):\n",
    "    return all(len(vector_variables[0]) == x\n",
    "               for x in [len(vector) for vector in vector_variables])"
   ]
  },
  {
   "cell_type": "code",
   "execution_count": 3,
   "metadata": {
    "collapsed": false
   },
   "outputs": [
    {
     "name": "stdout",
     "output_type": "stream",
     "text": [
      "True\n",
      "True\n",
      "False\n"
     ]
    }
   ],
   "source": [
    "# 실행결과\n",
    "print(vector_size_check([1,2,3], [2,3,4], [5,6,7])) # Expected value: True\n",
    "print(vector_size_check([1, 3], [2,4], [6,7])) # Expected value: True\n",
    "print(vector_size_check([1, 3, 4], [4], [6,7])) # Expected value: False"
   ]
  },
  {
   "cell_type": "markdown",
   "metadata": {},
   "source": [
    "### Problem #2 - vector_addition (point 0.4 + 0.1)\n",
    "\n",
    "\n",
    "$$\n",
    "  \\left[\\begin{array}{r}\n",
    "    a & b & c \\\\\n",
    "  \\end{array}\\right] + \n",
    "  \\left[\\begin{array}{r}\n",
    "    x & y & z \\\\\n",
    "  \\end{array}\\right] =\n",
    "  \\left[\\begin{array}{r}\n",
    "    a+x & b+y & c+z \\\\\n",
    "  \\end{array}\\right]\n",
    "$$"
   ]
  },
  {
   "cell_type": "code",
   "execution_count": 4,
   "metadata": {
    "collapsed": true
   },
   "outputs": [],
   "source": [
    "def vector_addition(*vector_variables):\n",
    "    if vector_size_check(*vector_variables) == False:\n",
    "        raise ArithmeticError\n",
    "    return [sum(elements) for elements in zip(*vector_variables)]"
   ]
  },
  {
   "cell_type": "code",
   "execution_count": 7,
   "metadata": {
    "collapsed": false
   },
   "outputs": [
    {
     "name": "stdout",
     "output_type": "stream",
     "text": [
      "[9, 14]\n",
      "[15, 16]\n"
     ]
    }
   ],
   "source": [
    "# 실행결과\n",
    "print(vector_addition([1, 3], [2, 4], [6, 7])) # Expected value: [9, 14]\n",
    "print(vector_addition([1, 5], [10, 4], [4, 7])) # Expected value: [15, 16]"
   ]
  },
  {
   "cell_type": "markdown",
   "metadata": {},
   "source": [
    "### Problem #3 - vector_subtraction (point 0.4 + 0.1)\n",
    "\n",
    "$$\n",
    "  \\left[\\begin{array}{r}\n",
    "    a & b & c \\\\\n",
    "  \\end{array}\\right] - \n",
    "  \\left[\\begin{array}{r}\n",
    "    x & y & z \\\\\n",
    "  \\end{array}\\right] =\n",
    "  \\left[\\begin{array}{r}\n",
    "    a-x & b-y & c-z \\\\\n",
    "  \\end{array}\\right]\n",
    "$$"
   ]
  },
  {
   "cell_type": "code",
   "execution_count": 6,
   "metadata": {
    "collapsed": true
   },
   "outputs": [],
   "source": [
    "def vector_subtraction (*vector_variables):\n",
    "    if vector_size_check(*vector_variables) == False:\n",
    "        raise ArithmeticError\n",
    "    return [elements[0]*2-sum(elements) for elements in zip(*vector_variables)]"
   ]
  },
  {
   "cell_type": "code",
   "execution_count": 7,
   "metadata": {
    "collapsed": false
   },
   "outputs": [
    {
     "name": "stdout",
     "output_type": "stream",
     "text": [
      "[-1, -1]\n",
      "[-13, -6]\n"
     ]
    }
   ],
   "source": [
    "# 실행결과\n",
    "print(vector_subtraction([1, 3], [2, 4])) # Expected value: [-1, -1]\n",
    "print(vector_subtraction([1, 5], [10, 4], [4, 7])) # Expected value: [-13, -6]"
   ]
  },
  {
   "cell_type": "markdown",
   "metadata": {},
   "source": [
    "### Problem #4 - scalar_vector_product (point 0.4 + 0.1)\n",
    "\n",
    "$$\n",
    "  \\alpha \\times\n",
    "  \\left[\\begin{array}{r}\n",
    "    x & y & z \\\\\n",
    "  \\end{array}\\right] =\n",
    "  \\left[\\begin{array}{r}\n",
    "    \\alpha \\times x & \\alpha \\times y & \\alpha \\times z \\\\\n",
    "  \\end{array}\\right]\n",
    "$$"
   ]
  },
  {
   "cell_type": "code",
   "execution_count": 18,
   "metadata": {
    "collapsed": true
   },
   "outputs": [],
   "source": [
    "def scalar_vector_product  (alpha, vector_variable):\n",
    "    return [alpha*element for element in vector_variable]"
   ]
  },
  {
   "cell_type": "code",
   "execution_count": 19,
   "metadata": {
    "collapsed": false
   },
   "outputs": [
    {
     "name": "stdout",
     "output_type": "stream",
     "text": [
      "[5, 10, 15]\n",
      "[6, 6]\n",
      "[4]\n"
     ]
    }
   ],
   "source": [
    "# 실행결과\n",
    "print (sclar_vector_product(5,[1,2,3])) # Expected value: [5, 10, 15]\n",
    "print (sclar_vector_product(3,[2,2])) # Expected value: [6, 6]\n",
    "print (sclar_vector_product(4,[1])) # Expected value: [4]"
   ]
  },
  {
   "cell_type": "markdown",
   "metadata": {},
   "source": [
    "### Problem #5 - matrix_size_check (point 0.5 + 0.2)"
   ]
  },
  {
   "cell_type": "code",
   "execution_count": 10,
   "metadata": {
    "collapsed": true
   },
   "outputs": [],
   "source": [
    "def matrix_size_check(*matrix_variables):\n",
    "    return all([len(set(len(matrix[0]) for matrix in matrix_variables)) == 1]) and \\\n",
    "         all([len(matrix_variables[0]) == len(matrix) for matrix in matrix_variables])"
   ]
  },
  {
   "cell_type": "code",
   "execution_count": 9,
   "metadata": {
    "collapsed": false
   },
   "outputs": [
    {
     "name": "stdout",
     "output_type": "stream",
     "text": [
      "False\n",
      "True\n",
      "False\n",
      "True\n"
     ]
    }
   ],
   "source": [
    "# 실행결과\n",
    "matrix_x = [[2, 2, 3], [2, 2, 3], [2, 2, 3]]\n",
    "matrix_y = [[2, 5], [2, 1]] \n",
    "matrix_z = [[2, 4], [5, 3]] \n",
    "matrix_w = [[2, 5], [1, 1], [2, 2]]\n",
    "\n",
    "print (matrix_size_check(matrix_x, matrix_y, matrix_z)) # Expected value: False \n",
    "print (matrix_size_check(matrix_y, matrix_z)) # Expected value: True\n",
    "print (matrix_size_check(matrix_x, matrix_w)) # Expected value: False\n",
    "print (matrix_size_check(matrix_x, matrix_x, matrix_x)) # Expected value: True"
   ]
  },
  {
   "cell_type": "markdown",
   "metadata": {},
   "source": [
    "### Problem #6 - is_matrix_equal (point 0.5 + 0.2)\n",
    "\n",
    "if $x=a, y=b, z=c, w=d $ then\n",
    "\n",
    "$$\n",
    " \\left[\\begin{array}{rr}\n",
    "    x & y \\\\\n",
    "    z & w \\\\\n",
    " \\end{array}\\right] = \n",
    " \\left[\\begin{array}{rr}\n",
    "    a & b \\\\\n",
    "    c & d \\\\\n",
    " \\end{array}\\right]\n",
    "$$"
   ]
  },
  {
   "cell_type": "code",
   "execution_count": 146,
   "metadata": {
    "collapsed": true
   },
   "outputs": [],
   "source": [
    "def is_matrix_equal(*matrix_variables):\n",
    "    return all([ all([len(set(row)) == 1 for row in zip(*matrix)]) for matrix in zip(*matrix_variables)] )\n",
    "#     return all([all([len(set(row)) == 1 for row in zip(*matrix)])\n",
    "#          for matrix in zip(*matrix_variables)])"
   ]
  },
  {
   "cell_type": "code",
   "execution_count": 147,
   "metadata": {
    "collapsed": false
   },
   "outputs": [
    {
     "name": "stdout",
     "output_type": "stream",
     "text": [
      "False\n",
      "True\n"
     ]
    }
   ],
   "source": [
    "# 실행결과\n",
    "matrix_x = [[2, 2], [2, 2]]\n",
    "matrix_y = [[2, 5], [2, 1]] \n",
    "\n",
    "print (is_matrix_equal(matrix_x, matrix_y)) # Expected value: False \n",
    "print (is_matrix_equal(matrix_x, matrix_x)) # Expected value: True"
   ]
  },
  {
   "cell_type": "markdown",
   "metadata": {},
   "source": [
    "### Problem #7 - matrix_addition (point 0.4 + 0.1)\n",
    "\n",
    "$$\n",
    " \\left[\\begin{array}{rr}\n",
    "    x & y \\\\\n",
    "    z & w \\\\\n",
    " \\end{array}\\right] + \n",
    " \\left[\\begin{array}{rr}\n",
    "    a & b \\\\\n",
    "    c & d \\\\\n",
    " \\end{array}\\right] = \n",
    " \\left[\\begin{array}{rr}\n",
    "    x + a & y + b \\\\\n",
    "    z + c & w + d \\\\\n",
    " \\end{array}\\right]\n",
    "$$"
   ]
  },
  {
   "cell_type": "code",
   "execution_count": 10,
   "metadata": {
    "collapsed": true
   },
   "outputs": [],
   "source": [
    "def matrix_addition(*matrix_variables):\n",
    "    if matrix_size_check(*matrix_variables) == False:\n",
    "        raise ArithmeticError\n",
    "    return [[sum(row) for row in  zip(*matrix)] for matrix in  zip(*matrix_variables) ]"
   ]
  },
  {
   "cell_type": "code",
   "execution_count": 11,
   "metadata": {
    "collapsed": false
   },
   "outputs": [
    {
     "name": "stdout",
     "output_type": "stream",
     "text": [
      "[[4, 7], [4, 3]]\n",
      "[[6, 11], [9, 6]]\n"
     ]
    }
   ],
   "source": [
    "# 실행결과\n",
    "matrix_x = [[2, 2], [2, 2]]\n",
    "matrix_y = [[2, 5], [2, 1]] \n",
    "matrix_z = [[2, 4], [5, 3]] \n",
    "\n",
    "print (matrix_addition(matrix_x, matrix_y)) # Expected value: [[4, 7], [4, 3]]\n",
    "print (matrix_addition(matrix_x, matrix_y, matrix_z)) # Expected value: [[6, 11], [9, 6]]"
   ]
  },
  {
   "cell_type": "markdown",
   "metadata": {},
   "source": [
    "### Problem #8 - matrix_subtraction (point 0.4  + 0.1)\n",
    "\n",
    "$$\n",
    " \\left[\\begin{array}{rr}\n",
    "    x & y \\\\\n",
    "    z & w \\\\\n",
    " \\end{array}\\right] - \n",
    " \\left[\\begin{array}{rr}\n",
    "    a & b \\\\\n",
    "    c & d \\\\\n",
    " \\end{array}\\right] = \n",
    " \\left[\\begin{array}{rr}\n",
    "    x - a & y - b \\\\\n",
    "    z - c & w - d \\\\\n",
    " \\end{array}\\right]\n",
    "$$"
   ]
  },
  {
   "cell_type": "code",
   "execution_count": 12,
   "metadata": {
    "collapsed": true
   },
   "outputs": [],
   "source": [
    "def matrix_subtraction(*matrix_variables):\n",
    "    if matrix_size_check(*matrix_variables) == False:\n",
    "        raise ArithmeticError\n",
    "    return [[row[0]*2 - sum(row) \n",
    "             for row in  zip(*matrix)] \n",
    "            for matrix in  zip(*matrix_variables) ]"
   ]
  },
  {
   "cell_type": "code",
   "execution_count": 13,
   "metadata": {
    "collapsed": false
   },
   "outputs": [
    {
     "name": "stdout",
     "output_type": "stream",
     "text": [
      "[[0, -3], [0, 1]]\n",
      "[[-2, -7], [-5, -2]]\n"
     ]
    }
   ],
   "source": [
    "# 실행결과\n",
    "matrix_x = [[2, 2], [2, 2]]\n",
    "matrix_y = [[2, 5], [2, 1]] \n",
    "matrix_z = [[2, 4], [5, 3]] \n",
    "\n",
    "print (matrix_subtraction(matrix_x, matrix_y)) # Expected value: [[0, -1], [0, 1]]\n",
    "print (matrix_subtraction(matrix_x, matrix_y, matrix_z)) # Expected value: [[-2, -7], [-5, -2]]"
   ]
  },
  {
   "cell_type": "markdown",
   "metadata": {},
   "source": [
    "### Problem #9 - matrix_transpose (point 0.4 + 0.1)\n",
    "\n",
    "Let\n",
    "$A =\n",
    " \\left[\\begin{array}{rrr}\n",
    "    a & b \\\\\n",
    "    c & d \\\\\n",
    "    e & f \\\\    \n",
    " \\end{array}\\right]\n",
    "$, Then $A^T\\ =\n",
    " \\left[\\begin{array}{rr}\n",
    "    a & c & e \\\\\n",
    "    b & d & e  \\\\\n",
    " \\end{array}\\right]\n",
    "$"
   ]
  },
  {
   "cell_type": "code",
   "execution_count": 1,
   "metadata": {
    "collapsed": true
   },
   "outputs": [],
   "source": [
    "def matrix_transpose(matrix_variable):\n",
    "    return [ [element for element in row] for row in zip(*matrix_variable)]"
   ]
  },
  {
   "cell_type": "code",
   "execution_count": 2,
   "metadata": {
    "collapsed": false
   },
   "outputs": [
    {
     "data": {
      "text/plain": [
       "[[2, 1, 2], [5, 1, 2]]"
      ]
     },
     "execution_count": 2,
     "metadata": {},
     "output_type": "execute_result"
    }
   ],
   "source": [
    "# 실행결과\n",
    "matrix_w = [[2, 5], [1, 1], [2, 2]]\n",
    "matrix_transpose(matrix_w)"
   ]
  },
  {
   "cell_type": "markdown",
   "metadata": {},
   "source": [
    "### Problem #10 - scalar_matrix_product (point 0.4 + 0.1)\n",
    "\n",
    "$$\n",
    "  \\alpha \\times\n",
    "  \\left[\\begin{array}{rr}\n",
    "    a & c & d \\\\\n",
    "    e & f & g \\\\\n",
    "\\end{array}\\right] =\n",
    "  \\left[\\begin{array}{rr}\n",
    "    \\alpha \\times a & \\alpha \\times c & \\alpha \\times d \\\\\n",
    "    \\alpha \\times e & \\alpha \\times f & \\alpha \\times g \\\\\n",
    "\\end{array}\\right]\n",
    "$$"
   ]
  },
  {
   "cell_type": "code",
   "execution_count": 3,
   "metadata": {
    "collapsed": true
   },
   "outputs": [],
   "source": [
    "def scalar_matrix_product (alpha, matrix_variable):\n",
    "    return [ scalar_vector_product(alpha, row) for row in matrix_variable]"
   ]
  },
  {
   "cell_type": "code",
   "execution_count": 20,
   "metadata": {
    "collapsed": false
   },
   "outputs": [
    {
     "name": "stdout",
     "output_type": "stream",
     "text": [
      "[[6, 6], [6, 6], [6, 6]]\n",
      "[[4, 10], [4, 2]]\n",
      "[[8, 16], [20, 12]]\n",
      "[[6, 15], [3, 3], [6, 6]]\n"
     ]
    }
   ],
   "source": [
    "# 실행결과\n",
    "matrix_x = [[2, 2], [2, 2], [2, 2]]\n",
    "matrix_y = [[2, 5], [2, 1]] \n",
    "matrix_z = [[2, 4], [5, 3]] \n",
    "matrix_w = [[2, 5], [1, 1], [2, 2]]\n",
    "\n",
    "print(scalar_matrix_product(3, matrix_x)) #Expected value: [[6, 6], [6, 6], [6, 6]]\n",
    "print(scalar_matrix_product(2, matrix_y)) #Expected value: [[4, 10], [4, 2]]\n",
    "print(scalar_matrix_product(4, matrix_z)) #Expected value: [[8, 16], [20, 12]]\n",
    "print(scalar_matrix_product(3, matrix_w)) #Expected value: [[6, 15], [3, 3], [6, 6]]"
   ]
  },
  {
   "cell_type": "markdown",
   "metadata": {},
   "source": [
    "### Problem #11 - is_product_availability_matrix (point 0.5 + 0.2)\n",
    "\n",
    "The matrix product of $A$ and $B$ (written $AB$) is defined if and only if\n",
    "Number of columns in $A$ = Number of rows in $B$"
   ]
  },
  {
   "cell_type": "code",
   "execution_count": 21,
   "metadata": {
    "collapsed": true
   },
   "outputs": [],
   "source": [
    "def is_product_availability_matrix(matrix_a, matrix_b):\n",
    "    return len([column_vector for column_vector in zip(*matrix_a)]) == len(matrix_b)"
   ]
  },
  {
   "cell_type": "code",
   "execution_count": 22,
   "metadata": {
    "collapsed": false
   },
   "outputs": [
    {
     "name": "stdout",
     "output_type": "stream",
     "text": [
      "True\n",
      "True\n",
      "False\n",
      "True\n"
     ]
    }
   ],
   "source": [
    "# 실행결과\n",
    "matrix_x= [[2, 5], [1, 1]]\n",
    "matrix_y = [[1, 1, 2], [2, 1, 1]] \n",
    "matrix_z = [[2, 4], [5, 3], [1, 3]]\n",
    "\n",
    "print(is_product_availability_matrix(matrix_y, matrix_z)) # Expected value: True\n",
    "print(is_product_availability_matrix(matrix_z, matrix_x)) # Expected value: True\n",
    "print(is_product_availability_matrix(matrix_z, matrix_w)) # Expected value: False\n",
    "print(is_product_availability_matrix(matrix_x, matrix_x)) # Expected value: True"
   ]
  },
  {
   "cell_type": "markdown",
   "metadata": {},
   "source": [
    "### Problem #12 -  matrix_product (point 0.5 + 0.2)"
   ]
  },
  {
   "cell_type": "code",
   "execution_count": 3,
   "metadata": {
    "collapsed": true
   },
   "outputs": [],
   "source": [
    "def matrix_product(matrix_a, matrix_b):\n",
    "    return [ [sum(a*b for a,b in zip(row_a, column_b)) for column_b in zip(*matrix_b)]\n",
    "           for row_a in matrix_a]"
   ]
  },
  {
   "cell_type": "code",
   "execution_count": 4,
   "metadata": {
    "collapsed": false
   },
   "outputs": [
    {
     "name": "stdout",
     "output_type": "stream",
     "text": [
      "[[9, 13], [10, 14]]\n",
      "[[8, 14], [13, 28], [5, 8]]\n",
      "[[9, 15], [3, 6]]\n"
     ]
    }
   ],
   "source": [
    "# 실행결과\n",
    "matrix_x= [[2, 5], [1, 1]]\n",
    "matrix_y = [[1, 1, 2], [2, 1, 1]] \n",
    "matrix_z = [[2, 4], [5, 3], [1, 3]]\n",
    "\n",
    "print(matrix_product(matrix_y, matrix_z)) # Expected value: [[9, 13], [10, 14]]\n",
    "print(matrix_product(matrix_z, matrix_x)) # Expected value: [[8, 14], [13, 28], [5, 8]]\n",
    "print(matrix_product(matrix_x, matrix_x)) # Expected value: [[9, 15], [3, 6]]"
   ]
  },
  {
   "cell_type": "markdown",
   "metadata": {},
   "source": [
    "## 결과 제출 하기\n",
    "\n",
    "문제없이 숙제를 제출하면 아래 결과가 모두 PASS로 표시 될 것이다."
   ]
  },
  {
   "cell_type": "code",
   "execution_count": 12,
   "metadata": {
    "collapsed": false
   },
   "outputs": [
    {
     "name": "stdout",
     "output_type": "stream",
     "text": [
      "-------------------- | ---------- | -------------------- \n",
      "       Function Name |    Passed? |             Feedback \n",
      "-------------------- | ---------- | -------------------- \n",
      "     is_matrix_equal |       PASS |             Good Job \n",
      "scalar_matrix_product |       PASS |             Good Job \n",
      "is_product_availability_matrix |       PASS |             Good Job \n",
      "      matrix_product |       PASS |             Good Job \n",
      "   matrix_size_check |       PASS |             Good Job \n",
      "  matrix_subtraction |       PASS |             Good Job \n",
      "     vector_addition |       PASS |             Good Job \n",
      "    matrix_transpose |       PASS |             Good Job \n",
      "   vector_size_check |       PASS |             Good Job \n",
      "     matrix_addition |       PASS |             Good Job \n",
      "  vector_subtraction |       PASS |             Good Job \n",
      "scalar_vector_product |       PASS |             Good Job \n",
      "-------------------- | ---------- | -------------------- \n"
     ]
    }
   ],
   "source": [
    "import gachon_autograder_client as g_autograder\n",
    "\n",
    "THE_TEMLABIO_ID = \"sc82.choi\"\n",
    "PASSWORD = \"test1234\"\n",
    "ASSIGNMENT_FILE_NAME = \"linear_algebra_basic_I.ipynb\"\n",
    "\n",
    "g_autograder.submit_assignment(THE_TEMLABIO_ID, PASSWORD, ASSIGNMENT_FILE_NAME)"
   ]
  },
  {
   "cell_type": "markdown",
   "metadata": {},
   "source": [
    "## Next Work\n",
    "고생했다. 처음 해보는 거라 너무 생소하게 느꼈을 가능성이 클거라고 생각한다. 너무 어렵다라는 말도 많이 했을 거 같다. 근데 그거 아는가? 이게 제일 쉬운 숙제다. 후훗 다음주에 보자.\n",
    "\n",
    "> **Human knowledge belongs to the world** - from movie 'Password' -"
   ]
  }
 ],
 "metadata": {
  "kernelspec": {
   "display_name": "Python 3",
   "language": "python",
   "name": "python3"
  },
  "language_info": {
   "codemirror_mode": {
    "name": "ipython",
    "version": 3
   },
   "file_extension": ".py",
   "mimetype": "text/x-python",
   "name": "python",
   "nbconvert_exporter": "python",
   "pygments_lexer": "ipython3",
   "version": "3.5.2"
  }
 },
 "nbformat": 4,
 "nbformat_minor": 0
}
