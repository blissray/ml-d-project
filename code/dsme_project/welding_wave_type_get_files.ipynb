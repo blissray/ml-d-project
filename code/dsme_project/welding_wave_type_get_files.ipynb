{
 "cells": [
  {
   "cell_type": "code",
   "execution_count": 8,
   "metadata": {},
   "outputs": [],
   "source": [
    "import pandas as pd\n",
    "import os\n",
    "import matplotlib.pyplot as plt\n",
    "import numpy as np\n",
    "import warnings\n",
    "warnings.simplefilter(action='ignore', category=FutureWarning)\n",
    "import seaborn as sns\n",
    "sns.set(style=\"white\") #white background style for seaborn plots\n",
    "sns.set(style=\"whitegrid\", color_codes=True)"
   ]
  },
  {
   "cell_type": "markdown",
   "metadata": {},
   "source": [
    "### Data finding"
   ]
  },
  {
   "cell_type": "code",
   "execution_count": 9,
   "metadata": {},
   "outputs": [],
   "source": [
    "DATA_DIR = \"data/welding_wave\"\n",
    "filenames = os.listdir(DATA_DIR)\n",
    "df_list = []\n",
    "type_list = []\n",
    "for filename in filenames:\n",
    "    hz = filename.split(\"_\")[0]\n",
    "    gap_id = filename.split(\"_\")[1]\n",
    "    gap_type = gap_id[:4]\n",
    "#     welding_order = gap_id.split(\"mm\")[-1].split(\".\")[0]\n",
    "    \n",
    "    type_list.append([hz, gap_type])\n",
    "    df_list.append(\n",
    "        pd.read_csv(os.path.join(DATA_DIR, filename), delimiter=\"\\t\", header=None,\n",
    "                   names =[\"time_order\", \"ampere\", \"volt\"] ))"
   ]
  },
  {
   "cell_type": "code",
   "execution_count": 7,
   "metadata": {},
   "outputs": [],
   "source": [
    "X_df = all_df.copy()\n",
    "\n",
    "shift_big_list = []\n",
    "rolling_big_list = []\n",
    "# window_size = 11\n",
    "window_size = 11\n",
    "\n",
    "for hz in [\"2000Hz\", \"4000Hz\"]:\n",
    "    for gap_type in [\"Gap0\", \"Gap2\", \"Gap4\"]:\n",
    "        target_df = X_df[(X_df[\"hz\"] == hz) & (X_df[\"gap_type\"] == gap_type)][['ampere', 'volt']]\n",
    "        shift_small_list = []\n",
    "        rolling_small_list = []\n",
    "        for i in range(1, window_size):\n",
    "            names = target_df.columns\n",
    "            df = target_df.shift(i)\n",
    "            df.columns = [name + \"_shift_\" + str(i) for name in names]\n",
    "            shift_small_list.append(df)\n",
    "\n",
    "            af = target_df.rolling(i).mean()\n",
    "            af.columns = [name + \"_rolling_\" + str(i) for name in names]\n",
    "            rolling_small_list.append(af)\n",
    "\n",
    "        shift_big_list.append(pd.concat(shift_small_list, axis=1))\n",
    "        rolling_big_list.append(pd.concat(rolling_small_list, axis=1))\n",
    "        \n",
    "\n",
    "X_df = pd.merge(X_df, pd.concat(shift_big_list).dropna(), how=\"inner\" , left_index=True, right_index=True)\n",
    "X_df = pd.merge(X_df, pd.concat(rolling_big_list).dropna(), how=\"inner\" , left_index=True, right_index=True)\n",
    "\n",
    "\n",
    "X_df[\"hz\"] = X_df.hz.replace({\"2000Hz\" : 0, \"4000Hz\" : 1})\n",
    "X_df[\"log_am\"] = np.log(X_df['ampere'] + 100)\n",
    "X_df[\"log_volt\"] = np.log(X_df['volt'] + 100)\n",
    "\n",
    "\n",
    "\n",
    "le = preprocessing.LabelEncoder()\n",
    "le.fit(X_df.gap_type.unique())\n",
    "y = le.transform(X_df.pop(\"gap_type\").values) \n",
    "X = X_df.values\n",
    "\n",
    "X_dev, X_test, y_dev, y_test = train_test_split(X, y)"
   ]
  }
 ],
 "metadata": {
  "kernelspec": {
   "display_name": "Python 3",
   "language": "python",
   "name": "python3"
  },
  "language_info": {
   "codemirror_mode": {
    "name": "ipython",
    "version": 3
   },
   "file_extension": ".py",
   "mimetype": "text/x-python",
   "name": "python",
   "nbconvert_exporter": "python",
   "pygments_lexer": "ipython3",
   "version": "3.6.9"
  }
 },
 "nbformat": 4,
 "nbformat_minor": 2
}
