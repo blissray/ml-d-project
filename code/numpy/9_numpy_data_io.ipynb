{
 "cells": [
  {
   "cell_type": "code",
   "execution_count": 20,
   "metadata": {
    "ExecuteTime": {
     "end_time": "2017-09-26T02:28:09.787514Z",
     "start_time": "2017-09-26T02:28:09.785012Z"
    },
    "collapsed": true
   },
   "outputs": [],
   "source": [
    "import numpy as np"
   ]
  },
  {
   "cell_type": "markdown",
   "metadata": {},
   "source": [
    "#### load txt"
   ]
  },
  {
   "cell_type": "code",
   "execution_count": 15,
   "metadata": {
    "ExecuteTime": {
     "end_time": "2017-09-26T02:11:26.296847Z",
     "start_time": "2017-09-26T02:11:26.291077Z"
    }
   },
   "outputs": [
    {
     "data": {
      "text/plain": [
       "array([[  1900.,  30000.,   4000.,  48300.],\n",
       "       [  1901.,  47200.,   6100.,  48200.],\n",
       "       [  1902.,  70200.,   9800.,  41500.],\n",
       "       [  1903.,  77400.,  35200.,  38200.],\n",
       "       [  1904.,  36300.,  59400.,  40600.],\n",
       "       [  1905.,  20600.,  41700.,  39800.],\n",
       "       [  1906.,  18100.,  19000.,  38600.],\n",
       "       [  1907.,  21400.,  13000.,  42300.],\n",
       "       [  1908.,  22000.,   8300.,  44500.],\n",
       "       [  1909.,  25400.,   9100.,  42100.]])"
      ]
     },
     "execution_count": 15,
     "metadata": {},
     "output_type": "execute_result"
    }
   ],
   "source": [
    "a = np.loadtxt(\"./populations.txt\")\n",
    "a[:10]"
   ]
  },
  {
   "cell_type": "code",
   "execution_count": 18,
   "metadata": {
    "ExecuteTime": {
     "end_time": "2017-09-26T02:11:40.991394Z",
     "start_time": "2017-09-26T02:11:40.986710Z"
    }
   },
   "outputs": [
    {
     "data": {
      "text/plain": [
       "array([[ 1900, 30000,  4000, 48300],\n",
       "       [ 1901, 47200,  6100, 48200],\n",
       "       [ 1902, 70200,  9800, 41500]])"
      ]
     },
     "execution_count": 18,
     "metadata": {},
     "output_type": "execute_result"
    }
   ],
   "source": [
    "a_int = a.astype(int)\n",
    "a_int[:3]"
   ]
  },
  {
   "cell_type": "code",
   "execution_count": 21,
   "metadata": {
    "ExecuteTime": {
     "end_time": "2017-09-26T02:28:11.931523Z",
     "start_time": "2017-09-26T02:28:11.928654Z"
    },
    "collapsed": true
   },
   "outputs": [],
   "source": [
    "np.savetxt('int_data.csv',a_int, delimiter=\",\")"
   ]
  },
  {
   "cell_type": "markdown",
   "metadata": {},
   "source": [
    "#### numpy object - npy"
   ]
  },
  {
   "cell_type": "code",
   "execution_count": 31,
   "metadata": {
    "ExecuteTime": {
     "end_time": "2017-09-26T02:36:56.843546Z",
     "start_time": "2017-09-26T02:36:56.839840Z"
    },
    "collapsed": true
   },
   "outputs": [],
   "source": [
    "np.save(\"npy_test\", arr=a_int)"
   ]
  },
  {
   "cell_type": "code",
   "execution_count": 35,
   "metadata": {
    "ExecuteTime": {
     "end_time": "2017-09-26T02:37:07.300334Z",
     "start_time": "2017-09-26T02:37:07.295316Z"
    }
   },
   "outputs": [
    {
     "data": {
      "text/plain": [
       "array([[ 1900, 30000,  4000, 48300],\n",
       "       [ 1901, 47200,  6100, 48200],\n",
       "       [ 1902, 70200,  9800, 41500]])"
      ]
     },
     "execution_count": 35,
     "metadata": {},
     "output_type": "execute_result"
    }
   ],
   "source": [
    "npy_array = np.load(file=\"npy_test.npy\")\n",
    "npy_array[:3]"
   ]
  },
  {
   "cell_type": "code",
   "execution_count": null,
   "metadata": {
    "collapsed": true
   },
   "outputs": [],
   "source": []
  }
 ],
 "metadata": {
  "kernelspec": {
   "display_name": "Python 3",
   "language": "python",
   "name": "python3"
  },
  "language_info": {
   "codemirror_mode": {
    "name": "ipython",
    "version": 3
   },
   "file_extension": ".py",
   "mimetype": "text/x-python",
   "name": "python",
   "nbconvert_exporter": "python",
   "pygments_lexer": "ipython3",
   "version": "3.6.1"
  },
  "nav_menu": {},
  "toc": {
   "navigate_menu": true,
   "number_sections": true,
   "sideBar": true,
   "threshold": 6,
   "toc_cell": false,
   "toc_section_display": "block",
   "toc_window_display": false
  }
 },
 "nbformat": 4,
 "nbformat_minor": 2
}
