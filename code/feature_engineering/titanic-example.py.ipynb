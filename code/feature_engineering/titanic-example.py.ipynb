{
 "cells": [
  {
   "cell_type": "code",
   "execution_count": null,
   "metadata": {},
   "outputs": [],
   "source": [
    "import pandas as pd\n",
    "import os\n",
    "import matplotlib.pyplot as plt\n",
    "import numpy as np\n",
    "\n",
    "import seaborn as sns\n",
    "sns.set(style=\"white\") #white background style for seaborn plots\n",
    "sns.set(style=\"whitegrid\", color_codes=True)"
   ]
  },
  {
   "cell_type": "code",
   "execution_count": null,
   "metadata": {},
   "outputs": [],
   "source": [
    "DATA_DIR = './titanic'\n",
    "data_files = reversed([os.path.join(DATA_DIR, filename) for filename in os.listdir(DATA_DIR)])\n",
    "df_list = []\n",
    "for filename in data_files:\n",
    "    df_list.append(pd.read_csv(filename))\n",
    "df = pd.concat(df_list, sort=False)\n",
    "df = df.reset_index(drop=True)\n",
    "\n",
    "number_of_train_dataset = df.Survived.notnull().sum()\n",
    "number_of_test_dataset = df.Survived.isnull().sum() \n",
    "y_true = df.pop(\"Survived\")[:number_of_train_dataset]\n",
    "\n",
    "df.tail()"
   ]
  },
  {
   "cell_type": "code",
   "execution_count": null,
   "metadata": {},
   "outputs": [],
   "source": [
    "df.dtypes\n",
    "df.info()\n",
    "df.isnull().sum()\n",
    "df.describe()\n",
    "df.head(2).T\n"
   ]
  },
  {
   "cell_type": "code",
   "execution_count": null,
   "metadata": {},
   "outputs": [],
   "source": [
    "pd.options.display.float_format = '{:.2f}'.format\n",
    "df.isnull().sum() / len(df) * 100"
   ]
  },
  {
   "cell_type": "code",
   "execution_count": null,
   "metadata": {},
   "outputs": [],
   "source": [
    "df[df[\"Age\"].notnull()].groupby([\"Sex\"])[\"Age\"].mean()"
   ]
  },
  {
   "cell_type": "code",
   "execution_count": null,
   "metadata": {},
   "outputs": [],
   "source": [
    "df[df[\"Age\"].notnull()].groupby([\"Pclass\"])[\"Age\"].mean()"
   ]
  },
  {
   "cell_type": "code",
   "execution_count": null,
   "metadata": {},
   "outputs": [],
   "source": [
    "df[\"Age\"].fillna(\n",
    "    df.groupby(\"Pclass\")[\"Age\"].transform(\"mean\"), inplace=True)\n",
    "df.isnull().sum() / len(df) * 100"
   ]
  },
  {
   "cell_type": "code",
   "execution_count": null,
   "metadata": {},
   "outputs": [],
   "source": [
    "df.groupby(\"Pclass\")[\"Age\"].transform(\"mean\")"
   ]
  },
  {
   "cell_type": "markdown",
   "metadata": {},
   "source": [
    "### One-hot encoding"
   ]
  },
  {
   "cell_type": "code",
   "execution_count": null,
   "metadata": {},
   "outputs": [],
   "source": [
    "object_columns = [\"PassengerId\", \"Pclass\", \"Name\", \"Sex\", \"Ticket\", \"Cabin\", \"Embarked\"]\n",
    "numeric_columns = [\"Age\", \"SibSp\", \"Parch\", \"Fare\"]"
   ]
  },
  {
   "cell_type": "code",
   "execution_count": null,
   "metadata": {},
   "outputs": [],
   "source": [
    "for col_name in object_columns:\n",
    "    df[col_name] = df[col_name].astype(object)\n",
    "\n",
    "for col_name in numeric_columns:\n",
    "    df[col_name] = df[col_name].astype(float)\n",
    "df[\"Parch\"] = df[\"Parch\"].astype(int)\n",
    "df[\"SibSp\"] = df[\"SibSp\"].astype(int)\n"
   ]
  },
  {
   "cell_type": "code",
   "execution_count": null,
   "metadata": {},
   "outputs": [],
   "source": [
    "df.info()"
   ]
  },
  {
   "cell_type": "code",
   "execution_count": null,
   "metadata": {},
   "outputs": [],
   "source": [
    "def merge_and_get(ldf, rdf, on, how=\"inner\", index=None):\n",
    "    if index is True:\n",
    "        return pd.merge(ldf,rdf, how=how, left_index=True, right_index=True)\n",
    "    else:\n",
    "        return pd.merge(ldf,rdf, how=how, on=on)"
   ]
  },
  {
   "cell_type": "code",
   "execution_count": null,
   "metadata": {},
   "outputs": [],
   "source": [
    "df.loc[61,\"Embarked\"]           = \"S\"\n",
    "df.loc[829,\"Embarked\"]           = \"S\""
   ]
  },
  {
   "cell_type": "code",
   "execution_count": null,
   "metadata": {},
   "outputs": [],
   "source": [
    "one_hot_df = merge_and_get(df, pd.get_dummies(df[\"Sex\"], prefix=\"Sex\"), on=None, index=True) #sex_modified\n",
    "one_hot_df = merge_and_get(one_hot_df, pd.get_dummies(df[\"Pclass\"], prefix=\"Pclass\"), on=None, index=True) #sex_modified\n",
    "one_hot_df = merge_and_get(one_hot_df, pd.get_dummies(df[\"Embarked\"], prefix=\"Embarked\"), on=None, index=True) #sex_modified\n"
   ]
  },
  {
   "cell_type": "code",
   "execution_count": null,
   "metadata": {
    "scrolled": true
   },
   "outputs": [],
   "source": [
    "temp_columns = [\"Sex\", \"Pclass\", \"Embarked\"]\n",
    "\n",
    "for col_name in temp_columns:\n",
    "    temp_df = pd.merge(one_hot_df[col_name], y_true, left_index=True, right_index=True)\n",
    "    sns.countplot(x=\"Survived\", hue=col_name, data=temp_df)\n",
    "    plt.show()"
   ]
  },
  {
   "cell_type": "code",
   "execution_count": null,
   "metadata": {},
   "outputs": [],
   "source": [
    "temp_df = pd.merge(one_hot_df[temp_columns], y_true, left_index=True, right_index=True)\n",
    "g = sns.catplot(x=\"Embarked\", hue=\"Pclass\", col=\"Survived\",\n",
    "                 data=temp_df, kind=\"count\",\n",
    "                 height=4, aspect=.7);"
   ]
  },
  {
   "cell_type": "code",
   "execution_count": null,
   "metadata": {},
   "outputs": [],
   "source": [
    "temp_df = pd.merge(one_hot_df[temp_columns], y_true, left_index=True, right_index=True)\n",
    "g = sns.catplot(x=\"Pclass\", hue=\"Sex\", col=\"Survived\",\n",
    "                 data=temp_df, kind=\"count\",\n",
    "                 height=4, aspect=.7);"
   ]
  },
  {
   "cell_type": "code",
   "execution_count": null,
   "metadata": {},
   "outputs": [],
   "source": [
    "temp_df = pd.merge(one_hot_df[temp_columns], y_true, left_index=True, right_index=True)\n",
    "g = sns.catplot(x=\"Embarked\", hue=\"Sex\", col=\"Survived\",\n",
    "                 data=temp_df, kind=\"count\",\n",
    "                 height=4, aspect=.7);"
   ]
  },
  {
   "cell_type": "code",
   "execution_count": null,
   "metadata": {},
   "outputs": [],
   "source": [
    "crosscheck_columns = [col_name for col_name in one_hot_df.columns.tolist()\n",
    "                     if col_name.split(\"_\")[0] in temp_columns and  \"_\"  in col_name ] + [\"Sex\"]\n",
    "\n",
    "# temp_columns\n",
    "temp_df = pd.merge(one_hot_df[crosscheck_columns], y_true, left_index=True, right_index=True)\n",
    "\n",
    "corr =  temp_df.corr()\n",
    "sns.set()\n",
    "ax = sns.heatmap(corr, annot=True,  linewidths=.5, cmap=\"YlGnBu\")"
   ]
  },
  {
   "cell_type": "markdown",
   "metadata": {},
   "source": [
    "### Mean Encoding"
   ]
  },
  {
   "cell_type": "code",
   "execution_count": null,
   "metadata": {},
   "outputs": [],
   "source": [
    "temp_df = pd.merge(\n",
    "    one_hot_df[\"Pclass\"], y_true, left_index=True, right_index=True)\n",
    "temp_df.groupby(\"Pclass\")[\"Survived\"].mean()"
   ]
  },
  {
   "cell_type": "code",
   "execution_count": null,
   "metadata": {},
   "outputs": [],
   "source": [
    "temp_df[\"Pclass\"].replace(\n",
    "    temp_df.groupby(\"Pclass\")[\"Survived\"].mean())"
   ]
  },
  {
   "cell_type": "code",
   "execution_count": null,
   "metadata": {},
   "outputs": [],
   "source": [
    "temp_columns = [\"Sex\", \"Pclass\", \"Embarked\"]\n",
    "\n",
    "me_list = []\n",
    "for col_name in temp_columns:\n",
    "    temp_df = pd.merge(one_hot_df[col_name], y_true, left_index=True, right_index=True)\n",
    "    temp_df[\"me_\"+col_name] = temp_df[col_name].replace(temp_df.groupby(col_name)[\"Survived\"].mean())\n",
    "#     sns.countplot(x=col_name, hue=\"Survived\", data=temp_df)    \n",
    "#     plt.show()\n",
    "#     sns.countplot(x=\"me_\"+col_name, hue=\"Survived\", data=temp_df)\n",
    "#     plt.show()\n",
    "    \n",
    "    me_list.append(temp_df.drop(\"Survived\", axis=1))\n",
    "temp_df =  pd.merge(\n",
    "    pd.concat(me_list,axis=1)[[\"me_\" + col_name for col_name in temp_columns ]],\n",
    "    y_true, left_index=True, right_index=True)\n",
    "corr =  temp_df.corr()\n",
    "sns.set()\n",
    "ax = sns.heatmap(corr, annot=True,  linewidths=.5, cmap=\"YlGnBu\")"
   ]
  },
  {
   "cell_type": "markdown",
   "metadata": {},
   "source": [
    "### Categorical Combination"
   ]
  },
  {
   "cell_type": "code",
   "execution_count": null,
   "metadata": {},
   "outputs": [],
   "source": [
    "temp_columns = [\"Sex\", \"Pclass\", \"Embarked\"]\n",
    "one_hot_df[\"Sex-Pclass\"] = df[\"Sex\"].map(str)+df[\"Pclass\"].map(str)\n",
    "one_hot_df[\"Embarked-Pclass\"] = df[\"Embarked\"].map(str)+df[\"Pclass\"].map(str)\n",
    "\n",
    "one_hot_df = merge_and_get(one_hot_df, pd.get_dummies(one_hot_df[\"Sex-Pclass\"], prefix=\"SexPclass\"), on=None, index=True) #sex_modified\n",
    "one_hot_df = merge_and_get(one_hot_df, pd.get_dummies(one_hot_df[\"Embarked-Pclass\"], prefix=\"EmbarkedPclass\"), on=None, index=True) #sex_modified\n",
    "one_hot_df\n",
    "\n",
    "crosscheck_columns = [col_name for col_name in one_hot_df.columns.tolist()\n",
    "                     if col_name.split(\"_\")[0] in [\"SexPclass\", \"EmbarkedPclass\"] and  \"_\"  in col_name ] \n",
    "\n",
    "temp_df = pd.merge(one_hot_df[crosscheck_columns], y_true, left_index=True, right_index=True)\n",
    "\n",
    "corr =  temp_df.corr()\n",
    "plt.subplots(figsize=(20,15))\n",
    "ax = sns.heatmap(corr, annot=True,  linewidths=.5, cmap=\"YlGnBu\")"
   ]
  },
  {
   "cell_type": "code",
   "execution_count": null,
   "metadata": {},
   "outputs": [],
   "source": [
    "corr"
   ]
  },
  {
   "cell_type": "markdown",
   "metadata": {},
   "source": [
    "### Numeric data types"
   ]
  },
  {
   "cell_type": "code",
   "execution_count": null,
   "metadata": {},
   "outputs": [],
   "source": [
    "temp_df = pd.merge(one_hot_df[numeric_columns], y_true, left_index=True, right_index=True)\n",
    "\n",
    "sns.pairplot(temp_df)"
   ]
  },
  {
   "cell_type": "code",
   "execution_count": null,
   "metadata": {},
   "outputs": [],
   "source": [
    "corr =  temp_df.corr()\n",
    "sns.set()\n",
    "plt.subplots(figsize=(20,15))\n",
    "ax = sns.heatmap(corr, annot=True,  linewidths=.8, cmap=\"YlGnBu\")"
   ]
  },
  {
   "cell_type": "code",
   "execution_count": null,
   "metadata": {},
   "outputs": [],
   "source": [
    "sns.barplot(x=\"SibSp\", y=\"Fare\", hue=\"Survived\", data=temp_df, ci=68, capsize=.2)"
   ]
  },
  {
   "cell_type": "code",
   "execution_count": null,
   "metadata": {},
   "outputs": [],
   "source": [
    "sns.barplot(x=\"Parch\", y=\"Fare\", hue=\"Survived\", data=temp_df, ci=68, capsize=.2)"
   ]
  },
  {
   "cell_type": "code",
   "execution_count": null,
   "metadata": {},
   "outputs": [],
   "source": [
    "sns.barplot(x=\"SibSp\", y=\"Age\", hue=\"Survived\", data=temp_df, ci=68, capsize=.2)"
   ]
  },
  {
   "cell_type": "code",
   "execution_count": null,
   "metadata": {},
   "outputs": [],
   "source": [
    "sns.barplot(x=\"SibSp\", y=\"Age\", hue=\"Survived\", data=temp_df, ci=68, capsize=.2)"
   ]
  },
  {
   "cell_type": "markdown",
   "metadata": {},
   "source": [
    "### Bining "
   ]
  },
  {
   "cell_type": "code",
   "execution_count": null,
   "metadata": {},
   "outputs": [],
   "source": [
    "one_hot_df[\"Fare\"].value_counts()"
   ]
  },
  {
   "cell_type": "code",
   "execution_count": null,
   "metadata": {},
   "outputs": [],
   "source": [
    "one_hot_df[\"Fare\"].hist(bins=50)"
   ]
  },
  {
   "cell_type": "code",
   "execution_count": null,
   "metadata": {},
   "outputs": [],
   "source": [
    "one_hot_df"
   ]
  },
  {
   "cell_type": "code",
   "execution_count": null,
   "metadata": {},
   "outputs": [],
   "source": [
    "fig = plt.figure()\n",
    "fig.set_size_inches(10,5) # 싸이즈 설정\n",
    "\n",
    "ax = []\n",
    "colors = ['b', 'g', 'r', 'c', 'm', 'y', 'k']\n",
    "for i, col_name in enumerate(numeric_columns):\n",
    "    ax.append(fig.add_subplot(2,2,i+1)) # 두개의 plot 생성\n",
    "    X_1 = one_hot_df[col_name]\n",
    "    \n",
    "    ax[i].hist(X_1)\n",
    "    ax[i].set_title(col_name)"
   ]
  },
  {
   "cell_type": "code",
   "execution_count": null,
   "metadata": {},
   "outputs": [],
   "source": [
    "df[\"Parch\"].value_counts()"
   ]
  },
  {
   "cell_type": "code",
   "execution_count": null,
   "metadata": {},
   "outputs": [],
   "source": [
    "bins = [-1, 0, 2, 5, 9]\n",
    "group_name = [\"l1\", \"l2\", \"l3\", \"l4\"]\n",
    "\n",
    "bin_one_hot_df = merge_and_get(one_hot_df,\n",
    "    pd.get_dummies(pd.cut(df[\"Parch\"], bins, labels=group_name ), prefix=\"parch\"), on=None, index=True)\n",
    "\n",
    "bins = [-1, 0, 1, 4, 10]\n",
    "group_name = [\"l1\", \"l2\", \"l3\", \"l4\"]\n",
    "bin_one_hot_df = merge_and_get(bin_one_hot_df,\n",
    "    pd.get_dummies(pd.cut(df[\"SibSp\"], bins, labels=group_name ), prefix=\"SibSp\"), on=None, index=True)\n",
    "\n",
    "bin_one_hot_df"
   ]
  },
  {
   "cell_type": "markdown",
   "metadata": {},
   "source": [
    "### Log Transform"
   ]
  },
  {
   "cell_type": "code",
   "execution_count": null,
   "metadata": {},
   "outputs": [],
   "source": [
    "fig = plt.figure()\n",
    "fig.set_size_inches(10,5) # 싸이즈 설정\n",
    "\n",
    "ax = []\n",
    "colors = ['b', 'g', 'r', 'c', 'm', 'y', 'k']\n",
    "for i, col_name in enumerate(numeric_columns):\n",
    "    ax.append(fig.add_subplot(2,2,i+1)) # 두개의 plot 생성\n",
    "    X_1 = bin_one_hot_df[col_name]\n",
    "    \n",
    "    ax[i] = sns.distplot(X_1, bins=10)\n",
    "    ax[i].set_title(col_name)"
   ]
  },
  {
   "cell_type": "code",
   "execution_count": null,
   "metadata": {},
   "outputs": [],
   "source": [
    "fig = plt.figure()\n",
    "fig.set_size_inches(10,5) # 싸이즈 설정\n",
    "\n",
    "ax = []\n",
    "colors = ['b', 'g', 'r', 'c', 'm', 'y', 'k']\n",
    "for i, col_name in enumerate(numeric_columns):\n",
    "    ax.append(fig.add_subplot(2,2,i+1)) # 두개의 plot 생성\n",
    "    X_1 = np.log10(bin_one_hot_df[col_name]+0.5)\n",
    "    \n",
    "    ax[i]= sns.distplot(X_1, bins=10)\n",
    "    ax[i].set_title(col_name)"
   ]
  },
  {
   "cell_type": "code",
   "execution_count": null,
   "metadata": {},
   "outputs": [],
   "source": [
    "bin_one_hot_df.isnull().sum()"
   ]
  },
  {
   "cell_type": "code",
   "execution_count": null,
   "metadata": {},
   "outputs": [],
   "source": [
    "bin_one_hot_df[\"Fare\"] = bin_one_hot_df[\"Fare\"].fillna(bin_one_hot_df[\"Fare\"].mean())\n",
    "# bin_one_hot_df.isnull().sum()"
   ]
  },
  {
   "cell_type": "code",
   "execution_count": null,
   "metadata": {},
   "outputs": [],
   "source": [
    "log_bin_one_hot_df = merge_and_get(bin_one_hot_df, np.log10(bin_one_hot_df[\"Fare\"]+0.5), on=None, index=True)\n",
    "\n",
    "log_bin_one_hot_df.rename(columns={'Fare_x':'Fare',\n",
    "                          'Fare_y':'log_fare'}, \n",
    "                 inplace=True)\n",
    "log_bin_one_hot_df"
   ]
  },
  {
   "cell_type": "code",
   "execution_count": null,
   "metadata": {},
   "outputs": [],
   "source": [
    "object_columns"
   ]
  },
  {
   "cell_type": "code",
   "execution_count": null,
   "metadata": {},
   "outputs": [],
   "source": [
    "temp_df = pd.merge(log_bin_one_hot_df[numeric_columns+object_columns], y_true, left_index=True, right_index=True)\n",
    "\n",
    "for col_name in [\"Pclass\",\"Sex\",\"Embarked\" ]:\n",
    "    sns.violinplot(x=col_name, y=\"Fare\", hue=\"Survived\", data=temp_df, split=True)\n",
    "    plt.show()"
   ]
  },
  {
   "cell_type": "code",
   "execution_count": null,
   "metadata": {},
   "outputs": [],
   "source": [
    "temp_df = pd.merge(log_bin_one_hot_df[numeric_columns+object_columns], y_true, left_index=True, right_index=True)\n",
    "\n",
    "for col_name in [\"Pclass\",\"Sex\",\"Embarked\" ]:\n",
    "    sns.violinplot(x=col_name, y=\"Age\", hue=\"Survived\", data=temp_df, split=True)\n",
    "    plt.show()"
   ]
  },
  {
   "cell_type": "code",
   "execution_count": null,
   "metadata": {},
   "outputs": [],
   "source": [
    "temp_df = pd.merge(log_bin_one_hot_df[numeric_columns+object_columns], y_true, left_index=True, right_index=True)\n",
    "\n",
    "for col_name in [\"Pclass\",\"Sex\",\"Embarked\" ]:\n",
    "    sns.violinplot(x=col_name, y=\"SibSp\", hue=\"Survived\", data=temp_df, split=True)\n",
    "    plt.show()"
   ]
  },
  {
   "cell_type": "code",
   "execution_count": null,
   "metadata": {},
   "outputs": [],
   "source": [
    "temp_df = pd.merge(log_bin_one_hot_df[numeric_columns+object_columns], y_true, left_index=True, right_index=True)\n",
    "\n",
    "for col_name in [\"Pclass\",\"Sex\",\"Embarked\" ]:\n",
    "    sns.swarmplot(x=col_name, y=\"Age\", hue=\"Survived\", data=temp_df, split=True)\n",
    "    plt.show()"
   ]
  },
  {
   "cell_type": "code",
   "execution_count": null,
   "metadata": {},
   "outputs": [],
   "source": [
    "temp_df = pd.merge(log_bin_one_hot_df[numeric_columns+object_columns], y_true, left_index=True, right_index=True)\n",
    "\n",
    "for col_name in [\"Age\",\"Fare\",\"SibSp\" ]:\n",
    "    sns.swarmplot(x=\"Survived\", y=col_name, data=temp_df, split=True)\n",
    "    plt.show()"
   ]
  },
  {
   "cell_type": "code",
   "execution_count": null,
   "metadata": {},
   "outputs": [],
   "source": [
    "temp_df = pd.merge(log_bin_one_hot_df[numeric_columns+object_columns], y_true, left_index=True, right_index=True)\n",
    "for col_name in [\"Parch\",\"Fare\",\"SibSp\" ]:\n",
    "    sns.scatterplot(x=\"Age\", y=col_name, data=temp_df, hue=\"Survived\")\n",
    "    plt.show()"
   ]
  },
  {
   "cell_type": "code",
   "execution_count": null,
   "metadata": {},
   "outputs": [],
   "source": [
    "temp_df = pd.merge(log_bin_one_hot_df[numeric_columns+object_columns], y_true, left_index=True, right_index=True)\n",
    "for col_name in [\"Parch\",\"Age\",\"SibSp\" ]:\n",
    "    sns.scatterplot(x=\"Fare\", y=col_name, data=temp_df, hue=\"Survived\")\n",
    "    plt.show()"
   ]
  },
  {
   "cell_type": "code",
   "execution_count": null,
   "metadata": {},
   "outputs": [],
   "source": [
    "temp_df = pd.merge(log_bin_one_hot_df[numeric_columns+object_columns], y_true, left_index=True, right_index=True)\n",
    "for col_name in [\"Parch\",\"Age\",\"Fare\" ]:\n",
    "    sns.scatterplot(x=\"SibSp\", y=col_name, data=temp_df, hue=\"Survived\")\n",
    "    plt.show()"
   ]
  },
  {
   "cell_type": "code",
   "execution_count": null,
   "metadata": {},
   "outputs": [],
   "source": [
    "temp_df = pd.merge(log_bin_one_hot_df[numeric_columns+object_columns], y_true, left_index=True, right_index=True)\n",
    "for col_name in [\"SibSp\",\"Age\",\"Fare\" ]:\n",
    "    sns.scatterplot(x=\"Parch\", y=col_name, data=temp_df, hue=\"Survived\")\n",
    "    plt.show()"
   ]
  },
  {
   "cell_type": "code",
   "execution_count": null,
   "metadata": {},
   "outputs": [],
   "source": [
    "from sklearn.preprocessing import PolynomialFeatures\n",
    "poly_features = PolynomialFeatures(degree=3)\n",
    "X_poly = pd.DataFrame(\n",
    "    poly_features.fit_transform(log_bin_one_hot_df[numeric_columns]))\n",
    "\n",
    "temp_df = pd.concat([X_poly, y_true], axis=1)\n",
    "corr =  temp_df.corr()\n",
    "sns.set()\n",
    "plt.subplots(figsize=(20,15))\n",
    "ax = sns.heatmap(corr,  linewidths=.8, cmap=\"YlGnBu\")"
   ]
  },
  {
   "cell_type": "markdown",
   "metadata": {},
   "source": [
    "### String handling"
   ]
  },
  {
   "cell_type": "code",
   "execution_count": null,
   "metadata": {},
   "outputs": [],
   "source": [
    "from collections import Counter\n",
    "Counter((log_bin_one_hot_df[\"Name\"].str.lower() + \" \").sum().split()).most_common(3)"
   ]
  },
  {
   "cell_type": "code",
   "execution_count": null,
   "metadata": {},
   "outputs": [],
   "source": [
    "log_bin_one_hot_df[\"is_mr\"] = log_bin_one_hot_df[\"Name\"].str.lower().str.contains(pat = 'mr.') \n",
    "log_bin_one_hot_df[\"is_miss\"] = log_bin_one_hot_df[\"Name\"].str.lower().str.contains(pat = 'miss.') \n",
    "log_bin_one_hot_df[\"is_mrs\"] = log_bin_one_hot_df[\"Name\"].str.lower().str.contains(pat = 'mrs.') "
   ]
  },
  {
   "cell_type": "code",
   "execution_count": null,
   "metadata": {},
   "outputs": [],
   "source": [
    "log_bin_one_hot_df[\"Ticket\"].str.rsplit(expand=True, )"
   ]
  },
  {
   "cell_type": "code",
   "execution_count": null,
   "metadata": {},
   "outputs": [],
   "source": [
    "log_bin_one_hot_df[\"Ticket\"].str.extractall('(\\d+)')"
   ]
  },
  {
   "cell_type": "code",
   "execution_count": null,
   "metadata": {},
   "outputs": [],
   "source": [
    "Counter((log_bin_one_hot_df[\"Ticket\"].str.lower() + \" \").sum().split()).most_common(30)"
   ]
  },
  {
   "cell_type": "code",
   "execution_count": null,
   "metadata": {},
   "outputs": [],
   "source": [
    "log_bin_one_hot_df[\"is_pc\"] = log_bin_one_hot_df[\"Ticket\"].str.lower().str.contains(pat = 'pc') \n",
    "log_bin_one_hot_df[\"is_ca\"] = log_bin_one_hot_df[\"Ticket\"].str.lower().str.contains(pat = 'c.a.')  | log_bin_one_hot_df[\"Ticket\"].str.lower().str.contains(pat = 'ca')\n",
    "log_bin_one_hot_df[\"is_paris\"] = log_bin_one_hot_df[\"Ticket\"].str.lower().str.contains(pat = 'paris')\n",
    "log_bin_one_hot_df[\"is_soton\"] = log_bin_one_hot_df[\"Ticket\"].str.lower().str.contains(pat = 'soton')\n",
    "log_bin_one_hot_df[\"is_ston\"] = log_bin_one_hot_df[\"Ticket\"].str.lower().str.contains(pat = 'ston')\n",
    "log_bin_one_hot_df[\"is_so\"] = log_bin_one_hot_df[\"Ticket\"].str.lower().str.contains(pat = 's.o')\n"
   ]
  },
  {
   "cell_type": "code",
   "execution_count": null,
   "metadata": {},
   "outputs": [],
   "source": [
    "log_bin_one_hot_df"
   ]
  },
  {
   "cell_type": "code",
   "execution_count": null,
   "metadata": {},
   "outputs": [],
   "source": [
    "log_bin_one_hot_df.isnull().sum()"
   ]
  },
  {
   "cell_type": "code",
   "execution_count": null,
   "metadata": {},
   "outputs": [],
   "source": [
    "test = log_bin_one_hot_df[\"Cabin\"].fillna(\"99999\")\n",
    "Counter((test.str.lower() + \" \").sum().split()).most_common(30)"
   ]
  },
  {
   "cell_type": "code",
   "execution_count": null,
   "metadata": {},
   "outputs": [],
   "source": [
    "log_bin_one_hot_df[\"is_cabin_none\"] = test.str.contains(pat = '9999')\n",
    "log_bin_one_hot_df[\"is_cabin_a\"] = test.str.contains(pat = 'a')\n",
    "log_bin_one_hot_df[\"is_cabin_b\"] = test.str.contains(pat = 'b')\n",
    "log_bin_one_hot_df[\"is_cabin_c\"] = test.str.contains(pat = 'c')\n",
    "log_bin_one_hot_df[\"is_cabin_d\"] = test.str.contains(pat = 'd')\n",
    "log_bin_one_hot_df[\"is_cabin_e\"] = test.str.contains(pat = 'e')\n",
    "log_bin_one_hot_df[\"is_cabin_f\"] = test.str.contains(pat = 'f')\n",
    "log_bin_one_hot_df[\"is_cabin_g\"] = test.str.contains(pat = 'g')"
   ]
  },
  {
   "cell_type": "code",
   "execution_count": null,
   "metadata": {},
   "outputs": [],
   "source": [
    "log_bin_one_hot_df.head(2).T"
   ]
  },
  {
   "cell_type": "code",
   "execution_count": null,
   "metadata": {},
   "outputs": [],
   "source": [
    "log_bin_one_hot_df.isnull().sum()"
   ]
  },
  {
   "cell_type": "code",
   "execution_count": null,
   "metadata": {},
   "outputs": [],
   "source": []
  },
  {
   "cell_type": "code",
   "execution_count": null,
   "metadata": {},
   "outputs": [],
   "source": [
    "def count_cabin(x):\n",
    "    if type(x) is int:\n",
    "        return 0\n",
    "    else:\n",
    "        return len(x)\n",
    "log_bin_one_hot_df[\"number_of_Cabin\"] = log_bin_one_hot_df[\"Cabin\"].str.split(\" \").fillna(0).map(count_cabin)\n",
    "log_bin_one_hot_df[\"log_number_of_Cabin\"] = np.log(log_bin_one_hot_df[\"number_of_Cabin\"] + 0.01)"
   ]
  },
  {
   "cell_type": "code",
   "execution_count": null,
   "metadata": {},
   "outputs": [],
   "source": [
    "sns.countplot(log_bin_one_hot_df[\"number_of_Cabin\"])"
   ]
  },
  {
   "cell_type": "code",
   "execution_count": null,
   "metadata": {},
   "outputs": [],
   "source": [
    "temp_df = pd.merge(log_bin_one_hot_df[[\"number_of_Cabin\", \"log_number_of_Cabin\"]], y_true, left_index=True, right_index=True)\n",
    "sns.barplot(x=\"Survived\", y=\"number_of_Cabin\", data=temp_df)\n",
    "plt.show()\n",
    "print(temp_df.corr())"
   ]
  },
  {
   "cell_type": "code",
   "execution_count": null,
   "metadata": {},
   "outputs": [],
   "source": []
  },
  {
   "cell_type": "markdown",
   "metadata": {},
   "source": [
    "### Feature Elimination"
   ]
  },
  {
   "cell_type": "code",
   "execution_count": null,
   "metadata": {},
   "outputs": [],
   "source": [
    "features = log_bin_one_hot_df.columns.tolist()\n",
    "features"
   ]
  },
  {
   "cell_type": "code",
   "execution_count": null,
   "metadata": {},
   "outputs": [],
   "source": [
    "all_df = log_bin_one_hot_df.copy(deep=True)\n",
    "\n",
    "elimination_features= ['PassengerId','Name','Cabin','Ticket']\n",
    "for col_name in elimination_features:\n",
    "    all_df.drop(col_name , axis=1, inplace=True)"
   ]
  },
  {
   "cell_type": "code",
   "execution_count": null,
   "metadata": {},
   "outputs": [],
   "source": [
    "all_df"
   ]
  },
  {
   "cell_type": "code",
   "execution_count": null,
   "metadata": {},
   "outputs": [],
   "source": [
    "# del all_df[\"Sex\"]\n",
    "# del all_df[\"Pclass\"]\n",
    "# del all_df[\"Embarked\"]\n",
    "del all_df[\"Sex-Pclass\"]\n",
    "del all_df[\"Embarked-Pclass\"]"
   ]
  },
  {
   "cell_type": "code",
   "execution_count": null,
   "metadata": {},
   "outputs": [],
   "source": [
    "X_train = all_df[:number_of_train_dataset].values\n",
    "X_test = all_df[number_of_train_dataset:].values\n",
    "y_train = y_true.copy()"
   ]
  },
  {
   "cell_type": "code",
   "execution_count": null,
   "metadata": {},
   "outputs": [],
   "source": [
    "from sklearn.feature_selection import RFE\n",
    "from sklearn.ensemble import RandomForestClassifier\n",
    "from sklearn.feature_selection import SelectFromModel\n",
    "\n",
    "select = RFE(RandomForestClassifier(n_estimators=100))\n",
    "# select  = SelectFromModel(estimator=RandomForestRegressor(n_estimators=200), threshold=\"median\")\n",
    "\n",
    "select.fit(X_train, y_train)\n",
    "\n",
    "# transform training set\n",
    "X_train_selected = select.transform(X_train)\n",
    "X_train_selected.shape"
   ]
  },
  {
   "cell_type": "code",
   "execution_count": null,
   "metadata": {},
   "outputs": [],
   "source": [
    "select.get_support()\n"
   ]
  },
  {
   "cell_type": "code",
   "execution_count": null,
   "metadata": {},
   "outputs": [],
   "source": [
    "all_df.columns[select.get_support()]"
   ]
  },
  {
   "cell_type": "code",
   "execution_count": null,
   "metadata": {},
   "outputs": [],
   "source": [
    "from sklearn.ensemble import RandomForestClassifier\n",
    "\n",
    "clf = RandomForestClassifier(\n",
    "    n_estimators=100, max_depth=20, random_state=0)\n",
    "clf.fit(X_train, y_train)  \n",
    "\n",
    "\n",
    "# clf.fit(X_train_selected, y_train)  \n",
    "\n"
   ]
  },
  {
   "cell_type": "code",
   "execution_count": null,
   "metadata": {},
   "outputs": [],
   "source": [
    "idx = (all_df[number_of_train_dataset:].index+1).tolist()\n",
    "y_pre = clf.predict(select.transform(X_test))  \n",
    "\n",
    "submission_columns = [\"PassengerId\",\"Survived\"]\n",
    "submission_df = pd.DataFrame( [idx,y_pre]).T\n",
    "submission_df.columns = submission_columns\n",
    "for col_name in submission_columns:\n",
    "    submission_df[col_name] = submission_df[col_name].astype(int)\n",
    "submission_df.to_csv(\"submission.csv\", index=False)"
   ]
  },
  {
   "cell_type": "code",
   "execution_count": null,
   "metadata": {},
   "outputs": [],
   "source": []
  },
  {
   "cell_type": "code",
   "execution_count": null,
   "metadata": {},
   "outputs": [],
   "source": []
  }
 ],
 "metadata": {
  "kernelspec": {
   "display_name": "Python 3",
   "language": "python",
   "name": "python3"
  },
  "language_info": {
   "codemirror_mode": {
    "name": "ipython",
    "version": 3
   },
   "file_extension": ".py",
   "mimetype": "text/x-python",
   "name": "python",
   "nbconvert_exporter": "python",
   "pygments_lexer": "ipython3",
   "version": "3.6.9"
  }
 },
 "nbformat": 4,
 "nbformat_minor": 2
}
