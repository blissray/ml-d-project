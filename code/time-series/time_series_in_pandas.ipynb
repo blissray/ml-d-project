{
 "cells": [
  {
   "cell_type": "markdown",
   "metadata": {},
   "source": [
    "### Datetime moudle in Python\n"
   ]
  },
  {
   "cell_type": "code",
   "execution_count": null,
   "metadata": {},
   "outputs": [],
   "source": [
    "from datetime import datetime\n",
    "date_str = '09-19-2018'\n",
    "\n",
    "date_object = datetime.strptime(date_str, '%m-%d-%Y').date()\n",
    "print(type(date_object))\n",
    "print(date_object)  # printed in default formatting"
   ]
  },
  {
   "cell_type": "code",
   "execution_count": null,
   "metadata": {},
   "outputs": [],
   "source": [
    "date_object.day"
   ]
  },
  {
   "cell_type": "code",
   "execution_count": null,
   "metadata": {},
   "outputs": [],
   "source": [
    "date_object.month"
   ]
  },
  {
   "cell_type": "code",
   "execution_count": null,
   "metadata": {},
   "outputs": [],
   "source": [
    "date_object.weekday()"
   ]
  },
  {
   "cell_type": "code",
   "execution_count": null,
   "metadata": {},
   "outputs": [],
   "source": [
    "from datetime import datetime\n",
    "\n",
    "datetime_str = '09/19/18 13:55:26'\n",
    "\n",
    "datetime_object = datetime.strptime(datetime_str, '%m/%d/%y %H:%M:%S')\n",
    "\n",
    "print(type(datetime_object))\n",
    "print(datetime_object)  # printed in default format"
   ]
  },
  {
   "cell_type": "markdown",
   "metadata": {},
   "source": [
    "### Datetime in Pandas"
   ]
  },
  {
   "cell_type": "code",
   "execution_count": null,
   "metadata": {},
   "outputs": [],
   "source": [
    "import pandas as pd"
   ]
  },
  {
   "cell_type": "code",
   "execution_count": null,
   "metadata": {},
   "outputs": [],
   "source": [
    "df = pd.read_csv(\"./gwangju_eco.txt\", encoding=\"cp949\", sep=\"\\t\").T.reset_index()\n",
    "df.columns = [\"date\", \"category\", \"value\"]\n",
    "df = df.drop(0).reset_index(drop=True)\n",
    "date_temp_df = df[\"date\"].str.split(\".\", expand=True)\n",
    "df[\"date\"] = date_temp_df[0].str.strip() + \"-\" + date_temp_df[1].str.strip()\n",
    "df[\"date\"] = pd.to_datetime(df[\"date\"], format='%Y/%m')\n",
    "df[\"value\"] = df[\"value\"].astype(float)\n",
    "result_df = pd.crosstab(df[\"date\"], df[\"category\"], df[\"value\"], aggfunc=sum)\n",
    "result_df"
   ]
  },
  {
   "cell_type": "markdown",
   "metadata": {},
   "source": [
    "## Time-Series Prediction: Kaggle Bike Sharing Demand\n",
    "\n"
   ]
  },
  {
   "cell_type": "code",
   "execution_count": null,
   "metadata": {},
   "outputs": [],
   "source": [
    "import pandas as pd\n",
    "import os \n",
    "DATA_DIR = \"bike_demand\"\n",
    "os.listdir(DATA_DIR)"
   ]
  },
  {
   "cell_type": "code",
   "execution_count": null,
   "metadata": {},
   "outputs": [],
   "source": [
    "df = pd.read_csv(\n",
    "        os.path.join(DATA_DIR, \"train.csv\"), \n",
    "    parse_dates = ['datetime'])\n",
    "df.set_index(\"datetime\", inplace=True)\n",
    "df.head()"
   ]
  },
  {
   "cell_type": "code",
   "execution_count": null,
   "metadata": {},
   "outputs": [],
   "source": [
    "df[\"month\"] = df.index.month\n",
    "df[\"year\"] = df.index.year\n",
    "\n",
    "df.groupby(\n",
    "    [\"year\", \"month\"])[\"count\"].sum().reset_index()"
   ]
  },
  {
   "cell_type": "code",
   "execution_count": null,
   "metadata": {},
   "outputs": [],
   "source": [
    "df = pd.read_csv(\n",
    "        os.path.join(DATA_DIR, \"train.csv\"), \n",
    "    parse_dates = ['datetime'])\n",
    "df.set_index(\"datetime\", inplace=True)\n",
    "df.head()"
   ]
  },
  {
   "cell_type": "code",
   "execution_count": null,
   "metadata": {},
   "outputs": [],
   "source": [
    "df[\"count\"].resample('M').sum()"
   ]
  },
  {
   "cell_type": "code",
   "execution_count": null,
   "metadata": {},
   "outputs": [],
   "source": [
    "df[\"count\"].resample('D').sum()\n",
    "df[\"count\"].resample('M').sum()\n",
    "df[\"count\"].resample('W').sum()\n",
    "df[\"count\"].resample('Q').sum()"
   ]
  },
  {
   "cell_type": "code",
   "execution_count": null,
   "metadata": {},
   "outputs": [],
   "source": [
    "time = pd.date_range('1/1/2000', periods=5, freq='T')\n",
    "time"
   ]
  },
  {
   "cell_type": "code",
   "execution_count": null,
   "metadata": {},
   "outputs": [],
   "source": [
    "period = pd.date_range(\n",
    "    start='2011-01-01', end='2011-05-31', freq='M')\n",
    "df[\"count\"].resample('M').sum()[period]"
   ]
  },
  {
   "cell_type": "code",
   "execution_count": null,
   "metadata": {},
   "outputs": [],
   "source": [
    "df[\"count\"].resample('D').sum()"
   ]
  },
  {
   "cell_type": "code",
   "execution_count": null,
   "metadata": {},
   "outputs": [],
   "source": [
    "df[\"count\"].isnull().sum()"
   ]
  },
  {
   "cell_type": "code",
   "execution_count": null,
   "metadata": {},
   "outputs": [],
   "source": [
    "df[\"count\"].resample('D').sum()"
   ]
  },
  {
   "cell_type": "code",
   "execution_count": null,
   "metadata": {},
   "outputs": [],
   "source": [
    "df[\"count\"].resample('D').sum().plot()"
   ]
  },
  {
   "cell_type": "code",
   "execution_count": null,
   "metadata": {
    "scrolled": true
   },
   "outputs": [],
   "source": [
    "df[\"dayofweek\"] = df.index.dayofweek\n",
    "df.groupby(\"dayofweek\")[\"count\"].mean().plot(kind=\"line\")"
   ]
  },
  {
   "cell_type": "markdown",
   "metadata": {},
   "source": [
    "### Time shifting "
   ]
  },
  {
   "cell_type": "code",
   "execution_count": null,
   "metadata": {},
   "outputs": [],
   "source": [
    "monthly_mean = df[\"count\"].resample('M').mean()\n",
    "monthly_mean_shift = monthly_mean.shift(periods=2, fill_value=0)\n",
    "df_monthly = pd.DataFrame(monthly_mean, columns=[\"count\"])\n",
    "df_monthly[\"2_shift_demand\"] = monthly_mean_shift\n",
    "df_monthly.plot()"
   ]
  },
  {
   "cell_type": "code",
   "execution_count": null,
   "metadata": {},
   "outputs": [],
   "source": [
    "df_monthly"
   ]
  },
  {
   "cell_type": "markdown",
   "metadata": {},
   "source": [
    "### Rolling expand"
   ]
  },
  {
   "cell_type": "code",
   "execution_count": null,
   "metadata": {},
   "outputs": [],
   "source": [
    "monthly_mean = df[\"count\"].resample('D').mean().fillna(0)\n",
    "monthly_mean_shift = monthly_mean.rolling(window=30, ).mean()\n",
    "df_monthly = pd.DataFrame(monthly_mean, columns=[\"count\"])\n",
    "df_monthly[\"30_mean_average\"] = monthly_mean_shift\n",
    "df_monthly.plot(figsize=(20,10))"
   ]
  },
  {
   "cell_type": "code",
   "execution_count": null,
   "metadata": {},
   "outputs": [],
   "source": [
    "monthly_mean = df[\"count\"].resample('M').mean().fillna(0)\n",
    "cumsum = monthly_mean.cumsum()\n",
    "df_monthly = pd.DataFrame(monthly_mean, columns=[\"count\"])\n",
    "df_monthly[\"cumsum\"] = cumsum"
   ]
  },
  {
   "cell_type": "code",
   "execution_count": null,
   "metadata": {
    "scrolled": true
   },
   "outputs": [],
   "source": [
    "ax = df_monthly.plot(y='count', use_index=True)\n",
    "df_monthly.plot(\n",
    "    y='cumsum',secondary_y=True, \n",
    "    ax=ax, use_index=True, figsize=(20,10))\n"
   ]
  },
  {
   "cell_type": "markdown",
   "metadata": {},
   "source": [
    "### Visualization"
   ]
  },
  {
   "cell_type": "code",
   "execution_count": null,
   "metadata": {},
   "outputs": [],
   "source": [
    "import matplotlib\n",
    "import matplotlib.pyplot as plt"
   ]
  },
  {
   "cell_type": "code",
   "execution_count": null,
   "metadata": {},
   "outputs": [],
   "source": [
    "df[\"month\"] = df.index.month\n",
    "result_df = df.groupby([\"month\",\"dayofweek\"])[\"count\"].mean().reset_index()\n",
    "# result_df = pd.crosstab(index=result_df[\"month\"], columns=result_df[\"dayofweek\"], values=result_df[\"count\"], aggfunc=sum)"
   ]
  },
  {
   "cell_type": "code",
   "execution_count": null,
   "metadata": {},
   "outputs": [],
   "source": [
    "result_df.plot.scatter(x=\"month\", y=\"dayofweek\", c=\"count\",  colormap='viridis')"
   ]
  },
  {
   "cell_type": "code",
   "execution_count": null,
   "metadata": {},
   "outputs": [],
   "source": [
    "df[\"month\"] = df.index.month\n",
    "result_df = df.groupby([\"month\",\"dayofweek\"])[\"count\"].mean().reset_index()\n",
    "result_df = pd.crosstab(index=result_df[\"month\"], columns=result_df[\"dayofweek\"], values=result_df[\"count\"], aggfunc=sum)\n",
    "plt.matshow(result_df)\n",
    "# plt.xticks(range(len(df.columns)), df.columns)\n",
    "# plt.yticks(range(len(df.columns)), df.columns)\n",
    "plt.colorbar()"
   ]
  }
 ],
 "metadata": {
  "kernelspec": {
   "display_name": "Python 3",
   "language": "python",
   "name": "python3"
  },
  "language_info": {
   "codemirror_mode": {
    "name": "ipython",
    "version": 3
   },
   "file_extension": ".py",
   "mimetype": "text/x-python",
   "name": "python",
   "nbconvert_exporter": "python",
   "pygments_lexer": "ipython3",
   "version": "3.6.9"
  }
 },
 "nbformat": 4,
 "nbformat_minor": 2
}
