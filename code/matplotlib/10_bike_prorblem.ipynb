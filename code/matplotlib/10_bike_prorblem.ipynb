{
 "cells": [
  {
   "cell_type": "markdown",
   "metadata": {},
   "source": [
    "# Time-Series Prediction: Kaggle Bike Sharing Demand"
   ]
  },
  {
   "cell_type": "markdown",
   "metadata": {},
   "source": [
    "@satishkt @sialan\n",
    "\n",
    "Lorem ipsum delorum..."
   ]
  },
  {
   "cell_type": "code",
   "execution_count": 111,
   "metadata": {},
   "outputs": [],
   "source": [
    "# This tells matplotlib not to try opening a new window for each plot.\n",
    "%matplotlib inline\n",
    "\n",
    "import math\n",
    "import random\n",
    "from datetime import datetime, date, time\n",
    "\n",
    "import numpy as np\n",
    "import pandas as pd\n",
    "import statsmodels.api as sm\n",
    "\n",
    "from sklearn import cross_validation\n",
    "from sklearn import feature_extraction\n",
    "from sklearn.preprocessing import OneHotEncoder\n",
    "from sklearn.grid_search import GridSearchCV\n",
    "from sklearn import linear_model\n",
    "from sklearn.neighbors import KNeighborsRegressor\n",
    "from sklearn.svm import SVR\n",
    "from sklearn.ensemble import RandomForestRegressor\n",
    "from sklearn.ensemble import GradientBoostingRegressor\n",
    "\n",
    "import seaborn as sns\n",
    "import matplotlib as mpl\n",
    "import matplotlib.pyplot as plt"
   ]
  },
  {
   "cell_type": "code",
   "execution_count": 56,
   "metadata": {},
   "outputs": [
    {
     "name": "stdout",
     "output_type": "stream",
     "text": [
      "(10886, 12)\n",
      "(100, 9) (100, 3)\n",
      "Index([u'datetime', u'season', u'holiday', u'workingday', u'weather', u'temp', u'atemp', u'humidity', u'windspeed'], dtype='object')\n",
      "datetime       object\n",
      "season          int64\n",
      "holiday         int64\n",
      "workingday      int64\n",
      "weather         int64\n",
      "temp          float64\n",
      "atemp         float64\n",
      "humidity        int64\n",
      "windspeed     float64\n",
      "dtype: object\n",
      "Index([u'casual', u'registered', u'count'], dtype='object')\n",
      "casual        int64\n",
      "registered    int64\n",
      "count         int64\n",
      "dtype: object\n"
     ]
    }
   ],
   "source": [
    "# Load the data, which is included in sklearn.\n",
    "bike_sharing_demand = pd.read_csv('./data/input/train.csv')\n",
    "prediction_data = pd.read_csv('./data/input/test.csv')\n",
    "print bike_sharing_demand.shape\n",
    "\n",
    "train_data, train_labels = bike_sharing_demand.ix[:, 'datetime':'windspeed'], bike_sharing_demand.ix[:, 'casual':]\n",
    "prediction_data = prediction_data.ix[:, 'datetime':'windspeed']\n",
    "\n",
    "# Set the randomizer seed so results are the same each time.\n",
    "np.random.seed(0)\n",
    "\n",
    "# Shuffle the input: create a random permutation of the integers between 0 and the number of data points and apply this\n",
    "# permutation to X and Y.\n",
    "# NOTE: Each time you run this cell, you'll re-shuffle the data, resulting in a different ordering.\n",
    "shuffle = np.random.permutation(np.arange(train_data.shape[0]))\n",
    "mini_bike_sharing_demand = bike_sharing_demand.ix[shuffle[:100], :]\n",
    "mini_train_data, mini_train_labels = train_data.ix[shuffle[:100], :], train_labels.ix[shuffle[:100], :]\n",
    "print mini_train_data.shape, mini_train_labels.shape\n",
    "\n",
    "print train_data.columns\n",
    "print train_data.dtypes\n",
    "print train_labels.columns\n",
    "print train_labels.dtypes"
   ]
  },
  {
   "cell_type": "markdown",
   "metadata": {},
   "source": [
    "## Data Exploration"
   ]
  },
  {
   "cell_type": "markdown",
   "metadata": {},
   "source": [
    "Let's get a better handle on what we're working with..."
   ]
  },
  {
   "cell_type": "code",
   "execution_count": 3,
   "metadata": {},
   "outputs": [],
   "source": [
    "# TODO: Data Exploration\n",
    "# g = sns.pairplot(mini_bike_sharing_demand.ix[:, 'temp':'casual'], hue=\"casual\", palette=\"Set2\", diag_kind=\"kde\", size=2.5)"
   ]
  },
  {
   "cell_type": "code",
   "execution_count": 33,
   "metadata": {},
   "outputs": [
    {
     "data": {
      "text/plain": [
       "<matplotlib.axes.AxesSubplot at 0x1f2e2198>"
      ]
     },
     "execution_count": 33,
     "metadata": {},
     "output_type": "execute_result"
    },
    {
     "data": {
      "image/png": "[encoded data removed]",
      "text/plain": [
       "<matplotlib.figure.Figure at 0x1f310978>"
      ]
     },
     "metadata": {},
     "output_type": "display_data"
    }
   ],
   "source": [
    "indexed_df = bike_sharing_demand.set_index('datetime').ix[:, 'count']\n",
    "indexed_df.plot()"
   ]
  },
  {
   "cell_type": "markdown",
   "metadata": {},
   "source": [
    "In order to get the value of the information in the timestamp, we need to extract it. We'll cover some more advanced feature engineering later on but this should help us out of the gate."
   ]
  },
  {
   "cell_type": "code",
   "execution_count": 57,
   "metadata": {},
   "outputs": [
    {
     "data": {
      "text/html": [
       "<div style=\"max-height:1000px;max-width:1500px;overflow:auto;\">\n",
       "<table border=\"1\" class=\"dataframe\">\n",
       "  <thead>\n",
       "    <tr style=\"text-align: right;\">\n",
       "      <th></th>\n",
       "      <th>datetime</th>\n",
       "      <th>season</th>\n",
       "      <th>holiday</th>\n",
       "      <th>workingday</th>\n",
       "      <th>weather</th>\n",
       "      <th>temp</th>\n",
       "      <th>atemp</th>\n",
       "      <th>humidity</th>\n",
       "      <th>windspeed</th>\n",
       "      <th>hour</th>\n",
       "      <th>weekday</th>\n",
       "      <th>month</th>\n",
       "      <th>year</th>\n",
       "    </tr>\n",
       "  </thead>\n",
       "  <tbody>\n",
       "    <tr>\n",
       "      <th>0</th>\n",
       "      <td> 2011-01-01 00:00:00</td>\n",
       "      <td> 1</td>\n",
       "      <td> 0</td>\n",
       "      <td> 0</td>\n",
       "      <td> 1</td>\n",
       "      <td> 9.84</td>\n",
       "      <td> 14.395</td>\n",
       "      <td> 81</td>\n",
       "      <td> 0</td>\n",
       "      <td> 0</td>\n",
       "      <td> 5</td>\n",
       "      <td> 1</td>\n",
       "      <td> 2011</td>\n",
       "    </tr>\n",
       "    <tr>\n",
       "      <th>1</th>\n",
       "      <td> 2011-01-01 01:00:00</td>\n",
       "      <td> 1</td>\n",
       "      <td> 0</td>\n",
       "      <td> 0</td>\n",
       "      <td> 1</td>\n",
       "      <td> 9.02</td>\n",
       "      <td> 13.635</td>\n",
       "      <td> 80</td>\n",
       "      <td> 0</td>\n",
       "      <td> 1</td>\n",
       "      <td> 5</td>\n",
       "      <td> 1</td>\n",
       "      <td> 2011</td>\n",
       "    </tr>\n",
       "    <tr>\n",
       "      <th>2</th>\n",
       "      <td> 2011-01-01 02:00:00</td>\n",
       "      <td> 1</td>\n",
       "      <td> 0</td>\n",
       "      <td> 0</td>\n",
       "      <td> 1</td>\n",
       "      <td> 9.02</td>\n",
       "      <td> 13.635</td>\n",
       "      <td> 80</td>\n",
       "      <td> 0</td>\n",
       "      <td> 2</td>\n",
       "      <td> 5</td>\n",
       "      <td> 1</td>\n",
       "      <td> 2011</td>\n",
       "    </tr>\n",
       "    <tr>\n",
       "      <th>3</th>\n",
       "      <td> 2011-01-01 03:00:00</td>\n",
       "      <td> 1</td>\n",
       "      <td> 0</td>\n",
       "      <td> 0</td>\n",
       "      <td> 1</td>\n",
       "      <td> 9.84</td>\n",
       "      <td> 14.395</td>\n",
       "      <td> 75</td>\n",
       "      <td> 0</td>\n",
       "      <td> 3</td>\n",
       "      <td> 5</td>\n",
       "      <td> 1</td>\n",
       "      <td> 2011</td>\n",
       "    </tr>\n",
       "    <tr>\n",
       "      <th>4</th>\n",
       "      <td> 2011-01-01 04:00:00</td>\n",
       "      <td> 1</td>\n",
       "      <td> 0</td>\n",
       "      <td> 0</td>\n",
       "      <td> 1</td>\n",
       "      <td> 9.84</td>\n",
       "      <td> 14.395</td>\n",
       "      <td> 75</td>\n",
       "      <td> 0</td>\n",
       "      <td> 4</td>\n",
       "      <td> 5</td>\n",
       "      <td> 1</td>\n",
       "      <td> 2011</td>\n",
       "    </tr>\n",
       "  </tbody>\n",
       "</table>\n",
       "</div>"
      ],
      "text/plain": [
       "              datetime  season  holiday  workingday  weather  temp   atemp  \\\n",
       "0  2011-01-01 00:00:00       1        0           0        1  9.84  14.395   \n",
       "1  2011-01-01 01:00:00       1        0           0        1  9.02  13.635   \n",
       "2  2011-01-01 02:00:00       1        0           0        1  9.02  13.635   \n",
       "3  2011-01-01 03:00:00       1        0           0        1  9.84  14.395   \n",
       "4  2011-01-01 04:00:00       1        0           0        1  9.84  14.395   \n",
       "\n",
       "   humidity  windspeed  hour  weekday  month  year  \n",
       "0        81          0     0        5      1  2011  \n",
       "1        80          0     1        5      1  2011  \n",
       "2        80          0     2        5      1  2011  \n",
       "3        75          0     3        5      1  2011  \n",
       "4        75          0     4        5      1  2011  "
      ]
     },
     "execution_count": 57,
     "metadata": {},
     "output_type": "execute_result"
    }
   ],
   "source": [
    "# Let's extract the information\n",
    "for dataset in (train_data, prediction_data):\n",
    "    dataset['hour'] = dataset['datetime'].map(lambda x: (datetime.strptime(x, \"%Y-%m-%d %H:%M:%S\")).hour)\n",
    "    dataset['weekday'] = dataset['datetime'].map(lambda x: (datetime.strptime(x, \"%Y-%m-%d %H:%M:%S\")).weekday())\n",
    "    dataset['month'] = dataset['datetime'].map(lambda x: (datetime.strptime(x, \"%Y-%m-%d %H:%M:%S\")).month)\n",
    "    dataset['year'] = dataset['datetime'].map(lambda x: (datetime.strptime(x, \"%Y-%m-%d %H:%M:%S\")).year)\n",
    "\n",
    "train_data.head()"
   ]
  },
  {
   "cell_type": "markdown",
   "metadata": {},
   "source": [
    "## Evaluation Metrics"
   ]
  },
  {
   "cell_type": "markdown",
   "metadata": {},
   "source": [
    "Before we move onto modelling, we can define a few functions to use going forward..."
   ]
  },
  {
   "cell_type": "code",
   "execution_count": 32,
   "metadata": {},
   "outputs": [
    {
     "name": "stdout",
     "output_type": "stream",
     "text": [
      "('TRAIN:', array([ 4677,  4448,  5705, ...,  9845, 10799,  2732]), 'TEST:', array([6638, 7975, 5915, ..., 6860, 9596, 2663]))\n",
      "('TRAIN:', array([10386,  7496,  9182, ...,  1139,  2328,  2219]), 'TEST:', array([6395, 6832, 9781, ..., 2491, 6925, 6305]))\n",
      "('TRAIN:', array([ 1287,  6686,  3958, ...,  4151,   665, 10420]), 'TEST:', array([ 2075,  2707,  6480, ..., 10843,  7669,  2231]))\n",
      "('TRAIN:', array([5623, 5232, 5102, ..., 9615,  495, 1377]), 'TEST:', array([4024, 5941,   16, ..., 6469,  573, 3649]))\n",
      "('TRAIN:', array([ 121, 2774, 6844, ..., 9362, 6073, 8646]), 'TEST:', array([5481, 8121, 7550, ..., 5653, 6203, 3524]))\n",
      "('TRAIN:', array([3211, 3162, 1709, ...,  459, 1169, 3559]), 'TEST:', array([7341, 6238, 9430, ..., 9801, 5258, 5785]))\n",
      "('TRAIN:', array([ 2695,  8909,  7979, ...,  3635, 10203,  2596]), 'TEST:', array([7930, 1021, 4776, ..., 9878, 8776, 1113]))\n",
      "('TRAIN:', array([3614, 5140,  928, ...,  839, 1852, 1606]), 'TEST:', array([6553, 9310, 1568, ..., 6010,  439, 2633]))\n",
      "('TRAIN:', array([4720, 1323, 4715, ..., 2609, 9758, 9604]), 'TEST:', array([10826,  8944,  5650, ...,  4131,  4755,  2856]))\n",
      "('TRAIN:', array([5584, 6556,  450, ..., 5275,  210,  456]), 'TEST:', array([7766, 3685, 7400, ..., 9496, 2389, 7535]))\n"
     ]
    }
   ],
   "source": [
    "# Define the Root-Mean-Squared-Log Error function for scoring predictions\n",
    "def rmsle(actual_values, predicted_values):\n",
    "    squared_log_errors = (np.log(np.array(predicted_values) + 1) - np.log(np.array(actual_values) + 1)) ** 2\n",
    "    mean_squared_errors = np.nansum(squared_log_errors) / len(squared_log_errors)\n",
    "    return np.sqrt(mean_squared_errors)\n",
    "\n",
    "# Define cross-validation loop for training and testing\n",
    "rs = cross_validation.ShuffleSplit(train_data.shape[0], n_iter=10, random_state=0)\n",
    "for train_index, test_index in rs:\n",
    "    print(\"TRAIN:\", train_index, \"TEST:\", test_index)"
   ]
  },
  {
   "cell_type": "markdown",
   "metadata": {},
   "source": [
    "## A Baseline Model (Linear Regression)"
   ]
  },
  {
   "cell_type": "markdown",
   "metadata": {},
   "source": [
    "Yay."
   ]
  },
  {
   "cell_type": "code",
   "execution_count": 44,
   "metadata": {},
   "outputs": [
    {
     "name": "stdout",
     "output_type": "stream",
     "text": [
      "Cross-Validated Error Loop 0: 1.17262495536\n",
      "Cross-Validated Error Loop 1: 1.18423803286\n",
      "Cross-Validated Error Loop 2: 1.17035666194\n",
      "Cross-Validated Error Loop 3: 1.15128236819\n",
      "Cross-Validated Error Loop 4: 1.1208367118\n",
      "Cross-Validated Error Loop 5: 1.13114804469\n",
      "Cross-Validated Error Loop 6: 1.14718152976\n",
      "Cross-Validated Error Loop 7: 1.15876066646\n",
      "Cross-Validated Error Loop 8: 1.12558267782\n",
      "Cross-Validated Error Loop 9: 1.15743021669\n"
     ]
    }
   ],
   "source": [
    "# Create linear regression object\n",
    "regr = linear_model.LinearRegression()\n",
    "\n",
    "# Train the model using the training sets\n",
    "for i, (train_index, test_index) in enumerate(rs):\n",
    "    regr.fit(train_data.ix[train_index, 'season':], train_labels.ix[train_index, 'count'])\n",
    "    prediction_values = regr.predict(train_data.ix[test_index, 'season':])\n",
    "    print(\"Cross-Validated Error Loop {0}: {1}\".format(i, rmsle(train_labels.ix[test_index, 'count'], prediction_values)))"
   ]
  },
  {
   "cell_type": "markdown",
   "metadata": {},
   "source": [
    "## A Classical Statistical Forecasting Approach"
   ]
  },
  {
   "cell_type": "markdown",
   "metadata": {},
   "source": [
    "Traditional approaches to time-series forecasting assume an underlying stochastic process with some degree of stationarity. Using this assumption, auto-regressive (AR) approaches using VAR, ARIMA, or GARCH models are very common. However, unable to capture non-linear feature interaction...ADD MORE"
   ]
  },
  {
   "cell_type": "code",
   "execution_count": 7,
   "metadata": {},
   "outputs": [],
   "source": [
    "# Let's try some traditional statistical forecasting models, ARIMA\n",
    "# arma = sm.tsa.ARIMA(src_data_model, order=(1,1,1), freq='W').fit(full_output=False, disp=0)"
   ]
  },
  {
   "cell_type": "markdown",
   "metadata": {},
   "source": [
    "## A Machine Learning Approach To Time-Series Forecasting"
   ]
  },
  {
   "cell_type": "markdown",
   "metadata": {},
   "source": [
    "Modern approaches to time-series forecasting leverage chaos theory and the assumption that the underlying process is not random, but ultimately deterministic and highly non-linear...ADD MORE"
   ]
  },
  {
   "cell_type": "markdown",
   "metadata": {},
   "source": [
    "### K Nearest Neighbors"
   ]
  },
  {
   "cell_type": "markdown",
   "metadata": {},
   "source": [
    "A non-parametric approach based on ________ paper...ADD MORE"
   ]
  },
  {
   "cell_type": "code",
   "execution_count": 8,
   "metadata": {},
   "outputs": [
    {
     "name": "stdout",
     "output_type": "stream",
     "text": [
      "Cross-Validated Error Loop 0: 0.874831380405\n",
      "Cross-Validated Error Loop 1: 0.816448989085\n",
      "Cross-Validated Error Loop 2: 0.845769028824\n",
      "Cross-Validated Error Loop 3: 0.863034482382\n",
      "Cross-Validated Error Loop 4: 0.824645728344\n",
      "Cross-Validated Error Loop 5: 0.831427824698\n",
      "Cross-Validated Error Loop 6: 0.867591377324\n",
      "Cross-Validated Error Loop 7: 0.836196160394\n",
      "Cross-Validated Error Loop 8: 0.843380833742\n",
      "Cross-Validated Error Loop 9: 0.841398341874\n"
     ]
    }
   ],
   "source": [
    "# Create knn regression object\n",
    "neigh = KNeighborsRegressor(n_neighbors=5)\n",
    "\n",
    "# Train the model using the training sets\n",
    "for i, (train_index, test_index) in enumerate(rs):\n",
    "    neigh.fit(train_data.ix[train_index, 'season':], train_labels.ix[train_index, 'count'])\n",
    "    prediction_values = neigh.predict(train_data.ix[test_index, 'season':])\n",
    "    print(\"Cross-Validated Error Loop {0}: {1}\".format(i, rmsle(train_labels.ix[test_index, 'count'], prediction_values)))"
   ]
  },
  {
   "cell_type": "markdown",
   "metadata": {},
   "source": [
    "### Support Vector Machines"
   ]
  },
  {
   "cell_type": "markdown",
   "metadata": {},
   "source": [
    "A kernel method based on ____ paper...ADD MORE"
   ]
  },
  {
   "cell_type": "code",
   "execution_count": null,
   "metadata": {},
   "outputs": [],
   "source": [
    "# Create svr objects\n",
    "svr_lin = SVR(kernel='linear', C=1e3)\n",
    "svr_rbf = SVR(kernel='rbf', C=1e3, gamma=0.1)\n",
    "svr_poly = SVR(kernel='poly', C=1e3, degree=2)\n",
    "\n",
    "print(\"For the SVR using a linear kernel:\")\n",
    "for i, (train_index, test_index) in enumerate(rs):\n",
    "    svr_lin.fit(train_data.ix[train_index, 'season':], train_labels.ix[train_index, 'count'])\n",
    "    prediction_values = svr_lin.predict(train_data.ix[test_index, 'season':])\n",
    "    print(\"Cross-Validated Error Loop {0}: {1}\".format(i, rmsle(train_labels.ix[test_index, 'count'], prediction_values)))\n",
    "\"\"\"\n",
    "# Train the model using the training sets\n",
    "print(\"For the SVR using an rbf kernel:\")\n",
    "for i, (train_index, test_index) in enumerate(rs):\n",
    "    svr_rbf.fit(train_data.ix[train_index, 'season':], train_labels.ix[train_index, 'count'])\n",
    "    prediction_values = svr_rbf.predict(train_data.ix[test_index, 'season':])\n",
    "    print(\"Cross-Validated Error Loop {0}: {1}\".format(i, rmsle(train_labels.ix[test_index, 'count'], prediction_values)))\n",
    "    \n",
    "# Train the model using the training sets\n",
    "print(\"For the SVR using a polynomial kernel or degree 2:\")\n",
    "for i, (train_index, test_index) in enumerate(rs):\n",
    "    svr_poly.fit(train_data.ix[train_index, 'season':], train_labels.ix[train_index, 'count'])\n",
    "    prediction_values = svr_poly.predict(train_data.ix[test_index, 'season':])\n",
    "    print(\"Cross-Validated Error Loop {0}: {1}\".format(i, rmsle(train_labels.ix[test_index, 'count'], prediction_values)))\n",
    "\"\"\""
   ]
  },
  {
   "cell_type": "markdown",
   "metadata": {},
   "source": [
    "### Decision-Tree Based Approaches"
   ]
  },
  {
   "cell_type": "markdown",
   "metadata": {},
   "source": [
    "RF and GBM extend decision trees....really ensemble methods but we'll cover ensembling multiple models later..."
   ]
  },
  {
   "cell_type": "code",
   "execution_count": 43,
   "metadata": {},
   "outputs": [
    {
     "name": "stdout",
     "output_type": "stream",
     "text": [
      "For the Random Forest model:\n",
      "Cross-Validated Error Loop 0: 0.357062993623\n",
      "Cross-Validated Error Loop 1: 0.319521364968\n",
      "Cross-Validated Error Loop 2: 0.320574357334\n",
      "Cross-Validated Error Loop 3: 0.340111790106\n",
      "Cross-Validated Error Loop 4: 0.32492139945\n",
      "Cross-Validated Error Loop 5: 0.324845814757\n",
      "Cross-Validated Error Loop 6: 0.325664160057\n",
      "Cross-Validated Error Loop 7: 0.340137989483\n",
      "Cross-Validated Error Loop 8: 0.328012599016\n",
      "Cross-Validated Error Loop 9: 0.32580457893\n",
      "\n",
      "For the Gradient Boosted Trees model:\n",
      "Cross-Validated Error Loop 0: 0.59509561285\n",
      "Cross-Validated Error Loop 1: 0.595152375499\n",
      "Cross-Validated Error Loop 2: 0.569883383723\n",
      "Cross-Validated Error Loop 3: 0.613558059052\n",
      "Cross-Validated Error Loop 4: 0.566935489885\n",
      "Cross-Validated Error Loop 5: 0.569727251467\n",
      "Cross-Validated Error Loop 6: 0.550634120313\n",
      "Cross-Validated Error Loop 7: 0.585498709599\n",
      "Cross-Validated Error Loop 8: 0.53910777445\n",
      "Cross-Validated Error Loop 9: 0.551717866881\n"
     ]
    }
   ],
   "source": [
    "# TODO: Random Forest and GBM Regression\n",
    "# Create rf and gbm regression object\n",
    "rf = RandomForestRegressor(random_state=0, n_estimators=100)\n",
    "gbm = GradientBoostingRegressor(loss='ls', alpha=0.95, n_estimators=500, max_depth=4, learning_rate=.01, min_samples_leaf=9, min_samples_split=9)\n",
    "\n",
    "# Train the model using the training sets\n",
    "print(\"For the Random Forest model:\")\n",
    "for i, (train_index, test_index) in enumerate(rs):\n",
    "    rf.fit(train_data.ix[train_index, 'season':], train_labels.ix[train_index, 'count'])\n",
    "    prediction_values = rf.predict(train_data.ix[test_index, 'season':])\n",
    "    print(\"Cross-Validated Error Loop {0}: {1}\".format(i, rmsle(train_labels.ix[test_index, 'count'], prediction_values)))\n",
    "    \n",
    "# Train the model using the training sets\n",
    "print(\"\\nFor the Gradient Boosted Trees model:\")\n",
    "for i, (train_index, test_index) in enumerate(rs):\n",
    "    gbm.fit(train_data.ix[train_index, 'season':], train_labels.ix[train_index, 'count'])\n",
    "    prediction_values = gbm.predict(train_data.ix[test_index, 'season':])\n",
    "    print(\"Cross-Validated Error Loop {0}: {1}\".format(i, rmsle(train_labels.ix[test_index, 'count'], prediction_values)))"
   ]
  },
  {
   "cell_type": "markdown",
   "metadata": {},
   "source": [
    "## Feature Engineering"
   ]
  },
  {
   "cell_type": "markdown",
   "metadata": {},
   "source": [
    "Now we can start playing with the features..."
   ]
  },
  {
   "cell_type": "code",
   "execution_count": 136,
   "metadata": {},
   "outputs": [],
   "source": [
    "from sklearn.preprocessing import OneHotEncoder\n",
    "\n",
    "def one_hot_dataframe(data, cols, replace=False):\n",
    "    \"\"\" Takes a dataframe and a list of columns that need to be encoded.\n",
    "    Returns a 3-tuple comprising the data, the vectorized data,\n",
    "    and the fitted vectorizer.\n",
    "    Modified from https://gist.github.com/kljensen/5452382\n",
    "    \"\"\"\n",
    "    enc = OneHotEncoder()\n",
    "    e = enc.fit_transform(data[cols].values)\n",
    "    vecData = pd.DataFrame(e.toarray())\n",
    "    if replace is True:\n",
    "        data = data.drop(cols, axis=1)\n",
    "        data = data.join(vecData)\n",
    "    return (data, vecData)"
   ]
  },
  {
   "cell_type": "code",
   "execution_count": 72,
   "metadata": {},
   "outputs": [
    {
     "data": {
      "text/html": [
       "<div style=\"max-height:1000px;max-width:1500px;overflow:auto;\">\n",
       "<table border=\"1\" class=\"dataframe\">\n",
       "  <thead>\n",
       "    <tr style=\"text-align: right;\">\n",
       "      <th></th>\n",
       "      <th>datetime</th>\n",
       "      <th>season</th>\n",
       "      <th>holiday</th>\n",
       "      <th>workingday</th>\n",
       "      <th>weather</th>\n",
       "      <th>temp</th>\n",
       "      <th>atemp</th>\n",
       "      <th>humidity</th>\n",
       "      <th>windspeed</th>\n",
       "      <th>hour</th>\n",
       "      <th>...</th>\n",
       "      <th>humidity_w3</th>\n",
       "      <th>humidity_w6</th>\n",
       "      <th>humidity_w12</th>\n",
       "      <th>humidity_w24</th>\n",
       "      <th>humidity_w48</th>\n",
       "      <th>windspeed_w3</th>\n",
       "      <th>windspeed_w6</th>\n",
       "      <th>windspeed_w12</th>\n",
       "      <th>windspeed_w24</th>\n",
       "      <th>windspeed_w48</th>\n",
       "    </tr>\n",
       "  </thead>\n",
       "  <tbody>\n",
       "    <tr>\n",
       "      <th>0</th>\n",
       "      <td> 2011-01-01 00:00:00</td>\n",
       "      <td> 1</td>\n",
       "      <td> 0</td>\n",
       "      <td> 0</td>\n",
       "      <td> 1</td>\n",
       "      <td>  9.84</td>\n",
       "      <td> 14.395</td>\n",
       "      <td> 81</td>\n",
       "      <td> 0.0000</td>\n",
       "      <td> 0</td>\n",
       "      <td>...</td>\n",
       "      <td> 81.000000</td>\n",
       "      <td> 81.000000</td>\n",
       "      <td> 81</td>\n",
       "      <td> 81</td>\n",
       "      <td> 81</td>\n",
       "      <td> 0.000000</td>\n",
       "      <td> 0.000000</td>\n",
       "      <td> 0.0000</td>\n",
       "      <td> 0.0000</td>\n",
       "      <td> 0.0000</td>\n",
       "    </tr>\n",
       "    <tr>\n",
       "      <th>1</th>\n",
       "      <td> 2011-01-01 01:00:00</td>\n",
       "      <td> 1</td>\n",
       "      <td> 0</td>\n",
       "      <td> 0</td>\n",
       "      <td> 1</td>\n",
       "      <td>  9.02</td>\n",
       "      <td> 13.635</td>\n",
       "      <td> 80</td>\n",
       "      <td> 0.0000</td>\n",
       "      <td> 1</td>\n",
       "      <td>...</td>\n",
       "      <td> 80.000000</td>\n",
       "      <td> 80.000000</td>\n",
       "      <td> 80</td>\n",
       "      <td> 80</td>\n",
       "      <td> 80</td>\n",
       "      <td> 0.000000</td>\n",
       "      <td> 0.000000</td>\n",
       "      <td> 0.0000</td>\n",
       "      <td> 0.0000</td>\n",
       "      <td> 0.0000</td>\n",
       "    </tr>\n",
       "    <tr>\n",
       "      <th>2</th>\n",
       "      <td> 2011-01-01 02:00:00</td>\n",
       "      <td> 1</td>\n",
       "      <td> 0</td>\n",
       "      <td> 0</td>\n",
       "      <td> 1</td>\n",
       "      <td>  9.02</td>\n",
       "      <td> 13.635</td>\n",
       "      <td> 80</td>\n",
       "      <td> 0.0000</td>\n",
       "      <td> 2</td>\n",
       "      <td>...</td>\n",
       "      <td> 80.333333</td>\n",
       "      <td> 80.000000</td>\n",
       "      <td> 80</td>\n",
       "      <td> 80</td>\n",
       "      <td> 80</td>\n",
       "      <td> 0.000000</td>\n",
       "      <td> 0.000000</td>\n",
       "      <td> 0.0000</td>\n",
       "      <td> 0.0000</td>\n",
       "      <td> 0.0000</td>\n",
       "    </tr>\n",
       "    <tr>\n",
       "      <th>3</th>\n",
       "      <td> 2011-01-01 03:00:00</td>\n",
       "      <td> 1</td>\n",
       "      <td> 0</td>\n",
       "      <td> 0</td>\n",
       "      <td> 1</td>\n",
       "      <td>  9.84</td>\n",
       "      <td> 14.395</td>\n",
       "      <td> 75</td>\n",
       "      <td> 0.0000</td>\n",
       "      <td> 3</td>\n",
       "      <td>...</td>\n",
       "      <td> 78.333333</td>\n",
       "      <td> 75.000000</td>\n",
       "      <td> 75</td>\n",
       "      <td> 75</td>\n",
       "      <td> 75</td>\n",
       "      <td> 0.000000</td>\n",
       "      <td> 0.000000</td>\n",
       "      <td> 0.0000</td>\n",
       "      <td> 0.0000</td>\n",
       "      <td> 0.0000</td>\n",
       "    </tr>\n",
       "    <tr>\n",
       "      <th>4</th>\n",
       "      <td> 2011-01-01 04:00:00</td>\n",
       "      <td> 1</td>\n",
       "      <td> 0</td>\n",
       "      <td> 0</td>\n",
       "      <td> 1</td>\n",
       "      <td>  9.84</td>\n",
       "      <td> 14.395</td>\n",
       "      <td> 75</td>\n",
       "      <td> 0.0000</td>\n",
       "      <td> 4</td>\n",
       "      <td>...</td>\n",
       "      <td> 76.666667</td>\n",
       "      <td> 75.000000</td>\n",
       "      <td> 75</td>\n",
       "      <td> 75</td>\n",
       "      <td> 75</td>\n",
       "      <td> 0.000000</td>\n",
       "      <td> 0.000000</td>\n",
       "      <td> 0.0000</td>\n",
       "      <td> 0.0000</td>\n",
       "      <td> 0.0000</td>\n",
       "    </tr>\n",
       "    <tr>\n",
       "      <th>5</th>\n",
       "      <td> 2011-01-01 05:00:00</td>\n",
       "      <td> 1</td>\n",
       "      <td> 0</td>\n",
       "      <td> 0</td>\n",
       "      <td> 2</td>\n",
       "      <td>  9.84</td>\n",
       "      <td> 12.880</td>\n",
       "      <td> 75</td>\n",
       "      <td> 6.0032</td>\n",
       "      <td> 5</td>\n",
       "      <td>...</td>\n",
       "      <td> 75.000000</td>\n",
       "      <td> 77.666667</td>\n",
       "      <td> 75</td>\n",
       "      <td> 75</td>\n",
       "      <td> 75</td>\n",
       "      <td> 2.001067</td>\n",
       "      <td> 1.000533</td>\n",
       "      <td> 6.0032</td>\n",
       "      <td> 6.0032</td>\n",
       "      <td> 6.0032</td>\n",
       "    </tr>\n",
       "    <tr>\n",
       "      <th>6</th>\n",
       "      <td> 2011-01-01 06:00:00</td>\n",
       "      <td> 1</td>\n",
       "      <td> 0</td>\n",
       "      <td> 0</td>\n",
       "      <td> 1</td>\n",
       "      <td>  9.02</td>\n",
       "      <td> 13.635</td>\n",
       "      <td> 80</td>\n",
       "      <td> 0.0000</td>\n",
       "      <td> 6</td>\n",
       "      <td>...</td>\n",
       "      <td> 76.666667</td>\n",
       "      <td> 77.500000</td>\n",
       "      <td> 80</td>\n",
       "      <td> 80</td>\n",
       "      <td> 80</td>\n",
       "      <td> 2.001067</td>\n",
       "      <td> 1.000533</td>\n",
       "      <td> 0.0000</td>\n",
       "      <td> 0.0000</td>\n",
       "      <td> 0.0000</td>\n",
       "    </tr>\n",
       "    <tr>\n",
       "      <th>7</th>\n",
       "      <td> 2011-01-01 07:00:00</td>\n",
       "      <td> 1</td>\n",
       "      <td> 0</td>\n",
       "      <td> 0</td>\n",
       "      <td> 1</td>\n",
       "      <td>  8.20</td>\n",
       "      <td> 12.880</td>\n",
       "      <td> 86</td>\n",
       "      <td> 0.0000</td>\n",
       "      <td> 7</td>\n",
       "      <td>...</td>\n",
       "      <td> 80.333333</td>\n",
       "      <td> 78.500000</td>\n",
       "      <td> 86</td>\n",
       "      <td> 86</td>\n",
       "      <td> 86</td>\n",
       "      <td> 2.001067</td>\n",
       "      <td> 1.000533</td>\n",
       "      <td> 0.0000</td>\n",
       "      <td> 0.0000</td>\n",
       "      <td> 0.0000</td>\n",
       "    </tr>\n",
       "    <tr>\n",
       "      <th>8</th>\n",
       "      <td> 2011-01-01 08:00:00</td>\n",
       "      <td> 1</td>\n",
       "      <td> 0</td>\n",
       "      <td> 0</td>\n",
       "      <td> 1</td>\n",
       "      <td>  9.84</td>\n",
       "      <td> 14.395</td>\n",
       "      <td> 75</td>\n",
       "      <td> 0.0000</td>\n",
       "      <td> 8</td>\n",
       "      <td>...</td>\n",
       "      <td> 80.333333</td>\n",
       "      <td> 77.666667</td>\n",
       "      <td> 75</td>\n",
       "      <td> 75</td>\n",
       "      <td> 75</td>\n",
       "      <td> 0.000000</td>\n",
       "      <td> 1.000533</td>\n",
       "      <td> 0.0000</td>\n",
       "      <td> 0.0000</td>\n",
       "      <td> 0.0000</td>\n",
       "    </tr>\n",
       "    <tr>\n",
       "      <th>9</th>\n",
       "      <td> 2011-01-01 09:00:00</td>\n",
       "      <td> 1</td>\n",
       "      <td> 0</td>\n",
       "      <td> 0</td>\n",
       "      <td> 1</td>\n",
       "      <td> 13.12</td>\n",
       "      <td> 17.425</td>\n",
       "      <td> 76</td>\n",
       "      <td> 0.0000</td>\n",
       "      <td> 9</td>\n",
       "      <td>...</td>\n",
       "      <td> 79.000000</td>\n",
       "      <td> 77.833333</td>\n",
       "      <td> 76</td>\n",
       "      <td> 76</td>\n",
       "      <td> 76</td>\n",
       "      <td> 0.000000</td>\n",
       "      <td> 1.000533</td>\n",
       "      <td> 0.0000</td>\n",
       "      <td> 0.0000</td>\n",
       "      <td> 0.0000</td>\n",
       "    </tr>\n",
       "  </tbody>\n",
       "</table>\n",
       "<p>10 rows × 33 columns</p>\n",
       "</div>"
      ],
      "text/plain": [
       "              datetime  season  holiday  workingday  weather   temp   atemp  \\\n",
       "0  2011-01-01 00:00:00       1        0           0        1   9.84  14.395   \n",
       "1  2011-01-01 01:00:00       1        0           0        1   9.02  13.635   \n",
       "2  2011-01-01 02:00:00       1        0           0        1   9.02  13.635   \n",
       "3  2011-01-01 03:00:00       1        0           0        1   9.84  14.395   \n",
       "4  2011-01-01 04:00:00       1        0           0        1   9.84  14.395   \n",
       "5  2011-01-01 05:00:00       1        0           0        2   9.84  12.880   \n",
       "6  2011-01-01 06:00:00       1        0           0        1   9.02  13.635   \n",
       "7  2011-01-01 07:00:00       1        0           0        1   8.20  12.880   \n",
       "8  2011-01-01 08:00:00       1        0           0        1   9.84  14.395   \n",
       "9  2011-01-01 09:00:00       1        0           0        1  13.12  17.425   \n",
       "\n",
       "   humidity  windspeed  hour      ...        humidity_w3  humidity_w6  \\\n",
       "0        81     0.0000     0      ...          81.000000    81.000000   \n",
       "1        80     0.0000     1      ...          80.000000    80.000000   \n",
       "2        80     0.0000     2      ...          80.333333    80.000000   \n",
       "3        75     0.0000     3      ...          78.333333    75.000000   \n",
       "4        75     0.0000     4      ...          76.666667    75.000000   \n",
       "5        75     6.0032     5      ...          75.000000    77.666667   \n",
       "6        80     0.0000     6      ...          76.666667    77.500000   \n",
       "7        86     0.0000     7      ...          80.333333    78.500000   \n",
       "8        75     0.0000     8      ...          80.333333    77.666667   \n",
       "9        76     0.0000     9      ...          79.000000    77.833333   \n",
       "\n",
       "   humidity_w12  humidity_w24  humidity_w48  windspeed_w3  windspeed_w6  \\\n",
       "0            81            81            81      0.000000      0.000000   \n",
       "1            80            80            80      0.000000      0.000000   \n",
       "2            80            80            80      0.000000      0.000000   \n",
       "3            75            75            75      0.000000      0.000000   \n",
       "4            75            75            75      0.000000      0.000000   \n",
       "5            75            75            75      2.001067      1.000533   \n",
       "6            80            80            80      2.001067      1.000533   \n",
       "7            86            86            86      2.001067      1.000533   \n",
       "8            75            75            75      0.000000      1.000533   \n",
       "9            76            76            76      0.000000      1.000533   \n",
       "\n",
       "   windspeed_w12  windspeed_w24  windspeed_w48  \n",
       "0         0.0000         0.0000         0.0000  \n",
       "1         0.0000         0.0000         0.0000  \n",
       "2         0.0000         0.0000         0.0000  \n",
       "3         0.0000         0.0000         0.0000  \n",
       "4         0.0000         0.0000         0.0000  \n",
       "5         6.0032         6.0032         6.0032  \n",
       "6         0.0000         0.0000         0.0000  \n",
       "7         0.0000         0.0000         0.0000  \n",
       "8         0.0000         0.0000         0.0000  \n",
       "9         0.0000         0.0000         0.0000  \n",
       "\n",
       "[10 rows x 33 columns]"
      ]
     },
     "execution_count": 72,
     "metadata": {},
     "output_type": "execute_result"
    }
   ],
   "source": [
    "# TODO: Add Sliding Windows\n",
    "# Add windowed features (simple moving average) for weather, temp, atemp, humidity, and windspeed\n",
    "train_data_windowed_features_three = pd.rolling_window(train_data.ix[:, 'temp':'windspeed'], 3, 'boxcar')\n",
    "train_data_windowed_features_six = pd.rolling_window(train_data.ix[:, 'temp':'windspeed'], 6, 'boxcar')\n",
    "train_data_windowed_features_twelve = pd.rolling_window(train_data.ix[:, 'temp':'windspeed'], 12, 'boxcar')\n",
    "train_data_windowed_features_twentyfour = pd.rolling_window(train_data.ix[:, 'temp':'windspeed'], 24, 'boxcar')\n",
    "train_data_windowed_features_fourtyeight = pd.rolling_window(train_data.ix[:, 'temp':'windspeed'], 48, 'boxcar')\n",
    "\n",
    "prediction_data_windowed_features_three = pd.rolling_window(prediction_data.ix[:, 'temp':'windspeed'], 3, 'boxcar')\n",
    "prediction_data_windowed_features_six = pd.rolling_window(prediction_data.ix[:, 'temp':'windspeed'], 6, 'boxcar')\n",
    "prediction_data_windowed_features_twelve = pd.rolling_window(prediction_data.ix[:, 'temp':'windspeed'], 12, 'boxcar')\n",
    "prediction_data_windowed_features_twentyfour = pd.rolling_window(prediction_data.ix[:, 'temp':'windspeed'], 24, 'boxcar')\n",
    "prediction_data_windowed_features_fourtyeight = pd.rolling_window(prediction_data.ix[:, 'temp':'windspeed'], 48, 'boxcar')\n",
    "\n",
    "train_data_combined = train_data.copy(deep=False)\n",
    "\n",
    "train_data_combined['temp_w3'] = train_data_windowed_features_three['temp']\n",
    "train_data_combined['temp_w6'] = train_data_windowed_features_six['temp']\n",
    "train_data_combined['temp_w12'] = train_data_windowed_features_twelve['temp']\n",
    "train_data_combined['temp_w24'] = train_data_windowed_features_twentyfour['temp']\n",
    "train_data_combined['temp_w48'] = train_data_windowed_features_fourtyeight['temp']\n",
    "train_data_combined = train_data_combined.apply(lambda x: x.fillna(value=train_data_combined['temp']))\n",
    "\n",
    "train_data_combined['atemp_w3'] = train_data_windowed_features_three['atemp']\n",
    "train_data_combined['atemp_w6'] = train_data_windowed_features_six['atemp']\n",
    "train_data_combined['atemp_w12'] = train_data_windowed_features_twelve['atemp']\n",
    "train_data_combined['atemp_w24'] = train_data_windowed_features_twentyfour['atemp']\n",
    "train_data_combined['atemp_w48'] = train_data_windowed_features_fourtyeight['atemp']\n",
    "train_data_combined = train_data_combined.apply(lambda x: x.fillna(value=train_data_combined['atemp']))\n",
    "\n",
    "train_data_combined['humidity_w3'] = train_data_windowed_features_three['humidity']\n",
    "train_data_combined['humidity_w6'] = train_data_windowed_features_six['humidity']\n",
    "train_data_combined['humidity_w12'] = train_data_windowed_features_twelve['humidity']\n",
    "train_data_combined['humidity_w24'] = train_data_windowed_features_twentyfour['humidity']\n",
    "train_data_combined['humidity_w48'] = train_data_windowed_features_fourtyeight['humidity']\n",
    "train_data_combined = train_data_combined.apply(lambda x: x.fillna(value=train_data_combined['humidity']))\n",
    "\n",
    "train_data_combined['windspeed_w3'] = train_data_windowed_features_three['windspeed']\n",
    "train_data_combined['windspeed_w6'] = train_data_windowed_features_six['windspeed']\n",
    "train_data_combined['windspeed_w12'] = train_data_windowed_features_twelve['windspeed']\n",
    "train_data_combined['windspeed_w24'] = train_data_windowed_features_twentyfour['windspeed']\n",
    "train_data_combined['windspeed_w48'] = train_data_windowed_features_fourtyeight['windspeed']\n",
    "train_data_combined = train_data_combined.apply(lambda x: x.fillna(value=train_data_combined['windspeed']))\n",
    "\n",
    "train_data_combined.head(10)"
   ]
  },
  {
   "cell_type": "markdown",
   "metadata": {},
   "source": [
    "One hot encoding!"
   ]
  },
  {
   "cell_type": "code",
   "execution_count": 137,
   "metadata": {},
   "outputs": [],
   "source": [
    "train_data_processed, _ = one_hot_dataframe(train_data_combined, ['season', 'holiday', 'workingday', 'weather', 'hour', 'weekday', 'month', 'year'], replace=True)"
   ]
  },
  {
   "cell_type": "code",
   "execution_count": 12,
   "metadata": {},
   "outputs": [],
   "source": [
    "# TODO: Add some techniques from signal processing"
   ]
  },
  {
   "cell_type": "markdown",
   "metadata": {},
   "source": [
    "## Feature Selection"
   ]
  },
  {
   "cell_type": "markdown",
   "metadata": {},
   "source": [
    "Now that we've built more features, we need to do some feature selection...ADD MORE"
   ]
  },
  {
   "cell_type": "code",
   "execution_count": 141,
   "metadata": {},
   "outputs": [],
   "source": []
  },
  {
   "cell_type": "markdown",
   "metadata": {},
   "source": [
    "## Modelling: Round Two!"
   ]
  },
  {
   "cell_type": "markdown",
   "metadata": {},
   "source": [
    "Time to try some of these models again with the advanced features...this time we'll optimize the parameters also...ADD MORE"
   ]
  },
  {
   "cell_type": "code",
   "execution_count": 139,
   "metadata": {},
   "outputs": [
    {
     "name": "stdout",
     "output_type": "stream",
     "text": [
      "For the Random Forest model:\n",
      "Cross-Validated Error Loop 0: 0.385209058287\n",
      "Cross-Validated Error Loop 1: 0.343968701309\n",
      "Cross-Validated Error Loop 2: 0.341783672202\n",
      "Cross-Validated Error Loop 3: 0.363716612971\n",
      "Cross-Validated Error Loop 4: 0.353490401761\n",
      "Cross-Validated Error Loop 5: 0.348524079696\n",
      "Cross-Validated Error Loop 6: 0.340564216447\n",
      "Cross-Validated Error Loop 7: 0.358355907028\n",
      "Cross-Validated Error Loop 8: 0.344382227124\n",
      "Cross-Validated Error Loop 9: 0.349259676984\n"
     ]
    }
   ],
   "source": [
    "rf = RandomForestRegressor(random_state=0, n_estimators=100)\n",
    "\n",
    "# Train the model using the training sets\n",
    "print(\"For the Random Forest model:\")\n",
    "for i, (train_index, test_index) in enumerate(rs):\n",
    "    rf.fit(train_data_combined.ix[train_index, 'season':], train_labels.ix[train_index, 'count'])\n",
    "    prediction_values = rf.predict(train_data_combined.ix[test_index, 'season':])\n",
    "    print(\"Cross-Validated Error Loop {0}: {1}\".format(i, rmsle(train_labels.ix[test_index, 'count'], prediction_values)))"
   ]
  },
  {
   "cell_type": "markdown",
   "metadata": {},
   "source": [
    "## Ensembling!"
   ]
  },
  {
   "cell_type": "markdown",
   "metadata": {},
   "source": [
    "Now that we have our models all tuned, we can ensemble them together for superior performance...ADD MORE"
   ]
  },
  {
   "cell_type": "code",
   "execution_count": 141,
   "metadata": {},
   "outputs": [],
   "source": []
  },
  {
   "cell_type": "markdown",
   "metadata": {},
   "source": [
    "## Submitting"
   ]
  },
  {
   "cell_type": "markdown",
   "metadata": {},
   "source": [
    "For kaggle, we can simply build a csv using the sample submission"
   ]
  },
  {
   "cell_type": "code",
   "execution_count": 15,
   "metadata": {},
   "outputs": [],
   "source": [
    "# For now train using the RF model on the entire training set\n",
    "rf = RandomForestRegressor(random_state=0)\n",
    "\n",
    "# Set the parameters by cross-validation\n",
    "param_grid = {'n_estimators': [100, 300, 500, 700, 1000], 'max_depth': [None, 1, 2, 3, 5], 'min_samples_split': [1, 2, 3, 5]}\n",
    "model = GridSearchCV(rf, param_grid=param_grid)\n",
    "model.fit(train_data.ix[:, 'season':], train_labels.ix[:, 'count'])\n",
    "\n",
    "# Make predictions\n",
    "prediction_values = model.predict(prediction_data.ix[:, 'season':])\n",
    "\n",
    "# Create submission from sample_submission file\n",
    "submission_df = pd.read_csv('./data/output/sampleSubmission.csv')\n",
    "submission_df['count'] = prediction_values\n",
    "submission_df.to_csv('./data/output/rf_tuned_windowedfeatures.csv', index=False)"
   ]
  },
  {
   "cell_type": "markdown",
   "metadata": {},
   "source": [
    "What have we learned?..."
   ]
  },
  {
   "cell_type": "markdown",
   "metadata": {},
   "source": [
    "## APPENDIX: Deep Learning"
   ]
  },
  {
   "cell_type": "markdown",
   "metadata": {},
   "source": [
    "So using supervised learning, the sliding window approaches proved to be instrumental and feature engineering is obviously super important. However, with the modern advances in ML over the last few years, we can achieve the same (or superior) performance without domain-specific features. See LINK for tutorial, but ultimately the importance of Deep Learning is representation learning...ADD MORE"
   ]
  },
  {
   "cell_type": "code",
   "execution_count": null,
   "metadata": {},
   "outputs": [],
   "source": [
    "# TODO: RBM, Stacked Auto-encoders, DBN, CNN and RNN?"
   ]
  }
 ],
 "metadata": {
  "kernelspec": {
   "display_name": "Python 3",
   "language": "python",
   "name": "python3"
  },
  "language_info": {
   "codemirror_mode": {
    "name": "ipython",
    "version": 3
   },
   "file_extension": ".py",
   "mimetype": "text/x-python",
   "name": "python",
   "nbconvert_exporter": "python",
   "pygments_lexer": "ipython3",
   "version": "3.6.2"
  }
 },
 "nbformat": 4,
 "nbformat_minor": 1
}
