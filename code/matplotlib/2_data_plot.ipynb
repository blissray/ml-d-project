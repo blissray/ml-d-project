{
 "cells": [
  {
   "cell_type": "code",
   "execution_count": null,
   "metadata": {},
   "outputs": [],
   "source": [
    "import pandas as pd\n",
    "import matplotlib.pyplot as plt\n",
    "import numpy as np"
   ]
  },
  {
   "cell_type": "code",
   "execution_count": null,
   "metadata": {},
   "outputs": [],
   "source": [
    "data_url = './housing.data' #Data URL\n",
    "df_data = pd.read_csv(data_url, sep='\\s+', header = None) #csv 타입 데이터 로드, separate는 빈공간으로 지정하고, Column은 없음\n",
    "df_data.columns = [\n",
    "    'CRIM','ZN', 'INDUS', 'CHAS', 'NOX', 'RM', 'AGE', 'DIS', 'RAD', 'TAX', 'PTRATIO' ,'B', 'LSTAT', 'MEDV'] \n",
    "# Column Header 이름 지정\n",
    "df_data.head()"
   ]
  },
  {
   "cell_type": "code",
   "execution_count": null,
   "metadata": {},
   "outputs": [],
   "source": [
    "fig = plt.figure()\n",
    "ax = []\n",
    "for i in range(1,5):\n",
    "    ax.append(fig.add_subplot(2,2,i))\n",
    "    \n",
    "ax[0].scatter(df_data[\"CRIM\"], df_data[\"MEDV\"])\n",
    "ax[1].scatter(df_data[\"PTRATIO\"], df_data[\"MEDV\"])\n",
    "ax[2].scatter(df_data[\"AGE\"], df_data[\"MEDV\"])\n",
    "ax[3].scatter(df_data[\"NOX\"], df_data[\"MEDV\"])\n",
    "plt.show()"
   ]
  },
  {
   "cell_type": "code",
   "execution_count": null,
   "metadata": {},
   "outputs": [],
   "source": [
    "fig = plt.figure()\n",
    "fig.set_size_inches(10.0, 10.0, forward=True)\n",
    "ax = []\n",
    "for i in range(1,5):\n",
    "    ax.append(fig.add_subplot(2,2,i))\n",
    "\n",
    "columns = [\"CRIM\", \"PTRATIO\", \"AGE\", \"NOX\"]\n",
    "colors = [\"b\", \"g\", \"c\", \"r\"]\n",
    "for i in range(4):\n",
    "    ax[i].scatter(df_data[columns[i]], df_data[\"MEDV\"], color=colors[i], label=columns[i])\n",
    "    ax[i].legend()\n",
    "    ax[i].set_title(columns[i])\n",
    "\n",
    "plt.subplots_adjust(wspace=0, hspace=0)\n",
    "plt.show()"
   ]
  },
  {
   "cell_type": "code",
   "execution_count": null,
   "metadata": {},
   "outputs": [],
   "source": [
    "df_data.plot()\n",
    "plt.show()"
   ]
  },
  {
   "cell_type": "code",
   "execution_count": null,
   "metadata": {},
   "outputs": [],
   "source": [
    "fig = plt.figure()\n",
    "fig.set_size_inches(5,5)\n",
    "ax_1 = fig.add_subplot(1,2,1)\n",
    "ax_2 = fig.add_subplot(1,2,2)\n",
    "ax_1.plot(df_data[\"MEDV\"])\n",
    "ax_2.hist(df_data[\"MEDV\"], bins=50)\n",
    "ax_1.set_title(\"House price MEDV\")\n",
    "ax_2.set_title(\"House price MEDV\")\n",
    "\n",
    "plt.show()"
   ]
  },
  {
   "cell_type": "code",
   "execution_count": null,
   "metadata": {},
   "outputs": [],
   "source": [
    "from sklearn.preprocessing import StandardScaler\n",
    "std_scaler = StandardScaler()\n",
    "scale_data = std_scaler.fit_transform(df_data)\n",
    "scale_data"
   ]
  },
  {
   "cell_type": "code",
   "execution_count": null,
   "metadata": {},
   "outputs": [],
   "source": [
    "fig = plt.figure()\n",
    "ax = fig.add_subplot(1,1,1)\n",
    "ax.boxplot(scale_data, labels=df_data.columns)\n",
    "fig.set_size_inches(10, 10)\n",
    "plt.show()"
   ]
  },
  {
   "cell_type": "code",
   "execution_count": null,
   "metadata": {},
   "outputs": [],
   "source": [
    "pd.scatter_matrix(df_data, diagonal=\"kde\", alpha=1,  figsize=(20, 20))\n",
    "plt.show()"
   ]
  },
  {
   "cell_type": "code",
   "execution_count": null,
   "metadata": {},
   "outputs": [],
   "source": [
    "corr_data = np.corrcoef(scale_data.T[:5])\n",
    "corr_data"
   ]
  },
  {
   "cell_type": "code",
   "execution_count": null,
   "metadata": {},
   "outputs": [],
   "source": [
    "corr_data.shape"
   ]
  },
  {
   "cell_type": "code",
   "execution_count": null,
   "metadata": {},
   "outputs": [],
   "source": [
    "fig = plt.figure()\n",
    "ax = fig.add_subplot(111)\n",
    "cax = ax.matshow(corr_data, vmin=-1, vmax=1,  interpolation='nearest')\n",
    "fig.colorbar(cax)\n",
    "fig.set_size_inches(10,10)\n",
    "ticks= np.arange(0,5,1)\n",
    "ax.set_xticks(ticks)\n",
    "ax.set_yticks(ticks)\n",
    "\n",
    "ax.set_xticklabels(df_data.columns[:5])\n",
    "ax.set_yticklabels(df_data.columns[:5])\n",
    "\n",
    "plt.show()"
   ]
  }
 ],
 "metadata": {
  "anaconda-cloud": {},
  "kernelspec": {
   "display_name": "Python 3",
   "language": "python",
   "name": "python3"
  },
  "language_info": {
   "codemirror_mode": {
    "name": "ipython",
    "version": 3
   },
   "file_extension": ".py",
   "mimetype": "text/x-python",
   "name": "python",
   "nbconvert_exporter": "python",
   "pygments_lexer": "ipython3",
   "version": "3.7.3"
  },
  "nav_menu": {},
  "toc": {
   "navigate_menu": true,
   "number_sections": true,
   "sideBar": true,
   "threshold": 6,
   "toc_cell": false,
   "toc_section_display": "block",
   "toc_window_display": false
  }
 },
 "nbformat": 4,
 "nbformat_minor": 2
}
