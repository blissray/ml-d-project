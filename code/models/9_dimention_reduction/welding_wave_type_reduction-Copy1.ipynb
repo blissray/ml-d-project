{
 "cells": [
  {
   "cell_type": "code",
   "execution_count": 1,
   "metadata": {},
   "outputs": [],
   "source": [
    "import pandas as pd\n",
    "import os\n",
    "import matplotlib.pyplot as plt\n",
    "import numpy as np\n",
    "import warnings\n",
    "warnings.simplefilter(action='ignore', category=FutureWarning)\n",
    "import seaborn as sns\n",
    "sns.set(style=\"white\") #white background style for seaborn plots\n",
    "sns.set(style=\"whitegrid\", color_codes=True)"
   ]
  },
  {
   "cell_type": "markdown",
   "metadata": {},
   "source": [
    "### Data finding"
   ]
  },
  {
   "cell_type": "code",
   "execution_count": 2,
   "metadata": {},
   "outputs": [],
   "source": [
    "DATA_DIR = \"../data/welding_wave\"\n",
    "filenames = os.listdir(DATA_DIR)\n",
    "df_list = []\n",
    "type_list = []\n",
    "for filename in filenames:\n",
    "    hz = filename.split(\"_\")[0]\n",
    "    gap_id = filename.split(\"_\")[1]\n",
    "    gap_type = gap_id[:4]\n",
    "#     welding_order = gap_id.split(\"mm\")[-1].split(\".\")[0]\n",
    "    \n",
    "    type_list.append([hz, gap_type])\n",
    "    df_list.append(\n",
    "        pd.read_csv(os.path.join(DATA_DIR, filename), delimiter=\"\\t\", header=None,\n",
    "                   names =[\"time_order\", \"ampere\", \"volt\"] ))"
   ]
  },
  {
   "cell_type": "code",
   "execution_count": 3,
   "metadata": {},
   "outputs": [],
   "source": [
    "modifed_df_list = []\n",
    "for df, (hz, gap_type)in zip(df_list, type_list):\n",
    "    df[\"hz\"] = hz\n",
    "    df[\"gap_type\"] = gap_type\n",
    "    df[\"gap_type\"] = gap_type\n",
    "    \n",
    "    modifed_df_list.append(df)\n",
    "all_df = pd.concat(modifed_df_list).reset_index(drop=True)"
   ]
  },
  {
   "cell_type": "code",
   "execution_count": 4,
   "metadata": {},
   "outputs": [],
   "source": [
    "from sklearn.model_selection import train_test_split\n",
    "from sklearn import preprocessing\n",
    "\n",
    "X_df = all_df.copy()\n",
    "X_df\n",
    "X_df[\"hz\"] = X_df.hz.replace({\"2000Hz\" : 0, \"4000Hz\" : 1})\n",
    "X_df = X_df[['ampere', 'volt', 'hz']]\n",
    "\n",
    "le = preprocessing.LabelEncoder()\n",
    "le.fit(all_df.gap_type.unique())\n",
    "y_df = all_df.gap_type\n",
    "\n",
    "\n",
    "X = X_df.values\n",
    "y = le.transform(all_df.gap_type.values) \n",
    "X_dev, X_test, y_dev, y_test = train_test_split(X, y)"
   ]
  },
  {
   "cell_type": "code",
   "execution_count": 5,
   "metadata": {},
   "outputs": [],
   "source": [
    "X_df = all_df.copy()\n",
    "\n",
    "shift_big_list = []\n",
    "rolling_big_list = []\n",
    "# window_size = 11\n",
    "window_size = 11\n",
    "\n",
    "for hz in [\"2000Hz\", \"4000Hz\"]:\n",
    "    for gap_type in [\"Gap0\", \"Gap2\", \"Gap4\"]:\n",
    "        target_df = X_df[(X_df[\"hz\"] == hz) & (X_df[\"gap_type\"] == gap_type)][['ampere', 'volt']]\n",
    "        shift_small_list = []\n",
    "        rolling_small_list = []\n",
    "        for i in range(1, window_size):\n",
    "            names = target_df.columns\n",
    "            df = target_df.shift(i)\n",
    "            df.columns = [name + \"_shift_\" + str(i) for name in names]\n",
    "            shift_small_list.append(df)\n",
    "\n",
    "            af = target_df.rolling(i).mean()\n",
    "            af.columns = [name + \"_rolling_\" + str(i) for name in names]\n",
    "            rolling_small_list.append(af)\n",
    "\n",
    "        shift_big_list.append(pd.concat(shift_small_list, axis=1))\n",
    "        rolling_big_list.append(pd.concat(rolling_small_list, axis=1))\n",
    "        \n",
    "\n",
    "X_df = pd.merge(X_df, pd.concat(shift_big_list).dropna(), how=\"inner\" , left_index=True, right_index=True)\n",
    "X_df = pd.merge(X_df, pd.concat(rolling_big_list).dropna(), how=\"inner\" , left_index=True, right_index=True)\n",
    "\n",
    "\n",
    "X_df[\"hz\"] = X_df.hz.replace({\"2000Hz\" : 0, \"4000Hz\" : 1})\n",
    "X_df[\"log_am\"] = np.log(X_df['ampere'] + 100)\n",
    "X_df[\"log_volt\"] = np.log(X_df['volt'] + 100)\n",
    "\n",
    "\n",
    "\n",
    "le = preprocessing.LabelEncoder()\n",
    "le.fit(X_df.gap_type.unique())\n",
    "y = le.transform(X_df.pop(\"gap_type\").values) \n",
    "X = X_df.values\n",
    "\n",
    "X_dev, X_test, y_dev, y_test = train_test_split(X, y)"
   ]
  },
  {
   "cell_type": "code",
   "execution_count": 6,
   "metadata": {},
   "outputs": [],
   "source": [
    "def all_column(X):\n",
    "    return X"
   ]
  },
  {
   "cell_type": "code",
   "execution_count": null,
   "metadata": {},
   "outputs": [],
   "source": [
    "from sklearn.decomposition import TruncatedSVD\n",
    "from sklearn.decomposition import PCA\n",
    "from sklearn.decomposition import LatentDirichletAllocation\n",
    "from sklearn.preprocessing import FunctionTransformer\n",
    "from sklearn.pipeline import FeatureUnion\n",
    "from sklearn.pipeline import Pipeline\n",
    "from sklearn.ensemble import RandomForestClassifier \n",
    "from sklearn.model_selection import GridSearchCV"
   ]
  },
  {
   "cell_type": "code",
   "execution_count": null,
   "metadata": {},
   "outputs": [],
   "source": [
    "def all_column(X):\n",
    "    return X"
   ]
  },
  {
   "cell_type": "code",
   "execution_count": 24,
   "metadata": {},
   "outputs": [],
   "source": [
    "\n",
    "combined_features = FeatureUnion([\n",
    "    (\"pca\", PCA()),\n",
    "    (\"svd\", TruncatedSVD()),\n",
    "    (\"all\", FunctionTransformer(all_column)),\n",
    "])"
   ]
  },
  {
   "cell_type": "code",
   "execution_count": null,
   "metadata": {},
   "outputs": [],
   "source": [
    "pipeline = Pipeline([(\"features\", combined_features), (\"rf_clf\", RandomForestClassifier())])\n",
    "\n",
    "param_grid = dict(features__pca__n_components=[1, 2, 3,4,5],\n",
    "                  features__svd__n_components=[5,10,15,20],\n",
    "                 )\n",
    "\n",
    "grid_search = GridSearchCV(pipeline, param_grid=param_grid, cv=3, scoring=\"accuracy\")\n",
    "grid_search.fit(X_dev, y_dev)"
   ]
  },
  {
   "cell_type": "markdown",
   "metadata": {},
   "source": [
    "### Add time-series analysis"
   ]
  },
  {
   "cell_type": "code",
   "execution_count": 8,
   "metadata": {},
   "outputs": [],
   "source": [
    "X_df = all_df.copy()\n",
    "\n",
    "shift_big_list = []\n",
    "rolling_big_list = []\n",
    "# window_size = 11\n",
    "window_size = 11\n",
    "\n",
    "for hz in [\"2000Hz\", \"4000Hz\"]:\n",
    "    for gap_type in [\"Gap0\", \"Gap2\", \"Gap4\"]:\n",
    "        target_df = X_df[(X_df[\"hz\"] == hz) & (X_df[\"gap_type\"] == gap_type)][['ampere', 'volt']]\n",
    "        shift_small_list = []\n",
    "        rolling_small_list = []\n",
    "        for i in range(1, window_size):\n",
    "            names = target_df.columns\n",
    "            df = target_df.shift(i)\n",
    "            df.columns = [name + \"_shift_\" + str(i) for name in names]\n",
    "            shift_small_list.append(df)\n",
    "\n",
    "            af = target_df.rolling(i).mean()\n",
    "            af.columns = [name + \"_rolling_\" + str(i) for name in names]\n",
    "            rolling_small_list.append(af)\n",
    "\n",
    "        shift_big_list.append(pd.concat(shift_small_list, axis=1))\n",
    "        rolling_big_list.append(pd.concat(rolling_small_list, axis=1))\n",
    "        \n",
    "\n",
    "X_df = pd.merge(X_df, pd.concat(shift_big_list).dropna(), how=\"inner\" , left_index=True, right_index=True)\n",
    "X_df = pd.merge(X_df, pd.concat(rolling_big_list).dropna(), how=\"inner\" , left_index=True, right_index=True)\n",
    "\n",
    "\n",
    "X_df[\"hz\"] = X_df.hz.replace({\"2000Hz\" : 0, \"4000Hz\" : 1})\n",
    "X_df[\"log_am\"] = np.log(X_df['ampere'] + 100)\n",
    "X_df[\"log_volt\"] = np.log(X_df['volt'] + 100)\n",
    "\n",
    "\n",
    "\n",
    "le = preprocessing.LabelEncoder()\n",
    "le.fit(X_df.gap_type.unique())\n",
    "y = le.transform(X_df.pop(\"gap_type\").values) \n",
    "X = X_df.values\n",
    "\n",
    "X_dev, X_test, y_dev, y_test = train_test_split(X, y)"
   ]
  },
  {
   "cell_type": "code",
   "execution_count": 12,
   "metadata": {},
   "outputs": [
    {
     "data": {
      "text/plain": [
       "(0.4089639368256062, 0.4087673213925072)"
      ]
     },
     "execution_count": 12,
     "metadata": {},
     "output_type": "execute_result"
    }
   ],
   "source": [
    "from sklearn.decomposition import TruncatedSVD \n",
    "from sklearn.linear_model import LogisticRegression\n",
    "\n",
    "data = X_dev\n",
    "tsvd = TruncatedSVD(n_components=10)\n",
    "tsvd.fit(data)\n",
    "data_embedded = tsvd.transform(data)\n",
    "\n",
    "get_welding_wave_classification_result(\n",
    "    LogisticRegression(), data_embedded, y_dev\n",
    ")"
   ]
  },
  {
   "cell_type": "code",
   "execution_count": null,
   "metadata": {},
   "outputs": [],
   "source": [
    "get_welding_wave_classification_result(\n",
    "    LogisticRegression(), X_dev, y_dev\n",
    ")"
   ]
  },
  {
   "cell_type": "code",
   "execution_count": 20,
   "metadata": {},
   "outputs": [
    {
     "data": {
      "text/plain": [
       "(686618, 46)"
      ]
     },
     "execution_count": 20,
     "metadata": {},
     "output_type": "execute_result"
    }
   ],
   "source": [
    "X_dev.shape"
   ]
  },
  {
   "cell_type": "code",
   "execution_count": 21,
   "metadata": {},
   "outputs": [
    {
     "data": {
      "text/plain": [
       "(686618, 10)"
      ]
     },
     "execution_count": 21,
     "metadata": {},
     "output_type": "execute_result"
    }
   ],
   "source": [
    "data_embedded.shape"
   ]
  },
  {
   "cell_type": "code",
   "execution_count": 22,
   "metadata": {},
   "outputs": [
    {
     "data": {
      "text/plain": [
       "(686618, 56)"
      ]
     },
     "execution_count": 22,
     "metadata": {},
     "output_type": "execute_result"
    }
   ],
   "source": [
    "X_full = np.concatenate((X_dev, data_embedded), axis=1)\n",
    "X_full.shape"
   ]
  },
  {
   "cell_type": "code",
   "execution_count": 33,
   "metadata": {},
   "outputs": [
    {
     "data": {
      "text/plain": [
       "(0.4314225661913836, 0.43141018901845946)"
      ]
     },
     "execution_count": 33,
     "metadata": {},
     "output_type": "execute_result"
    }
   ],
   "source": [
    "get_welding_wave_classification_result(\n",
    "    LogisticRegression(), X_full, y_dev\n",
    ")"
   ]
  },
  {
   "cell_type": "code",
   "execution_count": 26,
   "metadata": {},
   "outputs": [
    {
     "data": {
      "text/plain": [
       "(0.9907160896335871, 0.640581809420044)"
      ]
     },
     "execution_count": 26,
     "metadata": {},
     "output_type": "execute_result"
    }
   ],
   "source": [
    "from sklearn.ensemble import RandomForestClassifier \n",
    "\n",
    "get_welding_wave_classification_result(\n",
    "    RandomForestClassifier(n_jobs = 6), \n",
    "    X_full, y_dev, n_polynomial=1\n",
    ")"
   ]
  },
  {
   "cell_type": "code",
   "execution_count": 27,
   "metadata": {},
   "outputs": [
    {
     "name": "stdout",
     "output_type": "stream",
     "text": [
      "100%|██████████| 1/1 [00:01<00:00,  1.68s/it, best loss: 0.5034031439029837]\n",
      "100%|██████████| 1/1 [00:53<00:00, 53.70s/it, best loss: 0.16507918013845602]\n",
      "100%|██████████| 1/1 [00:06<00:00,  6.60s/it, best loss: 0.16507918013845602]\n",
      "100%|██████████| 1/1 [00:08<00:00,  8.03s/it, best loss: 0.16507918013845602]\n",
      "100%|██████████| 1/1 [00:07<00:00,  7.74s/it, best loss: 0.16507918013845602]\n",
      "100%|██████████| 1/1 [00:06<00:00,  6.44s/it, best loss: 0.16507918013845602]\n",
      "100%|██████████| 1/1 [00:07<00:00,  7.58s/it, best loss: 0.16507918013845602]\n",
      "100%|██████████| 1/1 [00:06<00:00,  6.54s/it, best loss: 0.16507918013845602]\n",
      "100%|██████████| 1/1 [00:12<00:00, 12.09s/it, best loss: 0.0007184954317284165]\n",
      "100%|██████████| 1/1 [00:05<00:00,  5.57s/it, best loss: 0.0007184954317284165]\n",
      "0.5359878826716379\n"
     ]
    }
   ],
   "source": [
    "from hpsklearn import HyperoptEstimator, decision_tree\n",
    "from sklearn import svm\n",
    "from sklearn.model_selection import train_test_split\n",
    "X_train, X_val, y_train, y_val = train_test_split(X_full, y_dev)\n",
    "\n",
    "estim = HyperoptEstimator(classifier=decision_tree('myDT'))\n",
    "estim.fit(X_train, y_train)\n",
    "\n",
    "print(estim.score(X_val, y_val))"
   ]
  },
  {
   "cell_type": "code",
   "execution_count": null,
   "metadata": {},
   "outputs": [
    {
     "name": "stderr",
     "output_type": "stream",
     "text": [
      "/home/sc82choi/miniconda3/envs/dsme/lib/python3.6/site-packages/autosklearn/evaluation/train_evaluator.py:197: RuntimeWarning: Mean of empty slice\n",
      "  Y_train_pred = np.nanmean(Y_train_pred_full, axis=0)\n",
      "/home/sc82choi/miniconda3/envs/dsme/lib/python3.6/site-packages/autosklearn/evaluation/train_evaluator.py:197: RuntimeWarning: Mean of empty slice\n",
      "  Y_train_pred = np.nanmean(Y_train_pred_full, axis=0)\n",
      "/home/sc82choi/miniconda3/envs/dsme/lib/python3.6/site-packages/autosklearn/evaluation/train_evaluator.py:197: RuntimeWarning: Mean of empty slice\n",
      "  Y_train_pred = np.nanmean(Y_train_pred_full, axis=0)\n",
      "/home/sc82choi/miniconda3/envs/dsme/lib/python3.6/site-packages/autosklearn/evaluation/train_evaluator.py:197: RuntimeWarning: Mean of empty slice\n",
      "  Y_train_pred = np.nanmean(Y_train_pred_full, axis=0)\n",
      "/home/sc82choi/miniconda3/envs/dsme/lib/python3.6/site-packages/autosklearn/evaluation/train_evaluator.py:197: RuntimeWarning: Mean of empty slice\n",
      "  Y_train_pred = np.nanmean(Y_train_pred_full, axis=0)\n",
      "/home/sc82choi/miniconda3/envs/dsme/lib/python3.6/site-packages/autosklearn/evaluation/train_evaluator.py:197: RuntimeWarning: Mean of empty slice\n",
      "  Y_train_pred = np.nanmean(Y_train_pred_full, axis=0)\n",
      "/home/sc82choi/miniconda3/envs/dsme/lib/python3.6/site-packages/autosklearn/evaluation/train_evaluator.py:197: RuntimeWarning: Mean of empty slice\n",
      "  Y_train_pred = np.nanmean(Y_train_pred_full, axis=0)\n"
     ]
    },
    {
     "name": "stdout",
     "output_type": "stream",
     "text": [
      "[WARNING] [2019-11-04 15:20:22,136:EnsembleBuilder(1608637542):bd0b82f050700033205967dad11c9814] No models better than random - using Dummy Score!\n",
      "[WARNING] [2019-11-04 15:20:22,172:EnsembleBuilder(1608637542):bd0b82f050700033205967dad11c9814] No models better than random - using Dummy Score!\n"
     ]
    },
    {
     "name": "stderr",
     "output_type": "stream",
     "text": [
      "/home/sc82choi/miniconda3/envs/dsme/lib/python3.6/site-packages/autosklearn/evaluation/train_evaluator.py:197: RuntimeWarning: Mean of empty slice\n",
      "  Y_train_pred = np.nanmean(Y_train_pred_full, axis=0)\n"
     ]
    },
    {
     "name": "stdout",
     "output_type": "stream",
     "text": [
      "[WARNING] [2019-11-04 15:20:24,196:EnsembleBuilder(1608637542):bd0b82f050700033205967dad11c9814] No models better than random - using Dummy Score!\n",
      "[WARNING] [2019-11-04 15:20:26,204:EnsembleBuilder(1608637542):bd0b82f050700033205967dad11c9814] No models better than random - using Dummy Score!\n",
      "[WARNING] [2019-11-04 15:20:28,228:EnsembleBuilder(1608637542):bd0b82f050700033205967dad11c9814] No models better than random - using Dummy Score!\n",
      "[WARNING] [2019-11-04 15:20:30,256:EnsembleBuilder(1608637542):bd0b82f050700033205967dad11c9814] No models better than random - using Dummy Score!\n",
      "[WARNING] [2019-11-04 15:20:32,288:EnsembleBuilder(1608637542):bd0b82f050700033205967dad11c9814] No models better than random - using Dummy Score!\n",
      "[WARNING] [2019-11-04 15:20:34,316:EnsembleBuilder(1608637542):bd0b82f050700033205967dad11c9814] No models better than random - using Dummy Score!\n",
      "[WARNING] [2019-11-04 15:20:36,344:EnsembleBuilder(1608637542):bd0b82f050700033205967dad11c9814] No models better than random - using Dummy Score!\n",
      "[WARNING] [2019-11-04 15:20:38,372:EnsembleBuilder(1608637542):bd0b82f050700033205967dad11c9814] No models better than random - using Dummy Score!\n",
      "[WARNING] [2019-11-04 15:20:40,396:EnsembleBuilder(1608637542):bd0b82f050700033205967dad11c9814] No models better than random - using Dummy Score!\n",
      "[WARNING] [2019-11-04 15:20:42,434:EnsembleBuilder(1608637542):bd0b82f050700033205967dad11c9814] No models better than random - using Dummy Score!\n",
      "[WARNING] [2019-11-04 15:20:44,460:EnsembleBuilder(1608637542):bd0b82f050700033205967dad11c9814] No models better than random - using Dummy Score!\n",
      "[WARNING] [2019-11-04 15:20:46,492:EnsembleBuilder(1608637542):bd0b82f050700033205967dad11c9814] No models better than random - using Dummy Score!\n",
      "[WARNING] [2019-11-04 15:20:48,522:EnsembleBuilder(1608637542):bd0b82f050700033205967dad11c9814] No models better than random - using Dummy Score!\n",
      "[WARNING] [2019-11-04 15:20:50,546:EnsembleBuilder(1608637542):bd0b82f050700033205967dad11c9814] No models better than random - using Dummy Score!\n",
      "[WARNING] [2019-11-04 15:20:52,566:EnsembleBuilder(1608637542):bd0b82f050700033205967dad11c9814] No models better than random - using Dummy Score!\n",
      "[WARNING] [2019-11-04 15:20:54,596:EnsembleBuilder(1608637542):bd0b82f050700033205967dad11c9814] No models better than random - using Dummy Score!\n",
      "[WARNING] [2019-11-04 15:20:56,626:EnsembleBuilder(1608637542):bd0b82f050700033205967dad11c9814] No models better than random - using Dummy Score!\n",
      "[WARNING] [2019-11-04 15:20:58,660:EnsembleBuilder(1608637542):bd0b82f050700033205967dad11c9814] No models better than random - using Dummy Score!\n",
      "[WARNING] [2019-11-04 15:21:00,688:EnsembleBuilder(1608637542):bd0b82f050700033205967dad11c9814] No models better than random - using Dummy Score!\n",
      "[WARNING] [2019-11-04 15:21:02,716:EnsembleBuilder(1608637542):bd0b82f050700033205967dad11c9814] No models better than random - using Dummy Score!\n",
      "[WARNING] [2019-11-04 15:21:04,744:EnsembleBuilder(1608637542):bd0b82f050700033205967dad11c9814] No models better than random - using Dummy Score!\n",
      "[WARNING] [2019-11-04 15:21:06,768:EnsembleBuilder(1608637542):bd0b82f050700033205967dad11c9814] No models better than random - using Dummy Score!\n",
      "[WARNING] [2019-11-04 15:21:08,796:EnsembleBuilder(1608637542):bd0b82f050700033205967dad11c9814] No models better than random - using Dummy Score!\n",
      "[WARNING] [2019-11-04 15:21:10,824:EnsembleBuilder(1608637542):bd0b82f050700033205967dad11c9814] No models better than random - using Dummy Score!\n",
      "[WARNING] [2019-11-04 15:21:12,847:EnsembleBuilder(1608637542):bd0b82f050700033205967dad11c9814] No models better than random - using Dummy Score!\n",
      "[WARNING] [2019-11-04 15:21:14,876:EnsembleBuilder(1608637542):bd0b82f050700033205967dad11c9814] No models better than random - using Dummy Score!\n",
      "[WARNING] [2019-11-04 15:21:16,904:EnsembleBuilder(1608637542):bd0b82f050700033205967dad11c9814] No models better than random - using Dummy Score!\n",
      "[WARNING] [2019-11-04 15:21:18,928:EnsembleBuilder(1608637542):bd0b82f050700033205967dad11c9814] No models better than random - using Dummy Score!\n",
      "[WARNING] [2019-11-04 15:21:20,956:EnsembleBuilder(1608637542):bd0b82f050700033205967dad11c9814] No models better than random - using Dummy Score!\n",
      "[WARNING] [2019-11-04 15:21:22,984:EnsembleBuilder(1608637542):bd0b82f050700033205967dad11c9814] No models better than random - using Dummy Score!\n",
      "[WARNING] [2019-11-04 15:21:25,024:EnsembleBuilder(1608637542):bd0b82f050700033205967dad11c9814] No models better than random - using Dummy Score!\n",
      "[WARNING] [2019-11-04 15:21:27,036:EnsembleBuilder(1608637542):bd0b82f050700033205967dad11c9814] No models better than random - using Dummy Score!\n",
      "[WARNING] [2019-11-04 15:21:29,065:EnsembleBuilder(1608637542):bd0b82f050700033205967dad11c9814] No models better than random - using Dummy Score!\n",
      "[WARNING] [2019-11-04 15:21:31,096:EnsembleBuilder(1608637542):bd0b82f050700033205967dad11c9814] No models better than random - using Dummy Score!\n",
      "[WARNING] [2019-11-04 15:21:33,120:EnsembleBuilder(1608637542):bd0b82f050700033205967dad11c9814] No models better than random - using Dummy Score!\n",
      "[WARNING] [2019-11-04 15:21:35,140:EnsembleBuilder(1608637542):bd0b82f050700033205967dad11c9814] No models better than random - using Dummy Score!\n",
      "[WARNING] [2019-11-04 15:21:37,172:EnsembleBuilder(1608637542):bd0b82f050700033205967dad11c9814] No models better than random - using Dummy Score!\n",
      "[WARNING] [2019-11-04 15:21:39,190:EnsembleBuilder(1608637542):bd0b82f050700033205967dad11c9814] No models better than random - using Dummy Score!\n",
      "[WARNING] [2019-11-04 15:21:41,216:EnsembleBuilder(1608637542):bd0b82f050700033205967dad11c9814] No models better than random - using Dummy Score!\n",
      "[WARNING] [2019-11-04 15:21:43,236:EnsembleBuilder(1608637542):bd0b82f050700033205967dad11c9814] No models better than random - using Dummy Score!\n",
      "[WARNING] [2019-11-04 15:21:45,264:EnsembleBuilder(1608637542):bd0b82f050700033205967dad11c9814] No models better than random - using Dummy Score!\n",
      "[WARNING] [2019-11-04 15:21:47,292:EnsembleBuilder(1608637542):bd0b82f050700033205967dad11c9814] No models better than random - using Dummy Score!\n",
      "[WARNING] [2019-11-04 15:21:49,312:EnsembleBuilder(1608637542):bd0b82f050700033205967dad11c9814] No models better than random - using Dummy Score!\n",
      "[WARNING] [2019-11-04 15:21:51,340:EnsembleBuilder(1608637542):bd0b82f050700033205967dad11c9814] No models better than random - using Dummy Score!\n",
      "[WARNING] [2019-11-04 15:21:53,368:EnsembleBuilder(1608637542):bd0b82f050700033205967dad11c9814] No models better than random - using Dummy Score!\n",
      "[WARNING] [2019-11-04 15:21:55,396:EnsembleBuilder(1608637542):bd0b82f050700033205967dad11c9814] No models better than random - using Dummy Score!\n",
      "[WARNING] [2019-11-04 15:21:57,424:EnsembleBuilder(1608637542):bd0b82f050700033205967dad11c9814] No models better than random - using Dummy Score!\n",
      "[WARNING] [2019-11-04 15:21:59,452:EnsembleBuilder(1608637542):bd0b82f050700033205967dad11c9814] No models better than random - using Dummy Score!\n",
      "[WARNING] [2019-11-04 15:22:01,480:EnsembleBuilder(1608637542):bd0b82f050700033205967dad11c9814] No models better than random - using Dummy Score!\n",
      "[WARNING] [2019-11-04 15:22:03,504:EnsembleBuilder(1608637542):bd0b82f050700033205967dad11c9814] No models better than random - using Dummy Score!\n",
      "[WARNING] [2019-11-04 15:22:05,532:EnsembleBuilder(1608637542):bd0b82f050700033205967dad11c9814] No models better than random - using Dummy Score!\n",
      "[WARNING] [2019-11-04 15:22:07,560:EnsembleBuilder(1608637542):bd0b82f050700033205967dad11c9814] No models better than random - using Dummy Score!\n",
      "[WARNING] [2019-11-04 15:22:09,588:EnsembleBuilder(1608637542):bd0b82f050700033205967dad11c9814] No models better than random - using Dummy Score!\n",
      "[WARNING] [2019-11-04 15:22:11,612:EnsembleBuilder(1608637542):bd0b82f050700033205967dad11c9814] No models better than random - using Dummy Score!\n",
      "[WARNING] [2019-11-04 15:22:13,640:EnsembleBuilder(1608637542):bd0b82f050700033205967dad11c9814] No models better than random - using Dummy Score!\n",
      "[WARNING] [2019-11-04 15:22:15,668:EnsembleBuilder(1608637542):bd0b82f050700033205967dad11c9814] No models better than random - using Dummy Score!\n"
     ]
    },
    {
     "name": "stdout",
     "output_type": "stream",
     "text": [
      "[WARNING] [2019-11-04 15:22:17,700:EnsembleBuilder(1608637542):bd0b82f050700033205967dad11c9814] No models better than random - using Dummy Score!\n",
      "[WARNING] [2019-11-04 15:22:19,718:EnsembleBuilder(1608637542):bd0b82f050700033205967dad11c9814] No models better than random - using Dummy Score!\n",
      "[WARNING] [2019-11-04 15:22:21,744:EnsembleBuilder(1608637542):bd0b82f050700033205967dad11c9814] No models better than random - using Dummy Score!\n",
      "[WARNING] [2019-11-04 15:22:23,772:EnsembleBuilder(1608637542):bd0b82f050700033205967dad11c9814] No models better than random - using Dummy Score!\n",
      "[WARNING] [2019-11-04 15:22:25,800:EnsembleBuilder(1608637542):bd0b82f050700033205967dad11c9814] No models better than random - using Dummy Score!\n",
      "[WARNING] [2019-11-04 15:22:27,828:EnsembleBuilder(1608637542):bd0b82f050700033205967dad11c9814] No models better than random - using Dummy Score!\n",
      "[WARNING] [2019-11-04 15:22:29,852:EnsembleBuilder(1608637542):bd0b82f050700033205967dad11c9814] No models better than random - using Dummy Score!\n",
      "[WARNING] [2019-11-04 15:22:31,880:EnsembleBuilder(1608637542):bd0b82f050700033205967dad11c9814] No models better than random - using Dummy Score!\n",
      "[WARNING] [2019-11-04 15:22:33,908:EnsembleBuilder(1608637542):bd0b82f050700033205967dad11c9814] No models better than random - using Dummy Score!\n",
      "[WARNING] [2019-11-04 15:22:35,936:EnsembleBuilder(1608637542):bd0b82f050700033205967dad11c9814] No models better than random - using Dummy Score!\n",
      "[WARNING] [2019-11-04 15:22:37,964:EnsembleBuilder(1608637542):bd0b82f050700033205967dad11c9814] No models better than random - using Dummy Score!\n",
      "[WARNING] [2019-11-04 15:22:39,992:EnsembleBuilder(1608637542):bd0b82f050700033205967dad11c9814] No models better than random - using Dummy Score!\n",
      "[WARNING] [2019-11-04 15:22:42,020:EnsembleBuilder(1608637542):bd0b82f050700033205967dad11c9814] No models better than random - using Dummy Score!\n",
      "[WARNING] [2019-11-04 15:22:44,048:EnsembleBuilder(1608637542):bd0b82f050700033205967dad11c9814] No models better than random - using Dummy Score!\n",
      "[WARNING] [2019-11-04 15:22:46,068:EnsembleBuilder(1608637542):bd0b82f050700033205967dad11c9814] No models better than random - using Dummy Score!\n",
      "[WARNING] [2019-11-04 15:22:48,096:EnsembleBuilder(1608637542):bd0b82f050700033205967dad11c9814] No models better than random - using Dummy Score!\n",
      "[WARNING] [2019-11-04 15:22:50,124:EnsembleBuilder(1608637542):bd0b82f050700033205967dad11c9814] No models better than random - using Dummy Score!\n",
      "[WARNING] [2019-11-04 15:22:52,152:EnsembleBuilder(1608637542):bd0b82f050700033205967dad11c9814] No models better than random - using Dummy Score!\n",
      "[WARNING] [2019-11-04 15:22:54,180:EnsembleBuilder(1608637542):bd0b82f050700033205967dad11c9814] No models better than random - using Dummy Score!\n",
      "[WARNING] [2019-11-04 15:22:56,208:EnsembleBuilder(1608637542):bd0b82f050700033205967dad11c9814] No models better than random - using Dummy Score!\n",
      "[WARNING] [2019-11-04 15:22:58,227:EnsembleBuilder(1608637542):bd0b82f050700033205967dad11c9814] No models better than random - using Dummy Score!\n",
      "[WARNING] [2019-11-04 15:23:00,252:EnsembleBuilder(1608637542):bd0b82f050700033205967dad11c9814] No models better than random - using Dummy Score!\n",
      "[WARNING] [2019-11-04 15:23:02,280:EnsembleBuilder(1608637542):bd0b82f050700033205967dad11c9814] No models better than random - using Dummy Score!\n",
      "[WARNING] [2019-11-04 15:23:04,300:EnsembleBuilder(1608637542):bd0b82f050700033205967dad11c9814] No models better than random - using Dummy Score!\n",
      "[WARNING] [2019-11-04 15:23:06,328:EnsembleBuilder(1608637542):bd0b82f050700033205967dad11c9814] No models better than random - using Dummy Score!\n",
      "[WARNING] [2019-11-04 15:23:08,356:EnsembleBuilder(1608637542):bd0b82f050700033205967dad11c9814] No models better than random - using Dummy Score!\n",
      "[WARNING] [2019-11-04 15:23:10,378:EnsembleBuilder(1608637542):bd0b82f050700033205967dad11c9814] No models better than random - using Dummy Score!\n",
      "[WARNING] [2019-11-04 15:23:12,404:EnsembleBuilder(1608637542):bd0b82f050700033205967dad11c9814] No models better than random - using Dummy Score!\n",
      "[WARNING] [2019-11-04 15:23:14,424:EnsembleBuilder(1608637542):bd0b82f050700033205967dad11c9814] No models better than random - using Dummy Score!\n",
      "[WARNING] [2019-11-04 15:23:16,451:EnsembleBuilder(1608637542):bd0b82f050700033205967dad11c9814] No models better than random - using Dummy Score!\n",
      "[WARNING] [2019-11-04 15:23:18,474:EnsembleBuilder(1608637542):bd0b82f050700033205967dad11c9814] No models better than random - using Dummy Score!\n",
      "[WARNING] [2019-11-04 15:23:20,496:EnsembleBuilder(1608637542):bd0b82f050700033205967dad11c9814] No models better than random - using Dummy Score!\n",
      "[WARNING] [2019-11-04 15:23:22,515:EnsembleBuilder(1608637542):bd0b82f050700033205967dad11c9814] No models better than random - using Dummy Score!\n",
      "[WARNING] [2019-11-04 15:23:24,544:EnsembleBuilder(1608637542):bd0b82f050700033205967dad11c9814] No models better than random - using Dummy Score!\n",
      "[WARNING] [2019-11-04 15:23:26,563:EnsembleBuilder(1608637542):bd0b82f050700033205967dad11c9814] No models better than random - using Dummy Score!\n",
      "[WARNING] [2019-11-04 15:23:28,588:EnsembleBuilder(1608637542):bd0b82f050700033205967dad11c9814] No models better than random - using Dummy Score!\n",
      "[WARNING] [2019-11-04 15:23:30,611:EnsembleBuilder(1608637542):bd0b82f050700033205967dad11c9814] No models better than random - using Dummy Score!\n",
      "[WARNING] [2019-11-04 15:23:32,648:EnsembleBuilder(1608637542):bd0b82f050700033205967dad11c9814] No models better than random - using Dummy Score!\n",
      "[WARNING] [2019-11-04 15:23:34,672:EnsembleBuilder(1608637542):bd0b82f050700033205967dad11c9814] No models better than random - using Dummy Score!\n",
      "[WARNING] [2019-11-04 15:23:36,692:EnsembleBuilder(1608637542):bd0b82f050700033205967dad11c9814] No models better than random - using Dummy Score!\n",
      "[WARNING] [2019-11-04 15:23:38,712:EnsembleBuilder(1608637542):bd0b82f050700033205967dad11c9814] No models better than random - using Dummy Score!\n",
      "[WARNING] [2019-11-04 15:23:40,740:EnsembleBuilder(1608637542):bd0b82f050700033205967dad11c9814] No models better than random - using Dummy Score!\n",
      "[WARNING] [2019-11-04 15:23:42,768:EnsembleBuilder(1608637542):bd0b82f050700033205967dad11c9814] No models better than random - using Dummy Score!\n",
      "[WARNING] [2019-11-04 15:23:44,804:EnsembleBuilder(1608637542):bd0b82f050700033205967dad11c9814] No models better than random - using Dummy Score!\n",
      "[WARNING] [2019-11-04 15:23:46,832:EnsembleBuilder(1608637542):bd0b82f050700033205967dad11c9814] No models better than random - using Dummy Score!\n",
      "[WARNING] [2019-11-04 15:23:48,860:EnsembleBuilder(1608637542):bd0b82f050700033205967dad11c9814] No models better than random - using Dummy Score!\n",
      "[WARNING] [2019-11-04 15:23:50,888:EnsembleBuilder(1608637542):bd0b82f050700033205967dad11c9814] No models better than random - using Dummy Score!\n",
      "[WARNING] [2019-11-04 15:23:52,912:EnsembleBuilder(1608637542):bd0b82f050700033205967dad11c9814] No models better than random - using Dummy Score!\n",
      "[WARNING] [2019-11-04 15:23:54,940:EnsembleBuilder(1608637542):bd0b82f050700033205967dad11c9814] No models better than random - using Dummy Score!\n",
      "[WARNING] [2019-11-04 15:23:56,968:EnsembleBuilder(1608637542):bd0b82f050700033205967dad11c9814] No models better than random - using Dummy Score!\n",
      "[WARNING] [2019-11-04 15:23:58,996:EnsembleBuilder(1608637542):bd0b82f050700033205967dad11c9814] No models better than random - using Dummy Score!\n",
      "[WARNING] [2019-11-04 15:24:01,018:EnsembleBuilder(1608637542):bd0b82f050700033205967dad11c9814] No models better than random - using Dummy Score!\n",
      "[WARNING] [2019-11-04 15:24:03,040:EnsembleBuilder(1608637542):bd0b82f050700033205967dad11c9814] No models better than random - using Dummy Score!\n",
      "[WARNING] [2019-11-04 15:24:05,060:EnsembleBuilder(1608637542):bd0b82f050700033205967dad11c9814] No models better than random - using Dummy Score!\n",
      "[WARNING] [2019-11-04 15:24:07,088:EnsembleBuilder(1608637542):bd0b82f050700033205967dad11c9814] No models better than random - using Dummy Score!\n",
      "[WARNING] [2019-11-04 15:24:09,116:EnsembleBuilder(1608637542):bd0b82f050700033205967dad11c9814] No models better than random - using Dummy Score!\n"
     ]
    },
    {
     "name": "stdout",
     "output_type": "stream",
     "text": [
      "[WARNING] [2019-11-04 15:24:11,144:EnsembleBuilder(1608637542):bd0b82f050700033205967dad11c9814] No models better than random - using Dummy Score!\n",
      "[WARNING] [2019-11-04 15:24:13,164:EnsembleBuilder(1608637542):bd0b82f050700033205967dad11c9814] No models better than random - using Dummy Score!\n",
      "[WARNING] [2019-11-04 15:24:15,192:EnsembleBuilder(1608637542):bd0b82f050700033205967dad11c9814] No models better than random - using Dummy Score!\n",
      "[WARNING] [2019-11-04 15:24:17,220:EnsembleBuilder(1608637542):bd0b82f050700033205967dad11c9814] No models better than random - using Dummy Score!\n",
      "[WARNING] [2019-11-04 15:24:19,248:EnsembleBuilder(1608637542):bd0b82f050700033205967dad11c9814] No models better than random - using Dummy Score!\n",
      "[WARNING] [2019-11-04 15:24:21,276:EnsembleBuilder(1608637542):bd0b82f050700033205967dad11c9814] No models better than random - using Dummy Score!\n",
      "[WARNING] [2019-11-04 15:24:23,304:EnsembleBuilder(1608637542):bd0b82f050700033205967dad11c9814] No models better than random - using Dummy Score!\n",
      "[WARNING] [2019-11-04 15:24:25,332:EnsembleBuilder(1608637542):bd0b82f050700033205967dad11c9814] No models better than random - using Dummy Score!\n"
     ]
    },
    {
     "name": "stderr",
     "output_type": "stream",
     "text": [
      "/home/sc82choi/miniconda3/envs/dsme/lib/python3.6/site-packages/autosklearn/evaluation/train_evaluator.py:197: RuntimeWarning: Mean of empty slice\n",
      "  Y_train_pred = np.nanmean(Y_train_pred_full, axis=0)\n",
      "/home/sc82choi/miniconda3/envs/dsme/lib/python3.6/site-packages/autosklearn/evaluation/train_evaluator.py:197: RuntimeWarning: Mean of empty slice\n",
      "  Y_train_pred = np.nanmean(Y_train_pred_full, axis=0)\n",
      "/home/sc82choi/miniconda3/envs/dsme/lib/python3.6/site-packages/autosklearn/evaluation/train_evaluator.py:197: RuntimeWarning: Mean of empty slice\n",
      "  Y_train_pred = np.nanmean(Y_train_pred_full, axis=0)\n",
      "/home/sc82choi/miniconda3/envs/dsme/lib/python3.6/site-packages/autosklearn/evaluation/train_evaluator.py:197: RuntimeWarning: Mean of empty slice\n",
      "  Y_train_pred = np.nanmean(Y_train_pred_full, axis=0)\n",
      "/home/sc82choi/miniconda3/envs/dsme/lib/python3.6/site-packages/autosklearn/evaluation/train_evaluator.py:197: RuntimeWarning: Mean of empty slice\n",
      "  Y_train_pred = np.nanmean(Y_train_pred_full, axis=0)\n"
     ]
    },
    {
     "name": "stdout",
     "output_type": "stream",
     "text": [
      "[WARNING] [2019-11-04 15:38:42,316:smac.intensification.intensification.Intensifier] Challenger was the same as the current incumbent; Skipping challenger\n",
      "[WARNING] [2019-11-04 15:38:42,316:smac.intensification.intensification.Intensifier] Challenger was the same as the current incumbent; Skipping challenger\n"
     ]
    },
    {
     "name": "stderr",
     "output_type": "stream",
     "text": [
      "/home/sc82choi/miniconda3/envs/dsme/lib/python3.6/site-packages/autosklearn/evaluation/train_evaluator.py:197: RuntimeWarning: Mean of empty slice\n",
      "  Y_train_pred = np.nanmean(Y_train_pred_full, axis=0)\n",
      "/home/sc82choi/miniconda3/envs/dsme/lib/python3.6/site-packages/autosklearn/evaluation/train_evaluator.py:197: RuntimeWarning: Mean of empty slice\n",
      "  Y_train_pred = np.nanmean(Y_train_pred_full, axis=0)\n",
      "/home/sc82choi/miniconda3/envs/dsme/lib/python3.6/site-packages/autosklearn/evaluation/train_evaluator.py:197: RuntimeWarning: Mean of empty slice\n",
      "  Y_train_pred = np.nanmean(Y_train_pred_full, axis=0)\n",
      "/home/sc82choi/miniconda3/envs/dsme/lib/python3.6/site-packages/autosklearn/evaluation/train_evaluator.py:197: RuntimeWarning: Mean of empty slice\n",
      "  Y_train_pred = np.nanmean(Y_train_pred_full, axis=0)\n",
      "/home/sc82choi/miniconda3/envs/dsme/lib/python3.6/site-packages/autosklearn/evaluation/train_evaluator.py:197: RuntimeWarning: Mean of empty slice\n",
      "  Y_train_pred = np.nanmean(Y_train_pred_full, axis=0)\n",
      "/home/sc82choi/miniconda3/envs/dsme/lib/python3.6/site-packages/autosklearn/evaluation/train_evaluator.py:197: RuntimeWarning: Mean of empty slice\n",
      "  Y_train_pred = np.nanmean(Y_train_pred_full, axis=0)\n",
      "/home/sc82choi/miniconda3/envs/dsme/lib/python3.6/site-packages/autosklearn/evaluation/train_evaluator.py:197: RuntimeWarning: Mean of empty slice\n",
      "  Y_train_pred = np.nanmean(Y_train_pred_full, axis=0)\n",
      "/home/sc82choi/miniconda3/envs/dsme/lib/python3.6/site-packages/autosklearn/evaluation/train_evaluator.py:197: RuntimeWarning: Mean of empty slice\n",
      "  Y_train_pred = np.nanmean(Y_train_pred_full, axis=0)\n",
      "/home/sc82choi/miniconda3/envs/dsme/lib/python3.6/site-packages/autosklearn/evaluation/train_evaluator.py:197: RuntimeWarning: Mean of empty slice\n",
      "  Y_train_pred = np.nanmean(Y_train_pred_full, axis=0)\n",
      "/home/sc82choi/miniconda3/envs/dsme/lib/python3.6/site-packages/autosklearn/evaluation/train_evaluator.py:197: RuntimeWarning: Mean of empty slice\n",
      "  Y_train_pred = np.nanmean(Y_train_pred_full, axis=0)\n",
      "/home/sc82choi/miniconda3/envs/dsme/lib/python3.6/site-packages/autosklearn/evaluation/train_evaluator.py:197: RuntimeWarning: Mean of empty slice\n",
      "  Y_train_pred = np.nanmean(Y_train_pred_full, axis=0)\n",
      "/home/sc82choi/miniconda3/envs/dsme/lib/python3.6/site-packages/autosklearn/evaluation/train_evaluator.py:197: RuntimeWarning: Mean of empty slice\n",
      "  Y_train_pred = np.nanmean(Y_train_pred_full, axis=0)\n",
      "/home/sc82choi/miniconda3/envs/dsme/lib/python3.6/site-packages/autosklearn/evaluation/train_evaluator.py:197: RuntimeWarning: Mean of empty slice\n",
      "  Y_train_pred = np.nanmean(Y_train_pred_full, axis=0)\n",
      "/home/sc82choi/miniconda3/envs/dsme/lib/python3.6/site-packages/autosklearn/evaluation/train_evaluator.py:197: RuntimeWarning: Mean of empty slice\n",
      "  Y_train_pred = np.nanmean(Y_train_pred_full, axis=0)\n"
     ]
    },
    {
     "name": "stdout",
     "output_type": "stream",
     "text": [
      "[WARNING] [2019-11-04 15:51:14,773:smac.intensification.intensification.Intensifier] Challenger was the same as the current incumbent; Skipping challenger\n",
      "[WARNING] [2019-11-04 15:51:14,773:smac.intensification.intensification.Intensifier] Challenger was the same as the current incumbent; Skipping challenger\n"
     ]
    },
    {
     "name": "stderr",
     "output_type": "stream",
     "text": [
      "/home/sc82choi/miniconda3/envs/dsme/lib/python3.6/site-packages/autosklearn/evaluation/train_evaluator.py:197: RuntimeWarning: Mean of empty slice\n",
      "  Y_train_pred = np.nanmean(Y_train_pred_full, axis=0)\n",
      "/home/sc82choi/miniconda3/envs/dsme/lib/python3.6/site-packages/autosklearn/evaluation/train_evaluator.py:197: RuntimeWarning: Mean of empty slice\n",
      "  Y_train_pred = np.nanmean(Y_train_pred_full, axis=0)\n",
      "/home/sc82choi/miniconda3/envs/dsme/lib/python3.6/site-packages/autosklearn/evaluation/train_evaluator.py:197: RuntimeWarning: Mean of empty slice\n",
      "  Y_train_pred = np.nanmean(Y_train_pred_full, axis=0)\n",
      "/home/sc82choi/miniconda3/envs/dsme/lib/python3.6/site-packages/autosklearn/evaluation/train_evaluator.py:197: RuntimeWarning: Mean of empty slice\n",
      "  Y_train_pred = np.nanmean(Y_train_pred_full, axis=0)\n",
      "/home/sc82choi/miniconda3/envs/dsme/lib/python3.6/site-packages/autosklearn/evaluation/train_evaluator.py:197: RuntimeWarning: Mean of empty slice\n",
      "  Y_train_pred = np.nanmean(Y_train_pred_full, axis=0)\n",
      "/home/sc82choi/miniconda3/envs/dsme/lib/python3.6/site-packages/autosklearn/evaluation/train_evaluator.py:197: RuntimeWarning: Mean of empty slice\n",
      "  Y_train_pred = np.nanmean(Y_train_pred_full, axis=0)\n"
     ]
    },
    {
     "name": "stdout",
     "output_type": "stream",
     "text": [
      "[WARNING] [2019-11-04 15:56:32,841:EnsembleBuilder(1608637542):bd0b82f050700033205967dad11c9814] Memory Exception -- restart with less ensemle_nbest: 25\n",
      "[WARNING] [2019-11-04 15:56:33,780:EnsembleBuilder(1608637542):bd0b82f050700033205967dad11c9814] Memory Exception -- restart with less ensemle_nbest: 12\n"
     ]
    },
    {
     "name": "stderr",
     "output_type": "stream",
     "text": [
      "/home/sc82choi/miniconda3/envs/dsme/lib/python3.6/site-packages/autosklearn/evaluation/train_evaluator.py:197: RuntimeWarning: Mean of empty slice\n",
      "  Y_train_pred = np.nanmean(Y_train_pred_full, axis=0)\n",
      "/home/sc82choi/miniconda3/envs/dsme/lib/python3.6/site-packages/autosklearn/evaluation/train_evaluator.py:197: RuntimeWarning: Mean of empty slice\n",
      "  Y_train_pred = np.nanmean(Y_train_pred_full, axis=0)\n",
      "/home/sc82choi/miniconda3/envs/dsme/lib/python3.6/site-packages/autosklearn/evaluation/train_evaluator.py:197: RuntimeWarning: Mean of empty slice\n",
      "  Y_train_pred = np.nanmean(Y_train_pred_full, axis=0)\n",
      "/home/sc82choi/miniconda3/envs/dsme/lib/python3.6/site-packages/autosklearn/evaluation/train_evaluator.py:197: RuntimeWarning: Mean of empty slice\n",
      "  Y_train_pred = np.nanmean(Y_train_pred_full, axis=0)\n",
      "/home/sc82choi/miniconda3/envs/dsme/lib/python3.6/site-packages/autosklearn/evaluation/train_evaluator.py:197: RuntimeWarning: Mean of empty slice\n",
      "  Y_train_pred = np.nanmean(Y_train_pred_full, axis=0)\n"
     ]
    }
   ],
   "source": [
    "X_train, X_val, y_train, y_val = train_test_split(X_full, y_dev)\n",
    "\n",
    "import autosklearn.classification\n",
    "automl = autosklearn.classification.AutoSklearnClassifier( include_estimators=[\"random_forest\", \"xgradient_boosting\", ], \n",
    "    include_preprocessors=[\"no_preprocessing\", ], \n",
    "    seed = 42,ml_memory_limit = 30720,\n",
    "    resampling_strategy = 'holdout',\n",
    "    n_jobs=8)\n",
    "                                                          \n",
    "automl.fit(X_train.copy(), y_train.copy())\n",
    "y_hat = automl.predict(X_val)\n",
    "print(\"Accuracy score\", sklearn.metrics.accuracy_score(y_val, y_hat))"
   ]
  },
  {
   "cell_type": "code",
   "execution_count": 33,
   "metadata": {},
   "outputs": [
    {
     "ename": "NameError",
     "evalue": "name 'X_full' is not defined",
     "output_type": "error",
     "traceback": [
      "\u001b[0;31m---------------------------------------------------------------------------\u001b[0m",
      "\u001b[0;31mNameError\u001b[0m                                 Traceback (most recent call last)",
      "\u001b[0;32m<ipython-input-33-df032376126d>\u001b[0m in \u001b[0;36m<module>\u001b[0;34m\u001b[0m\n\u001b[1;32m      1\u001b[0m \u001b[0;32mfrom\u001b[0m \u001b[0msklearn\u001b[0m\u001b[0;34m.\u001b[0m\u001b[0mmetrics\u001b[0m \u001b[0;32mimport\u001b[0m \u001b[0maccuracy_score\u001b[0m\u001b[0;34m\u001b[0m\u001b[0;34m\u001b[0m\u001b[0m\n\u001b[0;32m----> 2\u001b[0;31m \u001b[0mX_train\u001b[0m\u001b[0;34m,\u001b[0m \u001b[0mX_val\u001b[0m\u001b[0;34m,\u001b[0m \u001b[0my_train\u001b[0m\u001b[0;34m,\u001b[0m \u001b[0my_val\u001b[0m \u001b[0;34m=\u001b[0m \u001b[0mtrain_test_split\u001b[0m\u001b[0;34m(\u001b[0m\u001b[0mX_full\u001b[0m\u001b[0;34m,\u001b[0m \u001b[0my_dev\u001b[0m\u001b[0;34m)\u001b[0m\u001b[0;34m\u001b[0m\u001b[0;34m\u001b[0m\u001b[0m\n\u001b[0m\u001b[1;32m      3\u001b[0m \u001b[0;34m\u001b[0m\u001b[0m\n\u001b[1;32m      4\u001b[0m \u001b[0mprint\u001b[0m\u001b[0;34m(\u001b[0m\u001b[0;34m\"Accuracy score\"\u001b[0m\u001b[0;34m,\u001b[0m \u001b[0maccuracy_score\u001b[0m\u001b[0;34m(\u001b[0m\u001b[0my_val\u001b[0m\u001b[0;34m,\u001b[0m \u001b[0my_hat\u001b[0m\u001b[0;34m)\u001b[0m\u001b[0;34m)\u001b[0m\u001b[0;34m\u001b[0m\u001b[0;34m\u001b[0m\u001b[0m\n",
      "\u001b[0;31mNameError\u001b[0m: name 'X_full' is not defined"
     ]
    }
   ],
   "source": [
    "from sklearn.metrics import accuracy_score\n",
    "X_train, X_val, y_train, y_val = train_test_split(X_full, y_dev)\n",
    "\n",
    "print(\"Accuracy score\", accuracy_score(y_val, y_hat))"
   ]
  },
  {
   "cell_type": "code",
   "execution_count": null,
   "metadata": {},
   "outputs": [],
   "source": [
    "X_train, X_val, y_train, y_val = train_test_split(X_dev, y_dev)\n",
    "\n",
    "import autosklearn.classification\n",
    "automl = autosklearn.classification.AutoSklearnClassifier( ml_memory_limit=30720,)\n",
    "automl.fit(X_train.copy(), y_train.copy())\n",
    "y_hat = automl.predict(X_val)"
   ]
  },
  {
   "cell_type": "code",
   "execution_count": 29,
   "metadata": {},
   "outputs": [
    {
     "ename": "NameError",
     "evalue": "name 'sklearn' is not defined",
     "output_type": "error",
     "traceback": [
      "\u001b[0;31m---------------------------------------------------------------------------\u001b[0m",
      "\u001b[0;31mNameError\u001b[0m                                 Traceback (most recent call last)",
      "\u001b[0;32m<ipython-input-29-4eccfe85ac17>\u001b[0m in \u001b[0;36m<module>\u001b[0;34m\u001b[0m\n\u001b[0;32m----> 1\u001b[0;31m \u001b[0mprint\u001b[0m\u001b[0;34m(\u001b[0m\u001b[0;34m\"Accuracy score\"\u001b[0m\u001b[0;34m,\u001b[0m \u001b[0msklearn\u001b[0m\u001b[0;34m.\u001b[0m\u001b[0mmetrics\u001b[0m\u001b[0;34m.\u001b[0m\u001b[0maccuracy_score\u001b[0m\u001b[0;34m(\u001b[0m\u001b[0my_val\u001b[0m\u001b[0;34m,\u001b[0m \u001b[0my_hat\u001b[0m\u001b[0;34m)\u001b[0m\u001b[0;34m)\u001b[0m\u001b[0;34m\u001b[0m\u001b[0;34m\u001b[0m\u001b[0m\n\u001b[0m",
      "\u001b[0;31mNameError\u001b[0m: name 'sklearn' is not defined"
     ]
    }
   ],
   "source": [
    "print(\"Accuracy score\", sklearn.metrics.accuracy_score(y_val, y_hat))"
   ]
  },
  {
   "cell_type": "code",
   "execution_count": 35,
   "metadata": {},
   "outputs": [
    {
     "ename": "NameError",
     "evalue": "name 'automl' is not defined",
     "output_type": "error",
     "traceback": [
      "\u001b[0;31m---------------------------------------------------------------------------\u001b[0m",
      "\u001b[0;31mNameError\u001b[0m                                 Traceback (most recent call last)",
      "\u001b[0;32m<ipython-input-35-fdc0fdce5424>\u001b[0m in \u001b[0;36m<module>\u001b[0;34m\u001b[0m\n\u001b[0;32m----> 1\u001b[0;31m \u001b[0mautoml\u001b[0m\u001b[0;34m.\u001b[0m\u001b[0mshow_models\u001b[0m\u001b[0;34m(\u001b[0m\u001b[0;34m)\u001b[0m\u001b[0;34m\u001b[0m\u001b[0;34m\u001b[0m\u001b[0m\n\u001b[0m",
      "\u001b[0;31mNameError\u001b[0m: name 'automl' is not defined"
     ]
    }
   ],
   "source": [
    "automl.show_models()"
   ]
  }
 ],
 "metadata": {
  "kernelspec": {
   "display_name": "Python 3",
   "language": "python",
   "name": "python3"
  },
  "language_info": {
   "codemirror_mode": {
    "name": "ipython",
    "version": 3
   },
   "file_extension": ".py",
   "mimetype": "text/x-python",
   "name": "python",
   "nbconvert_exporter": "python",
   "pygments_lexer": "ipython3",
   "version": "3.6.9"
  }
 },
 "nbformat": 4,
 "nbformat_minor": 2
}
