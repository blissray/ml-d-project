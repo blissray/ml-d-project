{
 "cells": [
  {
   "cell_type": "code",
   "execution_count": 81,
   "metadata": {
    "collapsed": true
   },
   "outputs": [],
   "source": [
    "from sklearn.feature_extraction.text import CountVectorizer"
   ]
  },
  {
   "cell_type": "code",
   "execution_count": 82,
   "metadata": {},
   "outputs": [
    {
     "data": {
      "text/plain": [
       "['but', 'clean', 'close', 'election', 'forgettable', 'game', 'great', 'it']"
      ]
     },
     "execution_count": 82,
     "metadata": {},
     "output_type": "execute_result"
    }
   ],
   "source": [
    "y_example_text = [\"Sports\", \"Not sports\",\"Sports\",\"Sports\",\"Not sports\"]\n",
    "y_example = [1 if c==\"Sports\" else 0 for c in y_example_text ]\n",
    "text_example = [\"A great game game\", \"The The election was over\",\n",
    "                \"Very clean game match\",\n",
    "                \"A clean but forgettable game game\",\"It was a close election\", ]\n",
    "\n",
    "\n",
    "countvect_example =  CountVectorizer()\n",
    "X_example = countvect_example.fit_transform(text_example)\n",
    "countvect_example.get_feature_names()[:8]"
   ]
  },
  {
   "cell_type": "code",
   "execution_count": 83,
   "metadata": {},
   "outputs": [
    {
     "data": {
      "text/plain": [
       "array([[0, 0, 0, 0, 0, 2, 1, 0, 0, 0, 0, 0, 0],\n",
       "       [0, 0, 0, 1, 0, 0, 0, 0, 0, 1, 2, 0, 1],\n",
       "       [0, 1, 0, 0, 0, 1, 0, 0, 1, 0, 0, 1, 0],\n",
       "       [1, 1, 0, 0, 1, 2, 0, 0, 0, 0, 0, 0, 0],\n",
       "       [0, 0, 1, 1, 0, 0, 0, 1, 0, 0, 0, 0, 1]], dtype=int64)"
      ]
     },
     "execution_count": 83,
     "metadata": {},
     "output_type": "execute_result"
    }
   ],
   "source": [
    "X_example.toarray()"
   ]
  },
  {
   "cell_type": "code",
   "execution_count": 84,
   "metadata": {},
   "outputs": [
    {
     "data": {
      "text/plain": [
       "[1, 0, 1, 1, 0]"
      ]
     },
     "execution_count": 84,
     "metadata": {},
     "output_type": "execute_result"
    }
   ],
   "source": [
    "y_example"
   ]
  },
  {
   "cell_type": "code",
   "execution_count": 85,
   "metadata": {},
   "outputs": [
    {
     "data": {
      "text/plain": [
       "array([-0.91629073, -0.51082562])"
      ]
     },
     "execution_count": 85,
     "metadata": {},
     "output_type": "execute_result"
    }
   ],
   "source": [
    "from sklearn.naive_bayes import BernoulliNB\n",
    "\n",
    "clf = BernoulliNB(binarize=0)\n",
    "clf.fit(X_example, y_example)\n",
    "clf.class_log_prior_ "
   ]
  },
  {
   "cell_type": "code",
   "execution_count": 86,
   "metadata": {},
   "outputs": [
    {
     "data": {
      "text/plain": [
       "array([ 2.,  3.])"
      ]
     },
     "execution_count": 86,
     "metadata": {},
     "output_type": "execute_result"
    }
   ],
   "source": [
    "clf.class_count_  "
   ]
  },
  {
   "cell_type": "code",
   "execution_count": 87,
   "metadata": {},
   "outputs": [
    {
     "data": {
      "text/plain": [
       "array([[-1.38629436, -1.38629436, -0.69314718, -0.28768207, -1.38629436,\n",
       "        -1.38629436, -1.38629436, -0.69314718, -1.38629436, -0.69314718,\n",
       "        -0.69314718, -1.38629436, -0.28768207],\n",
       "       [-0.91629073, -0.51082562, -1.60943791, -1.60943791, -0.91629073,\n",
       "        -0.22314355, -0.91629073, -1.60943791, -0.91629073, -1.60943791,\n",
       "        -1.60943791, -0.91629073, -1.60943791]])"
      ]
     },
     "execution_count": 87,
     "metadata": {},
     "output_type": "execute_result"
    }
   ],
   "source": [
    "clf.feature_log_prob_  "
   ]
  },
  {
   "cell_type": "code",
   "execution_count": 88,
   "metadata": {},
   "outputs": [
    {
     "data": {
      "text/plain": [
       "array([[ 0.,  0.,  1.,  2.,  0.,  0.,  0.,  1.,  0.,  1.,  1.,  0.,  2.],\n",
       "       [ 1.,  2.,  0.,  0.,  1.,  3.,  1.,  0.,  1.,  0.,  0.,  1.,  0.]])"
      ]
     },
     "execution_count": 88,
     "metadata": {},
     "output_type": "execute_result"
    }
   ],
   "source": [
    "clf.feature_count_"
   ]
  },
  {
   "cell_type": "code",
   "execution_count": 89,
   "metadata": {
    "collapsed": true
   },
   "outputs": [],
   "source": [
    "from sklearn.naive_bayes import MultinomialNB"
   ]
  },
  {
   "cell_type": "code",
   "execution_count": 103,
   "metadata": {},
   "outputs": [
    {
     "data": {
      "text/plain": [
       "MultinomialNB(alpha=1, class_prior=None, fit_prior=True)"
      ]
     },
     "execution_count": 103,
     "metadata": {},
     "output_type": "execute_result"
    }
   ],
   "source": [
    "clf = MultinomialNB(alpha=1)\n",
    "clf.fit(X_example, y_example)"
   ]
  },
  {
   "cell_type": "code",
   "execution_count": 104,
   "metadata": {},
   "outputs": [
    {
     "name": "stdout",
     "output_type": "stream",
     "text": [
      "[-0.91629073 -0.51082562]\n",
      "[[-3.09104245 -3.09104245 -2.39789527 -1.99243016 -3.09104245 -3.09104245\n",
      "  -3.09104245 -2.39789527 -3.09104245 -2.39789527 -1.99243016 -3.09104245\n",
      "  -1.99243016]\n",
      " [-2.52572864 -2.12026354 -3.21887582 -3.21887582 -2.52572864 -1.42711636\n",
      "  -2.52572864 -3.21887582 -2.52572864 -3.21887582 -3.21887582 -2.52572864\n",
      "  -3.21887582]]\n",
      "[ 2.  3.]\n",
      "[[ 0.  0.  1.  2.  0.  0.  0.  1.  0.  1.  2.  0.  2.]\n",
      " [ 1.  2.  0.  0.  1.  5.  1.  0.  1.  0.  0.  1.  0.]]\n",
      "[[-2.52572864 -2.12026354 -3.21887582 -3.21887582 -2.52572864 -1.42711636\n",
      "  -2.52572864 -3.21887582 -2.52572864 -3.21887582 -3.21887582 -2.52572864\n",
      "  -3.21887582]]\n",
      "[-0.51082562]\n"
     ]
    }
   ],
   "source": [
    "print(clf.class_log_prior_)\n",
    "print(clf.feature_log_prob_)\n",
    "print(clf.class_count_)\n",
    "print(clf.feature_count_)\n",
    "\n",
    "print(clf.coef_)\n",
    "print(clf.intercept_)"
   ]
  },
  {
   "cell_type": "code",
   "execution_count": 101,
   "metadata": {
    "collapsed": true
   },
   "outputs": [],
   "source": [
    "from sklearn.naive_bayes import GaussianNB"
   ]
  },
  {
   "cell_type": "code",
   "execution_count": 107,
   "metadata": {},
   "outputs": [
    {
     "data": {
      "text/plain": [
       "GaussianNB(priors=None)"
      ]
     },
     "execution_count": 107,
     "metadata": {},
     "output_type": "execute_result"
    }
   ],
   "source": [
    "clf = GaussianNB()\n",
    "clf.fit(X_example.toarray(), y_example)"
   ]
  },
  {
   "cell_type": "code",
   "execution_count": 112,
   "metadata": {},
   "outputs": [
    {
     "name": "stdout",
     "output_type": "stream",
     "text": [
      "[ 2.  3.]\n",
      "[ 0.4  0.6]\n",
      "[[ 0.          0.          0.5         1.          0.          0.          0.\n",
      "   0.5         0.          0.5         1.          0.          1.        ]\n",
      " [ 0.33333333  0.66666667  0.          0.          0.33333333  1.66666667\n",
      "   0.33333333  0.          0.33333333  0.          0.          0.33333333\n",
      "   0.        ]]\n",
      "[[  8.00000000e-10   8.00000000e-10   2.50000001e-01   8.00000000e-10\n",
      "    8.00000000e-10   8.00000000e-10   8.00000000e-10   2.50000001e-01\n",
      "    8.00000000e-10   2.50000001e-01   1.00000000e+00   8.00000000e-10\n",
      "    8.00000000e-10]\n",
      " [  2.22222223e-01   2.22222223e-01   8.00000000e-10   8.00000000e-10\n",
      "    2.22222223e-01   2.22222223e-01   2.22222223e-01   8.00000000e-10\n",
      "    2.22222223e-01   8.00000000e-10   8.00000000e-10   2.22222223e-01\n",
      "    8.00000000e-10]]\n"
     ]
    }
   ],
   "source": [
    "print(clf.class_count_)\n",
    "print(clf.class_prior_)\n",
    "print(clf.theta_)\n",
    "print(clf.sigma_)"
   ]
  }
 ],
 "metadata": {
  "kernelspec": {
   "display_name": "Python 3",
   "language": "python",
   "name": "python3"
  },
  "language_info": {
   "codemirror_mode": {
    "name": "ipython",
    "version": 3
   },
   "file_extension": ".py",
   "mimetype": "text/x-python",
   "name": "python",
   "nbconvert_exporter": "python",
   "pygments_lexer": "ipython3",
   "version": "3.5.4"
  }
 },
 "nbformat": 4,
 "nbformat_minor": 2
}
