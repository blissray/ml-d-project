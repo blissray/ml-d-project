{
 "cells": [
  {
   "cell_type": "code",
   "execution_count": 1,
   "metadata": {},
   "outputs": [],
   "source": [
    "import pandas as pd\n",
    "import matplotlib.pyplot as plt\n",
    "import numpy as np"
   ]
  },
  {
   "cell_type": "code",
   "execution_count": 2,
   "metadata": {},
   "outputs": [
    {
     "data": {
      "text/html": [
       "<div>\n",
       "<style scoped>\n",
       "    .dataframe tbody tr th:only-of-type {\n",
       "        vertical-align: middle;\n",
       "    }\n",
       "\n",
       "    .dataframe tbody tr th {\n",
       "        vertical-align: top;\n",
       "    }\n",
       "\n",
       "    .dataframe thead th {\n",
       "        text-align: right;\n",
       "    }\n",
       "</style>\n",
       "<table border=\"1\" class=\"dataframe\">\n",
       "  <thead>\n",
       "    <tr style=\"text-align: right;\">\n",
       "      <th></th>\n",
       "      <th>ID</th>\n",
       "      <th>RPM</th>\n",
       "      <th>VIBRATION</th>\n",
       "      <th>STATUS</th>\n",
       "    </tr>\n",
       "  </thead>\n",
       "  <tbody>\n",
       "    <tr>\n",
       "      <th>0</th>\n",
       "      <td>1</td>\n",
       "      <td>568</td>\n",
       "      <td>585</td>\n",
       "      <td>good</td>\n",
       "    </tr>\n",
       "    <tr>\n",
       "      <th>1</th>\n",
       "      <td>2</td>\n",
       "      <td>586</td>\n",
       "      <td>565</td>\n",
       "      <td>good</td>\n",
       "    </tr>\n",
       "    <tr>\n",
       "      <th>2</th>\n",
       "      <td>3</td>\n",
       "      <td>609</td>\n",
       "      <td>536</td>\n",
       "      <td>good</td>\n",
       "    </tr>\n",
       "    <tr>\n",
       "      <th>3</th>\n",
       "      <td>4</td>\n",
       "      <td>616</td>\n",
       "      <td>492</td>\n",
       "      <td>good</td>\n",
       "    </tr>\n",
       "    <tr>\n",
       "      <th>4</th>\n",
       "      <td>5</td>\n",
       "      <td>632</td>\n",
       "      <td>465</td>\n",
       "      <td>good</td>\n",
       "    </tr>\n",
       "  </tbody>\n",
       "</table>\n",
       "</div>"
      ],
      "text/plain": [
       "   ID  RPM  VIBRATION STATUS\n",
       "0   1  568        585   good\n",
       "1   2  586        565   good\n",
       "2   3  609        536   good\n",
       "3   4  616        492   good\n",
       "4   5  632        465   good"
      ]
     },
     "execution_count": 2,
     "metadata": {},
     "output_type": "execute_result"
    }
   ],
   "source": [
    "df = pd.read_csv(\"./data/generator.csv\")\n",
    "df.head()"
   ]
  },
  {
   "cell_type": "code",
   "execution_count": 3,
   "metadata": {},
   "outputs": [
    {
     "data": {
      "image/png": "[encoded data removed]",
      "text/plain": [
       "<matplotlib.figure.Figure at 0x107cdb080>"
      ]
     },
     "metadata": {},
     "output_type": "display_data"
    }
   ],
   "source": [
    "fig, ax = plt.subplots()\n",
    "\n",
    "color = [\"blue\", \"red\"]\n",
    "status = [\"good\", \"faulty\"]\n",
    "for i in range(2):\n",
    "    x = df[df[\"STATUS\"] == status[i]][\"RPM\"]\n",
    "    y = df[df[\"STATUS\"] == status[i]][\"VIBRATION\"]\n",
    "    ax.scatter(x, y, c=color[i], s=50, label=status[i],\n",
    "                   alpha=0.3, edgecolors='none')\n",
    "\n",
    "\n",
    "x_line =  df[\"RPM\"]\n",
    "y_line =  830 - 0.667 * df[\"RPM\"]\n",
    "ax.plot(x_line, y_line, linestyle=\"-\", color=\"green\", linewidth=1, label=\"line\")\n",
    "\n",
    "\n",
    "ax.legend()\n",
    "plt.show()"
   ]
  },
  {
   "cell_type": "code",
   "execution_count": 8,
   "metadata": {},
   "outputs": [
    {
     "data": {
      "text/plain": [
       "(array([[568, 585],\n",
       "        [586, 565],\n",
       "        [609, 536]]), array([1, 1, 1]))"
      ]
     },
     "execution_count": 8,
     "metadata": {},
     "output_type": "execute_result"
    }
   ],
   "source": [
    "x_data = df.iloc[:, 1:3].as_matrix()\n",
    "\n",
    "from sklearn import preprocessing\n",
    "le = preprocessing.LabelEncoder()\n",
    "y_label = df.iloc[:, 3].as_matrix()\n",
    "le.fit(np.unique(y_label))\n",
    "y_data = le.transform(y_label)\n",
    "\n",
    "x_data[:3], y_data[:3]"
   ]
  },
  {
   "cell_type": "code",
   "execution_count": 9,
   "metadata": {},
   "outputs": [
    {
     "data": {
      "text/plain": [
       "LinearRegression(copy_X=True, fit_intercept=True, n_jobs=1, normalize=False)"
      ]
     },
     "execution_count": 9,
     "metadata": {},
     "output_type": "execute_result"
    }
   ],
   "source": [
    "from sklearn import linear_model\n",
    "\n",
    "regr = linear_model.LinearRegression()\n",
    "regr.fit(x_data, y_data)"
   ]
  },
  {
   "cell_type": "code",
   "execution_count": 10,
   "metadata": {},
   "outputs": [
    {
     "data": {
      "text/plain": [
       "array([  1.05856314e+00,   1.02370973e+00,   9.66120163e-01,\n",
       "         8.15281697e-01,   7.49348117e-01,   1.03361935e+00,\n",
       "         9.19162092e-01,   8.35784996e-01,   6.60707802e-01,\n",
       "         6.44796277e-01,   6.26614080e-01,   7.88822723e-01,\n",
       "         1.09355523e+00,   1.05263689e+00,   7.09256697e-01,\n",
       "         7.61574640e-01,   1.21639013e+00,   9.41243609e-01,\n",
       "         1.05646897e+00,   1.16639329e+00,   9.51115412e-01,\n",
       "         1.13685352e+00,   1.12018650e+00,   9.20094079e-01,\n",
       "         8.37485080e-01,   9.80760238e-01,   1.03990281e+00,\n",
       "         9.22427788e-01,  -1.14240215e-03,   1.75487796e-01,\n",
       "         2.51301583e-01,   2.65731543e-01,  -5.11098276e-02,\n",
       "        -6.32186858e-02,   1.90719471e-01,  -6.54767525e-02,\n",
       "         2.55926977e-01,  -1.16245894e-01,   3.18095711e-01,\n",
       "         1.43005910e-01,  -7.68091088e-02,   2.02908173e-01,\n",
       "         4.18186047e-01,  -3.09492679e-01,   3.78035795e-01,\n",
       "         3.03754000e-01,  -1.57109613e-01,  -1.70750464e-01,\n",
       "        -1.35112143e-01,  -9.26369286e-03,   4.15348645e-02,\n",
       "         1.18872240e-01,  -8.57657338e-02,   1.67412730e-01,\n",
       "        -7.89242969e-02,   6.05734081e-02])"
      ]
     },
     "execution_count": 10,
     "metadata": {},
     "output_type": "execute_result"
    }
   ],
   "source": [
    "regr.predict(x_data)"
   ]
  },
  {
   "cell_type": "code",
   "execution_count": 11,
   "metadata": {},
   "outputs": [
    {
     "data": {
      "image/png": "[encoded data removed]",
      "text/plain": [
       "<matplotlib.figure.Figure at 0x1a162f7908>"
      ]
     },
     "metadata": {},
     "output_type": "display_data"
    }
   ],
   "source": [
    "fig, ax = plt.subplots()\n",
    "\n",
    "color = [\"blue\", \"red\"]\n",
    "status = [\"good\", \"faulty\"]\n",
    "for i in range(2):\n",
    "    x = df[df[\"STATUS\"] == status[i]][\"RPM\"]\n",
    "    y = df[df[\"STATUS\"] == status[i]][\"VIBRATION\"]\n",
    "    ax.scatter(x, y, c=color[i], s=50, label=status[i],\n",
    "                   alpha=0.3, edgecolors='none')\n",
    "\n",
    "\n",
    "x_line = x_data[:, 0]\n",
    "y_line = -1 * (regr.intercept_ + regr.coef_[0] *  x_data[:,0]) / regr.coef_[1]\n",
    "ax.plot(x_line, y_line, color=\"green\", linewidth=1, label=\"line\")\n",
    "\n",
    "\n",
    "ax.legend()\n",
    "\n",
    "plt.show()"
   ]
  }
 ],
 "metadata": {
  "kernelspec": {
   "display_name": "Python 3",
   "language": "python",
   "name": "python3"
  },
  "language_info": {
   "codemirror_mode": {
    "name": "ipython",
    "version": 3
   },
   "file_extension": ".py",
   "mimetype": "text/x-python",
   "name": "python",
   "nbconvert_exporter": "python",
   "pygments_lexer": "ipython3",
   "version": "3.6.3"
  }
 },
 "nbformat": 4,
 "nbformat_minor": 2
}
