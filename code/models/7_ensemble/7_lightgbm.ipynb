{
 "cells": [
  {
   "cell_type": "code",
   "execution_count": 28,
   "metadata": {
    "collapsed": true
   },
   "outputs": [],
   "source": [
    "import numpy as np\n",
    "import xgboost as xgb"
   ]
  },
  {
   "cell_type": "code",
   "execution_count": 29,
   "metadata": {
    "collapsed": true
   },
   "outputs": [],
   "source": [
    "X = np.load(\"./tatanic_X_train.npy\")\n",
    "y = np.load(\"./tatanic_y_train.npy\")"
   ]
  },
  {
   "cell_type": "code",
   "execution_count": 39,
   "metadata": {},
   "outputs": [],
   "source": [
    "from sklearn.cross_validation import train_test_split"
   ]
  },
  {
   "cell_type": "code",
   "execution_count": 40,
   "metadata": {
    "collapsed": true
   },
   "outputs": [],
   "source": [
    "X_train, X_test, y_train, y_test = train_test_split(X, y, test_size=0.3)"
   ]
  },
  {
   "cell_type": "code",
   "execution_count": 97,
   "metadata": {},
   "outputs": [
    {
     "data": {
      "text/plain": [
       "XGBClassifier(base_score=0.5, colsample_bylevel=1, colsample_bytree=1,\n",
       "       gamma=0, learning_rate=0.5, max_delta_step=0, max_depth=2,\n",
       "       min_child_weight=1, missing=None, n_estimators=1000, nthread=7,\n",
       "       objective='binary:logistic', reg_alpha=0, reg_lambda=1,\n",
       "       scale_pos_weight=1, seed=0, silent=True, subsample=1)"
      ]
     },
     "execution_count": 97,
     "metadata": {},
     "output_type": "execute_result"
    }
   ],
   "source": [
    "from xgboost import XGBClassifier\n",
    "\n",
    "model = XGBClassifier(n_estimators=1000, max_depth=2, learning_rate=0.5, nthread=7)\n",
    "model.fit(X_train, y_train)"
   ]
  },
  {
   "cell_type": "code",
   "execution_count": 98,
   "metadata": {},
   "outputs": [
    {
     "data": {
      "text/plain": [
       "XGBClassifier(base_score=0.5, colsample_bylevel=1, colsample_bytree=1,\n",
       "       gamma=0, learning_rate=0.5, max_delta_step=0, max_depth=2,\n",
       "       min_child_weight=1, missing=None, n_estimators=1000, nthread=7,\n",
       "       objective='binary:logistic', reg_alpha=0, reg_lambda=1,\n",
       "       scale_pos_weight=1, seed=0, silent=True, subsample=1)"
      ]
     },
     "execution_count": 98,
     "metadata": {},
     "output_type": "execute_result"
    }
   ],
   "source": [
    "model.fit(X_train, y_train)"
   ]
  },
  {
   "cell_type": "code",
   "execution_count": 99,
   "metadata": {
    "collapsed": true
   },
   "outputs": [],
   "source": [
    "y_pred = model.predict(X_test)\n",
    "predictions = [round(value) for value in y_pred]"
   ]
  },
  {
   "cell_type": "code",
   "execution_count": 100,
   "metadata": {},
   "outputs": [
    {
     "data": {
      "text/plain": [
       "0.8202247191011236"
      ]
     },
     "execution_count": 100,
     "metadata": {},
     "output_type": "execute_result"
    }
   ],
   "source": [
    "sum(y_test == predictions) / (len(y_test)*1.0)"
   ]
  },
  {
   "cell_type": "code",
   "execution_count": null,
   "metadata": {
    "collapsed": true
   },
   "outputs": [],
   "source": []
  },
  {
   "cell_type": "code",
   "execution_count": 101,
   "metadata": {
    "collapsed": true
   },
   "outputs": [],
   "source": [
    "dtrain = xgb.DMatrix(X_train, label=y_train)\n",
    "dtest = xgb.DMatrix(X_test, label=y_test)"
   ]
  },
  {
   "cell_type": "code",
   "execution_count": 102,
   "metadata": {
    "collapsed": true
   },
   "outputs": [],
   "source": [
    "param = {'max_depth': 2, 'eta': 0.5, 'silent': 1, 'objective': 'binary:logistic'}\n",
    "param['nthread'] = 7\n",
    "param['eval_metric'] = 'auc'\n",
    "evallist = [(dtest, 'eval'), (dtrain, 'train')]\n",
    "plst = param.items()"
   ]
  },
  {
   "cell_type": "code",
   "execution_count": 103,
   "metadata": {},
   "outputs": [
    {
     "name": "stdout",
     "output_type": "stream",
     "text": [
      "[0]\teval-auc:0.842798\ttrain-auc:0.844516\n",
      "[1]\teval-auc:0.839712\ttrain-auc:0.853104\n",
      "[2]\teval-auc:0.854879\ttrain-auc:0.864253\n",
      "[3]\teval-auc:0.855379\ttrain-auc:0.878295\n",
      "[4]\teval-auc:0.860641\ttrain-auc:0.88559\n",
      "[5]\teval-auc:0.865991\ttrain-auc:0.890907\n",
      "[6]\teval-auc:0.862757\ttrain-auc:0.891269\n",
      "[7]\teval-auc:0.863757\ttrain-auc:0.89398\n",
      "[8]\teval-auc:0.865961\ttrain-auc:0.894607\n",
      "[9]\teval-auc:0.865138\ttrain-auc:0.897097\n",
      "[10]\teval-auc:0.866314\ttrain-auc:0.897762\n",
      "[11]\teval-auc:0.868195\ttrain-auc:0.90149\n",
      "[12]\teval-auc:0.868107\ttrain-auc:0.905393\n",
      "[13]\teval-auc:0.868048\ttrain-auc:0.906471\n",
      "[14]\teval-auc:0.86652\ttrain-auc:0.906938\n",
      "[15]\teval-auc:0.870517\ttrain-auc:0.911985\n",
      "[16]\teval-auc:0.8694\ttrain-auc:0.914547\n",
      "[17]\teval-auc:0.868283\ttrain-auc:0.915169\n",
      "[18]\teval-auc:0.866843\ttrain-auc:0.916488\n",
      "[19]\teval-auc:0.866138\ttrain-auc:0.919677\n",
      "[20]\teval-auc:0.869929\ttrain-auc:0.92253\n",
      "[21]\teval-auc:0.866578\ttrain-auc:0.925658\n",
      "[22]\teval-auc:0.867989\ttrain-auc:0.926467\n",
      "[23]\teval-auc:0.871046\ttrain-auc:0.926478\n",
      "[24]\teval-auc:0.869753\ttrain-auc:0.92805\n",
      "[25]\teval-auc:0.869577\ttrain-auc:0.928341\n",
      "[26]\teval-auc:0.870459\ttrain-auc:0.928803\n",
      "[27]\teval-auc:0.870753\ttrain-auc:0.929793\n",
      "[28]\teval-auc:0.869577\ttrain-auc:0.930727\n",
      "[29]\teval-auc:0.870811\ttrain-auc:0.93297\n",
      "[30]\teval-auc:0.872634\ttrain-auc:0.935016\n",
      "[31]\teval-auc:0.873104\ttrain-auc:0.935521\n",
      "[32]\teval-auc:0.87281\ttrain-auc:0.936429\n",
      "[33]\teval-auc:0.874045\ttrain-auc:0.936231\n",
      "[34]\teval-auc:0.874397\ttrain-auc:0.936011\n",
      "[35]\teval-auc:0.875338\ttrain-auc:0.937132\n",
      "[36]\teval-auc:0.871135\ttrain-auc:0.938144\n",
      "[37]\teval-auc:0.869724\ttrain-auc:0.938446\n",
      "[38]\teval-auc:0.868401\ttrain-auc:0.93893\n",
      "[39]\teval-auc:0.868225\ttrain-auc:0.939381\n",
      "[40]\teval-auc:0.868372\ttrain-auc:0.941646\n",
      "[41]\teval-auc:0.868254\ttrain-auc:0.941756\n",
      "[42]\teval-auc:0.870606\ttrain-auc:0.94285\n",
      "[43]\teval-auc:0.869312\ttrain-auc:0.943026\n",
      "[44]\teval-auc:0.868783\ttrain-auc:0.943939\n",
      "[45]\teval-auc:0.865726\ttrain-auc:0.946022\n",
      "[46]\teval-auc:0.865021\ttrain-auc:0.946704\n",
      "[47]\teval-auc:0.865785\ttrain-auc:0.947056\n",
      "[48]\teval-auc:0.868842\ttrain-auc:0.947501\n",
      "[49]\teval-auc:0.867725\ttrain-auc:0.947699\n"
     ]
    }
   ],
   "source": [
    "num_round = 50\n",
    "bst = xgb.train(plst, dtrain, num_round, evallist)"
   ]
  },
  {
   "cell_type": "code",
   "execution_count": 77,
   "metadata": {
    "collapsed": true
   },
   "outputs": [],
   "source": [
    "bst.save_model('0001.model')\n"
   ]
  },
  {
   "cell_type": "code",
   "execution_count": 104,
   "metadata": {
    "collapsed": true
   },
   "outputs": [],
   "source": [
    "# bst = xgb.Booster({'nthread': 4})  # init model\n",
    "# bst.load_model('0001.model')  # load data\n"
   ]
  },
  {
   "cell_type": "code",
   "execution_count": 105,
   "metadata": {},
   "outputs": [],
   "source": [
    "ypred = bst.predict(dtest, ntree_limit=bst.best_ntree_limit)\n"
   ]
  },
  {
   "cell_type": "code",
   "execution_count": 106,
   "metadata": {},
   "outputs": [
    {
     "data": {
      "text/plain": [
       "0.8539325842696629"
      ]
     },
     "execution_count": 106,
     "metadata": {},
     "output_type": "execute_result"
    }
   ],
   "source": [
    "(sum((ypred>0.5) == y_test)) / 267.0"
   ]
  },
  {
   "cell_type": "code",
   "execution_count": null,
   "metadata": {
    "collapsed": true
   },
   "outputs": [],
   "source": [
    "bst = xgb.Booster({'nthread': 4})  # init model\n",
    "bst.load_model('model.bin')  # load data\n"
   ]
  },
  {
   "cell_type": "code",
   "execution_count": null,
   "metadata": {},
   "outputs": [],
   "source": [
    "xgb.to_graphviz(bst, num_trees=2)\n"
   ]
  },
  {
   "cell_type": "code",
   "execution_count": null,
   "metadata": {
    "collapsed": true
   },
   "outputs": [],
   "source": []
  }
 ],
 "metadata": {
  "kernelspec": {
   "display_name": "Python 3",
   "language": "python",
   "name": "python3"
  },
  "language_info": {
   "codemirror_mode": {
    "name": "ipython",
    "version": 3
   },
   "file_extension": ".py",
   "mimetype": "text/x-python",
   "name": "python",
   "nbconvert_exporter": "python",
   "pygments_lexer": "ipython3",
   "version": "3.6.9"
  }
 },
 "nbformat": 4,
 "nbformat_minor": 2
}
