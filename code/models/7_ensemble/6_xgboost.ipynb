{
 "cells": [
  {
   "cell_type": "code",
   "execution_count": 2,
   "metadata": {},
   "outputs": [],
   "source": [
    "import numpy as np\n",
    "import xgboost as xgb"
   ]
  },
  {
   "cell_type": "code",
   "execution_count": 3,
   "metadata": {},
   "outputs": [],
   "source": [
    "X = np.load(\"./tatanic_X_train.npy\")\n",
    "y = np.load(\"./tatanic_y_train.npy\")"
   ]
  },
  {
   "cell_type": "code",
   "execution_count": 4,
   "metadata": {},
   "outputs": [],
   "source": [
    "from sklearn.model_selection import train_test_split"
   ]
  },
  {
   "cell_type": "code",
   "execution_count": 6,
   "metadata": {},
   "outputs": [],
   "source": [
    "X_train, X_test, y_train, y_test = train_test_split(X, y, test_size =0.3)"
   ]
  },
  {
   "cell_type": "code",
   "execution_count": 7,
   "metadata": {},
   "outputs": [],
   "source": [
    "dtrain = xgb.DMatrix(X_train, label=y_train)\n",
    "dtest = xgb.DMatrix(X_test, label=y_test)"
   ]
  },
  {
   "cell_type": "code",
   "execution_count": 8,
   "metadata": {},
   "outputs": [],
   "source": [
    "param = {'max_depth': 2, 'eta': 0.5, 'silent': 1, 'objective': 'binary:logistic'}\n",
    "param['nthread'] = 7\n",
    "param['eval_metric'] = 'auc'\n",
    "evallist = [(dtest, 'eval'), (dtrain, 'train')]\n",
    "plst = param.items()"
   ]
  },
  {
   "cell_type": "code",
   "execution_count": 9,
   "metadata": {},
   "outputs": [
    {
     "name": "stdout",
     "output_type": "stream",
     "text": [
      "[0]\teval-auc:0.834836\ttrain-auc:0.8325\n",
      "[1]\teval-auc:0.866041\ttrain-auc:0.860985\n",
      "[2]\teval-auc:0.8701\ttrain-auc:0.861873\n",
      "[3]\teval-auc:0.856512\ttrain-auc:0.871936\n",
      "[4]\teval-auc:0.853265\ttrain-auc:0.88226\n",
      "[5]\teval-auc:0.858616\ttrain-auc:0.885386\n",
      "[6]\teval-auc:0.857684\ttrain-auc:0.890826\n",
      "[7]\teval-auc:0.859428\ttrain-auc:0.894273\n",
      "[8]\teval-auc:0.861201\ttrain-auc:0.896881\n",
      "[9]\teval-auc:0.860901\ttrain-auc:0.900203\n",
      "[10]\teval-auc:0.861803\ttrain-auc:0.901455\n",
      "[11]\teval-auc:0.865019\ttrain-auc:0.902283\n",
      "[12]\teval-auc:0.863636\ttrain-auc:0.906448\n",
      "[13]\teval-auc:0.863847\ttrain-auc:0.910592\n",
      "[14]\teval-auc:0.864117\ttrain-auc:0.91246\n",
      "[15]\teval-auc:0.868897\ttrain-auc:0.914453\n",
      "[16]\teval-auc:0.865981\ttrain-auc:0.914518\n",
      "[17]\teval-auc:0.863426\ttrain-auc:0.916207\n",
      "[18]\teval-auc:0.864298\ttrain-auc:0.917187\n",
      "[19]\teval-auc:0.866162\ttrain-auc:0.919632\n",
      "[20]\teval-auc:0.865019\ttrain-auc:0.919479\n",
      "[21]\teval-auc:0.864899\ttrain-auc:0.920525\n",
      "[22]\teval-auc:0.864959\ttrain-auc:0.921276\n",
      "[23]\teval-auc:0.864478\ttrain-auc:0.922485\n",
      "[24]\teval-auc:0.866432\ttrain-auc:0.925219\n",
      "[25]\teval-auc:0.863907\ttrain-auc:0.926308\n",
      "[26]\teval-auc:0.863486\ttrain-auc:0.926901\n",
      "[27]\teval-auc:0.863426\ttrain-auc:0.927478\n",
      "[28]\teval-auc:0.859999\ttrain-auc:0.930332\n",
      "[29]\teval-auc:0.861141\ttrain-auc:0.930021\n",
      "[30]\teval-auc:0.861352\ttrain-auc:0.930675\n",
      "[31]\teval-auc:0.861772\ttrain-auc:0.932025\n",
      "[32]\teval-auc:0.862253\ttrain-auc:0.932014\n",
      "[33]\teval-auc:0.864268\ttrain-auc:0.932172\n",
      "[34]\teval-auc:0.864147\ttrain-auc:0.932848\n",
      "[35]\teval-auc:0.864147\ttrain-auc:0.934514\n",
      "[36]\teval-auc:0.862554\ttrain-auc:0.93526\n",
      "[37]\teval-auc:0.860149\ttrain-auc:0.93624\n",
      "[38]\teval-auc:0.859548\ttrain-auc:0.937656\n",
      "[39]\teval-auc:0.857654\ttrain-auc:0.94003\n",
      "[40]\teval-auc:0.857053\ttrain-auc:0.940389\n",
      "[41]\teval-auc:0.857955\ttrain-auc:0.94125\n",
      "[42]\teval-auc:0.857714\ttrain-auc:0.941729\n",
      "[43]\teval-auc:0.856993\ttrain-auc:0.942481\n",
      "[44]\teval-auc:0.856271\ttrain-auc:0.942818\n",
      "[45]\teval-auc:0.854828\ttrain-auc:0.943537\n",
      "[46]\teval-auc:0.854828\ttrain-auc:0.944506\n",
      "[47]\teval-auc:0.855129\ttrain-auc:0.945258\n",
      "[48]\teval-auc:0.855189\ttrain-auc:0.945181\n",
      "[49]\teval-auc:0.856692\ttrain-auc:0.946657\n"
     ]
    }
   ],
   "source": [
    "num_round = 50\n",
    "bst = xgb.train(plst, dtrain, num_round, evallist)"
   ]
  },
  {
   "cell_type": "code",
   "execution_count": 10,
   "metadata": {},
   "outputs": [],
   "source": [
    "ypred = bst.predict(dtest, ntree_limit=bst.best_ntree_limit)"
   ]
  },
  {
   "cell_type": "code",
   "execution_count": 11,
   "metadata": {},
   "outputs": [
    {
     "data": {
      "text/plain": [
       "0.8352059925093633"
      ]
     },
     "execution_count": 11,
     "metadata": {},
     "output_type": "execute_result"
    }
   ],
   "source": [
    "(sum((ypred>0.5) == y_test)) / 267.0"
   ]
  },
  {
   "cell_type": "code",
   "execution_count": null,
   "metadata": {},
   "outputs": [],
   "source": []
  }
 ],
 "metadata": {
  "kernelspec": {
   "display_name": "Python 3",
   "language": "python",
   "name": "python3"
  },
  "language_info": {
   "codemirror_mode": {
    "name": "ipython",
    "version": 3
   },
   "file_extension": ".py",
   "mimetype": "text/x-python",
   "name": "python",
   "nbconvert_exporter": "python",
   "pygments_lexer": "ipython3",
   "version": "3.6.9"
  }
 },
 "nbformat": 4,
 "nbformat_minor": 2
}
