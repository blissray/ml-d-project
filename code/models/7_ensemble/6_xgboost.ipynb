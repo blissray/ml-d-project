{
 "cells": [
  {
   "cell_type": "code",
   "execution_count": 1,
   "metadata": {},
   "outputs": [],
   "source": [
    "import numpy as np\n",
    "import xgboost as xgb"
   ]
  },
  {
   "cell_type": "code",
   "execution_count": 2,
   "metadata": {},
   "outputs": [],
   "source": [
    "X = np.load(\"./tatanic_X_train.npy\")\n",
    "y = np.load(\"./tatanic_y_train.npy\")"
   ]
  },
  {
   "cell_type": "code",
   "execution_count": 4,
   "metadata": {},
   "outputs": [],
   "source": [
    "from sklearn.model_selection import train_test_split"
   ]
  },
  {
   "cell_type": "code",
   "execution_count": 5,
   "metadata": {},
   "outputs": [],
   "source": [
    "X_train, X_test, y_train, y_test = train_test_split(X, y, test_size =0.3)"
   ]
  },
  {
   "cell_type": "code",
   "execution_count": 6,
   "metadata": {},
   "outputs": [],
   "source": [
    "dtrain = xgb.DMatrix(X_train, label=y_train)\n",
    "dtest = xgb.DMatrix(X_test, label=y_test)"
   ]
  },
  {
   "cell_type": "code",
   "execution_count": 7,
   "metadata": {},
   "outputs": [],
   "source": [
    "param = {'max_depth': 2, 'eta': 0.5, 'silent': 1, 'objective': 'binary:logistic'}\n",
    "param['nthread'] = 7\n",
    "param['eval_metric'] = 'auc'\n",
    "evallist = [(dtest, 'eval'), (dtrain, 'train')]\n",
    "plst = param.items()"
   ]
  },
  {
   "cell_type": "code",
   "execution_count": 8,
   "metadata": {},
   "outputs": [
    {
     "name": "stdout",
     "output_type": "stream",
     "text": [
      "[0]\teval-auc:0.803821\ttrain-auc:0.845934\n",
      "[1]\teval-auc:0.840417\ttrain-auc:0.871967\n",
      "[2]\teval-auc:0.846002\ttrain-auc:0.870906\n",
      "[3]\teval-auc:0.846884\ttrain-auc:0.878954\n",
      "[4]\teval-auc:0.853086\ttrain-auc:0.887718\n",
      "[5]\teval-auc:0.852822\ttrain-auc:0.890137\n",
      "[6]\teval-auc:0.850999\ttrain-auc:0.895514\n",
      "[7]\teval-auc:0.857525\ttrain-auc:0.898823\n",
      "[8]\teval-auc:0.857496\ttrain-auc:0.89967\n",
      "[9]\teval-auc:0.858289\ttrain-auc:0.901891\n",
      "[10]\teval-auc:0.851558\ttrain-auc:0.907961\n",
      "[11]\teval-auc:0.853351\ttrain-auc:0.909099\n",
      "[12]\teval-auc:0.853851\ttrain-auc:0.910133\n",
      "[13]\teval-auc:0.853439\ttrain-auc:0.912552\n",
      "[14]\teval-auc:0.853557\ttrain-auc:0.912991\n",
      "[15]\teval-auc:0.853792\ttrain-auc:0.913712\n",
      "[16]\teval-auc:0.854615\ttrain-auc:0.915218\n",
      "[17]\teval-auc:0.859641\ttrain-auc:0.91717\n",
      "[18]\teval-auc:0.860112\ttrain-auc:0.918676\n",
      "[19]\teval-auc:0.851146\ttrain-auc:0.922024\n",
      "[20]\teval-auc:0.850911\ttrain-auc:0.924966\n",
      "[21]\teval-auc:0.849735\ttrain-auc:0.925515\n",
      "[22]\teval-auc:0.851705\ttrain-auc:0.92557\n",
      "[23]\teval-auc:0.851676\ttrain-auc:0.926291\n",
      "[24]\teval-auc:0.851734\ttrain-auc:0.928264\n",
      "[25]\teval-auc:0.853439\ttrain-auc:0.928116\n",
      "[26]\teval-auc:0.853792\ttrain-auc:0.928171\n",
      "[27]\teval-auc:0.850676\ttrain-auc:0.931865\n",
      "[28]\teval-auc:0.852087\ttrain-auc:0.932613\n",
      "[29]\teval-auc:0.850382\ttrain-auc:0.93346\n",
      "[30]\teval-auc:0.848266\ttrain-auc:0.934158\n",
      "[31]\teval-auc:0.850911\ttrain-auc:0.934471\n",
      "[32]\teval-auc:0.847795\ttrain-auc:0.935208\n",
      "[33]\teval-auc:0.847501\ttrain-auc:0.936\n",
      "[34]\teval-auc:0.847619\ttrain-auc:0.936033\n",
      "[35]\teval-auc:0.848971\ttrain-auc:0.937083\n",
      "[36]\teval-auc:0.849559\ttrain-auc:0.936962\n",
      "[37]\teval-auc:0.848442\ttrain-auc:0.937468\n",
      "[38]\teval-auc:0.848383\ttrain-auc:0.93805\n",
      "[39]\teval-auc:0.847325\ttrain-auc:0.938826\n",
      "[40]\teval-auc:0.847149\ttrain-auc:0.939661\n",
      "[41]\teval-auc:0.847149\ttrain-auc:0.940156\n",
      "[42]\teval-auc:0.846855\ttrain-auc:0.940145\n",
      "[43]\teval-auc:0.846796\ttrain-auc:0.940442\n",
      "[44]\teval-auc:0.846767\ttrain-auc:0.941311\n",
      "[45]\teval-auc:0.84659\ttrain-auc:0.940937\n",
      "[46]\teval-auc:0.846355\ttrain-auc:0.941355\n",
      "[47]\teval-auc:0.846473\ttrain-auc:0.941377\n",
      "[48]\teval-auc:0.849471\ttrain-auc:0.942135\n",
      "[49]\teval-auc:0.84953\ttrain-auc:0.94241\n"
     ]
    }
   ],
   "source": [
    "num_round = 50\n",
    "bst = xgb.train(plst, dtrain, num_round, evallist)"
   ]
  },
  {
   "cell_type": "code",
   "execution_count": 9,
   "metadata": {},
   "outputs": [],
   "source": [
    "ypred = bst.predict(dtest, ntree_limit=bst.best_ntree_limit)"
   ]
  },
  {
   "cell_type": "code",
   "execution_count": 10,
   "metadata": {},
   "outputs": [
    {
     "data": {
      "text/plain": [
       "0.8164794007490637"
      ]
     },
     "execution_count": 10,
     "metadata": {},
     "output_type": "execute_result"
    }
   ],
   "source": [
    "(sum((ypred>0.5) == y_test)) / 267.0"
   ]
  },
  {
   "cell_type": "code",
   "execution_count": null,
   "metadata": {},
   "outputs": [],
   "source": []
  }
 ],
 "metadata": {
  "kernelspec": {
   "display_name": "Python 3",
   "language": "python",
   "name": "python3"
  },
  "language_info": {
   "codemirror_mode": {
    "name": "ipython",
    "version": 3
   },
   "file_extension": ".py",
   "mimetype": "text/x-python",
   "name": "python",
   "nbconvert_exporter": "python",
   "pygments_lexer": "ipython3",
   "version": "3.6.9"
  }
 },
 "nbformat": 4,
 "nbformat_minor": 2
}
