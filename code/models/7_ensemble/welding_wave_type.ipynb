{
 "cells": [
  {
   "cell_type": "code",
   "execution_count": 1,
   "metadata": {},
   "outputs": [],
   "source": [
    "import pandas as pd\n",
    "import os\n",
    "import matplotlib.pyplot as plt\n",
    "import numpy as np\n",
    "import warnings\n",
    "warnings.simplefilter(action='ignore', category=FutureWarning)\n",
    "import seaborn as sns\n",
    "sns.set(style=\"white\") #white background style for seaborn plots\n",
    "sns.set(style=\"whitegrid\", color_codes=True)"
   ]
  },
  {
   "cell_type": "markdown",
   "metadata": {},
   "source": [
    "### Data finding"
   ]
  },
  {
   "cell_type": "code",
   "execution_count": 2,
   "metadata": {},
   "outputs": [],
   "source": [
    "DATA_DIR = \"data/welding_wave\"\n",
    "filenames = os.listdir(DATA_DIR)\n",
    "df_list = []\n",
    "type_list = []\n",
    "for filename in filenames:\n",
    "    hz = filename.split(\"_\")[0]\n",
    "    gap_id = filename.split(\"_\")[1]\n",
    "    gap_type = gap_id[:4]\n",
    "    welding_order = gap_id.split(\"mm\")[-1].split(\".\")[0]\n",
    "    \n",
    "    type_list.append([hz, gap_type])\n",
    "    df_list.append(\n",
    "        pd.read_csv(os.path.join(DATA_DIR, filename), delimiter=\"\\t\", header=None,\n",
    "                   names =[\"time_order\", \"ampere\", \"volt\"] ))"
   ]
  },
  {
   "cell_type": "code",
   "execution_count": 3,
   "metadata": {},
   "outputs": [],
   "source": [
    "modifed_df_list = []\n",
    "for df, (hz, gap_type)in zip(df_list, type_list):\n",
    "    df[\"hz\"] = hz\n",
    "    df[\"gap_type\"] = gap_type\n",
    "    df[\"gap_type\"] = gap_type\n",
    "    modifed_df_list.append(df)\n",
    "all_df = pd.concat(modifed_df_list).reset_index(drop=True)"
   ]
  },
  {
   "cell_type": "code",
   "execution_count": 4,
   "metadata": {},
   "outputs": [],
   "source": [
    "from sklearn.model_selection import train_test_split\n",
    "from sklearn import preprocessing\n",
    "\n",
    "X_df = all_df.copy()\n",
    "X_df\n",
    "X_df[\"hz\"] = X_df.hz.replace({\"2000Hz\" : 0, \"4000Hz\" : 1})\n",
    "X_df = X_df[['ampere', 'volt', 'hz']]\n",
    "\n",
    "le = preprocessing.LabelEncoder()\n",
    "le.fit(all_df.gap_type.unique())\n",
    "y_df = all_df.gap_type\n",
    "\n",
    "\n",
    "X = X_df.values\n",
    "y = le.transform(all_df.gap_type.values) \n",
    "X_dev, X_test, y_dev, y_test = train_test_split(X, y)"
   ]
  },
  {
   "cell_type": "code",
   "execution_count": 15,
   "metadata": {},
   "outputs": [],
   "source": [
    "from sklearn.model_selection import KFold\n",
    "from sklearn.preprocessing import PolynomialFeatures\n",
    "from sklearn.metrics import accuracy_score\n",
    "\n",
    "\n",
    "def get_welding_wave_classification_result(clf,  X_dev, y_dev, n_polynomial=1, kfold_split=3):\n",
    "    kf = KFold(n_splits=kfold_split, shuffle=True)\n",
    "    result_val = []\n",
    "    result_train = []\n",
    "\n",
    "    for train_idx, val_idx in kf.split(X_dev):\n",
    "        X_train = X_dev[train_idx, :]\n",
    "        X_val = X_dev[val_idx, :]\n",
    "        y_train = y_dev[train_idx]\n",
    "        y_val = y_dev[val_idx]\n",
    "\n",
    "        poly = PolynomialFeatures(n_polynomial)\n",
    "\n",
    "        X_train = poly.fit_transform(X_train)\n",
    "        clf.fit(X_train, y_train) \n",
    "\n",
    "        X_val = poly.fit_transform(X_val)\n",
    "        y_pred = clf.predict(X_val)\n",
    "        y_true =  y_val\n",
    "        result_val.append(accuracy_score(y_pred, y_true))\n",
    "\n",
    "        y_pred = clf.predict(X_train)\n",
    "        y_true = y_train\n",
    "        result_train.append(accuracy_score(y_pred, y_true))\n",
    "    return np.mean(result_train), np.mean(result_val)"
   ]
  },
  {
   "cell_type": "code",
   "execution_count": 16,
   "metadata": {},
   "outputs": [],
   "source": [
    "from xgboost.sklearn import XGBClassifier\n",
    "estimator = XGBClassifier()"
   ]
  },
  {
   "cell_type": "code",
   "execution_count": 17,
   "metadata": {},
   "outputs": [
    {
     "data": {
      "text/plain": [
       "(0.4726641748010145, 0.4715952378505543)"
      ]
     },
     "execution_count": 17,
     "metadata": {},
     "output_type": "execute_result"
    }
   ],
   "source": [
    "get_welding_wave_classification_result(\n",
    "    estimator, X_dev, y_dev\n",
    ")"
   ]
  },
  {
   "cell_type": "markdown",
   "metadata": {},
   "source": [
    "### Add time-series analysis"
   ]
  },
  {
   "cell_type": "code",
   "execution_count": 18,
   "metadata": {},
   "outputs": [],
   "source": [
    "X_df = all_df.copy()\n",
    "\n",
    "shift_big_list = []\n",
    "rolling_big_list = []\n",
    "# window_size = 11\n",
    "window_size = 11\n",
    "\n",
    "for hz in [\"2000Hz\", \"4000Hz\"]:\n",
    "    for gap_type in [\"Gap0\", \"Gap2\", \"Gap4\"]:\n",
    "        target_df = X_df[(X_df[\"hz\"] == hz) & (X_df[\"gap_type\"] == gap_type)][['ampere', 'volt']]\n",
    "        shift_small_list = []\n",
    "        rolling_small_list = []\n",
    "        for i in range(1, window_size):\n",
    "            names = target_df.columns\n",
    "            df = target_df.shift(i)\n",
    "            df.columns = [name + \"_shift_\" + str(i) for name in names]\n",
    "            shift_small_list.append(df)\n",
    "\n",
    "            af = target_df.rolling(i).mean()\n",
    "            af.columns = [name + \"_rolling_\" + str(i) for name in names]\n",
    "            rolling_small_list.append(af)\n",
    "\n",
    "        shift_big_list.append(pd.concat(shift_small_list, axis=1))\n",
    "        rolling_big_list.append(pd.concat(rolling_small_list, axis=1))\n",
    "        \n",
    "\n",
    "X_df = pd.merge(X_df, pd.concat(shift_big_list).dropna(), how=\"inner\" , left_index=True, right_index=True)\n",
    "X_df = pd.merge(X_df, pd.concat(rolling_big_list).dropna(), how=\"inner\" , left_index=True, right_index=True)\n",
    "\n",
    "\n",
    "X_df[\"hz\"] = X_df.hz.replace({\"2000Hz\" : 0, \"4000Hz\" : 1})\n",
    "X_df[\"log_am\"] = np.log(X_df['ampere'] + 100)\n",
    "X_df[\"log_volt\"] = np.log(X_df['volt'] + 100)\n",
    "\n",
    "\n",
    "\n",
    "le = preprocessing.LabelEncoder()\n",
    "le.fit(X_df.gap_type.unique())\n",
    "y = le.transform(X_df.pop(\"gap_type\").values) \n",
    "X = X_df.values\n",
    "\n",
    "X_dev, X_test, y_dev, y_test = train_test_split(X, y)"
   ]
  },
  {
   "cell_type": "code",
   "execution_count": 19,
   "metadata": {},
   "outputs": [
    {
     "data": {
      "text/plain": [
       "(0.5677327130146684, 0.566729972712078)"
      ]
     },
     "execution_count": 19,
     "metadata": {},
     "output_type": "execute_result"
    }
   ],
   "source": [
    "estimator = XGBClassifier()\n",
    "get_welding_wave_classification_result(\n",
    "    estimator, X_dev, y_dev\n",
    ")"
   ]
  },
  {
   "cell_type": "code",
   "execution_count": 20,
   "metadata": {},
   "outputs": [
    {
     "data": {
      "text/plain": [
       "(0.9897279126149755, 0.5916463105935817)"
      ]
     },
     "execution_count": 20,
     "metadata": {},
     "output_type": "execute_result"
    }
   ],
   "source": [
    "from sklearn.ensemble import RandomForestClassifier \n",
    "\n",
    "get_welding_wave_classification_result(\n",
    "    RandomForestClassifier(n_jobs = 6), X_dev, y_dev, n_polynomial=1\n",
    ")"
   ]
  },
  {
   "cell_type": "code",
   "execution_count": null,
   "metadata": {},
   "outputs": [],
   "source": [
    "from sklearn.neural_network import MLPClassifier\n",
    "\n",
    "get_welding_wave_classification_result(\n",
    "    MLPClassifier((64,32,16)), X_dev, y_dev, n_polynomial=1\n",
    ")"
   ]
  },
  {
   "cell_type": "code",
   "execution_count": null,
   "metadata": {},
   "outputs": [],
   "source": [
    "from xgboost import XGBClassifier\n",
    "from lightgbm.sklearn import LGBMClassifier\n",
    "from sklearn.ensemble import RandomForestClassifier\n",
    "from sklearn.svm import LinearSVC\n",
    "from sklearn.neural_network import MLPClassifier\n",
    "from stacking import MyStackingClassifier"
   ]
  },
  {
   "cell_type": "code",
   "execution_count": null,
   "metadata": {},
   "outputs": [],
   "source": [
    "estimator1 = XGBClassifier(max_depth=3, learning_rate=0.2, n_estimators=50)\n",
    "estimator2 = LGBMClassifier(max_depth=3, learning_rate=0.2, n_estimators=50)\n",
    "estimator3 = RandomForestClassifier(n_estimators=500, max_depth=3)\n",
    "estimator4 = LinearSVC()\n",
    "estimator5 = MLPClassifier(hidden_layer_sizes=(512,256, 32))\n",
    "\n",
    "base_estimators = [estimator1, estimator2, estimator3, estimator4, estimator5]"
   ]
  },
  {
   "cell_type": "code",
   "execution_count": null,
   "metadata": {},
   "outputs": [],
   "source": [
    "for estimator in base_estimators:\n",
    "    stack_classifier = MyStackingClassifier(copy.copy(estimator), base_estimators)\n",
    "    result = cross_val_score(stack_classifier, X, y, scoring=\"accuracy\" , cv=5).mean()\n",
    "    print(result)"
   ]
  }
 ],
 "metadata": {
  "kernelspec": {
   "display_name": "Python 3",
   "language": "python",
   "name": "python3"
  },
  "language_info": {
   "codemirror_mode": {
    "name": "ipython",
    "version": 3
   },
   "file_extension": ".py",
   "mimetype": "text/x-python",
   "name": "python",
   "nbconvert_exporter": "python",
   "pygments_lexer": "ipython3",
   "version": "3.6.9"
  }
 },
 "nbformat": 4,
 "nbformat_minor": 2
}
