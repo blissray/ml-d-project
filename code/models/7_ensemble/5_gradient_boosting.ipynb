{
 "cells": [
  {
   "cell_type": "code",
   "execution_count": 130,
   "metadata": {},
   "outputs": [],
   "source": [
    "import hourse_price_preprocessor"
   ]
  },
  {
   "cell_type": "code",
   "execution_count": 131,
   "metadata": {},
   "outputs": [],
   "source": [
    "train_dataset_dir = \"./house_price/train.csv\"\n",
    "test_dataset_dir = \"./house_price/test.csv\""
   ]
  },
  {
   "cell_type": "code",
   "execution_count": 132,
   "metadata": {},
   "outputs": [
    {
     "name": "stderr",
     "output_type": "stream",
     "text": [
      "/Users/sungchulchoi/workspace/machine_learning_from_scratch_with_python/code/ch13/hourse_price_preprocessor.py:19: SettingWithCopyWarning: \n",
      "A value is trying to be set on a copy of a slice from a DataFrame\n",
      "\n",
      "See the caveats in the documentation: http://pandas.pydata.org/pandas-docs/stable/indexing.html#indexing-view-versus-copy\n",
      "  df_concat_numeric.drop(['MoSold'],axis=1,inplace=True)\n",
      "/Users/sungchulchoi/miniconda3/envs/dl/lib/python3.6/site-packages/pandas/core/indexing.py:194: SettingWithCopyWarning: \n",
      "A value is trying to be set on a copy of a slice from a DataFrame\n",
      "\n",
      "See the caveats in the documentation: http://pandas.pydata.org/pandas-docs/stable/indexing.html#indexing-view-versus-copy\n",
      "  self._setitem_with_indexer(indexer, value)\n",
      "/Users/sungchulchoi/workspace/machine_learning_from_scratch_with_python/code/ch13/hourse_price_preprocessor.py:25: SettingWithCopyWarning: \n",
      "A value is trying to be set on a copy of a slice from a DataFrame\n",
      "\n",
      "See the caveats in the documentation: http://pandas.pydata.org/pandas-docs/stable/indexing.html#indexing-view-versus-copy\n",
      "  df_concat_numeric.GarageYrBlt.loc[2592] = df_concat_numeric.GarageYrBlt.loc[2592]-200\n",
      "/Users/sungchulchoi/miniconda3/envs/dl/lib/python3.6/site-packages/pandas/core/generic.py:4355: SettingWithCopyWarning: \n",
      "A value is trying to be set on a copy of a slice from a DataFrame\n",
      "\n",
      "See the caveats in the documentation: http://pandas.pydata.org/pandas-docs/stable/indexing.html#indexing-view-versus-copy\n",
      "  self._update_inplace(new_data)\n",
      "/Users/sungchulchoi/workspace/machine_learning_from_scratch_with_python/code/ch13/hourse_price_preprocessor.py:35: SettingWithCopyWarning: \n",
      "A value is trying to be set on a copy of a slice from a DataFrame.\n",
      "Try using .loc[row_indexer,col_indexer] = value instead\n",
      "\n",
      "See the caveats in the documentation: http://pandas.pydata.org/pandas-docs/stable/indexing.html#indexing-view-versus-copy\n",
      "  df_concat_numeric['Remodleling'] = df_concat_numeric['YearBuilt']!=df_concat_numeric['YearRemodAdd']\n",
      "/Users/sungchulchoi/miniconda3/envs/dl/lib/python3.6/site-packages/sklearn/utils/validation.py:475: DataConversionWarning: Data with input dtype object was converted to float64 by MinMaxScaler.\n",
      "  warnings.warn(msg, DataConversionWarning)\n",
      "/Users/sungchulchoi/workspace/machine_learning_from_scratch_with_python/code/ch13/hourse_price_preprocessor.py:54: FutureWarning: reshape is deprecated and will raise in a subsequent release. Please use .values.reshape(...) instead\n",
      "  Y_scaled_data = target_value.reshape(-1,)\n"
     ]
    }
   ],
   "source": [
    "train_X, test_X, train_y, test_id_idx = hourse_price_preprocessor.get_train_test_split_dataset(train_dataset_dir, test_dataset_dir)"
   ]
  },
  {
   "cell_type": "code",
   "execution_count": 133,
   "metadata": {},
   "outputs": [
    {
     "data": {
      "text/plain": [
       "((1460, 67), (1459, 67), (1460,), (1459,))"
      ]
     },
     "execution_count": 133,
     "metadata": {},
     "output_type": "execute_result"
    }
   ],
   "source": [
    "train_X.shape, test_X.shape, train_y.shape, test_y.shape"
   ]
  },
  {
   "cell_type": "code",
   "execution_count": 134,
   "metadata": {},
   "outputs": [],
   "source": [
    "from sklearn.ensemble import GradientBoostingRegressor\n",
    "from sklearn.linear_model import LinearRegression\n",
    "\n",
    "from sklearn.cross_validation import cross_val_score\n",
    "\n",
    "import numpy as np"
   ]
  },
  {
   "cell_type": "code",
   "execution_count": 141,
   "metadata": {},
   "outputs": [],
   "source": [
    "gbr = GradientBoostingRegressor(n_estimators=2000, subsample=0.5, max_depth=2, learning_rate=0.55)\n",
    "lr = LinearRegression()"
   ]
  },
  {
   "cell_type": "code",
   "execution_count": 142,
   "metadata": {},
   "outputs": [
    {
     "data": {
      "text/plain": [
       "-1678923164.7247899"
      ]
     },
     "execution_count": 142,
     "metadata": {},
     "output_type": "execute_result"
    }
   ],
   "source": [
    "np.mean(cross_val_score(gbr, train_X, train_y, scoring=\"neg_mean_squared_error\" , cv=5))"
   ]
  },
  {
   "cell_type": "code",
   "execution_count": 140,
   "metadata": {},
   "outputs": [
    {
     "data": {
      "text/plain": [
       "-3.849880576538399e+33"
      ]
     },
     "execution_count": 140,
     "metadata": {},
     "output_type": "execute_result"
    }
   ],
   "source": [
    "np.mean(cross_val_score(lr, train_X, train_y, scoring=\"neg_mean_squared_error\" , cv=5))"
   ]
  },
  {
   "cell_type": "code",
   "execution_count": 40,
   "metadata": {},
   "outputs": [],
   "source": [
    "def rmse(predictions, targets):\n",
    "    return np.sqrt(((predictions - targets) ** 2).mean())"
   ]
  },
  {
   "cell_type": "code",
   "execution_count": 42,
   "metadata": {},
   "outputs": [],
   "source": [
    "from sklearn.cross_validation import train_test_split"
   ]
  },
  {
   "cell_type": "code",
   "execution_count": 143,
   "metadata": {},
   "outputs": [
    {
     "data": {
      "text/plain": [
       "LinearRegression(copy_X=True, fit_intercept=True, n_jobs=1, normalize=False)"
      ]
     },
     "execution_count": 143,
     "metadata": {},
     "output_type": "execute_result"
    }
   ],
   "source": [
    "gbr = GradientBoostingRegressor(\n",
    "        max_depth=2, n_estimators=5000, subsample=0.5,learning_rate=0.05)\n",
    "X_train, X_val, y_train, y_val = train_test_split(train_X, train_y, test_size=0.3)\n",
    "gbr.fit(X_train, y_train)\n",
    "errors_val = [rmse(y_val, y_pred) for y_pred in gbr.staged_predict(X_val)]\n",
    "errors_train = [rmse(y_train, y_pred) for y_pred in gbr.staged_predict(X_train)]\n",
    "x_axis = list(range(len(errors_val)))\n",
    "\n",
    "lr = LinearRegression()\n",
    "lr.fit(X_train, y_train)"
   ]
  },
  {
   "cell_type": "code",
   "execution_count": 144,
   "metadata": {},
   "outputs": [
    {
     "data": {
      "image/png": "[encoded data removed]",
      "text/plain": [
       "<Figure size 432x288 with 1 Axes>"
      ]
     },
     "metadata": {},
     "output_type": "display_data"
    },
    {
     "name": "stdout",
     "output_type": "stream",
     "text": [
      "1707 28409.556524156513\n",
      "29548.174263650682\n"
     ]
    }
   ],
   "source": [
    "import matplotlib.pyplot as plt\n",
    "import numpy as np\n",
    "\n",
    "\n",
    "ax = plt.subplot(111)\n",
    "plt.plot(x_axis, errors_val, label=\"validation_score\")\n",
    "plt.plot(x_axis, errors_train, label=\"train_score\")\n",
    "\n",
    "leg = plt.legend(loc='best', ncol=2, mode=\"expand\", shadow=True, fancybox=True)\n",
    "leg.get_frame().set_alpha(0.5)\n",
    "\n",
    "\n",
    "plt.show()\n",
    "bst_n_estimators = np.argmin(errors_val)\n",
    "print(bst_n_estimators, errors_val[bst_n_estimators])\n",
    "print(rmse(y_val, lr.predict(X_val)))"
   ]
  },
  {
   "cell_type": "code",
   "execution_count": 146,
   "metadata": {},
   "outputs": [
    {
     "data": {
      "text/plain": [
       "GradientBoostingRegressor(alpha=0.9, criterion='friedman_mse', init=None,\n",
       "             learning_rate=0.05, loss='ls', max_depth=2, max_features=None,\n",
       "             max_leaf_nodes=None, min_impurity_decrease=0.0,\n",
       "             min_impurity_split=None, min_samples_leaf=1,\n",
       "             min_samples_split=2, min_weight_fraction_leaf=0.0,\n",
       "             n_estimators=1707, presort='auto', random_state=None,\n",
       "             subsample=0.5, verbose=0, warm_start=False)"
      ]
     },
     "execution_count": 146,
     "metadata": {},
     "output_type": "execute_result"
    }
   ],
   "source": [
    "gbr_best = GradientBoostingRegressor(max_depth=2, subsample=0.5,learning_rate=0.05, n_estimators=bst_n_estimators)\n",
    "gbr_best.fit(train_X, train_y)"
   ]
  },
  {
   "cell_type": "code",
   "execution_count": 148,
   "metadata": {},
   "outputs": [],
   "source": [
    "id_value=test_y\n",
    "sales_price = gbr_best.predict(test_X)"
   ]
  },
  {
   "cell_type": "code",
   "execution_count": 149,
   "metadata": {},
   "outputs": [
    {
     "data": {
      "text/plain": [
       "array([[  1461.        , 130784.94456719],\n",
       "       [  1462.        , 153131.01364038],\n",
       "       [  1463.        , 197193.49896971],\n",
       "       ...,\n",
       "       [  2917.        , 195558.61678587],\n",
       "       [  2918.        , 119031.22501123],\n",
       "       [  2919.        , 228042.99234944]])"
      ]
     },
     "execution_count": 149,
     "metadata": {},
     "output_type": "execute_result"
    }
   ],
   "source": [
    "result = np.vstack([id_value, sales_price]).T\n",
    "\n",
    "result"
   ]
  },
  {
   "cell_type": "code",
   "execution_count": null,
   "metadata": {},
   "outputs": [],
   "source": [
    "from pandas import DataFrame\n",
    "\n",
    "DataFrame(result, dtype=int, columns=[\"Id\", \"SalePrice\"]).set_index(\"Id\").to_csv(\"house_price_result.csv\")\n",
    "# DataFrame(result, columns=[\"Id\", \"SalePrice\"]).set_index(\"Id\").to_csv(\"house_price_result.csv\")"
   ]
  },
  {
   "cell_type": "code",
   "execution_count": 159,
   "metadata": {},
   "outputs": [],
   "source": [
    "submission_df =DataFrame(result, columns=[\"Id\", \"SalePrice\"]).set_index(\"Id\")\n",
    "submission_df.index = submission_df.index.astype(int)\n",
    "submission_df.to_csv(\"house_price_result.csv\")"
   ]
  },
  {
   "cell_type": "code",
   "execution_count": 160,
   "metadata": {},
   "outputs": [
    {
     "name": "stdout",
     "output_type": "stream",
     "text": [
      "Warning: Looks like you're using an outdated API Version, please consider updating (server 1.3.4 / client 1.1.0)\n",
      "Successfully submitted to House Prices: Advanced Regression Techniques"
     ]
    }
   ],
   "source": [
    "!kaggle competitions submit -c house-prices-advanced-regression-techniques -f house_price_result.csv -m \"My submission\""
   ]
  },
  {
   "cell_type": "code",
   "execution_count": 122,
   "metadata": {},
   "outputs": [
    {
     "name": "stdout",
     "output_type": "stream",
     "text": [
      "Fitting 5 folds for each of 648 candidates, totalling 3240 fits\n"
     ]
    },
    {
     "name": "stderr",
     "output_type": "stream",
     "text": [
      "[Parallel(n_jobs=7)]: Done  36 tasks      | elapsed:    8.8s\n",
      "[Parallel(n_jobs=7)]: Done 186 tasks      | elapsed:   44.6s\n",
      "[Parallel(n_jobs=7)]: Done 436 tasks      | elapsed:  1.4min\n",
      "[Parallel(n_jobs=7)]: Done 786 tasks      | elapsed:  3.4min\n",
      "[Parallel(n_jobs=7)]: Done 1236 tasks      | elapsed:  6.1min\n",
      "[Parallel(n_jobs=7)]: Done 1786 tasks      | elapsed:  9.1min\n",
      "[Parallel(n_jobs=7)]: Done 2436 tasks      | elapsed: 12.0min\n",
      "[Parallel(n_jobs=7)]: Done 3186 tasks      | elapsed: 16.4min\n",
      "[Parallel(n_jobs=7)]: Done 3240 out of 3240 | elapsed: 16.6min finished\n"
     ]
    },
    {
     "name": "stdout",
     "output_type": "stream",
     "text": [
      "GradientBoostingRegressor(alpha=0.9, criterion='friedman_mse', init=None,\n",
      "             learning_rate=0.05, loss='ls', max_depth=6, max_features=0.3,\n",
      "             max_leaf_nodes=None, min_impurity_decrease=0.0,\n",
      "             min_impurity_split=None, min_samples_leaf=5,\n",
      "             min_samples_split=2, min_weight_fraction_leaf=0.0,\n",
      "             n_estimators=1370, presort='auto', random_state=None,\n",
      "             subsample=0.55, verbose=0, warm_start=True)\n"
     ]
    }
   ],
   "source": [
    "from sklearn.cross_validation import ShuffleSplit\n",
    "from sklearn.grid_search import GridSearchCV \n",
    "\n",
    "param_grid={'n_estimators':[1000,1200,1300,1350,1360,1370,1380,1390,1400], \n",
    "                'learning_rate': [0.1, 0.05], #0.02, 0.01], \n",
    "                'subsample' : [0.4,0.5,0.55],#,0.6,0.7,0.8],\n",
    "                'max_depth':[2, 4, 6],#,8], \n",
    "                'min_samples_leaf':[3, 5],#,9,15], \n",
    "                'max_features':[1.0, 0.3]#, 0.1] \n",
    "           } \n",
    "n_jobs=7 \n",
    "\n",
    "estimator = GradientBoostingRegressor(warm_start=True)\n",
    "cv = ShuffleSplit(X_train.shape[0], n_iter=5, test_size=0.2)\n",
    "classifier = GridSearchCV(estimator=estimator, cv=cv, param_grid=param_grid, n_jobs=n_jobs, verbose=1)\n",
    "\n",
    "classifier.fit(train_X, train_y)\n",
    "print (classifier.best_estimator_)  "
   ]
  },
  {
   "cell_type": "code",
   "execution_count": 126,
   "metadata": {},
   "outputs": [
    {
     "name": "stdout",
     "output_type": "stream",
     "text": [
      "1203.8283406673797\n"
     ]
    }
   ],
   "source": [
    "print(rmse(y_val, classifier.best_estimator_.predict(X_val)))"
   ]
  },
  {
   "cell_type": "code",
   "execution_count": 165,
   "metadata": {},
   "outputs": [
    {
     "data": {
      "text/plain": [
       "GradientBoostingRegressor(alpha=0.9, criterion='friedman_mse', init=None,\n",
       "             learning_rate=0.05, loss='ls', max_depth=6, max_features=0.3,\n",
       "             max_leaf_nodes=None, min_impurity_decrease=0.0,\n",
       "             min_impurity_split=None, min_samples_leaf=5,\n",
       "             min_samples_split=2, min_weight_fraction_leaf=0.0,\n",
       "             n_estimators=1370, presort='auto', random_state=None,\n",
       "             subsample=0.55, verbose=0, warm_start=True)"
      ]
     },
     "execution_count": 165,
     "metadata": {},
     "output_type": "execute_result"
    }
   ],
   "source": [
    "final_estimator = classifier.best_estimator_\n",
    "final_estimator.fit(train_X, train_y)"
   ]
  },
  {
   "cell_type": "code",
   "execution_count": 169,
   "metadata": {},
   "outputs": [],
   "source": [
    "id_value=test_y\n",
    "sales_price = final_estimator.predict(test_X)\n",
    "result = np.vstack([id_value, sales_price]).T\n",
    "submission_df =DataFrame(result, columns=[\"Id\", \"SalePrice\"]).set_index(\"Id\")\n",
    "submission_df.index = submission_df.index.astype(int)\n",
    "submission_df.to_csv(\"house_price_result_grid_search.csv\")\n"
   ]
  },
  {
   "cell_type": "code",
   "execution_count": 170,
   "metadata": {},
   "outputs": [
    {
     "name": "stdout",
     "output_type": "stream",
     "text": [
      "Warning: Looks like you're using an outdated API Version, please consider updating (server 1.3.4 / client 1.1.0)\n",
      "Successfully submitted to House Prices: Advanced Regression Techniques"
     ]
    }
   ],
   "source": [
    "!kaggle competitions submit -c house-prices-advanced-regression-techniques -f house_price_result_grid_search.csv -m \"Message\""
   ]
  },
  {
   "cell_type": "code",
   "execution_count": null,
   "metadata": {},
   "outputs": [],
   "source": []
  }
 ],
 "metadata": {
  "kernelspec": {
   "display_name": "Python 3",
   "language": "python",
   "name": "python3"
  },
  "language_info": {
   "codemirror_mode": {
    "name": "ipython",
    "version": 3
   },
   "file_extension": ".py",
   "mimetype": "text/x-python",
   "name": "python",
   "nbconvert_exporter": "python",
   "pygments_lexer": "ipython3",
   "version": "3.6.5"
  }
 },
 "nbformat": 4,
 "nbformat_minor": 2
}
