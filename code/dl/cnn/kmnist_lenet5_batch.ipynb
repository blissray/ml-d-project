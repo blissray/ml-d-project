{
 "cells": [
  {
   "cell_type": "code",
   "execution_count": 1,
   "metadata": {},
   "outputs": [],
   "source": [
    "import os\n",
    "import matplotlib.pyplot as plt\n",
    "import collections\n",
    "\n",
    "\n",
    "import numpy as np\n",
    "import pandas as pd"
   ]
  },
  {
   "cell_type": "code",
   "execution_count": 2,
   "metadata": {},
   "outputs": [
    {
     "data": {
      "text/plain": [
       "['kmnist/k49-test-imgs.npz',\n",
       " 'kmnist/k49-test-labels.npz',\n",
       " 'kmnist/k49-train-imgs.npz',\n",
       " 'kmnist/k49-train-labels.npz']"
      ]
     },
     "execution_count": 2,
     "metadata": {},
     "output_type": "execute_result"
    }
   ],
   "source": [
    "KMNIST_DIR = \"kmnist\"\n",
    "\n",
    "kmnist_files = sorted([os.path.join(KMNIST_DIR, filename) for filename in os.listdir(KMNIST_DIR) if filename.endswith(\"npz\")])\n",
    "kmnist_files"
   ]
  },
  {
   "cell_type": "code",
   "execution_count": 3,
   "metadata": {},
   "outputs": [],
   "source": [
    "def load(f):\n",
    "    return np.load(f)['arr_0']\n",
    "\n",
    "# Load the data\n",
    "x_test = load(kmnist_files[0])\n",
    "y_test = load(kmnist_files[1])\n",
    "x_train = load(kmnist_files[2])\n",
    "y_train = load(kmnist_files[3])\n"
   ]
  },
  {
   "cell_type": "code",
   "execution_count": 4,
   "metadata": {},
   "outputs": [
    {
     "data": {
      "text/plain": [
       "((232365, 28, 28), (38547, 28, 28), (232365,), (38547,))"
      ]
     },
     "execution_count": 4,
     "metadata": {},
     "output_type": "execute_result"
    }
   ],
   "source": [
    "x_train.shape, x_test.shape, y_train.shape, y_test.shape"
   ]
  },
  {
   "cell_type": "code",
   "execution_count": 5,
   "metadata": {},
   "outputs": [
    {
     "data": {
      "text/plain": [
       "array([30, 19, 20, 30,  7], dtype=uint8)"
      ]
     },
     "execution_count": 5,
     "metadata": {},
     "output_type": "execute_result"
    }
   ],
   "source": [
    "y_train[:5]"
   ]
  },
  {
   "cell_type": "code",
   "execution_count": 6,
   "metadata": {},
   "outputs": [
    {
     "data": {
      "text/html": [
       "<div>\n",
       "<style scoped>\n",
       "    .dataframe tbody tr th:only-of-type {\n",
       "        vertical-align: middle;\n",
       "    }\n",
       "\n",
       "    .dataframe tbody tr th {\n",
       "        vertical-align: top;\n",
       "    }\n",
       "\n",
       "    .dataframe thead th {\n",
       "        text-align: right;\n",
       "    }\n",
       "</style>\n",
       "<table border=\"1\" class=\"dataframe\">\n",
       "  <thead>\n",
       "    <tr style=\"text-align: right;\">\n",
       "      <th></th>\n",
       "      <th>index</th>\n",
       "      <th>codepoint</th>\n",
       "      <th>char</th>\n",
       "    </tr>\n",
       "  </thead>\n",
       "  <tbody>\n",
       "    <tr>\n",
       "      <th>0</th>\n",
       "      <td>0</td>\n",
       "      <td>U+3042</td>\n",
       "      <td>あ</td>\n",
       "    </tr>\n",
       "    <tr>\n",
       "      <th>1</th>\n",
       "      <td>1</td>\n",
       "      <td>U+3044</td>\n",
       "      <td>い</td>\n",
       "    </tr>\n",
       "    <tr>\n",
       "      <th>2</th>\n",
       "      <td>2</td>\n",
       "      <td>U+3046</td>\n",
       "      <td>う</td>\n",
       "    </tr>\n",
       "    <tr>\n",
       "      <th>3</th>\n",
       "      <td>3</td>\n",
       "      <td>U+3048</td>\n",
       "      <td>え</td>\n",
       "    </tr>\n",
       "    <tr>\n",
       "      <th>4</th>\n",
       "      <td>4</td>\n",
       "      <td>U+304A</td>\n",
       "      <td>お</td>\n",
       "    </tr>\n",
       "    <tr>\n",
       "      <th>5</th>\n",
       "      <td>5</td>\n",
       "      <td>U+304B</td>\n",
       "      <td>か</td>\n",
       "    </tr>\n",
       "    <tr>\n",
       "      <th>6</th>\n",
       "      <td>6</td>\n",
       "      <td>U+304D</td>\n",
       "      <td>き</td>\n",
       "    </tr>\n",
       "    <tr>\n",
       "      <th>7</th>\n",
       "      <td>7</td>\n",
       "      <td>U+304F</td>\n",
       "      <td>く</td>\n",
       "    </tr>\n",
       "    <tr>\n",
       "      <th>8</th>\n",
       "      <td>8</td>\n",
       "      <td>U+3051</td>\n",
       "      <td>け</td>\n",
       "    </tr>\n",
       "    <tr>\n",
       "      <th>9</th>\n",
       "      <td>9</td>\n",
       "      <td>U+3053</td>\n",
       "      <td>こ</td>\n",
       "    </tr>\n",
       "    <tr>\n",
       "      <th>10</th>\n",
       "      <td>10</td>\n",
       "      <td>U+3055</td>\n",
       "      <td>さ</td>\n",
       "    </tr>\n",
       "    <tr>\n",
       "      <th>11</th>\n",
       "      <td>11</td>\n",
       "      <td>U+3057</td>\n",
       "      <td>し</td>\n",
       "    </tr>\n",
       "    <tr>\n",
       "      <th>12</th>\n",
       "      <td>12</td>\n",
       "      <td>U+3059</td>\n",
       "      <td>す</td>\n",
       "    </tr>\n",
       "    <tr>\n",
       "      <th>13</th>\n",
       "      <td>13</td>\n",
       "      <td>U+305B</td>\n",
       "      <td>せ</td>\n",
       "    </tr>\n",
       "    <tr>\n",
       "      <th>14</th>\n",
       "      <td>14</td>\n",
       "      <td>U+305D</td>\n",
       "      <td>そ</td>\n",
       "    </tr>\n",
       "    <tr>\n",
       "      <th>15</th>\n",
       "      <td>15</td>\n",
       "      <td>U+305F</td>\n",
       "      <td>た</td>\n",
       "    </tr>\n",
       "    <tr>\n",
       "      <th>16</th>\n",
       "      <td>16</td>\n",
       "      <td>U+3061</td>\n",
       "      <td>ち</td>\n",
       "    </tr>\n",
       "    <tr>\n",
       "      <th>17</th>\n",
       "      <td>17</td>\n",
       "      <td>U+3064</td>\n",
       "      <td>つ</td>\n",
       "    </tr>\n",
       "    <tr>\n",
       "      <th>18</th>\n",
       "      <td>18</td>\n",
       "      <td>U+3066</td>\n",
       "      <td>て</td>\n",
       "    </tr>\n",
       "    <tr>\n",
       "      <th>19</th>\n",
       "      <td>19</td>\n",
       "      <td>U+3068</td>\n",
       "      <td>と</td>\n",
       "    </tr>\n",
       "    <tr>\n",
       "      <th>20</th>\n",
       "      <td>20</td>\n",
       "      <td>U+306A</td>\n",
       "      <td>な</td>\n",
       "    </tr>\n",
       "    <tr>\n",
       "      <th>21</th>\n",
       "      <td>21</td>\n",
       "      <td>U+306B</td>\n",
       "      <td>に</td>\n",
       "    </tr>\n",
       "    <tr>\n",
       "      <th>22</th>\n",
       "      <td>22</td>\n",
       "      <td>U+306C</td>\n",
       "      <td>ぬ</td>\n",
       "    </tr>\n",
       "    <tr>\n",
       "      <th>23</th>\n",
       "      <td>23</td>\n",
       "      <td>U+306D</td>\n",
       "      <td>ね</td>\n",
       "    </tr>\n",
       "    <tr>\n",
       "      <th>24</th>\n",
       "      <td>24</td>\n",
       "      <td>U+306E</td>\n",
       "      <td>の</td>\n",
       "    </tr>\n",
       "    <tr>\n",
       "      <th>25</th>\n",
       "      <td>25</td>\n",
       "      <td>U+306F</td>\n",
       "      <td>は</td>\n",
       "    </tr>\n",
       "    <tr>\n",
       "      <th>26</th>\n",
       "      <td>26</td>\n",
       "      <td>U+3072</td>\n",
       "      <td>ひ</td>\n",
       "    </tr>\n",
       "    <tr>\n",
       "      <th>27</th>\n",
       "      <td>27</td>\n",
       "      <td>U+3075</td>\n",
       "      <td>ふ</td>\n",
       "    </tr>\n",
       "    <tr>\n",
       "      <th>28</th>\n",
       "      <td>28</td>\n",
       "      <td>U+3078</td>\n",
       "      <td>へ</td>\n",
       "    </tr>\n",
       "    <tr>\n",
       "      <th>29</th>\n",
       "      <td>29</td>\n",
       "      <td>U+307B</td>\n",
       "      <td>ほ</td>\n",
       "    </tr>\n",
       "    <tr>\n",
       "      <th>30</th>\n",
       "      <td>30</td>\n",
       "      <td>U+307E</td>\n",
       "      <td>ま</td>\n",
       "    </tr>\n",
       "    <tr>\n",
       "      <th>31</th>\n",
       "      <td>31</td>\n",
       "      <td>U+307F</td>\n",
       "      <td>み</td>\n",
       "    </tr>\n",
       "    <tr>\n",
       "      <th>32</th>\n",
       "      <td>32</td>\n",
       "      <td>U+3080</td>\n",
       "      <td>む</td>\n",
       "    </tr>\n",
       "    <tr>\n",
       "      <th>33</th>\n",
       "      <td>33</td>\n",
       "      <td>U+3081</td>\n",
       "      <td>め</td>\n",
       "    </tr>\n",
       "    <tr>\n",
       "      <th>34</th>\n",
       "      <td>34</td>\n",
       "      <td>U+3082</td>\n",
       "      <td>も</td>\n",
       "    </tr>\n",
       "    <tr>\n",
       "      <th>35</th>\n",
       "      <td>35</td>\n",
       "      <td>U+3084</td>\n",
       "      <td>や</td>\n",
       "    </tr>\n",
       "    <tr>\n",
       "      <th>36</th>\n",
       "      <td>36</td>\n",
       "      <td>U+3086</td>\n",
       "      <td>ゆ</td>\n",
       "    </tr>\n",
       "    <tr>\n",
       "      <th>37</th>\n",
       "      <td>37</td>\n",
       "      <td>U+3088</td>\n",
       "      <td>よ</td>\n",
       "    </tr>\n",
       "    <tr>\n",
       "      <th>38</th>\n",
       "      <td>38</td>\n",
       "      <td>U+3089</td>\n",
       "      <td>ら</td>\n",
       "    </tr>\n",
       "    <tr>\n",
       "      <th>39</th>\n",
       "      <td>39</td>\n",
       "      <td>U+308A</td>\n",
       "      <td>り</td>\n",
       "    </tr>\n",
       "    <tr>\n",
       "      <th>40</th>\n",
       "      <td>40</td>\n",
       "      <td>U+308B</td>\n",
       "      <td>る</td>\n",
       "    </tr>\n",
       "    <tr>\n",
       "      <th>41</th>\n",
       "      <td>41</td>\n",
       "      <td>U+308C</td>\n",
       "      <td>れ</td>\n",
       "    </tr>\n",
       "    <tr>\n",
       "      <th>42</th>\n",
       "      <td>42</td>\n",
       "      <td>U+308D</td>\n",
       "      <td>ろ</td>\n",
       "    </tr>\n",
       "    <tr>\n",
       "      <th>43</th>\n",
       "      <td>43</td>\n",
       "      <td>U+308F</td>\n",
       "      <td>わ</td>\n",
       "    </tr>\n",
       "    <tr>\n",
       "      <th>44</th>\n",
       "      <td>44</td>\n",
       "      <td>U+3090</td>\n",
       "      <td>ゐ</td>\n",
       "    </tr>\n",
       "    <tr>\n",
       "      <th>45</th>\n",
       "      <td>45</td>\n",
       "      <td>U+3091</td>\n",
       "      <td>ゑ</td>\n",
       "    </tr>\n",
       "    <tr>\n",
       "      <th>46</th>\n",
       "      <td>46</td>\n",
       "      <td>U+3092</td>\n",
       "      <td>を</td>\n",
       "    </tr>\n",
       "    <tr>\n",
       "      <th>47</th>\n",
       "      <td>47</td>\n",
       "      <td>U+3093</td>\n",
       "      <td>ん</td>\n",
       "    </tr>\n",
       "    <tr>\n",
       "      <th>48</th>\n",
       "      <td>48</td>\n",
       "      <td>U+309D</td>\n",
       "      <td>ゝ</td>\n",
       "    </tr>\n",
       "  </tbody>\n",
       "</table>\n",
       "</div>"
      ],
      "text/plain": [
       "    index codepoint char\n",
       "0       0    U+3042    あ\n",
       "1       1    U+3044    い\n",
       "2       2    U+3046    う\n",
       "3       3    U+3048    え\n",
       "4       4    U+304A    お\n",
       "5       5    U+304B    か\n",
       "6       6    U+304D    き\n",
       "7       7    U+304F    く\n",
       "8       8    U+3051    け\n",
       "9       9    U+3053    こ\n",
       "10     10    U+3055    さ\n",
       "11     11    U+3057    し\n",
       "12     12    U+3059    す\n",
       "13     13    U+305B    せ\n",
       "14     14    U+305D    そ\n",
       "15     15    U+305F    た\n",
       "16     16    U+3061    ち\n",
       "17     17    U+3064    つ\n",
       "18     18    U+3066    て\n",
       "19     19    U+3068    と\n",
       "20     20    U+306A    な\n",
       "21     21    U+306B    に\n",
       "22     22    U+306C    ぬ\n",
       "23     23    U+306D    ね\n",
       "24     24    U+306E    の\n",
       "25     25    U+306F    は\n",
       "26     26    U+3072    ひ\n",
       "27     27    U+3075    ふ\n",
       "28     28    U+3078    へ\n",
       "29     29    U+307B    ほ\n",
       "30     30    U+307E    ま\n",
       "31     31    U+307F    み\n",
       "32     32    U+3080    む\n",
       "33     33    U+3081    め\n",
       "34     34    U+3082    も\n",
       "35     35    U+3084    や\n",
       "36     36    U+3086    ゆ\n",
       "37     37    U+3088    よ\n",
       "38     38    U+3089    ら\n",
       "39     39    U+308A    り\n",
       "40     40    U+308B    る\n",
       "41     41    U+308C    れ\n",
       "42     42    U+308D    ろ\n",
       "43     43    U+308F    わ\n",
       "44     44    U+3090    ゐ\n",
       "45     45    U+3091    ゑ\n",
       "46     46    U+3092    を\n",
       "47     47    U+3093    ん\n",
       "48     48    U+309D    ゝ"
      ]
     },
     "execution_count": 6,
     "metadata": {},
     "output_type": "execute_result"
    }
   ],
   "source": [
    "kmnist_labelmap_file = sorted([os.path.join(KMNIST_DIR, filename) for filename in os.listdir(KMNIST_DIR) if filename.endswith(\"csv\")])\n",
    "df_map = pd.read_csv(kmnist_labelmap_file[0])\n",
    "df_map"
   ]
  },
  {
   "cell_type": "code",
   "execution_count": 7,
   "metadata": {},
   "outputs": [],
   "source": [
    "labels = df_map[\"char\"].tolist()"
   ]
  },
  {
   "cell_type": "code",
   "execution_count": 8,
   "metadata": {},
   "outputs": [
    {
     "data": {
      "image/png": "[encoded data removed]",
      "text/plain": [
       "<Figure size 432x288 with 2 Axes>"
      ]
     },
     "metadata": {
      "needs_background": "light"
     },
     "output_type": "display_data"
    }
   ],
   "source": [
    "plt.figure()\n",
    "plt.imshow(x_train[12], cmap='Greys')\n",
    "plt.colorbar()\n",
    "# plt.grid(False)\n",
    "plt.show()"
   ]
  },
  {
   "cell_type": "code",
   "execution_count": 9,
   "metadata": {},
   "outputs": [
    {
     "name": "stdout",
     "output_type": "stream",
     "text": [
      "버전:  3.0.2\n",
      "설치 위치:  /home/sc82choi/miniconda3/envs/tf20-alpha/lib/python3.7/site-packages/matplotlib/__init__.py\n",
      "설정 위치:  /home/sc82choi/.config/matplotlib\n",
      "캐시 위치:  /home/sc82choi/.cache/matplotlib\n",
      "설정파일 위치:  /home/sc82choi/miniconda3/envs/tf20-alpha/lib/python3.7/site-packages/matplotlib/mpl-data/matplotlibrc\n",
      "219\n"
     ]
    }
   ],
   "source": [
    "import matplotlib as mpl\n",
    "import matplotlib.font_manager as fm\n",
    "\n",
    "print ('버전: ', mpl.__version__)\n",
    "print ('설치 위치: ', mpl.__file__)\n",
    "print ('설정 위치: ', mpl.get_configdir())\n",
    "print ('캐시 위치: ', mpl.get_cachedir())\n",
    "\n",
    "print ('설정파일 위치: ', mpl.matplotlib_fname())\n",
    "font_list = fm.findSystemFonts(fontpaths=None, fontext='ttf')\n",
    "\n",
    "# ttf 폰트 전체갯수\n",
    "print(len(font_list)) "
   ]
  },
  {
   "cell_type": "code",
   "execution_count": 10,
   "metadata": {},
   "outputs": [],
   "source": [
    "plt.style.use('ggplot')\n",
    "from matplotlib.font_manager import FontProperties\n",
    "from matplotlib import rcParams\n",
    "\n",
    "# フォントパスを指定 .ttf 形式でないと駄目な模様, 関連：https://github.com/matplotlib/matplotlib/pull/3912\n",
    "font_path = '/home/sc82choi/.local/share/fonts/Osaka.ttc'\n",
    "fp = FontProperties(fname=font_path, size=14)\n",
    "\n",
    "# get_name() で 'Osaka' が返ってきています。メソッドの代わりに = 'Osaka' としてもOK\n",
    "rcParams['font.family'] = fp.get_name()"
   ]
  },
  {
   "cell_type": "code",
   "execution_count": 11,
   "metadata": {},
   "outputs": [
    {
     "data": {
      "image/png": "[encoded data removed]",
      "text/plain": [
       "<Figure size 720x720 with 25 Axes>"
      ]
     },
     "metadata": {},
     "output_type": "display_data"
    }
   ],
   "source": [
    "\n",
    "\n",
    "\n",
    "plt.figure(figsize=(10,10))\n",
    "for i in range(25):\n",
    "    plt.subplot(5,5,i+1)\n",
    "    plt.xticks([])\n",
    "    plt.yticks([])\n",
    "    plt.grid(False)\n",
    "    plt.imshow(x_train[i], cmap=plt.cm.binary)\n",
    "    plt.xlabel(labels[y_train[i]],  fontproperties=fp)\n",
    "plt.show()"
   ]
  },
  {
   "cell_type": "code",
   "execution_count": 12,
   "metadata": {},
   "outputs": [],
   "source": [
    "import tensorflow as tf"
   ]
  },
  {
   "cell_type": "code",
   "execution_count": 13,
   "metadata": {},
   "outputs": [],
   "source": [
    "## Hyper parameters\n",
    "batch_size = 2048"
   ]
  },
  {
   "cell_type": "code",
   "execution_count": 14,
   "metadata": {},
   "outputs": [],
   "source": [
    "def prepare_features_and_labels(x, y):\n",
    "    x = tf.cast(x, tf.float64) / 255.0\n",
    "    x = tf.expand_dims(x, 2)\n",
    "    y = tf.cast(y, tf.int8)\n",
    "    return x, y\n",
    "\n",
    "# df image_augmentation(x,y):    \n",
    "#     brght_img = tf.reverse(tf_img, axis =[0]) #Verticle flipping\n",
    "#     brght_img = tf.reverse(tf_img, axis =[1]) \n",
    "#     return\n",
    "\n",
    "def mnist_train_dataset(images_npy, labels_npy, batch_size):\n",
    "    ds = tf.data.Dataset.from_tensor_slices((images_npy, labels_npy))\n",
    "    ds = ds.map(prepare_features_and_labels, num_parallel_calls=4 )\n",
    "    ds = ds.shuffle(10000).repeat().batch(batch_size)\n",
    "    return ds\n",
    "\n",
    "\n",
    "def mnist_test_dataset(images_npy, labels_npy, batch_size=None):\n",
    "    ds = tf.data.Dataset.from_tensor_slices((images_npy, labels_npy))\n",
    "    ds = ds.map(prepare_features_and_labels)\n",
    "    if batch_size is not None:\n",
    "        ds = ds.shuffle(10000).repeat().batch(batch_size)\n",
    "    else:\n",
    "        ds = ds.repeat().batch(len(labels_npy))\n",
    "    return ds"
   ]
  },
  {
   "cell_type": "code",
   "execution_count": 15,
   "metadata": {},
   "outputs": [
    {
     "data": {
      "text/plain": [
       "((197510,), (34855,))"
      ]
     },
     "execution_count": 15,
     "metadata": {},
     "output_type": "execute_result"
    }
   ],
   "source": [
    "from sklearn.model_selection import StratifiedShuffleSplit\n",
    "sss = StratifiedShuffleSplit(n_splits=1, test_size=0.15, random_state=0)\n",
    "train_index, dev_index = next(sss.split(x_train, y_train))\n",
    "\n",
    "train_index.shape, dev_index.shape"
   ]
  },
  {
   "cell_type": "code",
   "execution_count": 16,
   "metadata": {},
   "outputs": [],
   "source": [
    "from tensorflow.keras.utils import to_categorical\n",
    "train_dataset = mnist_train_dataset(x_train[train_index], y_train[train_index], batch_size)\n",
    "val_dataset = mnist_test_dataset(x_train[dev_index], y_train[dev_index])\n",
    "test_dataset = mnist_test_dataset(x_test,y_test)"
   ]
  },
  {
   "cell_type": "code",
   "execution_count": 17,
   "metadata": {},
   "outputs": [
    {
     "name": "stdout",
     "output_type": "stream",
     "text": [
      "Counter({18: 900, 40: 900, 19: 900, 35: 900, 24: 900, 30: 900, 7: 900, 38: 900, 17: 900, 20: 900, 12: 900, 2: 900, 11: 900, 27: 900, 5: 900, 47: 900, 10: 900, 15: 900, 34: 900, 21: 900, 9: 900, 25: 900, 37: 900, 6: 900, 41: 900, 4: 900, 0: 900, 39: 900, 1: 900, 28: 900, 46: 900, 26: 770, 8: 707, 13: 625, 14: 580, 48: 528, 33: 509, 31: 459, 16: 385, 23: 368, 43: 360, 42: 321, 22: 309, 29: 299, 32: 258, 36: 240, 3: 116, 44: 62, 45: 59})\n",
      "Counter({18: 900, 40: 900, 19: 900, 35: 900, 24: 900, 30: 900, 7: 900, 38: 900, 17: 900, 20: 900, 12: 900, 2: 900, 11: 900, 27: 900, 5: 900, 47: 900, 10: 900, 15: 900, 34: 900, 21: 900, 9: 900, 25: 900, 37: 900, 6: 900, 41: 900, 4: 900, 0: 900, 39: 900, 1: 900, 28: 900, 46: 900, 26: 770, 8: 707, 13: 625, 14: 580, 48: 528, 33: 509, 31: 459, 16: 385, 23: 368, 43: 360, 42: 321, 22: 309, 29: 299, 32: 258, 36: 240, 3: 116, 44: 62, 45: 59})\n",
      "Counter({18: 900, 40: 900, 19: 900, 35: 900, 24: 900, 30: 900, 7: 900, 38: 900, 17: 900, 20: 900, 12: 900, 2: 900, 11: 900, 27: 900, 5: 900, 47: 900, 10: 900, 15: 900, 34: 900, 21: 900, 9: 900, 25: 900, 37: 900, 6: 900, 41: 900, 4: 900, 0: 900, 39: 900, 1: 900, 28: 900, 46: 900, 26: 770, 8: 707, 13: 625, 14: 580, 48: 528, 33: 509, 31: 459, 16: 385, 23: 368, 43: 360, 42: 321, 22: 309, 29: 299, 32: 258, 36: 240, 3: 116, 44: 62, 45: 59})\n",
      "Counter({18: 900, 40: 900, 19: 900, 35: 900, 24: 900, 30: 900, 7: 900, 38: 900, 17: 900, 20: 900, 12: 900, 2: 900, 11: 900, 27: 900, 5: 900, 47: 900, 10: 900, 15: 900, 34: 900, 21: 900, 9: 900, 25: 900, 37: 900, 6: 900, 41: 900, 4: 900, 0: 900, 39: 900, 1: 900, 28: 900, 46: 900, 26: 770, 8: 707, 13: 625, 14: 580, 48: 528, 33: 509, 31: 459, 16: 385, 23: 368, 43: 360, 42: 321, 22: 309, 29: 299, 32: 258, 36: 240, 3: 116, 44: 62, 45: 59})\n",
      "Counter({18: 900, 40: 900, 19: 900, 35: 900, 24: 900, 30: 900, 7: 900, 38: 900, 17: 900, 20: 900, 12: 900, 2: 900, 11: 900, 27: 900, 5: 900, 47: 900, 10: 900, 15: 900, 34: 900, 21: 900, 9: 900, 25: 900, 37: 900, 6: 900, 41: 900, 4: 900, 0: 900, 39: 900, 1: 900, 28: 900, 46: 900, 26: 770, 8: 707, 13: 625, 14: 580, 48: 528, 33: 509, 31: 459, 16: 385, 23: 368, 43: 360, 42: 321, 22: 309, 29: 299, 32: 258, 36: 240, 3: 116, 44: 62, 45: 59})\n"
     ]
    }
   ],
   "source": [
    "\n",
    "\n",
    "for row in val_dataset.take(5):\n",
    "    print(collections.Counter(row[1].numpy().tolist()))"
   ]
  },
  {
   "cell_type": "code",
   "execution_count": 18,
   "metadata": {},
   "outputs": [
    {
     "data": {
      "text/plain": [
       "(197510, 34855, 38547)"
      ]
     },
     "execution_count": 18,
     "metadata": {},
     "output_type": "execute_result"
    }
   ],
   "source": [
    "train_size = len(x_train[train_index])\n",
    "# train_size = len(y_resampled)\n",
    "val_size = len(x_train[dev_index])\n",
    "test_size = len(x_test)\n",
    "\n",
    "train_size, val_size, test_size"
   ]
  },
  {
   "cell_type": "code",
   "execution_count": 19,
   "metadata": {},
   "outputs": [],
   "source": [
    "## Hyper parameters\n",
    "learning_rate = 0.01\n",
    "beta_1 = 0.9\n",
    "beta_2 = 0.99\n",
    "epsilon = 0.00001\n",
    "epochs = 500\n",
    "# optimizer = tf.keras.optimizers.SGD(lr=learning_rate, momentum=0.0, decay=0.001, nesterov=False)"
   ]
  },
  {
   "cell_type": "code",
   "execution_count": 20,
   "metadata": {},
   "outputs": [],
   "source": [
    "from tensorflow.keras import models, layers\n",
    "\n",
    "class LeNet(models.Sequential):\n",
    "    def __init__(self, input_shape, nb_classes):\n",
    "        super().__init__()\n",
    "        self.add(layers.Conv2D(6, kernel_size=(5, 5), strides=(1, 1), activation='linear', \n",
    "                               input_shape=input_shape, padding=\"same\"))\n",
    "        self.add(layers.BatchNormalization())\n",
    "        self.add(layers.ReLU())   # add an advanced activation\n",
    "        self.add(layers.Dropout(0.5))\n",
    "        \n",
    "        self.add(layers.AveragePooling2D(pool_size=(2, 2), strides=(1, 1), padding='valid'))\n",
    "        self.add(layers.Conv2D(16, kernel_size=(5, 5), strides=(1, 1), activation='linear', padding='valid'))\n",
    "        self.add(layers.BatchNormalization())\n",
    "        self.add(layers.ReLU())   # add an advanced activation\n",
    "        self.add(layers.Dropout(0.5))\n",
    "\n",
    "        self.add(layers.AveragePooling2D(pool_size=(2, 2), strides=(2, 2), padding='valid'))\n",
    "        self.add(layers.Conv2D(120, kernel_size=(5, 5), strides=(1, 1), activation='linear', padding='valid'))\n",
    "        self.add(layers.BatchNormalization())\n",
    "        self.add(layers.ReLU())   # add an advanced activation\n",
    "        self.add(layers.Dropout(0.5))\n",
    "\n",
    "        self.add(layers.Flatten())\n",
    "        self.add(layers.Dense(84, activation='linear'))        \n",
    "        self.add(layers.BatchNormalization())\n",
    "        self.add(layers.ReLU())   # add an advanced activation\n",
    "        self.add(layers.Dense(nb_classes, activation='softmax'))\n",
    "\n"
   ]
  },
  {
   "cell_type": "code",
   "execution_count": 21,
   "metadata": {},
   "outputs": [],
   "source": [
    "model = LeNet(tf.expand_dims(x_train[0],2).shape, 49)\n",
    "loss_object = tf.keras.losses.SparseCategoricalCrossentropy()\n",
    "optimizer = tf.keras.optimizers.Adam(learning_rate, beta_1, beta_2, epsilon)\n",
    "# optimizer = tf.keras.optimizers.SGD(lr=learning_rate, momentum=0.0, decay=0.001, nesterov=False)"
   ]
  },
  {
   "cell_type": "code",
   "execution_count": 22,
   "metadata": {},
   "outputs": [
    {
     "name": "stdout",
     "output_type": "stream",
     "text": [
      "Model: \"le_net\"\n",
      "_________________________________________________________________\n",
      "Layer (type)                 Output Shape              Param #   \n",
      "=================================================================\n",
      "conv2d (Conv2D)              (None, 28, 28, 6)         156       \n",
      "_________________________________________________________________\n",
      "batch_normalization_v2 (Batc (None, 28, 28, 6)         24        \n",
      "_________________________________________________________________\n",
      "re_lu (ReLU)                 (None, 28, 28, 6)         0         \n",
      "_________________________________________________________________\n",
      "dropout (Dropout)            (None, 28, 28, 6)         0         \n",
      "_________________________________________________________________\n",
      "average_pooling2d (AveragePo (None, 27, 27, 6)         0         \n",
      "_________________________________________________________________\n",
      "conv2d_1 (Conv2D)            (None, 23, 23, 16)        2416      \n",
      "_________________________________________________________________\n",
      "batch_normalization_v2_1 (Ba (None, 23, 23, 16)        64        \n",
      "_________________________________________________________________\n",
      "re_lu_1 (ReLU)               (None, 23, 23, 16)        0         \n",
      "_________________________________________________________________\n",
      "dropout_1 (Dropout)          (None, 23, 23, 16)        0         \n",
      "_________________________________________________________________\n",
      "average_pooling2d_1 (Average (None, 11, 11, 16)        0         \n",
      "_________________________________________________________________\n",
      "conv2d_2 (Conv2D)            (None, 7, 7, 120)         48120     \n",
      "_________________________________________________________________\n",
      "batch_normalization_v2_2 (Ba (None, 7, 7, 120)         480       \n",
      "_________________________________________________________________\n",
      "re_lu_2 (ReLU)               (None, 7, 7, 120)         0         \n",
      "_________________________________________________________________\n",
      "dropout_2 (Dropout)          (None, 7, 7, 120)         0         \n",
      "_________________________________________________________________\n",
      "flatten (Flatten)            (None, 5880)              0         \n",
      "_________________________________________________________________\n",
      "dense (Dense)                (None, 84)                494004    \n",
      "_________________________________________________________________\n",
      "batch_normalization_v2_3 (Ba (None, 84)                336       \n",
      "_________________________________________________________________\n",
      "re_lu_3 (ReLU)               (None, 84)                0         \n",
      "_________________________________________________________________\n",
      "dense_1 (Dense)              (None, 49)                4165      \n",
      "=================================================================\n",
      "Total params: 549,765\n",
      "Trainable params: 549,313\n",
      "Non-trainable params: 452\n",
      "_________________________________________________________________\n"
     ]
    }
   ],
   "source": [
    "model.summary()"
   ]
  },
  {
   "cell_type": "code",
   "execution_count": null,
   "metadata": {},
   "outputs": [],
   "source": [
    "model.compile(optimizer=optimizer,\n",
    "              loss=loss_object,\n",
    "              metrics=['accuracy'])"
   ]
  },
  {
   "cell_type": "code",
   "execution_count": 35,
   "metadata": {},
   "outputs": [],
   "source": [
    "from tensorflow.keras.callbacks import EarlyStopping\n",
    "early_stopping = EarlyStopping(patience=20, restore_best_weights=True, monitor=\"val_accuracy\")"
   ]
  },
  {
   "cell_type": "code",
   "execution_count": 36,
   "metadata": {},
   "outputs": [
    {
     "name": "stdout",
     "output_type": "stream",
     "text": [
      "Epoch 1/500\n",
      "96/96 [==============================] - 17s 174ms/step - loss: 0.0989 - accuracy: 0.9680 - val_loss: 0.1294 - val_accuracy: 0.9675\n",
      "Epoch 2/500\n",
      "96/96 [==============================] - 16s 171ms/step - loss: 0.0967 - accuracy: 0.9690 - val_loss: 0.1291 - val_accuracy: 0.9680\n",
      "Epoch 3/500\n",
      "96/96 [==============================] - 17s 173ms/step - loss: 0.0953 - accuracy: 0.9695 - val_loss: 0.1294 - val_accuracy: 0.9679\n",
      "Epoch 4/500\n",
      "96/96 [==============================] - 16s 171ms/step - loss: 0.0932 - accuracy: 0.9699 - val_loss: 0.1297 - val_accuracy: 0.9691\n",
      "Epoch 5/500\n",
      "96/96 [==============================] - 17s 172ms/step - loss: 0.0948 - accuracy: 0.9695 - val_loss: 0.1249 - val_accuracy: 0.9693\n",
      "Epoch 6/500\n",
      "96/96 [==============================] - 17s 173ms/step - loss: 0.0934 - accuracy: 0.9700 - val_loss: 0.1259 - val_accuracy: 0.9694\n",
      "Epoch 7/500\n",
      "96/96 [==============================] - 16s 171ms/step - loss: 0.0930 - accuracy: 0.9702 - val_loss: 0.1252 - val_accuracy: 0.9694\n",
      "Epoch 8/500\n",
      "96/96 [==============================] - 17s 172ms/step - loss: 0.0905 - accuracy: 0.9707 - val_loss: 0.1253 - val_accuracy: 0.9695\n",
      "Epoch 9/500\n",
      "96/96 [==============================] - 17s 175ms/step - loss: 0.0897 - accuracy: 0.9711 - val_loss: 0.1271 - val_accuracy: 0.9698\n",
      "Epoch 10/500\n",
      "96/96 [==============================] - 17s 172ms/step - loss: 0.0900 - accuracy: 0.9709 - val_loss: 0.1260 - val_accuracy: 0.9693\n",
      "Epoch 11/500\n",
      "96/96 [==============================] - 16s 172ms/step - loss: 0.0893 - accuracy: 0.9707 - val_loss: 0.1313 - val_accuracy: 0.9686\n",
      "Epoch 12/500\n",
      "96/96 [==============================] - 17s 176ms/step - loss: 0.0876 - accuracy: 0.9713 - val_loss: 0.1258 - val_accuracy: 0.9695\n",
      "Epoch 13/500\n",
      "96/96 [==============================] - 17s 172ms/step - loss: 0.0864 - accuracy: 0.9723 - val_loss: 0.1286 - val_accuracy: 0.9691\n",
      "Epoch 14/500\n",
      "96/96 [==============================] - 16s 172ms/step - loss: 0.0857 - accuracy: 0.9721 - val_loss: 0.1257 - val_accuracy: 0.9690\n",
      "Epoch 15/500\n",
      "96/96 [==============================] - 17s 173ms/step - loss: 0.0877 - accuracy: 0.9716 - val_loss: 0.1308 - val_accuracy: 0.9690\n",
      "Epoch 16/500\n",
      "96/96 [==============================] - 17s 172ms/step - loss: 0.0855 - accuracy: 0.9718 - val_loss: 0.1264 - val_accuracy: 0.9701\n",
      "Epoch 17/500\n",
      "96/96 [==============================] - 17s 172ms/step - loss: 0.0836 - accuracy: 0.9729 - val_loss: 0.1262 - val_accuracy: 0.9707\n",
      "Epoch 18/500\n",
      "96/96 [==============================] - 16s 169ms/step - loss: 0.0836 - accuracy: 0.9729 - val_loss: 0.1281 - val_accuracy: 0.9694\n",
      "Epoch 19/500\n",
      "96/96 [==============================] - 17s 173ms/step - loss: 0.0837 - accuracy: 0.9727 - val_loss: 0.1261 - val_accuracy: 0.9709\n",
      "Epoch 20/500\n",
      "96/96 [==============================] - 17s 172ms/step - loss: 0.0827 - accuracy: 0.9727 - val_loss: 0.1242 - val_accuracy: 0.9702\n",
      "Epoch 21/500\n",
      "96/96 [==============================] - 17s 175ms/step - loss: 0.0826 - accuracy: 0.9727 - val_loss: 0.1260 - val_accuracy: 0.9697\n",
      "Epoch 22/500\n",
      "96/96 [==============================] - 17s 173ms/step - loss: 0.0802 - accuracy: 0.9735 - val_loss: 0.1299 - val_accuracy: 0.9695\n",
      "Epoch 23/500\n",
      "96/96 [==============================] - 17s 173ms/step - loss: 0.0802 - accuracy: 0.9734 - val_loss: 0.1257 - val_accuracy: 0.9704\n",
      "Epoch 24/500\n",
      "96/96 [==============================] - 16s 172ms/step - loss: 0.0793 - accuracy: 0.9738 - val_loss: 0.1322 - val_accuracy: 0.9692\n",
      "Epoch 25/500\n",
      "96/96 [==============================] - 17s 172ms/step - loss: 0.0800 - accuracy: 0.9738 - val_loss: 0.1283 - val_accuracy: 0.9708\n",
      "Epoch 26/500\n",
      "96/96 [==============================] - 17s 173ms/step - loss: 0.0800 - accuracy: 0.9740 - val_loss: 0.1276 - val_accuracy: 0.9690\n",
      "Epoch 27/500\n",
      "96/96 [==============================] - 17s 173ms/step - loss: 0.0782 - accuracy: 0.9741 - val_loss: 0.1320 - val_accuracy: 0.9695\n",
      "Epoch 28/500\n",
      "96/96 [==============================] - 17s 174ms/step - loss: 0.0791 - accuracy: 0.9741 - val_loss: 0.1341 - val_accuracy: 0.9690\n",
      "Epoch 29/500\n",
      "96/96 [==============================] - 17s 173ms/step - loss: 0.0778 - accuracy: 0.9746 - val_loss: 0.1342 - val_accuracy: 0.9698\n",
      "Epoch 30/500\n",
      "96/96 [==============================] - 17s 172ms/step - loss: 0.0781 - accuracy: 0.9743 - val_loss: 0.1305 - val_accuracy: 0.9697\n",
      "Epoch 31/500\n",
      "96/96 [==============================] - 16s 171ms/step - loss: 0.0780 - accuracy: 0.9743 - val_loss: 0.1353 - val_accuracy: 0.9684\n",
      "Epoch 32/500\n",
      "96/96 [==============================] - 17s 174ms/step - loss: 0.0771 - accuracy: 0.9745 - val_loss: 0.1328 - val_accuracy: 0.9697\n",
      "Epoch 33/500\n",
      "96/96 [==============================] - 17s 173ms/step - loss: 0.0757 - accuracy: 0.9753 - val_loss: 0.1299 - val_accuracy: 0.9702\n",
      "Epoch 34/500\n",
      "96/96 [==============================] - 17s 172ms/step - loss: 0.0763 - accuracy: 0.9746 - val_loss: 0.1333 - val_accuracy: 0.9688\n",
      "Epoch 35/500\n",
      "96/96 [==============================] - 17s 174ms/step - loss: 0.0745 - accuracy: 0.9751 - val_loss: 0.1318 - val_accuracy: 0.9696\n",
      "Epoch 36/500\n",
      "96/96 [==============================] - 17s 172ms/step - loss: 0.0748 - accuracy: 0.9754 - val_loss: 0.1311 - val_accuracy: 0.9699\n",
      "Epoch 37/500\n",
      "96/96 [==============================] - 17s 172ms/step - loss: 0.0747 - accuracy: 0.9754 - val_loss: 0.1348 - val_accuracy: 0.9690\n",
      "Epoch 38/500\n",
      "96/96 [==============================] - 17s 175ms/step - loss: 0.0731 - accuracy: 0.9757 - val_loss: 0.1354 - val_accuracy: 0.9682\n",
      "Epoch 39/500\n",
      "96/96 [==============================] - 17s 172ms/step - loss: 0.0745 - accuracy: 0.9753 - val_loss: 0.1346 - val_accuracy: 0.9698\n"
     ]
    }
   ],
   "source": [
    "hist = model.fit(train_dataset, epochs=epochs, steps_per_epoch=train_size // batch_size,\n",
    "          validation_data=val_dataset, validation_steps=1,\n",
    "                callbacks=[early_stopping])"
   ]
  },
  {
   "cell_type": "code",
   "execution_count": 32,
   "metadata": {},
   "outputs": [
    {
     "name": "stdout",
     "output_type": "stream",
     "text": [
      "\r",
      "1/1 [==============================] - 1s 949ms/step - loss: 0.2362 - accuracy: 0.9470\n"
     ]
    }
   ],
   "source": [
    "score = model.evaluate(test_dataset, steps=1)"
   ]
  },
  {
   "cell_type": "code",
   "execution_count": 37,
   "metadata": {},
   "outputs": [],
   "source": [
    "predictions = model.predict(x_test.reshape(-1,28,28,1) / 255.)"
   ]
  },
  {
   "cell_type": "code",
   "execution_count": null,
   "metadata": {},
   "outputs": [],
   "source": []
  }
 ],
 "metadata": {
  "kernelspec": {
   "display_name": "Python 3",
   "language": "python",
   "name": "python3"
  },
  "language_info": {
   "codemirror_mode": {
    "name": "ipython",
    "version": 3
   },
   "file_extension": ".py",
   "mimetype": "text/x-python",
   "name": "python",
   "nbconvert_exporter": "python",
   "pygments_lexer": "ipython3",
   "version": "3.7.2"
  }
 },
 "nbformat": 4,
 "nbformat_minor": 2
}
