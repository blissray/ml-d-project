{
 "cells": [
  {
   "cell_type": "code",
   "execution_count": 1,
   "metadata": {},
   "outputs": [],
   "source": [
    "from PIL import Image\n",
    "import numpy as np\n",
    "\n",
    "def load_image( infilename ) :\n",
    "    img = Image.open( infilename )\n",
    "    img.load()\n",
    "    data = np.asarray( img, dtype=\"int32\" )\n",
    "    return data"
   ]
  },
  {
   "cell_type": "code",
   "execution_count": 2,
   "metadata": {},
   "outputs": [
    {
     "data": {
      "text/plain": [
       "array([[[ 74,  95,  56],\n",
       "        [ 74,  95,  56],\n",
       "        [ 75,  96,  57],\n",
       "        ...,\n",
       "        [ 73,  93,  56],\n",
       "        [ 73,  93,  56],\n",
       "        [ 72,  92,  55]],\n",
       "\n",
       "       [[ 74,  95,  56],\n",
       "        [ 74,  95,  56],\n",
       "        [ 75,  96,  57],\n",
       "        ...,\n",
       "        [ 73,  93,  56],\n",
       "        [ 73,  93,  56],\n",
       "        [ 72,  92,  55]],\n",
       "\n",
       "       [[ 74,  95,  56],\n",
       "        [ 75,  96,  57],\n",
       "        [ 75,  96,  57],\n",
       "        ...,\n",
       "        [ 73,  93,  56],\n",
       "        [ 73,  93,  56],\n",
       "        [ 73,  93,  56]],\n",
       "\n",
       "       ...,\n",
       "\n",
       "       [[ 71,  85,  50],\n",
       "        [ 72,  83,  49],\n",
       "        [ 70,  80,  46],\n",
       "        ...,\n",
       "        [107,  92,  49],\n",
       "        [109,  94,  51],\n",
       "        [111,  96,  53]],\n",
       "\n",
       "       [[ 72,  86,  51],\n",
       "        [ 72,  83,  49],\n",
       "        [ 71,  81,  47],\n",
       "        ...,\n",
       "        [112,  91,  48],\n",
       "        [115,  94,  51],\n",
       "        [118,  97,  54]],\n",
       "\n",
       "       [[ 73,  87,  52],\n",
       "        [ 73,  84,  50],\n",
       "        [ 72,  82,  48],\n",
       "        ...,\n",
       "        [114,  90,  44],\n",
       "        [117,  93,  47],\n",
       "        [121,  97,  51]]], dtype=int32)"
      ]
     },
     "execution_count": 2,
     "metadata": {},
     "output_type": "execute_result"
    }
   ],
   "source": [
    "filename = \"pexels-photo-1108099.jpeg\"\n",
    "load_image(filename)"
   ]
  }
 ],
 "metadata": {
  "kernelspec": {
   "display_name": "Python 3",
   "language": "python",
   "name": "python3"
  },
  "language_info": {
   "codemirror_mode": {
    "name": "ipython",
    "version": 3
   },
   "file_extension": ".py",
   "mimetype": "text/x-python",
   "name": "python",
   "nbconvert_exporter": "python",
   "pygments_lexer": "ipython3",
   "version": "3.6.9"
  }
 },
 "nbformat": 4,
 "nbformat_minor": 2
}
