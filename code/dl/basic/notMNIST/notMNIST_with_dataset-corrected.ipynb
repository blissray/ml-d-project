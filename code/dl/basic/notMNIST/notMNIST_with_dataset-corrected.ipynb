{
 "cells": [
  {
   "cell_type": "code",
   "execution_count": 30,
   "metadata": {},
   "outputs": [],
   "source": [
    "import os\n",
    "import tensorflow as tf"
   ]
  },
  {
   "cell_type": "code",
   "execution_count": 31,
   "metadata": {},
   "outputs": [],
   "source": [
    "root_dir = \"notMNIST_large\""
   ]
  },
  {
   "cell_type": "code",
   "execution_count": 32,
   "metadata": {},
   "outputs": [],
   "source": [
    "image_path_list = []\n",
    "image_label_list = []\n",
    "\n",
    "for label in os.listdir(root_dir):\n",
    "    target_dir = os.path.join(root_dir, label)\n",
    "    for image_filename in os.listdir(target_dir):\n",
    "        image_path_list.append(\n",
    "            os.path.join(target_dir, image_filename)\n",
    "        )\n",
    "        image_label_list.append(label)"
   ]
  },
  {
   "cell_type": "code",
   "execution_count": 33,
   "metadata": {},
   "outputs": [
    {
     "data": {
      "text/plain": [
       "(529114, 529114)"
      ]
     },
     "execution_count": 33,
     "metadata": {},
     "output_type": "execute_result"
    }
   ],
   "source": [
    "len(image_path_list), len(image_label_list) "
   ]
  },
  {
   "cell_type": "code",
   "execution_count": 34,
   "metadata": {},
   "outputs": [],
   "source": [
    "from sklearn.preprocessing import LabelEncoder\n",
    "\n",
    "lbl = LabelEncoder()\n",
    "image_label_list = lbl.fit_transform(image_label_list)"
   ]
  },
  {
   "cell_type": "code",
   "execution_count": 35,
   "metadata": {},
   "outputs": [
    {
     "data": {
      "text/plain": [
       "['notMNIST_large/I/RFRMQXJnb1RDYXBzLVVsdHJhSGVhdnkub3Rm.png',\n",
       " 'notMNIST_large/I/YWNjaWVudC50dGY=.png',\n",
       " 'notMNIST_large/I/RWxlZ2FudCBHYXJhbW9uZC5wZmI=.png']"
      ]
     },
     "execution_count": 35,
     "metadata": {},
     "output_type": "execute_result"
    }
   ],
   "source": [
    "image_path_list[:3]"
   ]
  },
  {
   "cell_type": "code",
   "execution_count": 36,
   "metadata": {},
   "outputs": [
    {
     "data": {
      "text/plain": [
       "array([8, 8, 8])"
      ]
     },
     "execution_count": 36,
     "metadata": {},
     "output_type": "execute_result"
    }
   ],
   "source": [
    "image_label_list[:3]"
   ]
  },
  {
   "cell_type": "code",
   "execution_count": 37,
   "metadata": {},
   "outputs": [],
   "source": [
    "from sklearn.model_selection import train_test_split"
   ]
  },
  {
   "cell_type": "code",
   "execution_count": 38,
   "metadata": {},
   "outputs": [],
   "source": [
    "X_dev, X_test, y_dev, y_test = train_test_split(\n",
    "    image_path_list, image_label_list, test_size=0.15,stratify=image_label_list)"
   ]
  },
  {
   "cell_type": "code",
   "execution_count": 39,
   "metadata": {},
   "outputs": [
    {
     "data": {
      "text/plain": [
       "Counter({0: 7936,\n",
       "         5: 7937,\n",
       "         3: 7936,\n",
       "         1: 7937,\n",
       "         6: 7937,\n",
       "         8: 7937,\n",
       "         4: 7937,\n",
       "         2: 7937,\n",
       "         7: 7937,\n",
       "         9: 7937})"
      ]
     },
     "execution_count": 39,
     "metadata": {},
     "output_type": "execute_result"
    }
   ],
   "source": [
    "from collections import Counter\n",
    "Counter(y_test)"
   ]
  },
  {
   "cell_type": "code",
   "execution_count": 40,
   "metadata": {},
   "outputs": [],
   "source": [
    "X_train, X_val, y_train, y_val = train_test_split(\n",
    "    X_dev, y_dev, test_size=0.20,stratify=y_dev)"
   ]
  },
  {
   "cell_type": "code",
   "execution_count": 41,
   "metadata": {},
   "outputs": [
    {
     "data": {
      "text/plain": [
       "Counter({2: 8995,\n",
       "         9: 8995,\n",
       "         5: 8995,\n",
       "         0: 8995,\n",
       "         7: 8995,\n",
       "         1: 8995,\n",
       "         8: 8995,\n",
       "         6: 8995,\n",
       "         4: 8995,\n",
       "         3: 8995})"
      ]
     },
     "execution_count": 41,
     "metadata": {},
     "output_type": "execute_result"
    }
   ],
   "source": [
    "Counter(y_val)"
   ]
  },
  {
   "cell_type": "code",
   "execution_count": 42,
   "metadata": {},
   "outputs": [],
   "source": [
    "import IPython.display as display\n",
    "from PIL import Image\n",
    "import numpy as np\n",
    "import matplotlib.pyplot as plt\n",
    "import os"
   ]
  },
  {
   "cell_type": "code",
   "execution_count": 43,
   "metadata": {},
   "outputs": [
    {
     "data": {
      "image/png": "[encoded data removed]",
      "text/plain": [
       "<PIL.PngImagePlugin.PngImageFile image mode=L size=28x28 at 0x7F855C4AD908>"
      ]
     },
     "metadata": {},
     "output_type": "display_data"
    },
    {
     "data": {
      "image/png": "[encoded data removed]",
      "text/plain": [
       "<PIL.PngImagePlugin.PngImageFile image mode=L size=28x28 at 0x7F855C4AD6A0>"
      ]
     },
     "metadata": {},
     "output_type": "display_data"
    },
    {
     "data": {
      "image/png": "[encoded data removed]",
      "text/plain": [
       "<PIL.PngImagePlugin.PngImageFile image mode=L size=28x28 at 0x7F855C4ADA90>"
      ]
     },
     "metadata": {},
     "output_type": "display_data"
    }
   ],
   "source": [
    "for image_path in X_train[:3]:\n",
    "    display.display(Image.open(str(image_path)))"
   ]
  },
  {
   "cell_type": "code",
   "execution_count": 44,
   "metadata": {},
   "outputs": [],
   "source": [
    "train_dataset = tf.data.Dataset.from_tensor_slices((X_train, y_train))\n",
    "val_dataset = tf.data.Dataset.from_tensor_slices((X_val, y_val))\n",
    "test_dataset = tf.data.Dataset.from_tensor_slices((X_test, y_test))"
   ]
  },
  {
   "cell_type": "code",
   "execution_count": 45,
   "metadata": {},
   "outputs": [
    {
     "name": "stdout",
     "output_type": "stream",
     "text": [
      "(<tf.Tensor: id=1523, shape=(), dtype=string, numpy=b'notMNIST_large/F/QmFpbGV5IFNhbnMgSVRDIEJvbGQgSXRhbGljLnR0Zg==.png'>, <tf.Tensor: id=1524, shape=(), dtype=int64, numpy=5>)\n",
      "(<tf.Tensor: id=1525, shape=(), dtype=string, numpy=b'notMNIST_large/G/TWV0YUJvb2tDRUxGLUl0YWxpY0NhcHMub3Rm.png'>, <tf.Tensor: id=1526, shape=(), dtype=int64, numpy=6>)\n",
      "(<tf.Tensor: id=1527, shape=(), dtype=string, numpy=b'notMNIST_large/B/R2VvbWV0cjcwNiBNZCBCVCBCbGFjay50dGY=.png'>, <tf.Tensor: id=1528, shape=(), dtype=int64, numpy=1>)\n"
     ]
    }
   ],
   "source": [
    "for f in train_dataset.take(3):\n",
    "    print(f)"
   ]
  },
  {
   "cell_type": "code",
   "execution_count": 50,
   "metadata": {},
   "outputs": [],
   "source": [
    "class_names = {k:i for i, k in enumerate(set(y_val))}\n",
    "\n",
    "def _preprocess_image(image):   \n",
    "    image = tf.image.decode_png(image, channels=1)   \n",
    "    image = tf.image.convert_image_dtype(image, tf.float32)\n",
    "    image = tf.image.resize(image, [28, 28,])\n",
    "    image /= 255.0  # normalize to [0,1] range    \n",
    "    return image\n",
    "\n",
    "def _load_and_preprocess_image(path):   \n",
    "    image = tf.io.read_file(path)\n",
    "    image = _preprocess_image(image)\n",
    "    return image\n",
    "\n",
    "def load_and_preprocess_from_path_label(path, label):   \n",
    "    return _load_and_preprocess_image(path), label  \n",
    "\n",
    "def get_dataset(ds):\n",
    "    image_label_ds = ds.map(load_and_preprocess_from_path_label)\n",
    "    image_label_ds = image_label_ds.shuffle(1024)\n",
    "    image_label_ds = image_label_ds.batch(1024)\n",
    "    image_label_ds = image_label_ds.prefetch(buffer_size=1024)\n",
    "    return image_label_ds"
   ]
  },
  {
   "cell_type": "code",
   "execution_count": 51,
   "metadata": {},
   "outputs": [],
   "source": [
    "train_dataset = tf.data.Dataset.from_tensor_slices((X_train, y_train))\n",
    "val_dataset = tf.data.Dataset.from_tensor_slices((X_val, y_val))\n",
    "test_dataset = tf.data.Dataset.from_tensor_slices((X_test, y_test))\n",
    "\n",
    "train_dataset = get_dataset(train_dataset)\n",
    "val_dataset = get_dataset(val_dataset)\n",
    "test_dataset = get_dataset(test_dataset)\n"
   ]
  },
  {
   "cell_type": "code",
   "execution_count": 52,
   "metadata": {},
   "outputs": [],
   "source": [
    "from __future__ import print_function\n",
    "\n",
    "import tensorflow as tf\n",
    "from tensorflow.keras.datasets import mnist\n",
    "from tensorflow.keras.models import Sequential\n",
    "from tensorflow.keras.layers import Dense, Activation, Flatten"
   ]
  },
  {
   "cell_type": "code",
   "execution_count": 60,
   "metadata": {
    "scrolled": true
   },
   "outputs": [
    {
     "name": "stdout",
     "output_type": "stream",
     "text": [
      "Model: \"sequential_7\"\n",
      "_________________________________________________________________\n",
      "Layer (type)                 Output Shape              Param #   \n",
      "=================================================================\n",
      "flatten_7 (Flatten)          (None, 784)               0         \n",
      "_________________________________________________________________\n",
      "dense_34 (Dense)             (None, 128)               100480    \n",
      "_________________________________________________________________\n",
      "dense_35 (Dense)             (None, 64)                8256      \n",
      "_________________________________________________________________\n",
      "dense_36 (Dense)             (None, 128)               8320      \n",
      "_________________________________________________________________\n",
      "dense_37 (Dense)             (None, 64)                8256      \n",
      "_________________________________________________________________\n",
      "dense_38 (Dense)             (None, 32)                2080      \n",
      "_________________________________________________________________\n",
      "dense_39 (Dense)             (None, 64)                2112      \n",
      "_________________________________________________________________\n",
      "dense_40 (Dense)             (None, 10)                650       \n",
      "=================================================================\n",
      "Total params: 130,154\n",
      "Trainable params: 130,154\n",
      "Non-trainable params: 0\n",
      "_________________________________________________________________\n",
      "Epoch 1/50\n",
      "1406/1406 [==============================] - 31s 22ms/step - loss: 0.8754 - accuracy: 0.7265 - val_loss: 0.0000e+00 - val_accuracy: 0.0000e+00\n",
      "Epoch 2/50\n",
      "1406/1406 [==============================] - 30s 21ms/step - loss: 0.5216 - accuracy: 0.8407 - val_loss: 0.4859 - val_accuracy: 0.8518\n",
      "Epoch 3/50\n",
      "1406/1406 [==============================] - 30s 21ms/step - loss: 0.4601 - accuracy: 0.8581 - val_loss: 0.4568 - val_accuracy: 0.8602\n",
      "Epoch 4/50\n",
      "1406/1406 [==============================] - 30s 22ms/step - loss: 0.4243 - accuracy: 0.8689 - val_loss: 0.4281 - val_accuracy: 0.8688\n",
      "Epoch 5/50\n",
      "1406/1406 [==============================] - 30s 21ms/step - loss: 0.4000 - accuracy: 0.8765 - val_loss: 0.4030 - val_accuracy: 0.8758\n",
      "Epoch 6/50\n",
      "1406/1406 [==============================] - 30s 21ms/step - loss: 0.3803 - accuracy: 0.8825 - val_loss: 0.3826 - val_accuracy: 0.8816\n",
      "Epoch 7/50\n",
      "1406/1406 [==============================] - 30s 21ms/step - loss: 0.3647 - accuracy: 0.8873 - val_loss: 0.3973 - val_accuracy: 0.8778\n",
      "Epoch 8/50\n",
      "1406/1406 [==============================] - 30s 21ms/step - loss: 0.3510 - accuracy: 0.8907 - val_loss: 0.3696 - val_accuracy: 0.8846\n",
      "Epoch 9/50\n",
      "1406/1406 [==============================] - 30s 21ms/step - loss: 0.3411 - accuracy: 0.8938 - val_loss: 0.3708 - val_accuracy: 0.8848\n",
      "Epoch 10/50\n",
      "1406/1406 [==============================] - 30s 21ms/step - loss: 0.3327 - accuracy: 0.8966 - val_loss: 0.3535 - val_accuracy: 0.8902\n",
      "Epoch 11/50\n",
      "1406/1406 [==============================] - 30s 21ms/step - loss: 0.3243 - accuracy: 0.8991 - val_loss: 0.3496 - val_accuracy: 0.8912\n",
      "Epoch 12/50\n",
      "1406/1406 [==============================] - 30s 22ms/step - loss: 0.3173 - accuracy: 0.9012 - val_loss: 0.3485 - val_accuracy: 0.8922\n",
      "Epoch 13/50\n",
      "1406/1406 [==============================] - 30s 21ms/step - loss: 0.3113 - accuracy: 0.9031 - val_loss: 0.3465 - val_accuracy: 0.8922\n",
      "Epoch 14/50\n",
      "1406/1406 [==============================] - 30s 21ms/step - loss: 0.3056 - accuracy: 0.9049 - val_loss: 0.3510 - val_accuracy: 0.8914\n",
      "Epoch 15/50\n",
      "1406/1406 [==============================] - 30s 22ms/step - loss: 0.3008 - accuracy: 0.9062 - val_loss: 0.3393 - val_accuracy: 0.8947\n",
      "Epoch 16/50\n",
      "1406/1406 [==============================] - 30s 21ms/step - loss: 0.2961 - accuracy: 0.9076 - val_loss: 0.3382 - val_accuracy: 0.8951\n",
      "Epoch 17/50\n",
      "1406/1406 [==============================] - 30s 21ms/step - loss: 0.2918 - accuracy: 0.9094 - val_loss: 0.3370 - val_accuracy: 0.8957\n",
      "Epoch 18/50\n",
      "1406/1406 [==============================] - 30s 21ms/step - loss: 0.2866 - accuracy: 0.9105 - val_loss: 0.3312 - val_accuracy: 0.8975\n",
      "Epoch 19/50\n",
      "1406/1406 [==============================] - 30s 21ms/step - loss: 0.2840 - accuracy: 0.9113 - val_loss: 0.3390 - val_accuracy: 0.8951\n",
      "Epoch 20/50\n",
      "1406/1406 [==============================] - 30s 21ms/step - loss: 0.2797 - accuracy: 0.9124 - val_loss: 0.3344 - val_accuracy: 0.8978\n",
      "Epoch 21/50\n",
      "1406/1406 [==============================] - 30s 21ms/step - loss: 0.2763 - accuracy: 0.9136 - val_loss: 0.3304 - val_accuracy: 0.8987\n",
      "Epoch 22/50\n",
      "1406/1406 [==============================] - 30s 21ms/step - loss: 0.2733 - accuracy: 0.9144 - val_loss: 0.3337 - val_accuracy: 0.8973\n",
      "Epoch 23/50\n",
      "1406/1406 [==============================] - 30s 22ms/step - loss: 0.2695 - accuracy: 0.9155 - val_loss: 0.3384 - val_accuracy: 0.8976\n",
      "Epoch 24/50\n",
      "1406/1406 [==============================] - 30s 22ms/step - loss: 0.2667 - accuracy: 0.9168 - val_loss: 0.3299 - val_accuracy: 0.8996\n",
      "Epoch 25/50\n",
      "1406/1406 [==============================] - 30s 21ms/step - loss: 0.2636 - accuracy: 0.9176 - val_loss: 0.3398 - val_accuracy: 0.8975\n",
      "Epoch 26/50\n",
      "1406/1406 [==============================] - 30s 21ms/step - loss: 0.2611 - accuracy: 0.9184 - val_loss: 0.3315 - val_accuracy: 0.8997\n",
      "Epoch 27/50\n",
      "1406/1406 [==============================] - 30s 21ms/step - loss: 0.2591 - accuracy: 0.9189 - val_loss: 0.3332 - val_accuracy: 0.8994\n",
      "Epoch 28/50\n",
      "1406/1406 [==============================] - 30s 21ms/step - loss: 0.2556 - accuracy: 0.9202 - val_loss: 0.3340 - val_accuracy: 0.8995\n",
      "Epoch 29/50\n",
      "1406/1406 [==============================] - 30s 21ms/step - loss: 0.2533 - accuracy: 0.9208 - val_loss: 0.3299 - val_accuracy: 0.9012\n",
      "Epoch 30/50\n",
      "1406/1406 [==============================] - 30s 21ms/step - loss: 0.2512 - accuracy: 0.9214 - val_loss: 0.3321 - val_accuracy: 0.8998\n",
      "Epoch 31/50\n",
      "1406/1406 [==============================] - 30s 21ms/step - loss: 0.2492 - accuracy: 0.9219 - val_loss: 0.3311 - val_accuracy: 0.9008\n",
      "Epoch 32/50\n",
      "1406/1406 [==============================] - 30s 21ms/step - loss: 0.2464 - accuracy: 0.9230 - val_loss: 0.3333 - val_accuracy: 0.8995\n",
      "Epoch 33/50\n",
      "1406/1406 [==============================] - 30s 21ms/step - loss: 0.2435 - accuracy: 0.9237 - val_loss: 0.3304 - val_accuracy: 0.9018\n",
      "Epoch 34/50\n",
      "1406/1406 [==============================] - 30s 21ms/step - loss: 0.2424 - accuracy: 0.9240 - val_loss: 0.3319 - val_accuracy: 0.9018\n",
      "Epoch 35/50\n",
      "1406/1406 [==============================] - 30s 21ms/step - loss: 0.2407 - accuracy: 0.9243 - val_loss: 0.3352 - val_accuracy: 0.9016\n",
      "Epoch 36/50\n",
      "1406/1406 [==============================] - 30s 21ms/step - loss: 0.2384 - accuracy: 0.9253 - val_loss: 0.3422 - val_accuracy: 0.8993\n",
      "Epoch 37/50\n",
      "1406/1406 [==============================] - 30s 21ms/step - loss: 0.2368 - accuracy: 0.9253 - val_loss: 0.3364 - val_accuracy: 0.9017\n",
      "Epoch 38/50\n",
      "1406/1406 [==============================] - 30s 21ms/step - loss: 0.2353 - accuracy: 0.9260 - val_loss: 0.3368 - val_accuracy: 0.9006\n",
      "Epoch 39/50\n",
      "1406/1406 [==============================] - 30s 21ms/step - loss: 0.2338 - accuracy: 0.9264 - val_loss: 0.3477 - val_accuracy: 0.8998\n",
      "Epoch 40/50\n",
      "1406/1406 [==============================] - 30s 21ms/step - loss: 0.2321 - accuracy: 0.9268 - val_loss: 0.3408 - val_accuracy: 0.9009\n",
      "Epoch 41/50\n",
      "1406/1406 [==============================] - 30s 21ms/step - loss: 0.2297 - accuracy: 0.9278 - val_loss: 0.3395 - val_accuracy: 0.9019\n",
      "Epoch 42/50\n",
      "1406/1406 [==============================] - 30s 22ms/step - loss: 0.2282 - accuracy: 0.9282 - val_loss: 0.3391 - val_accuracy: 0.9019\n",
      "Epoch 43/50\n",
      "1406/1406 [==============================] - 30s 22ms/step - loss: 0.2268 - accuracy: 0.9285 - val_loss: 0.3327 - val_accuracy: 0.9037\n",
      "Epoch 44/50\n",
      "1406/1406 [==============================] - 30s 22ms/step - loss: 0.2255 - accuracy: 0.9290 - val_loss: 0.3390 - val_accuracy: 0.9027\n",
      "Epoch 45/50\n",
      "1406/1406 [==============================] - 30s 22ms/step - loss: 0.2226 - accuracy: 0.9300 - val_loss: 0.3359 - val_accuracy: 0.9025\n",
      "Epoch 46/50\n",
      "1406/1406 [==============================] - 30s 21ms/step - loss: 0.2212 - accuracy: 0.9303 - val_loss: 0.3361 - val_accuracy: 0.9027\n",
      "Epoch 47/50\n"
     ]
    },
    {
     "name": "stdout",
     "output_type": "stream",
     "text": [
      "1406/1406 [==============================] - 30s 21ms/step - loss: 0.2208 - accuracy: 0.9303 - val_loss: 0.3382 - val_accuracy: 0.9021\n",
      "Epoch 48/50\n",
      "1406/1406 [==============================] - 30s 21ms/step - loss: 0.2179 - accuracy: 0.9315 - val_loss: 0.3368 - val_accuracy: 0.9037\n",
      "Epoch 49/50\n",
      "1406/1406 [==============================] - 30s 21ms/step - loss: 0.2183 - accuracy: 0.9312 - val_loss: 0.3404 - val_accuracy: 0.9043\n",
      "Epoch 50/50\n",
      "1406/1406 [==============================] - 30s 21ms/step - loss: 0.2154 - accuracy: 0.9320 - val_loss: 0.3472 - val_accuracy: 0.9025\n"
     ]
    }
   ],
   "source": [
    "model = Sequential()\n",
    "model.add(Flatten(input_shape = (28, 28,1)))\n",
    "model.add(Dense(128, activation='relu'))\n",
    "model.add(Dense(64, activation='relu'))\n",
    "model.add(Dense(128, activation='relu'))\n",
    "model.add(Dense(64, activation='relu'))\n",
    "model.add(Dense(32, activation='relu'))\n",
    "model.add(Dense(64, activation='relu'))\n",
    "model.add(Dense(10, activation='softmax'))\n",
    "\n",
    "model.summary()\n",
    "model.compile(loss='sparse_categorical_crossentropy',\n",
    "              optimizer=\"adam\",\n",
    "              metrics=['accuracy'])\n",
    "\n",
    "history = model.fit(train_dataset, epochs=50, validation_data=val_dataset,\n",
    "                    verbose=1)\n",
    "\n",
    "score = model.evaluate(test_dataset, verbose=0)"
   ]
  },
  {
   "cell_type": "code",
   "execution_count": 59,
   "metadata": {},
   "outputs": [
    {
     "data": {
      "image/png": "[encoded data removed]",
      "text/plain": [
       "<Figure size 432x288 with 1 Axes>"
      ]
     },
     "metadata": {
      "needs_background": "light"
     },
     "output_type": "display_data"
    }
   ],
   "source": [
    "plt.plot(history.history['loss'])\n",
    "plt.plot(history.history['val_loss'])\n",
    "plt.title('model loss')\n",
    "plt.ylabel('loss')\n",
    "plt.xlabel('epoch')\n",
    "plt.legend(['train', 'test'], loc='upper left')\n",
    "plt.show()"
   ]
  },
  {
   "cell_type": "code",
   "execution_count": null,
   "metadata": {},
   "outputs": [],
   "source": []
  }
 ],
 "metadata": {
  "kernelspec": {
   "display_name": "Python 3",
   "language": "python",
   "name": "python3"
  },
  "language_info": {
   "codemirror_mode": {
    "name": "ipython",
    "version": 3
   },
   "file_extension": ".py",
   "mimetype": "text/x-python",
   "name": "python",
   "nbconvert_exporter": "python",
   "pygments_lexer": "ipython3",
   "version": "3.6.9"
  }
 },
 "nbformat": 4,
 "nbformat_minor": 2
}
