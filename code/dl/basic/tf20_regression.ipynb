{
 "cells": [
  {
   "cell_type": "code",
   "execution_count": 1,
   "metadata": {},
   "outputs": [],
   "source": [
    "import tensorflow as tf\n",
    "from sklearn.datasets import load_boston\n",
    "import matplotlib.pyplot as plt\n",
    "import numpy as np\n"
   ]
  },
  {
   "cell_type": "code",
   "execution_count": 2,
   "metadata": {},
   "outputs": [
    {
     "data": {
      "text/plain": [
       "array([[6.3200e-03, 1.8000e+01, 2.3100e+00, ..., 1.5300e+01, 3.9690e+02,\n",
       "        4.9800e+00],\n",
       "       [2.7310e-02, 0.0000e+00, 7.0700e+00, ..., 1.7800e+01, 3.9690e+02,\n",
       "        9.1400e+00],\n",
       "       [2.7290e-02, 0.0000e+00, 7.0700e+00, ..., 1.7800e+01, 3.9283e+02,\n",
       "        4.0300e+00],\n",
       "       ...,\n",
       "       [6.0760e-02, 0.0000e+00, 1.1930e+01, ..., 2.1000e+01, 3.9690e+02,\n",
       "        5.6400e+00],\n",
       "       [1.0959e-01, 0.0000e+00, 1.1930e+01, ..., 2.1000e+01, 3.9345e+02,\n",
       "        6.4800e+00],\n",
       "       [4.7410e-02, 0.0000e+00, 1.1930e+01, ..., 2.1000e+01, 3.9690e+02,\n",
       "        7.8800e+00]])"
      ]
     },
     "execution_count": 2,
     "metadata": {},
     "output_type": "execute_result"
    }
   ],
   "source": [
    "boston = load_boston()\n",
    "boston[\"data\"]"
   ]
  },
  {
   "cell_type": "code",
   "execution_count": 3,
   "metadata": {},
   "outputs": [],
   "source": [
    "x_data = boston.data\n",
    "y_data = boston.target.reshape(boston.target.size,1)"
   ]
  },
  {
   "cell_type": "code",
   "execution_count": 4,
   "metadata": {},
   "outputs": [
    {
     "data": {
      "text/plain": [
       "((506, 1), (506, 13))"
      ]
     },
     "execution_count": 4,
     "metadata": {},
     "output_type": "execute_result"
    }
   ],
   "source": [
    "y_data.shape, x_data.shape"
   ]
  },
  {
   "cell_type": "code",
   "execution_count": 5,
   "metadata": {},
   "outputs": [
    {
     "data": {
      "text/plain": [
       "array([[0.00000000e+00, 9.00000000e-01, 3.39076246e-01, 0.00000000e+00,\n",
       "        1.57407407e+00, 2.88752635e+00, 3.20803296e+00, 1.34601570e+00,\n",
       "        0.00000000e+00, 1.04007634e+00, 1.43617021e+00, 5.00000000e+00,\n",
       "        4.48399558e-01],\n",
       "       [1.17961270e-03, 0.00000000e+00, 1.21151026e+00, 0.00000000e+00,\n",
       "        8.64197531e-01, 2.73998850e+00, 3.91349125e+00, 1.74480990e+00,\n",
       "        2.17391304e-01, 5.24809160e-01, 2.76595745e+00, 5.00000000e+00,\n",
       "        1.02235099e+00],\n",
       "       [1.17848872e-03, 0.00000000e+00, 1.21151026e+00, 0.00000000e+00,\n",
       "        8.64197531e-01, 3.47192949e+00, 2.99691040e+00, 1.74480990e+00,\n",
       "        2.17391304e-01, 5.24809160e-01, 2.76595745e+00, 4.94868627e+00,\n",
       "        3.17328918e-01]])"
      ]
     },
     "execution_count": 5,
     "metadata": {},
     "output_type": "execute_result"
    }
   ],
   "source": [
    "from sklearn import preprocessing\n",
    "\n",
    "minmax_scale = preprocessing.MinMaxScaler(feature_range=(0,5)).fit(x_data)\n",
    "# standard_scale = preprocessing.StandardScaler().fit(x_data)\n",
    "x_scaled_data = minmax_scale.transform(x_data)\n",
    "\n",
    "x_scaled_data[:3]"
   ]
  },
  {
   "cell_type": "code",
   "execution_count": 6,
   "metadata": {},
   "outputs": [],
   "source": [
    "from sklearn.model_selection import train_test_split\n",
    "\n",
    "X_train, X_test, y_train, y_test = train_test_split(x_scaled_data, y_data, test_size=0.33)"
   ]
  },
  {
   "cell_type": "code",
   "execution_count": 8,
   "metadata": {},
   "outputs": [],
   "source": [
    "# Linear regression (Wx + b).\n",
    "@tf.function\n",
    "def linear_regression(x, W ,b):\n",
    "    return tf.add(tf.matmul(x,W),b)\n",
    "\n",
    "# Mean square error.\n",
    "@tf.function\n",
    "def loss_function(y_pred, y_true, W=None):\n",
    "    return tf.reduce_mean(\n",
    "        tf.pow(y_pred-y_true, 2) / 2 )\n",
    "\n",
    "\n",
    "@tf.function\n",
    "def mean_square(y_pred, y_true):\n",
    "    return tf.reduce_sum(\n",
    "        tf.pow(y_pred-y_true, 2)) / (2 * len(y_true))"
   ]
  },
  {
   "cell_type": "code",
   "execution_count": 9,
   "metadata": {},
   "outputs": [],
   "source": [
    "# Optimization process. \n",
    "def run_optimization(X, Y, W, b):\n",
    "    # Wrap computation inside a GradientTape for automatic differentiation.\n",
    "    with tf.GradientTape() as g:\n",
    "        pred = linear_regression(X, W, b)\n",
    "        loss = loss_function(pred, Y, W)\n",
    "\n",
    "    # Compute gradients.\n",
    "    gradients = g.gradient(loss, [W, b])\n",
    "    \n",
    "    # Update W and b following gradients.\n",
    "    optimizer.apply_gradients(zip(gradients, [W, b]))"
   ]
  },
  {
   "cell_type": "code",
   "execution_count": 15,
   "metadata": {},
   "outputs": [],
   "source": [
    "# Parameters.\n",
    "learning_rate = 0.01\n",
    "training_steps = 5000\n",
    "display_step = 500"
   ]
  },
  {
   "cell_type": "code",
   "execution_count": 16,
   "metadata": {},
   "outputs": [
    {
     "name": "stdout",
     "output_type": "stream",
     "text": [
      "step: 500, loss: 11.760760, vall_lss: 18.405075\n",
      "step: 1000, loss: 11.366852, vall_lss: 19.417355\n",
      "step: 1500, loss: 11.243057, vall_lss: 19.774263\n",
      "step: 2000, loss: 11.153298, vall_lss: 19.804684\n",
      "step: 2500, loss: 11.072948, vall_lss: 19.710151\n",
      "step: 3000, loss: 10.998510, vall_lss: 19.570043\n",
      "step: 3500, loss: 10.929116, vall_lss: 19.415083\n",
      "step: 4000, loss: 10.864328, vall_lss: 19.257615\n",
      "step: 4500, loss: 10.803808, vall_lss: 19.102837\n",
      "step: 5000, loss: 10.747265, vall_lss: 18.953005\n"
     ]
    }
   ],
   "source": [
    "# Weight and Bias, initialized randomly.\n",
    "W = tf.Variable(np.random.randn(13,1),  name=\"weight\")\n",
    "b = tf.Variable(np.random.randn(1,), name=\"bias\")\n",
    "\n",
    "# Stochastic Gradient Descent Optimizer.\n",
    "optimizer = tf.optimizers.SGD(learning_rate)\n",
    "\n",
    "\n",
    "history = {\"train_mse\": [], \"val_mse\": []}\n",
    "# Run training for the given number of steps.\n",
    "for step in range(1, training_steps + 1):\n",
    "    # Run the optimization to update W and b values.\n",
    "    run_optimization(X_train, y_train, W, b)\n",
    "    \n",
    "    if step % display_step == 0:\n",
    "        pred = linear_regression(X_train, W, b)\n",
    "        train_mse = mean_square(pred, y_train)\n",
    "        val_mse = mean_square(linear_regression(X_test, W, b), y_test)\n",
    "        \n",
    "        history[\"train_mse\"].append(train_mse)\n",
    "        history[\"val_mse\"].append(val_mse)\n",
    "        \n",
    "        print(\"step: %i, loss: %f, vall_lss: %f\" % (step, train_mse, val_mse))"
   ]
  },
  {
   "cell_type": "code",
   "execution_count": 17,
   "metadata": {},
   "outputs": [
    {
     "data": {
      "image/png": "[encoded data removed]",
      "text/plain": [
       "<Figure size 432x288 with 1 Axes>"
      ]
     },
     "metadata": {
      "needs_background": "light"
     },
     "output_type": "display_data"
    }
   ],
   "source": [
    "from matplotlib import pyplot\n",
    "pyplot.plot(history['train_mse'])\n",
    "pyplot.plot(history['val_mse'])\n",
    "pyplot.show()"
   ]
  },
  {
   "cell_type": "code",
   "execution_count": 18,
   "metadata": {},
   "outputs": [],
   "source": [
    "# Mean square error.\n",
    "@tf.function\n",
    "def loss_function(y_pred, y_true, W=None):\n",
    "    return tf.reduce_mean(\n",
    "        tf.pow(y_pred-y_true, 2) + 0.8 * tf.nn.l2_loss(W) / 2)"
   ]
  },
  {
   "cell_type": "code",
   "execution_count": 21,
   "metadata": {},
   "outputs": [],
   "source": [
    "# Parameters.\n",
    "learning_rate = 0.01\n",
    "training_steps = 5000\n",
    "display_step = 500"
   ]
  },
  {
   "cell_type": "code",
   "execution_count": 22,
   "metadata": {},
   "outputs": [
    {
     "name": "stdout",
     "output_type": "stream",
     "text": [
      "step: 500, loss: 12.472456, vall_lss: 17.535427\n",
      "step: 1000, loss: 12.086236, vall_lss: 17.079238\n",
      "step: 1500, loss: 11.807223, vall_lss: 16.662486\n",
      "step: 2000, loss: 11.592382, vall_lss: 16.334297\n",
      "step: 2500, loss: 11.427092, vall_lss: 16.078140\n",
      "step: 3000, loss: 11.300293, vall_lss: 15.878472\n",
      "step: 3500, loss: 11.203361, vall_lss: 15.722978\n",
      "step: 4000, loss: 11.129567, vall_lss: 15.602005\n",
      "step: 4500, loss: 11.073668, vall_lss: 15.507998\n",
      "step: 5000, loss: 11.031578, vall_lss: 15.435042\n"
     ]
    }
   ],
   "source": [
    "# Weight and Bias, initialized randomly.\n",
    "W = tf.Variable(np.random.randn(13,1),  name=\"weight\")\n",
    "b = tf.Variable(np.random.randn(1,), name=\"bias\")\n",
    "\n",
    "history = {\"train_mse\": [], \"val_mse\": []}\n",
    "# Run training for the given number of steps.\n",
    "for step in range(1, training_steps + 1):\n",
    "    # Run the optimization to update W and b values.\n",
    "    run_optimization(X_train, y_train, W, b)\n",
    "    \n",
    "    if step % display_step == 0:\n",
    "        pred = linear_regression(X_train, W, b)\n",
    "        train_mse = mean_square(pred, y_train)\n",
    "        val_mse = mean_square(linear_regression(X_test, W, b), y_test)\n",
    "        \n",
    "        history[\"train_mse\"].append(train_mse)\n",
    "        history[\"val_mse\"].append(val_mse)\n",
    "        \n",
    "        print(\"step: %i, loss: %f, val_loss: %f\" % (step, train_mse, val_mse))"
   ]
  },
  {
   "cell_type": "code",
   "execution_count": 23,
   "metadata": {},
   "outputs": [
    {
     "data": {
      "image/png": "[encoded data removed]",
      "text/plain": [
       "<Figure size 432x288 with 1 Axes>"
      ]
     },
     "metadata": {
      "needs_background": "light"
     },
     "output_type": "display_data"
    }
   ],
   "source": [
    "from matplotlib import pyplot\n",
    "pyplot.plot(history['train_mse'])\n",
    "pyplot.plot(history['val_mse'])\n",
    "pyplot.show()"
   ]
  },
  {
   "cell_type": "code",
   "execution_count": 144,
   "metadata": {},
   "outputs": [],
   "source": [
    "# Weight and Bias, initialized randomly.\n",
    "W = tf.Variable(np.random.randn(13,1)/np.sqrt(1/13),  name=\"init_var\", dtype=tf.float64)  \n",
    "b = tf.Variable(np.random.randn(1), name=\"bias\", dtype=tf.float64)"
   ]
  },
  {
   "cell_type": "code",
   "execution_count": 145,
   "metadata": {},
   "outputs": [],
   "source": [
    "# Parameters.\n",
    "learning_rate = 0.01\n",
    "training_steps = 5000\n",
    "display_step = 500"
   ]
  },
  {
   "cell_type": "code",
   "execution_count": null,
   "metadata": {},
   "outputs": [
    {
     "name": "stdout",
     "output_type": "stream",
     "text": [
      "step: 500, loss: 12.499511, vall_lss: 17.617467\n",
      "step: 1000, loss: 12.148673, vall_lss: 17.172198\n",
      "step: 1500, loss: 11.856117, vall_lss: 16.736630\n",
      "step: 2000, loss: 11.630068, vall_lss: 16.392219\n",
      "step: 2500, loss: 11.456053, vall_lss: 16.123311\n",
      "step: 3000, loss: 11.322480, vall_lss: 15.913668\n",
      "step: 3500, loss: 11.220294, vall_lss: 15.750376\n",
      "step: 4000, loss: 11.142433, vall_lss: 15.623311\n"
     ]
    }
   ],
   "source": [
    "history = {\"train_mse\": [], \"val_mse\": []}\n",
    "# Run training for the given number of steps.\n",
    "for step in range(1, training_steps + 1):\n",
    "    # Run the optimization to update W and b values.\n",
    "    run_optimization(X_train, y_train, W, b)\n",
    "    \n",
    "    if step % display_step == 0:\n",
    "        pred = linear_regression(X_train, W, b)\n",
    "        train_mse = mean_square(pred, y_train)\n",
    "        val_mse = mean_square(linear_regression(X_test, W, b), y_test)\n",
    "        \n",
    "        history[\"train_mse\"].append(train_mse)\n",
    "        history[\"val_mse\"].append(val_mse)\n",
    "        \n",
    "        print(\"step: %i, loss: %f, vall_lss: %f\" % (step, train_mse, val_mse))"
   ]
  },
  {
   "cell_type": "code",
   "execution_count": null,
   "metadata": {},
   "outputs": [],
   "source": []
  }
 ],
 "metadata": {
  "kernelspec": {
   "display_name": "Python 3",
   "language": "python",
   "name": "python3"
  },
  "language_info": {
   "codemirror_mode": {
    "name": "ipython",
    "version": 3
   },
   "file_extension": ".py",
   "mimetype": "text/x-python",
   "name": "python",
   "nbconvert_exporter": "python",
   "pygments_lexer": "ipython3",
   "version": "3.6.9"
  }
 },
 "nbformat": 4,
 "nbformat_minor": 2
}
