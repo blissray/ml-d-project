{
 "cells": [
  {
   "cell_type": "code",
   "execution_count": 2,
   "metadata": {
    "colab": {
     "base_uri": "https://localhost:8080/",
     "height": 35
    },
    "colab_type": "code",
    "executionInfo": {
     "elapsed": 2991,
     "status": "ok",
     "timestamp": 1554864647874,
     "user": {
      "displayName": "Namuk Ko",
      "photoUrl": "",
      "userId": "01152405186334492078"
     },
     "user_tz": -540
    },
    "id": "3JFcfUY8A77E",
    "outputId": "404bf212-4b4d-4618-a0c6-0cfa343431e4"
   },
   "outputs": [
    {
     "ename": "ImportError",
     "evalue": "cannot import name 'np_utils' from 'tensorflow.keras.utils' (/home/sc82choi/miniconda3/envs/tf20-alpha/lib/python3.7/site-packages/tensorflow/python/keras/api/_v2/keras/utils/__init__.py)",
     "output_type": "error",
     "traceback": [
      "\u001b[0;31m---------------------------------------------------------------------------\u001b[0m",
      "\u001b[0;31mImportError\u001b[0m                               Traceback (most recent call last)",
      "\u001b[0;32m<ipython-input-2-45dc3bd482e7>\u001b[0m in \u001b[0;36m<module>\u001b[0;34m\u001b[0m\n\u001b[1;32m      7\u001b[0m \u001b[0;32mfrom\u001b[0m \u001b[0mtensorflow\u001b[0m\u001b[0;34m.\u001b[0m\u001b[0mkeras\u001b[0m\u001b[0;34m.\u001b[0m\u001b[0mmodels\u001b[0m \u001b[0;32mimport\u001b[0m \u001b[0mSequential\u001b[0m\u001b[0;34m\u001b[0m\u001b[0;34m\u001b[0m\u001b[0m\n\u001b[1;32m      8\u001b[0m \u001b[0;32mfrom\u001b[0m \u001b[0mtensorflow\u001b[0m\u001b[0;34m.\u001b[0m\u001b[0mkeras\u001b[0m\u001b[0;34m.\u001b[0m\u001b[0mlayers\u001b[0m \u001b[0;32mimport\u001b[0m \u001b[0mDense\u001b[0m\u001b[0;34m,\u001b[0m \u001b[0mDropout\u001b[0m\u001b[0;34m\u001b[0m\u001b[0;34m\u001b[0m\u001b[0m\n\u001b[0;32m----> 9\u001b[0;31m \u001b[0;32mfrom\u001b[0m \u001b[0mtensorflow\u001b[0m\u001b[0;34m.\u001b[0m\u001b[0mkeras\u001b[0m\u001b[0;34m.\u001b[0m\u001b[0mutils\u001b[0m \u001b[0;32mimport\u001b[0m \u001b[0mnp_utils\u001b[0m\u001b[0;34m\u001b[0m\u001b[0;34m\u001b[0m\u001b[0m\n\u001b[0m\u001b[1;32m     10\u001b[0m \u001b[0;32mfrom\u001b[0m \u001b[0mkeras\u001b[0m\u001b[0;34m.\u001b[0m\u001b[0mbackend\u001b[0m \u001b[0;32mimport\u001b[0m \u001b[0mtensorflow_backend\u001b[0m \u001b[0;32mas\u001b[0m \u001b[0mK\u001b[0m\u001b[0;34m\u001b[0m\u001b[0;34m\u001b[0m\u001b[0m\n",
      "\u001b[0;31mImportError\u001b[0m: cannot import name 'np_utils' from 'tensorflow.keras.utils' (/home/sc82choi/miniconda3/envs/tf20-alpha/lib/python3.7/site-packages/tensorflow/python/keras/api/_v2/keras/utils/__init__.py)"
     ]
    }
   ],
   "source": [
    "import numpy as np\n",
    "import pandas as pd\n",
    "import matplotlib.pyplot as plt\n",
    "\n",
    "import tensorflow as tf\n",
    "import tensorflow.keras as keras\n",
    "from tensorflow.keras.models import Sequential\n",
    "from tensorflow.keras.layers import Dense, Dropout\n",
    "from tensorflow.keras.utils import \n",
    "from keras.backend import tensorflow_backend as K"
   ]
  },
  {
   "cell_type": "code",
   "execution_count": 0,
   "metadata": {
    "colab": {},
    "colab_type": "code",
    "id": "NsmXchdMBKKz"
   },
   "outputs": [],
   "source": [
    "train_images = np.load('/content/gdrive/My Drive/kmnist/k49-train-imgs.npz')['arr_0']/255.0\n",
    "test_images = np.load('/content/gdrive/My Drive/kmnist/k49-test-imgs.npz')['arr_0']/255.0\n",
    "train_labels = np.load('/content/gdrive/My Drive/kmnist/k49-train-labels.npz')['arr_0']\n",
    "test_labels = np.load('/content/gdrive/My Drive/kmnist/k49-test-labels.npz')['arr_0']\n"
   ]
  },
  {
   "cell_type": "code",
   "execution_count": 5,
   "metadata": {
    "colab": {
     "base_uri": "https://localhost:8080/",
     "height": 301
    },
    "colab_type": "code",
    "executionInfo": {
     "elapsed": 1297,
     "status": "ok",
     "timestamp": 1554864663055,
     "user": {
      "displayName": "Namuk Ko",
      "photoUrl": "",
      "userId": "01152405186334492078"
     },
     "user_tz": -540
    },
    "id": "BkKMGcG4BOM6",
    "outputId": "4b72edd0-7b70-416e-f26e-161f6329c7b2"
   },
   "outputs": [
    {
     "data": {
      "text/plain": [
       "Text(0.5, 0, '30')"
      ]
     },
     "execution_count": 5,
     "metadata": {
      "tags": []
     },
     "output_type": "execute_result"
    },
    {
     "data": {
      "image/png": "[encoded data removed]",
      "text/plain": [
       "<Figure size 432x288 with 2 Axes>"
      ]
     },
     "metadata": {
      "tags": []
     },
     "output_type": "display_data"
    }
   ],
   "source": [
    "plt.figure()\n",
    "plt.imshow(train_images[0], cmap = plt.cm.binary)\n",
    "plt.colorbar()\n",
    "plt.xlabel(train_labels[0])"
   ]
  },
  {
   "cell_type": "code",
   "execution_count": 0,
   "metadata": {
    "colab": {},
    "colab_type": "code",
    "id": "FYmhjA_yBQwM"
   },
   "outputs": [],
   "source": [
    "x_train = train_images.reshape(train_images.shape[0],-1)\n",
    "x_test = test_images.reshape(test_images.shape[0],-1)"
   ]
  },
  {
   "cell_type": "code",
   "execution_count": 0,
   "metadata": {
    "colab": {},
    "colab_type": "code",
    "id": "hrTkZg_aBR68"
   },
   "outputs": [],
   "source": [
    "y_train = np_utils.to_categorical(train_labels, 49)\n",
    "y_test = np_utils.to_categorical(test_labels, 49)"
   ]
  },
  {
   "cell_type": "code",
   "execution_count": 0,
   "metadata": {
    "colab": {},
    "colab_type": "code",
    "id": "n3HJhnhuBS5G"
   },
   "outputs": [],
   "source": [
    "model = Sequential()\n",
    "model.add(Dense(128,input_dim=28*28, activation = 'relu'))\n",
    "model.add(Dropout(0.5))\n",
    "model.add(Dense(128, activation = 'relu'))\n",
    "model.add(Dropout(0.5))\n",
    "model.add(Dense(49, activation='softmax'))"
   ]
  },
  {
   "cell_type": "code",
   "execution_count": 12,
   "metadata": {
    "colab": {
     "base_uri": "https://localhost:8080/",
     "height": 244
    },
    "colab_type": "code",
    "executionInfo": {
     "elapsed": 668,
     "status": "error",
     "timestamp": 1554865767118,
     "user": {
      "displayName": "Namuk Ko",
      "photoUrl": "",
      "userId": "01152405186334492078"
     },
     "user_tz": -540
    },
    "id": "7sDOsPLbCsm9",
    "outputId": "80a5d688-22d7-4326-b452-e783ee2b3762"
   },
   "outputs": [
    {
     "ename": "AttributeError",
     "evalue": "ignored",
     "output_type": "error",
     "traceback": [
      "\u001b[0;31m---------------------------------------------------------------------------\u001b[0m",
      "\u001b[0;31mAttributeError\u001b[0m                            Traceback (most recent call last)",
      "\u001b[0;32m<ipython-input-12-901a90ef2101>\u001b[0m in \u001b[0;36m<module>\u001b[0;34m()\u001b[0m\n\u001b[1;32m      1\u001b[0m \u001b[0;32mimport\u001b[0m \u001b[0mos\u001b[0m\u001b[0;34m\u001b[0m\u001b[0;34m\u001b[0m\u001b[0m\n\u001b[0;32m----> 2\u001b[0;31m tpu_model = tf.contrib.tpu.keras_to_tpu_model(\n\u001b[0m\u001b[1;32m      3\u001b[0m     \u001b[0mmodel\u001b[0m\u001b[0;34m,\u001b[0m\u001b[0;34m\u001b[0m\u001b[0;34m\u001b[0m\u001b[0m\n\u001b[1;32m      4\u001b[0m     strategy=tf.contrib.tpu.TPUDistributionStrategy(\n\u001b[1;32m      5\u001b[0m         \u001b[0mtf\u001b[0m\u001b[0;34m.\u001b[0m\u001b[0mcontrib\u001b[0m\u001b[0;34m.\u001b[0m\u001b[0mcluster_resolver\u001b[0m\u001b[0;34m.\u001b[0m\u001b[0mTPUClusterResolver\u001b[0m\u001b[0;34m(\u001b[0m\u001b[0mtpu\u001b[0m\u001b[0;34m=\u001b[0m\u001b[0;34m'grpc://'\u001b[0m \u001b[0;34m+\u001b[0m \u001b[0mos\u001b[0m\u001b[0;34m.\u001b[0m\u001b[0menviron\u001b[0m\u001b[0;34m[\u001b[0m\u001b[0;34m'COLAB_TPU_ADDR'\u001b[0m\u001b[0;34m]\u001b[0m\u001b[0;34m)\u001b[0m\u001b[0;34m\u001b[0m\u001b[0;34m\u001b[0m\u001b[0m\n",
      "\u001b[0;31mAttributeError\u001b[0m: module 'tensorflow' has no attribute 'contrib'"
     ]
    }
   ],
   "source": [
    "#tensorflow 2.0에서는 안됨...\n",
    "import os\n",
    "\n",
    "tpu_model = tf.contrib.tpu.keras_to_tpu_model(\n",
    "    model,\n",
    "    strategy=tf.contrib.tpu.TPUDistributionStrategy(\n",
    "        tf.contrib.cluster_resolver.TPUClusterResolver(tpu='grpc://' + os.environ['COLAB_TPU_ADDR'])\n",
    "    )\n",
    ")\n"
   ]
  },
  {
   "cell_type": "code",
   "execution_count": 0,
   "metadata": {
    "colab": {
     "base_uri": "https://localhost:8080/",
     "height": 1099
    },
    "colab_type": "code",
    "executionInfo": {
     "elapsed": 498735,
     "status": "ok",
     "timestamp": 1554813876712,
     "user": {
      "displayName": "Namuk Ko",
      "photoUrl": "",
      "userId": "01152405186334492078"
     },
     "user_tz": -540
    },
    "id": "X7R5mkZbBdLe",
    "outputId": "d95f8758-d6ac-4aa9-cbe5-2ef1c0bd2460"
   },
   "outputs": [
    {
     "name": "stdout",
     "output_type": "stream",
     "text": [
      "Epoch 1/20\n",
      "INFO:tensorflow:New input shapes; (re-)compiling: mode=train (# of cores 8), [TensorSpec(shape=(16,), dtype=tf.int32, name='core_id_70'), TensorSpec(shape=(16, 784), dtype=tf.float32, name='dense_13_input_10'), TensorSpec(shape=(16, 49), dtype=tf.float32, name='dense_15_target_10')]\n",
      "INFO:tensorflow:Overriding default placeholder.\n",
      "INFO:tensorflow:Cloning SGD {'lr': 0.009999999776482582, 'momentum': 0.0, 'decay': 0.0, 'nesterov': False}\n",
      "INFO:tensorflow:Remapping placeholder for dense_13_input\n",
      "INFO:tensorflow:KerasCrossShard: <tensorflow.python.keras.optimizers.SGD object at 0x7f9330d1e828> []\n",
      "INFO:tensorflow:Started compiling\n",
      "INFO:tensorflow:Finished compiling. Time elapsed: 5.1991472244262695 secs\n",
      "INFO:tensorflow:Setting weights on TPU model.\n",
      "INFO:tensorflow:CPU -> TPU lr: 0.009999999776482582 {0.01}\n",
      "INFO:tensorflow:CPU -> TPU momentum: 0.0 {0.0}\n",
      "INFO:tensorflow:CPU -> TPU decay: 0.0 {0.0}\n",
      "WARNING:tensorflow:Cannot update non-variable config: nesterov\n",
      "232192/232365 [============================>.] - ETA: 0s - loss: 3.4741 - acc: 0.1309INFO:tensorflow:New input shapes; (re-)compiling: mode=train (# of cores 8), [TensorSpec(shape=(5,), dtype=tf.int32, name='core_id_70'), TensorSpec(shape=(5, 784), dtype=tf.float32, name='dense_13_input_10'), TensorSpec(shape=(5, 49), dtype=tf.float32, name='dense_15_target_10')]\n",
      "INFO:tensorflow:Overriding default placeholder.\n",
      "INFO:tensorflow:Remapping placeholder for dense_13_input\n",
      "INFO:tensorflow:KerasCrossShard: <tensorflow.python.keras.optimizers.SGD object at 0x7f9330d1e828> [<tf.Variable 'tpu_140270159689040/SGD/iterations:0' shape=() dtype=int64>, <tensorflow.contrib.tpu.python.tpu.keras_tpu_variables.ReplicatedVariable object at 0x7f933060f358>, <tensorflow.contrib.tpu.python.tpu.keras_tpu_variables.ReplicatedVariable object at 0x7f93305a9dd8>, <tensorflow.contrib.tpu.python.tpu.keras_tpu_variables.ReplicatedVariable object at 0x7f933060f9e8>, <tensorflow.contrib.tpu.python.tpu.keras_tpu_variables.ReplicatedVariable object at 0x7f93305cca58>, <tensorflow.contrib.tpu.python.tpu.keras_tpu_variables.ReplicatedVariable object at 0x7f9330572b38>, <tensorflow.contrib.tpu.python.tpu.keras_tpu_variables.ReplicatedVariable object at 0x7f93304e2eb8>]\n",
      "INFO:tensorflow:Started compiling\n",
      "INFO:tensorflow:Finished compiling. Time elapsed: 5.335913181304932 secs\n",
      "232365/232365 [==============================] - 50s 217us/sample - loss: 3.4737 - acc: 0.1310\n",
      "Epoch 2/20\n",
      "232365/232365 [==============================] - 23s 97us/sample - loss: 2.6812 - acc: 0.3136\n",
      "Epoch 3/20\n",
      "232365/232365 [==============================] - 23s 99us/sample - loss: 2.3240 - acc: 0.3967\n",
      "Epoch 4/20\n",
      "232365/232365 [==============================] - 23s 99us/sample - loss: 2.1315 - acc: 0.4431\n",
      "Epoch 5/20\n",
      "232365/232365 [==============================] - 23s 100us/sample - loss: 2.0048 - acc: 0.4740\n",
      "Epoch 6/20\n",
      "232365/232365 [==============================] - 22s 95us/sample - loss: 1.9095 - acc: 0.4997\n",
      "Epoch 7/20\n",
      "232365/232365 [==============================] - 23s 98us/sample - loss: 1.8499 - acc: 0.5134\n",
      "Epoch 8/20\n",
      "232365/232365 [==============================] - 23s 98us/sample - loss: 1.7950 - acc: 0.5272\n",
      "Epoch 9/20\n",
      "232365/232365 [==============================] - 22s 96us/sample - loss: 1.7457 - acc: 0.5402\n",
      "Epoch 10/20\n",
      "232365/232365 [==============================] - 23s 97us/sample - loss: 1.7097 - acc: 0.5481\n",
      "Epoch 11/20\n",
      "232365/232365 [==============================] - 23s 101us/sample - loss: 1.6733 - acc: 0.5594\n",
      "Epoch 12/20\n",
      "232365/232365 [==============================] - 23s 101us/sample - loss: 1.6479 - acc: 0.5642\n",
      "Epoch 13/20\n",
      "232365/232365 [==============================] - 22s 97us/sample - loss: 1.6197 - acc: 0.5719\n",
      "Epoch 14/20\n",
      "232365/232365 [==============================] - 23s 99us/sample - loss: 1.5918 - acc: 0.5787\n",
      "Epoch 15/20\n",
      "232365/232365 [==============================] - 23s 99us/sample - loss: 1.5699 - acc: 0.5832\n",
      "Epoch 16/20\n",
      "232365/232365 [==============================] - 23s 98us/sample - loss: 1.5529 - acc: 0.5878\n",
      "Epoch 17/20\n",
      "232365/232365 [==============================] - 23s 100us/sample - loss: 1.5351 - acc: 0.5927\n",
      "Epoch 18/20\n",
      "232365/232365 [==============================] - 24s 101us/sample - loss: 1.5175 - acc: 0.5970\n",
      "Epoch 19/20\n",
      "232365/232365 [==============================] - 24s 102us/sample - loss: 1.5011 - acc: 0.6009\n",
      "Epoch 20/20\n",
      "232365/232365 [==============================] - 23s 99us/sample - loss: 1.4914 - acc: 0.6051\n"
     ]
    },
    {
     "data": {
      "text/plain": [
       "<tensorflow.python.keras.callbacks.History at 0x7f9331199898>"
      ]
     },
     "execution_count": 55,
     "metadata": {
      "tags": []
     },
     "output_type": "execute_result"
    }
   ],
   "source": [
    "tpu_model.compile(loss = 'categorical_crossentropy', optimizer = 'sgd', metrics=['accuracy'])\n",
    "tpu_model.fit(x_train, y_train, batch_size = 128, epochs=20)"
   ]
  },
  {
   "cell_type": "code",
   "execution_count": 0,
   "metadata": {
    "colab": {},
    "colab_type": "code",
    "id": "PGOiK882S2Ln"
   },
   "outputs": [],
   "source": [
    "model = Sequential()\n",
    "model.add(Dense(512,input_dim=28*28, activation = 'relu'))\n",
    "model.add(Dropout(0.5))\n",
    "model.add(Dense(256, activation = 'relu'))\n",
    "model.add(Dropout(0.5))\n",
    "model.add(Dense(49, activation='softmax'))"
   ]
  },
  {
   "cell_type": "code",
   "execution_count": 35,
   "metadata": {
    "colab": {
     "base_uri": "https://localhost:8080/",
     "height": 395
    },
    "colab_type": "code",
    "executionInfo": {
     "elapsed": 256320,
     "status": "ok",
     "timestamp": 1554874462224,
     "user": {
      "displayName": "Namuk Ko",
      "photoUrl": "",
      "userId": "01152405186334492078"
     },
     "user_tz": -540
    },
    "id": "lJQ1XLSaCeo4",
    "outputId": "a01e9fdd-f820-42a6-f066-bef648ddad8b"
   },
   "outputs": [
    {
     "name": "stdout",
     "output_type": "stream",
     "text": [
      "Epoch 1/10\n",
      "232365/232365 [==============================] - 25s 109us/sample - loss: 1.3134 - accuracy: 0.6553\n",
      "Epoch 2/10\n",
      "232365/232365 [==============================] - 26s 112us/sample - loss: 0.8671 - accuracy: 0.7659\n",
      "Epoch 3/10\n",
      "232365/232365 [==============================] - 26s 111us/sample - loss: 0.7703 - accuracy: 0.7906\n",
      "Epoch 4/10\n",
      "232365/232365 [==============================] - 25s 109us/sample - loss: 0.7202 - accuracy: 0.8026\n",
      "Epoch 5/10\n",
      "232365/232365 [==============================] - 26s 111us/sample - loss: 0.6915 - accuracy: 0.8101\n",
      "Epoch 6/10\n",
      "232365/232365 [==============================] - 25s 110us/sample - loss: 0.6672 - accuracy: 0.8156\n",
      "Epoch 7/10\n",
      "232365/232365 [==============================] - 25s 108us/sample - loss: 0.6517 - accuracy: 0.8207\n",
      "Epoch 8/10\n",
      "232365/232365 [==============================] - 25s 109us/sample - loss: 0.6334 - accuracy: 0.8253\n",
      "Epoch 9/10\n",
      "232365/232365 [==============================] - 26s 110us/sample - loss: 0.6224 - accuracy: 0.8277\n",
      "Epoch 10/10\n",
      "232365/232365 [==============================] - 25s 109us/sample - loss: 0.6119 - accuracy: 0.8305\n"
     ]
    },
    {
     "data": {
      "text/plain": [
       "<tensorflow.python.keras.callbacks.History at 0x7fef502fd4e0>"
      ]
     },
     "execution_count": 35,
     "metadata": {
      "tags": []
     },
     "output_type": "execute_result"
    }
   ],
   "source": [
    "model.compile(loss = 'categorical_crossentropy', optimizer = 'adam', metrics=['accuracy'])\n",
    "model.fit(x_train, y_train, batch_size = 128, epochs=10)"
   ]
  },
  {
   "cell_type": "code",
   "execution_count": 36,
   "metadata": {
    "colab": {
     "base_uri": "https://localhost:8080/",
     "height": 71
    },
    "colab_type": "code",
    "executionInfo": {
     "elapsed": 4694,
     "status": "ok",
     "timestamp": 1554874478194,
     "user": {
      "displayName": "Namuk Ko",
      "photoUrl": "",
      "userId": "01152405186334492078"
     },
     "user_tz": -540
    },
    "id": "VuCmV1uBBek5",
    "outputId": "8cc81ee2-ffce-47ea-846a-7e25c087bb0c"
   },
   "outputs": [
    {
     "name": "stdout",
     "output_type": "stream",
     "text": [
      "38547/38547 [==============================] - 4s 106us/sample - loss: 0.6797 - accuracy: 0.8158\n",
      "loss:  0.679657988161924\n",
      "acc:  0.8157833\n"
     ]
    }
   ],
   "source": [
    "score = model.evaluate(x_test,y_test)\n",
    "print('loss: ', score[0])\n",
    "print('acc: ', score[1])"
   ]
  },
  {
   "cell_type": "code",
   "execution_count": 0,
   "metadata": {
    "colab": {},
    "colab_type": "code",
    "id": "ogBrA9SXFUG1"
   },
   "outputs": [],
   "source": []
  }
 ],
 "metadata": {
  "accelerator": "TPU",
  "colab": {
   "collapsed_sections": [],
   "name": "kmnist.ipynb",
   "provenance": [],
   "version": "0.3.2"
  },
  "kernelspec": {
   "display_name": "Python 3",
   "language": "python",
   "name": "python3"
  },
  "language_info": {
   "codemirror_mode": {
    "name": "ipython",
    "version": 3
   },
   "file_extension": ".py",
   "mimetype": "text/x-python",
   "name": "python",
   "nbconvert_exporter": "python",
   "pygments_lexer": "ipython3",
   "version": "3.6.9"
  }
 },
 "nbformat": 4,
 "nbformat_minor": 1
}
