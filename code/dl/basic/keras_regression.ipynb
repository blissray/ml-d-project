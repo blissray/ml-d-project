{
 "cells": [
  {
   "cell_type": "code",
   "execution_count": 1,
   "metadata": {},
   "outputs": [],
   "source": [
    "from sklearn.datasets import load_boston\n",
    "import matplotlib.pyplot as plt\n",
    "import numpy as np"
   ]
  },
  {
   "cell_type": "code",
   "execution_count": 3,
   "metadata": {},
   "outputs": [
    {
     "data": {
      "text/plain": [
       "array([[6.3200e-03, 1.8000e+01, 2.3100e+00, ..., 1.5300e+01, 3.9690e+02,\n",
       "        4.9800e+00],\n",
       "       [2.7310e-02, 0.0000e+00, 7.0700e+00, ..., 1.7800e+01, 3.9690e+02,\n",
       "        9.1400e+00],\n",
       "       [2.7290e-02, 0.0000e+00, 7.0700e+00, ..., 1.7800e+01, 3.9283e+02,\n",
       "        4.0300e+00],\n",
       "       ...,\n",
       "       [6.0760e-02, 0.0000e+00, 1.1930e+01, ..., 2.1000e+01, 3.9690e+02,\n",
       "        5.6400e+00],\n",
       "       [1.0959e-01, 0.0000e+00, 1.1930e+01, ..., 2.1000e+01, 3.9345e+02,\n",
       "        6.4800e+00],\n",
       "       [4.7410e-02, 0.0000e+00, 1.1930e+01, ..., 2.1000e+01, 3.9690e+02,\n",
       "        7.8800e+00]])"
      ]
     },
     "execution_count": 3,
     "metadata": {},
     "output_type": "execute_result"
    }
   ],
   "source": [
    "boston = load_boston()\n",
    "boston[\"data\"]"
   ]
  },
  {
   "cell_type": "code",
   "execution_count": null,
   "metadata": {},
   "outputs": [],
   "source": [
    "boston[\"feature_names\"]"
   ]
  },
  {
   "cell_type": "code",
   "execution_count": 6,
   "metadata": {},
   "outputs": [
    {
     "data": {
      "text/plain": [
       "sklearn.utils.Bunch"
      ]
     },
     "execution_count": 6,
     "metadata": {},
     "output_type": "execute_result"
    }
   ],
   "source": [
    "type(boston)"
   ]
  },
  {
   "cell_type": "code",
   "execution_count": 5,
   "metadata": {},
   "outputs": [],
   "source": [
    "x_data = boston.data\n",
    "y_data = boston.target.reshape(boston.target.size,1)"
   ]
  },
  {
   "cell_type": "code",
   "execution_count": 36,
   "metadata": {},
   "outputs": [
    {
     "data": {
      "text/plain": [
       "((506, 1), (506, 13))"
      ]
     },
     "execution_count": 36,
     "metadata": {},
     "output_type": "execute_result"
    }
   ],
   "source": [
    "y_data.shape, x_data.shape\n"
   ]
  },
  {
   "cell_type": "code",
   "execution_count": 37,
   "metadata": {},
   "outputs": [
    {
     "data": {
      "text/plain": [
       "array([[0.00000000e+00, 9.00000000e-01, 3.39076246e-01, 0.00000000e+00,\n",
       "        1.57407407e+00, 2.88752635e+00, 3.20803296e+00, 1.34601570e+00,\n",
       "        0.00000000e+00, 1.04007634e+00, 1.43617021e+00, 5.00000000e+00,\n",
       "        4.48399558e-01],\n",
       "       [1.17961270e-03, 0.00000000e+00, 1.21151026e+00, 0.00000000e+00,\n",
       "        8.64197531e-01, 2.73998850e+00, 3.91349125e+00, 1.74480990e+00,\n",
       "        2.17391304e-01, 5.24809160e-01, 2.76595745e+00, 5.00000000e+00,\n",
       "        1.02235099e+00],\n",
       "       [1.17848872e-03, 0.00000000e+00, 1.21151026e+00, 0.00000000e+00,\n",
       "        8.64197531e-01, 3.47192949e+00, 2.99691040e+00, 1.74480990e+00,\n",
       "        2.17391304e-01, 5.24809160e-01, 2.76595745e+00, 4.94868627e+00,\n",
       "        3.17328918e-01]])"
      ]
     },
     "execution_count": 37,
     "metadata": {},
     "output_type": "execute_result"
    }
   ],
   "source": [
    "from sklearn import preprocessing\n",
    "\n",
    "minmax_scale = preprocessing.MinMaxScaler(\n",
    "    feature_range=(0,5)).fit(x_data)\n",
    "# standard_scale = preprocessing.StandardScaler().fit(x_data)\n",
    "x_scaled_data = minmax_scale.transform(x_data)\n",
    "\n",
    "x_scaled_data[:3]"
   ]
  },
  {
   "cell_type": "code",
   "execution_count": 38,
   "metadata": {},
   "outputs": [],
   "source": [
    "from sklearn.model_selection import train_test_split\n",
    "\n",
    "X_train, X_test, y_train, y_test = train_test_split(x_scaled_data, y_data, test_size=0.33)"
   ]
  },
  {
   "cell_type": "code",
   "execution_count": 39,
   "metadata": {},
   "outputs": [],
   "source": [
    "import tensorflow as tf\n",
    "from tensorflow import keras\n",
    "from tensorflow.keras.layers import Dense"
   ]
  },
  {
   "cell_type": "code",
   "execution_count": 40,
   "metadata": {},
   "outputs": [],
   "source": [
    "model = keras.models.Sequential()\n",
    "model.add(Dense(128, activation='sigmoid', input_shape=(13,)))\n",
    "model.add(Dense(64, activation='sigmoid'))\n",
    "model.add(Dense(1, kernel_initializer='normal'))"
   ]
  },
  {
   "cell_type": "code",
   "execution_count": 41,
   "metadata": {},
   "outputs": [
    {
     "name": "stdout",
     "output_type": "stream",
     "text": [
      "Model: \"sequential_3\"\n",
      "_________________________________________________________________\n",
      "Layer (type)                 Output Shape              Param #   \n",
      "=================================================================\n",
      "dense_9 (Dense)              (None, 128)               1792      \n",
      "_________________________________________________________________\n",
      "dense_10 (Dense)             (None, 64)                8256      \n",
      "_________________________________________________________________\n",
      "dense_11 (Dense)             (None, 1)                 65        \n",
      "=================================================================\n",
      "Total params: 10,113\n",
      "Trainable params: 10,113\n",
      "Non-trainable params: 0\n",
      "_________________________________________________________________\n"
     ]
    }
   ],
   "source": [
    "model.summary()"
   ]
  },
  {
   "cell_type": "code",
   "execution_count": 42,
   "metadata": {},
   "outputs": [],
   "source": [
    "sgd = optimizers.SGD(lr=0.01, decay=1e-6, momentum=0.9, nesterov=True)\n",
    "\n",
    "model.compile(\n",
    "    loss='mean_squared_error', optimizer='sgd', metrics=['mse', 'mae'])\n",
    "\n",
    "model.compile(\n",
    "    loss='mean_squared_error', optimizer=sgd, metrics=['mse', 'mae'])\n",
    "\n",
    "# model.compile(loss='mean_squared_error', optimizer=sgd)"
   ]
  },
  {
   "cell_type": "code",
   "execution_count": 43,
   "metadata": {},
   "outputs": [
    {
     "name": "stdout",
     "output_type": "stream",
     "text": [
      "Train on 339 samples, validate on 167 samples\n",
      "Epoch 1/100\n",
      "339/339 [==============================] - 0s 341us/sample - loss: 513.7465 - mse: 513.7465 - mae: 20.6135 - val_loss: 378.9998 - val_mse: 378.9998 - val_mae: 17.3551\n",
      "Epoch 2/100\n",
      "339/339 [==============================] - 0s 17us/sample - loss: 335.4484 - mse: 335.4484 - mae: 15.7004 - val_loss: 229.8480 - val_mse: 229.8480 - val_mae: 12.4786\n",
      "Epoch 3/100\n",
      "339/339 [==============================] - 0s 16us/sample - loss: 205.3612 - mse: 205.3612 - mae: 11.2619 - val_loss: 143.7422 - val_mse: 143.7422 - val_mae: 9.0576\n",
      "Epoch 4/100\n",
      "339/339 [==============================] - 0s 16us/sample - loss: 136.6974 - mse: 136.6974 - mae: 8.5350 - val_loss: 99.9267 - val_mse: 99.9267 - val_mae: 7.1075\n",
      "Epoch 5/100\n",
      "339/339 [==============================] - 0s 17us/sample - loss: 104.3470 - mse: 104.3470 - mae: 7.1710 - val_loss: 83.9364 - val_mse: 83.9364 - val_mae: 6.3990\n",
      "Epoch 6/100\n",
      "339/339 [==============================] - 0s 16us/sample - loss: 92.6951 - mse: 92.6951 - mae: 6.7490 - val_loss: 78.8665 - val_mse: 78.8665 - val_mae: 6.2297\n",
      "Epoch 7/100\n",
      "339/339 [==============================] - 0s 19us/sample - loss: 89.0181 - mse: 89.0181 - mae: 6.7542 - val_loss: 77.8901 - val_mse: 77.8901 - val_mae: 6.2192\n",
      "Epoch 8/100\n",
      "339/339 [==============================] - 0s 18us/sample - loss: 87.9601 - mse: 87.9601 - mae: 6.7365 - val_loss: 77.0675 - val_mse: 77.0675 - val_mae: 6.2423\n",
      "Epoch 9/100\n",
      "339/339 [==============================] - 0s 19us/sample - loss: 87.1772 - mse: 87.1772 - mae: 6.8090 - val_loss: 76.6648 - val_mse: 76.6648 - val_mae: 6.2083\n",
      "Epoch 10/100\n",
      "339/339 [==============================] - 0s 18us/sample - loss: 86.8784 - mse: 86.8784 - mae: 6.7435 - val_loss: 76.1675 - val_mse: 76.1675 - val_mae: 6.2148\n",
      "Epoch 11/100\n",
      "339/339 [==============================] - 0s 17us/sample - loss: 86.2995 - mse: 86.2995 - mae: 6.7690 - val_loss: 75.7156 - val_mse: 75.7156 - val_mae: 6.1792\n",
      "Epoch 12/100\n",
      "339/339 [==============================] - 0s 17us/sample - loss: 85.7387 - mse: 85.7387 - mae: 6.7018 - val_loss: 75.2845 - val_mse: 75.2845 - val_mae: 6.2035\n",
      "Epoch 13/100\n",
      "339/339 [==============================] - 0s 19us/sample - loss: 85.1632 - mse: 85.1632 - mae: 6.7365 - val_loss: 74.7779 - val_mse: 74.7779 - val_mae: 6.1740\n",
      "Epoch 14/100\n",
      "339/339 [==============================] - 0s 17us/sample - loss: 84.7120 - mse: 84.7120 - mae: 6.6950 - val_loss: 74.2574 - val_mse: 74.2574 - val_mae: 6.1498\n",
      "Epoch 15/100\n",
      "339/339 [==============================] - 0s 17us/sample - loss: 84.0540 - mse: 84.0540 - mae: 6.6695 - val_loss: 73.7449 - val_mse: 73.7449 - val_mae: 6.1364\n",
      "Epoch 16/100\n",
      "339/339 [==============================] - 0s 20us/sample - loss: 83.4641 - mse: 83.4641 - mae: 6.6514 - val_loss: 73.1961 - val_mse: 73.1961 - val_mae: 6.1096\n",
      "Epoch 17/100\n",
      "339/339 [==============================] - 0s 17us/sample - loss: 82.9593 - mse: 82.9593 - mae: 6.6385 - val_loss: 72.6386 - val_mse: 72.6386 - val_mae: 6.0887\n",
      "Epoch 18/100\n",
      "339/339 [==============================] - 0s 20us/sample - loss: 82.3536 - mse: 82.3536 - mae: 6.6326 - val_loss: 72.0274 - val_mse: 72.0274 - val_mae: 6.0290\n",
      "Epoch 19/100\n",
      "339/339 [==============================] - 0s 17us/sample - loss: 81.7410 - mse: 81.7410 - mae: 6.5319 - val_loss: 71.4678 - val_mse: 71.4678 - val_mae: 5.9993\n",
      "Epoch 20/100\n",
      "339/339 [==============================] - 0s 17us/sample - loss: 81.1036 - mse: 81.1036 - mae: 6.4894 - val_loss: 70.8398 - val_mse: 70.8399 - val_mae: 5.9649\n",
      "Epoch 21/100\n",
      "339/339 [==============================] - 0s 17us/sample - loss: 80.4143 - mse: 80.4143 - mae: 6.4823 - val_loss: 70.3098 - val_mse: 70.3098 - val_mae: 5.9092\n",
      "Epoch 22/100\n",
      "339/339 [==============================] - 0s 18us/sample - loss: 79.9932 - mse: 79.9932 - mae: 6.3657 - val_loss: 69.6817 - val_mse: 69.6817 - val_mae: 5.8800\n",
      "Epoch 23/100\n",
      "339/339 [==============================] - 0s 18us/sample - loss: 79.0673 - mse: 79.0673 - mae: 6.3458 - val_loss: 68.9745 - val_mse: 68.9745 - val_mae: 5.8755\n",
      "Epoch 24/100\n",
      "339/339 [==============================] - 0s 19us/sample - loss: 78.2851 - mse: 78.2851 - mae: 6.3474 - val_loss: 68.3328 - val_mse: 68.3328 - val_mae: 5.8512\n",
      "Epoch 25/100\n",
      "339/339 [==============================] - 0s 20us/sample - loss: 77.5589 - mse: 77.5589 - mae: 6.3146 - val_loss: 67.6427 - val_mse: 67.6427 - val_mae: 5.8148\n",
      "Epoch 26/100\n",
      "339/339 [==============================] - 0s 20us/sample - loss: 76.8429 - mse: 76.8429 - mae: 6.2722 - val_loss: 66.8681 - val_mse: 66.8681 - val_mae: 5.7995\n",
      "Epoch 27/100\n",
      "339/339 [==============================] - 0s 17us/sample - loss: 75.9058 - mse: 75.9058 - mae: 6.2477 - val_loss: 66.1075 - val_mse: 66.1075 - val_mae: 5.7187\n",
      "Epoch 28/100\n",
      "339/339 [==============================] - 0s 17us/sample - loss: 75.1716 - mse: 75.1716 - mae: 6.1827 - val_loss: 65.3385 - val_mse: 65.3385 - val_mae: 5.6972\n",
      "Epoch 29/100\n",
      "339/339 [==============================] - 0s 16us/sample - loss: 74.2707 - mse: 74.2707 - mae: 6.1343 - val_loss: 64.6302 - val_mse: 64.6302 - val_mae: 5.6923\n",
      "Epoch 30/100\n",
      "339/339 [==============================] - 0s 18us/sample - loss: 73.5309 - mse: 73.5309 - mae: 6.1542 - val_loss: 63.8593 - val_mse: 63.8593 - val_mae: 5.6158\n",
      "Epoch 31/100\n",
      "339/339 [==============================] - 0s 17us/sample - loss: 72.8026 - mse: 72.8026 - mae: 6.0419 - val_loss: 63.0529 - val_mse: 63.0529 - val_mae: 5.6144\n",
      "Epoch 32/100\n",
      "339/339 [==============================] - 0s 18us/sample - loss: 71.7748 - mse: 71.7748 - mae: 6.0247 - val_loss: 62.2109 - val_mse: 62.2109 - val_mae: 5.5661\n",
      "Epoch 33/100\n",
      "339/339 [==============================] - 0s 17us/sample - loss: 70.8816 - mse: 70.8816 - mae: 6.0213 - val_loss: 61.4158 - val_mse: 61.4158 - val_mae: 5.5037\n",
      "Epoch 34/100\n",
      "339/339 [==============================] - 0s 17us/sample - loss: 70.0344 - mse: 70.0344 - mae: 5.9250 - val_loss: 60.6976 - val_mse: 60.6976 - val_mae: 5.4449\n",
      "Epoch 35/100\n",
      "339/339 [==============================] - 0s 17us/sample - loss: 69.2078 - mse: 69.2078 - mae: 5.8506 - val_loss: 59.9516 - val_mse: 59.9516 - val_mae: 5.4033\n",
      "Epoch 36/100\n",
      "339/339 [==============================] - 0s 17us/sample - loss: 68.3643 - mse: 68.3643 - mae: 5.7358 - val_loss: 59.1670 - val_mse: 59.1670 - val_mae: 5.4940\n",
      "Epoch 37/100\n",
      "339/339 [==============================] - 0s 17us/sample - loss: 67.2850 - mse: 67.2850 - mae: 5.8458 - val_loss: 58.3576 - val_mse: 58.3576 - val_mae: 5.4476\n",
      "Epoch 38/100\n",
      "339/339 [==============================] - 0s 19us/sample - loss: 66.4288 - mse: 66.4288 - mae: 5.8106 - val_loss: 57.4904 - val_mse: 57.4904 - val_mae: 5.3527\n",
      "Epoch 39/100\n",
      "339/339 [==============================] - 0s 17us/sample - loss: 65.5950 - mse: 65.5950 - mae: 5.6786 - val_loss: 56.8623 - val_mse: 56.8623 - val_mae: 5.3976\n",
      "Epoch 40/100\n",
      "339/339 [==============================] - 0s 20us/sample - loss: 64.7983 - mse: 64.7983 - mae: 5.7338 - val_loss: 56.2599 - val_mse: 56.2599 - val_mae: 5.4158\n",
      "Epoch 41/100\n",
      "339/339 [==============================] - 0s 17us/sample - loss: 64.0042 - mse: 64.0042 - mae: 5.7082 - val_loss: 55.6998 - val_mse: 55.6998 - val_mae: 5.4303\n",
      "Epoch 42/100\n",
      "339/339 [==============================] - 0s 17us/sample - loss: 63.3446 - mse: 63.3446 - mae: 5.6995 - val_loss: 54.6543 - val_mse: 54.6543 - val_mae: 5.3178\n",
      "Epoch 43/100\n",
      "339/339 [==============================] - 0s 17us/sample - loss: 62.3464 - mse: 62.3464 - mae: 5.6509 - val_loss: 53.7060 - val_mse: 53.7060 - val_mae: 5.2392\n",
      "Epoch 44/100\n",
      "339/339 [==============================] - 0s 18us/sample - loss: 61.4127 - mse: 61.4127 - mae: 5.5577 - val_loss: 52.9540 - val_mse: 52.9540 - val_mae: 5.1700\n",
      "Epoch 45/100\n",
      "339/339 [==============================] - 0s 16us/sample - loss: 60.6558 - mse: 60.6558 - mae: 5.4967 - val_loss: 52.2300 - val_mse: 52.2300 - val_mae: 5.1260\n",
      "Epoch 46/100\n",
      "339/339 [==============================] - 0s 17us/sample - loss: 59.8239 - mse: 59.8239 - mae: 5.4088 - val_loss: 51.5118 - val_mse: 51.5118 - val_mae: 5.0803\n",
      "Epoch 47/100\n",
      "339/339 [==============================] - 0s 18us/sample - loss: 59.0546 - mse: 59.0546 - mae: 5.3795 - val_loss: 50.8409 - val_mse: 50.8409 - val_mae: 5.0414\n",
      "Epoch 48/100\n"
     ]
    },
    {
     "name": "stdout",
     "output_type": "stream",
     "text": [
      "339/339 [==============================] - 0s 16us/sample - loss: 58.3019 - mse: 58.3019 - mae: 5.3289 - val_loss: 50.1842 - val_mse: 50.1842 - val_mae: 4.9823\n",
      "Epoch 49/100\n",
      "339/339 [==============================] - 0s 17us/sample - loss: 57.6088 - mse: 57.6088 - mae: 5.2206 - val_loss: 49.5152 - val_mse: 49.5152 - val_mae: 5.0355\n",
      "Epoch 50/100\n",
      "339/339 [==============================] - 0s 18us/sample - loss: 56.9418 - mse: 56.9418 - mae: 5.3461 - val_loss: 49.0087 - val_mse: 49.0087 - val_mae: 4.9062\n",
      "Epoch 51/100\n",
      "339/339 [==============================] - 0s 19us/sample - loss: 56.3661 - mse: 56.3661 - mae: 5.1891 - val_loss: 48.3898 - val_mse: 48.3898 - val_mae: 4.9689\n",
      "Epoch 52/100\n",
      "339/339 [==============================] - 0s 18us/sample - loss: 55.6282 - mse: 55.6282 - mae: 5.1662 - val_loss: 48.1205 - val_mse: 48.1205 - val_mae: 5.0844\n",
      "Epoch 53/100\n",
      "339/339 [==============================] - 0s 17us/sample - loss: 55.1036 - mse: 55.1036 - mae: 5.2513 - val_loss: 47.5736 - val_mse: 47.5736 - val_mae: 5.0484\n",
      "Epoch 54/100\n",
      "339/339 [==============================] - 0s 19us/sample - loss: 54.5305 - mse: 54.5305 - mae: 5.2432 - val_loss: 46.7910 - val_mse: 46.7910 - val_mae: 4.9132\n",
      "Epoch 55/100\n",
      "339/339 [==============================] - 0s 18us/sample - loss: 53.7648 - mse: 53.7648 - mae: 5.1334 - val_loss: 46.2010 - val_mse: 46.2010 - val_mae: 4.8176\n",
      "Epoch 56/100\n",
      "339/339 [==============================] - 0s 17us/sample - loss: 53.3137 - mse: 53.3137 - mae: 5.0446 - val_loss: 45.7671 - val_mse: 45.7671 - val_mae: 4.7527\n",
      "Epoch 57/100\n",
      "339/339 [==============================] - 0s 18us/sample - loss: 52.7259 - mse: 52.7259 - mae: 4.9451 - val_loss: 45.1871 - val_mse: 45.1871 - val_mae: 4.7959\n",
      "Epoch 58/100\n",
      "339/339 [==============================] - 0s 17us/sample - loss: 52.1221 - mse: 52.1221 - mae: 4.9961 - val_loss: 44.7986 - val_mse: 44.7986 - val_mae: 4.8722\n",
      "Epoch 59/100\n",
      "339/339 [==============================] - 0s 18us/sample - loss: 51.4313 - mse: 51.4313 - mae: 5.0102 - val_loss: 44.3048 - val_mse: 44.3048 - val_mae: 4.8462\n",
      "Epoch 60/100\n",
      "339/339 [==============================] - 0s 19us/sample - loss: 50.8812 - mse: 50.8812 - mae: 5.0065 - val_loss: 43.7083 - val_mse: 43.7083 - val_mae: 4.6971\n",
      "Epoch 61/100\n",
      "339/339 [==============================] - 0s 20us/sample - loss: 50.3806 - mse: 50.3806 - mae: 4.8787 - val_loss: 43.2748 - val_mse: 43.2748 - val_mae: 4.6759\n",
      "Epoch 62/100\n",
      "339/339 [==============================] - 0s 22us/sample - loss: 50.0217 - mse: 50.0217 - mae: 4.8547 - val_loss: 42.9552 - val_mse: 42.9552 - val_mae: 4.7292\n",
      "Epoch 63/100\n",
      "339/339 [==============================] - 0s 18us/sample - loss: 49.6435 - mse: 49.6435 - mae: 4.8738 - val_loss: 42.5113 - val_mse: 42.5113 - val_mae: 4.7168\n",
      "Epoch 64/100\n",
      "339/339 [==============================] - 0s 17us/sample - loss: 48.9980 - mse: 48.9980 - mae: 4.8171 - val_loss: 42.0061 - val_mse: 42.0061 - val_mae: 4.6466\n",
      "Epoch 65/100\n",
      "339/339 [==============================] - 0s 17us/sample - loss: 48.4871 - mse: 48.4871 - mae: 4.7670 - val_loss: 41.7056 - val_mse: 41.7056 - val_mae: 4.6874\n",
      "Epoch 66/100\n",
      "339/339 [==============================] - 0s 17us/sample - loss: 48.0894 - mse: 48.0894 - mae: 4.7906 - val_loss: 41.3689 - val_mse: 41.3689 - val_mae: 4.6931\n",
      "Epoch 67/100\n",
      "339/339 [==============================] - 0s 17us/sample - loss: 47.5980 - mse: 47.5980 - mae: 4.7715 - val_loss: 40.7163 - val_mse: 40.7163 - val_mae: 4.5462\n",
      "Epoch 68/100\n",
      "339/339 [==============================] - 0s 17us/sample - loss: 47.0791 - mse: 47.0791 - mae: 4.6356 - val_loss: 40.5094 - val_mse: 40.5094 - val_mae: 4.6639\n",
      "Epoch 69/100\n",
      "339/339 [==============================] - 0s 18us/sample - loss: 46.6846 - mse: 46.6846 - mae: 4.7352 - val_loss: 39.9706 - val_mse: 39.9706 - val_mae: 4.5884\n",
      "Epoch 70/100\n",
      "339/339 [==============================] - 0s 18us/sample - loss: 46.0568 - mse: 46.0568 - mae: 4.6850 - val_loss: 39.4518 - val_mse: 39.4518 - val_mae: 4.4574\n",
      "Epoch 71/100\n",
      "339/339 [==============================] - 0s 17us/sample - loss: 45.5408 - mse: 45.5408 - mae: 4.5220 - val_loss: 39.2488 - val_mse: 39.2488 - val_mae: 4.5607\n",
      "Epoch 72/100\n",
      "339/339 [==============================] - 0s 17us/sample - loss: 45.1493 - mse: 45.1493 - mae: 4.5930 - val_loss: 38.7660 - val_mse: 38.7660 - val_mae: 4.4756\n",
      "Epoch 73/100\n",
      "339/339 [==============================] - 0s 17us/sample - loss: 44.8188 - mse: 44.8188 - mae: 4.5297 - val_loss: 38.3984 - val_mse: 38.3984 - val_mae: 4.4145\n",
      "Epoch 74/100\n",
      "339/339 [==============================] - 0s 17us/sample - loss: 44.3971 - mse: 44.3971 - mae: 4.4974 - val_loss: 38.1472 - val_mse: 38.1472 - val_mae: 4.3260\n",
      "Epoch 75/100\n",
      "339/339 [==============================] - 0s 18us/sample - loss: 44.1111 - mse: 44.1111 - mae: 4.4060 - val_loss: 37.8846 - val_mse: 37.8846 - val_mae: 4.4835\n",
      "Epoch 76/100\n",
      "339/339 [==============================] - 0s 18us/sample - loss: 43.5789 - mse: 43.5789 - mae: 4.4469 - val_loss: 37.5043 - val_mse: 37.5043 - val_mae: 4.4701\n",
      "Epoch 77/100\n",
      "339/339 [==============================] - 0s 17us/sample - loss: 43.2068 - mse: 43.2068 - mae: 4.4046 - val_loss: 38.5856 - val_mse: 38.5856 - val_mae: 4.7867\n",
      "Epoch 78/100\n",
      "339/339 [==============================] - 0s 17us/sample - loss: 43.0104 - mse: 43.0104 - mae: 4.6736 - val_loss: 36.6635 - val_mse: 36.6635 - val_mae: 4.3983\n",
      "Epoch 79/100\n",
      "339/339 [==============================] - 0s 18us/sample - loss: 42.2214 - mse: 42.2214 - mae: 4.3836 - val_loss: 36.1919 - val_mse: 36.1919 - val_mae: 4.2913\n",
      "Epoch 80/100\n",
      "339/339 [==============================] - 0s 18us/sample - loss: 41.8258 - mse: 41.8258 - mae: 4.3010 - val_loss: 35.8624 - val_mse: 35.8624 - val_mae: 4.3093\n",
      "Epoch 81/100\n",
      "339/339 [==============================] - 0s 17us/sample - loss: 41.3349 - mse: 41.3349 - mae: 4.3067 - val_loss: 35.5486 - val_mse: 35.5486 - val_mae: 4.2177\n",
      "Epoch 82/100\n",
      "339/339 [==============================] - 0s 19us/sample - loss: 40.9835 - mse: 40.9835 - mae: 4.1857 - val_loss: 35.4029 - val_mse: 35.4029 - val_mae: 4.3647\n",
      "Epoch 83/100\n",
      "339/339 [==============================] - 0s 17us/sample - loss: 40.6198 - mse: 40.6198 - mae: 4.3049 - val_loss: 34.8802 - val_mse: 34.8802 - val_mae: 4.1913\n",
      "Epoch 84/100\n",
      "339/339 [==============================] - 0s 18us/sample - loss: 40.1208 - mse: 40.1208 - mae: 4.1417 - val_loss: 34.5351 - val_mse: 34.5351 - val_mae: 4.2045\n",
      "Epoch 85/100\n",
      "339/339 [==============================] - 0s 19us/sample - loss: 39.7792 - mse: 39.7792 - mae: 4.1702 - val_loss: 34.2468 - val_mse: 34.2468 - val_mae: 4.2337\n",
      "Epoch 86/100\n",
      "339/339 [==============================] - 0s 17us/sample - loss: 39.3055 - mse: 39.3055 - mae: 4.1635 - val_loss: 33.8938 - val_mse: 33.8938 - val_mae: 4.2130\n",
      "Epoch 87/100\n",
      "339/339 [==============================] - 0s 18us/sample - loss: 38.9456 - mse: 38.9456 - mae: 4.1164 - val_loss: 33.6766 - val_mse: 33.6766 - val_mae: 4.2548\n",
      "Epoch 88/100\n",
      "339/339 [==============================] - 0s 17us/sample - loss: 38.5490 - mse: 38.5490 - mae: 4.1405 - val_loss: 33.3583 - val_mse: 33.3583 - val_mae: 4.2356\n",
      "Epoch 89/100\n",
      "339/339 [==============================] - 0s 18us/sample - loss: 38.2450 - mse: 38.2450 - mae: 4.1336 - val_loss: 32.9232 - val_mse: 32.9232 - val_mae: 4.1763\n",
      "Epoch 90/100\n",
      "339/339 [==============================] - 0s 18us/sample - loss: 37.7381 - mse: 37.7381 - mae: 4.0873 - val_loss: 32.6200 - val_mse: 32.6200 - val_mae: 4.0689\n",
      "Epoch 91/100\n",
      "339/339 [==============================] - 0s 19us/sample - loss: 37.4385 - mse: 37.4385 - mae: 3.9822 - val_loss: 32.3613 - val_mse: 32.3613 - val_mae: 4.0380\n",
      "Epoch 92/100\n",
      "339/339 [==============================] - 0s 17us/sample - loss: 37.0651 - mse: 37.0651 - mae: 3.9651 - val_loss: 32.0293 - val_mse: 32.0293 - val_mae: 4.0685\n",
      "Epoch 93/100\n",
      "339/339 [==============================] - 0s 18us/sample - loss: 36.6953 - mse: 36.6953 - mae: 3.9785 - val_loss: 31.7274 - val_mse: 31.7274 - val_mae: 4.0919\n",
      "Epoch 94/100\n",
      "339/339 [==============================] - 0s 17us/sample - loss: 36.3037 - mse: 36.3037 - mae: 3.9808 - val_loss: 31.4579 - val_mse: 31.4579 - val_mae: 4.0178\n",
      "Epoch 95/100\n",
      "339/339 [==============================] - 0s 17us/sample - loss: 36.0777 - mse: 36.0777 - mae: 3.9316 - val_loss: 31.1590 - val_mse: 31.1590 - val_mae: 4.0451\n",
      "Epoch 96/100\n",
      "339/339 [==============================] - 0s 17us/sample - loss: 35.6869 - mse: 35.6869 - mae: 3.8772 - val_loss: 30.8913 - val_mse: 30.8913 - val_mae: 4.0474\n",
      "Epoch 97/100\n",
      "339/339 [==============================] - 0s 17us/sample - loss: 35.3678 - mse: 35.3678 - mae: 3.9096 - val_loss: 30.6323 - val_mse: 30.6323 - val_mae: 3.9680\n",
      "Epoch 98/100\n",
      "339/339 [==============================] - 0s 18us/sample - loss: 34.9315 - mse: 34.9315 - mae: 3.7904 - val_loss: 30.6578 - val_mse: 30.6578 - val_mae: 4.1247\n",
      "Epoch 99/100\n",
      "339/339 [==============================] - 0s 17us/sample - loss: 34.7126 - mse: 34.7126 - mae: 3.9648 - val_loss: 30.0782 - val_mse: 30.0782 - val_mae: 3.9677\n",
      "Epoch 100/100\n",
      "339/339 [==============================] - 0s 18us/sample - loss: 34.3719 - mse: 34.3719 - mae: 3.8393 - val_loss: 29.8187 - val_mse: 29.8187 - val_mae: 3.9433\n"
     ]
    }
   ],
   "source": [
    "history = model.fit(X_train, y_train,\n",
    "                    batch_size=64,\n",
    "                    epochs=100,\n",
    "                    verbose=1,\n",
    "                    validation_data=(X_test, y_test))"
   ]
  },
  {
   "cell_type": "code",
   "execution_count": 44,
   "metadata": {},
   "outputs": [
    {
     "name": "stdout",
     "output_type": "stream",
     "text": [
      "Test loss: 29.81873160493588\n",
      "Test : [29.818733, 3.9432845]\n"
     ]
    }
   ],
   "source": [
    "score = model.evaluate(X_test, y_test, verbose=0)\n",
    "\n",
    "print('Test loss:', score[0])\n",
    "print('Test :', score[1:])"
   ]
  },
  {
   "cell_type": "code",
   "execution_count": 45,
   "metadata": {},
   "outputs": [
    {
     "data": {
      "image/png": "[encoded data removed]",
      "text/plain": [
       "<Figure size 432x288 with 1 Axes>"
      ]
     },
     "metadata": {
      "needs_background": "light"
     },
     "output_type": "display_data"
    }
   ],
   "source": [
    "from matplotlib import pyplot\n",
    "pyplot.plot(history.history['loss'])\n",
    "pyplot.plot(history.history['val_mse'])\n",
    "pyplot.plot(history.history['val_mae'])\n",
    "pyplot.show()"
   ]
  }
 ],
 "metadata": {
  "kernelspec": {
   "display_name": "Python 3",
   "language": "python",
   "name": "python3"
  },
  "language_info": {
   "codemirror_mode": {
    "name": "ipython",
    "version": 3
   },
   "file_extension": ".py",
   "mimetype": "text/x-python",
   "name": "python",
   "nbconvert_exporter": "python",
   "pygments_lexer": "ipython3",
   "version": "3.7.2"
  }
 },
 "nbformat": 4,
 "nbformat_minor": 2
}
