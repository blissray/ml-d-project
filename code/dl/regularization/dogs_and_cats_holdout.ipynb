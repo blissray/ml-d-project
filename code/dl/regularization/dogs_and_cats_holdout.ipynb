{
 "cells": [
  {
   "cell_type": "code",
   "execution_count": 0,
   "metadata": {
    "colab": {},
    "colab_type": "code",
    "id": "A7E0uODOyOEl"
   },
   "outputs": [],
   "source": [
    "from zipfile import ZipFile\n",
    "import os\n"
   ]
  },
  {
   "cell_type": "code",
   "execution_count": 39,
   "metadata": {
    "colab": {
     "base_uri": "https://localhost:8080/",
     "height": 35
    },
    "colab_type": "code",
    "id": "0GVzREDNIxDq",
    "outputId": "4f7545f7-037b-4802-f45e-bff71c875d9d"
   },
   "outputs": [
    {
     "name": "stdout",
     "output_type": "stream",
     "text": [
      "TensorFlow is already loaded. Please restart the runtime to change versions.\n"
     ]
    }
   ],
   "source": [
    "%tensorflow_version 2.x\n",
    "\n",
    "\n",
    "from __future__ import print_function\n",
    "\n",
    "import tensorflow as tf\n",
    "from tensorflow.keras.datasets import mnist\n",
    "from tensorflow.keras.models import Sequential\n",
    "from tensorflow.keras.layers import Dense, Activation, Flatten\n"
   ]
  },
  {
   "cell_type": "code",
   "execution_count": 2,
   "metadata": {
    "colab": {
     "base_uri": "https://localhost:8080/",
     "height": 126
    },
    "colab_type": "code",
    "id": "KchZljcC6uUt",
    "outputId": "adefc5be-014c-43a3-9d96-8f5cfa4be6db"
   },
   "outputs": [
    {
     "name": "stdout",
     "output_type": "stream",
     "text": [
      "Go to this URL in a browser: https://accounts.google.com/o/oauth2/auth?client_id=947318989803-6bn6qk8qdgf4n4g3pfee6491hc0brc4i.apps.googleusercontent.com&redirect_uri=urn%3aietf%3awg%3aoauth%3a2.0%3aoob&response_type=code&scope=email%20https%3a%2f%2fwww.googleapis.com%2fauth%2fdocs.test%20https%3a%2f%2fwww.googleapis.com%2fauth%2fdrive%20https%3a%2f%2fwww.googleapis.com%2fauth%2fdrive.photos.readonly%20https%3a%2f%2fwww.googleapis.com%2fauth%2fpeopleapi.readonly\n",
      "\n",
      "Enter your authorization code:\n",
      "··········\n",
      "Mounted at /content/drive\n"
     ]
    }
   ],
   "source": [
    "from google.colab import drive\n",
    "drive.mount('/content/drive')"
   ]
  },
  {
   "cell_type": "code",
   "execution_count": 0,
   "metadata": {
    "colab": {},
    "colab_type": "code",
    "id": "4ofGqMUL6lQm"
   },
   "outputs": [],
   "source": [
    "DATADIR = \"/content/drive/My Drive/data\"\n",
    "filepath = os.path.join(DATADIR, 'dogs-vs-cats.zip')\n",
    "with ZipFile(filepath, 'r') as zipObj:\n",
    "   # Extract all the contents of zip file in different directory\n",
    "   zipObj.extractall('./temp')"
   ]
  },
  {
   "cell_type": "code",
   "execution_count": 0,
   "metadata": {
    "colab": {},
    "colab_type": "code",
    "id": "DqBPvmUK7Cyp"
   },
   "outputs": [],
   "source": [
    "with ZipFile(\"temp/test1.zip\", 'r') as zipObj:\n",
    "   # Extract all the contents of zip file in different directory\n",
    "   zipObj.extractall('./data')"
   ]
  },
  {
   "cell_type": "code",
   "execution_count": 0,
   "metadata": {
    "colab": {},
    "colab_type": "code",
    "id": "x6slrhnQ7vSD"
   },
   "outputs": [],
   "source": [
    "with ZipFile(\"temp/train.zip\", 'r') as zipObj:\n",
    "   # Extract all the contents of zip file in different directory\n",
    "   zipObj.extractall('./data')"
   ]
  },
  {
   "cell_type": "code",
   "execution_count": 0,
   "metadata": {
    "colab": {},
    "colab_type": "code",
    "id": "t7ErKCyp7xB_"
   },
   "outputs": [],
   "source": [
    "DATA_DIR = \"data\"\n",
    "TRAIN_DIR = \"train\"\n",
    "TEST_DIR = \"test1\"\n"
   ]
  },
  {
   "cell_type": "code",
   "execution_count": 0,
   "metadata": {
    "colab": {},
    "colab_type": "code",
    "id": "vmneu3ng8C2B"
   },
   "outputs": [],
   "source": [
    "filenames = os.listdir(os.path.join(DATA_DIR, TRAIN_DIR))\n",
    "labels = [filename.split(\".\")[0] for filename in filenames]\n",
    "\n",
    "from sklearn.preprocessing import LabelEncoder\n",
    "lbl = LabelEncoder()\n",
    "labels = lbl.fit_transform(labels)"
   ]
  },
  {
   "cell_type": "code",
   "execution_count": 21,
   "metadata": {
    "colab": {
     "base_uri": "https://localhost:8080/",
     "height": 35
    },
    "colab_type": "code",
    "id": "iSxwnJLaHTga",
    "outputId": "14c285ae-a2ac-442c-d36f-ae5da15b0a47"
   },
   "outputs": [
    {
     "data": {
      "text/plain": [
       "array(['cat', 'dog'], dtype='<U3')"
      ]
     },
     "execution_count": 21,
     "metadata": {
      "tags": []
     },
     "output_type": "execute_result"
    }
   ],
   "source": [
    "lbl.classes_"
   ]
  },
  {
   "cell_type": "code",
   "execution_count": 0,
   "metadata": {
    "colab": {},
    "colab_type": "code",
    "id": "LpLTjejX8XeF"
   },
   "outputs": [],
   "source": [
    "from sklearn.model_selection import train_test_split\n",
    "X_train, X_val, y_train, y_val = train_test_split(filenames, labels, stratify=labels, test_size=0.2)"
   ]
  },
  {
   "cell_type": "code",
   "execution_count": 9,
   "metadata": {
    "colab": {
     "base_uri": "https://localhost:8080/",
     "height": 35
    },
    "colab_type": "code",
    "id": "6iOK9myV9jMq",
    "outputId": "e0f05bb7-e1e5-4c77-c86b-dfaf18c251b8"
   },
   "outputs": [
    {
     "data": {
      "text/plain": [
       "(20000, 5000)"
      ]
     },
     "execution_count": 9,
     "metadata": {
      "tags": []
     },
     "output_type": "execute_result"
    }
   ],
   "source": [
    "len(X_train), len(X_val) "
   ]
  },
  {
   "cell_type": "code",
   "execution_count": 0,
   "metadata": {
    "colab": {},
    "colab_type": "code",
    "id": "LoZGqgaZ-FQ9"
   },
   "outputs": [],
   "source": [
    "os.mkdir(\"data/train/dog\")\n",
    "os.mkdir(\"data/train/cat\")\n",
    "os.mkdir(\"data/val\")\n",
    "os.mkdir(\"data/val/dog\")\n",
    "os.mkdir(\"data/val/cat\")"
   ]
  },
  {
   "cell_type": "code",
   "execution_count": 0,
   "metadata": {
    "colab": {},
    "colab_type": "code",
    "id": "Br1S1Ys6-O_T"
   },
   "outputs": [],
   "source": [
    "DATA_DIR = \"data\"\n",
    "TRAIN_DIR = \"train\"\n",
    "VAL_DIR = \"val\"\n",
    "\n",
    "import shutil\n",
    "for filename, label in zip(X_train,y_train):\n",
    "  source_file = os.path.join(DATA_DIR, TRAIN_DIR, filename)\n",
    "  target_file = os.path.join(DATA_DIR, TRAIN_DIR, \n",
    "                             lbl.inverse_transform([label])[0], filename)\n",
    "  shutil.move(source_file, target_file)\n",
    "\n",
    "for filename, label in zip(X_val,y_val):\n",
    "  source_file = os.path.join(DATA_DIR, TRAIN_DIR, filename)\n",
    "  target_file = os.path.join(DATA_DIR, VAL_DIR, \n",
    "                             lbl.inverse_transform([label])[0], filename)\n",
    "  shutil.move(source_file, target_file)\n"
   ]
  },
  {
   "cell_type": "code",
   "execution_count": 16,
   "metadata": {
    "colab": {
     "base_uri": "https://localhost:8080/",
     "height": 35
    },
    "colab_type": "code",
    "id": "eYmAUwhUB1Ud",
    "outputId": "586c01f9-816c-4167-f31b-dab7cd8e8c66"
   },
   "outputs": [
    {
     "data": {
      "text/plain": [
       "(10000, 10000)"
      ]
     },
     "execution_count": 16,
     "metadata": {
      "tags": []
     },
     "output_type": "execute_result"
    }
   ],
   "source": [
    "len(os.listdir(\n",
    "    os.path.join(DATA_DIR, TRAIN_DIR, \"dog\"))), len(os.listdir(\n",
    "    os.path.join(DATA_DIR, TRAIN_DIR, \"cat\"))),"
   ]
  },
  {
   "cell_type": "markdown",
   "metadata": {
    "colab_type": "text",
    "id": "RNsGBuBYByyh"
   },
   "source": [
    ""
   ]
  },
  {
   "cell_type": "code",
   "execution_count": 17,
   "metadata": {
    "colab": {
     "base_uri": "https://localhost:8080/",
     "height": 35
    },
    "colab_type": "code",
    "id": "W-GInkDy-7eL",
    "outputId": "4b22bb55-4d7a-425f-b949-2929f74538d2"
   },
   "outputs": [
    {
     "data": {
      "text/plain": [
       "(2500, 2500)"
      ]
     },
     "execution_count": 17,
     "metadata": {
      "tags": []
     },
     "output_type": "execute_result"
    }
   ],
   "source": [
    "len(os.listdir(\n",
    "    os.path.join(DATA_DIR, VAL_DIR, \"dog\"))), len(os.listdir(\n",
    "    os.path.join(DATA_DIR, VAL_DIR, \"cat\"))),"
   ]
  },
  {
   "cell_type": "code",
   "execution_count": 0,
   "metadata": {
    "colab": {},
    "colab_type": "code",
    "id": "NmidKEcdChn_"
   },
   "outputs": [],
   "source": [
    "def _preprocess_image(image):   \n",
    "    image = tf.image.decode_jpeg(image)   \n",
    "    image = tf.image.convert_image_dtype(image, tf.float32)\n",
    "    image = tf.image.resize(image, [128, 128])\n",
    "    image /= 255.0  # normalize to [0,1] range    \n",
    "    return image\n",
    "\n",
    "def _load_and_preprocess_image(path):   \n",
    "    image = tf.io.read_file(path)\n",
    "    image = _preprocess_image(image)\n",
    "    return image\n",
    "\n",
    "def load_and_preprocess_from_path_label(path, label):   \n",
    "    return _load_and_preprocess_image(path), label  \n",
    "\n",
    "def get_dataset(ds):\n",
    "    image_label_ds = ds.map(load_and_preprocess_from_path_label)\n",
    "    image_label_ds = image_label_ds.shuffle(1024)\n",
    "    image_label_ds = image_label_ds.batch(1024)\n",
    "    image_label_ds = image_label_ds.prefetch(buffer_size=1024)\n",
    "    return image_label_ds"
   ]
  },
  {
   "cell_type": "code",
   "execution_count": 0,
   "metadata": {
    "colab": {},
    "colab_type": "code",
    "id": "zWWIxUt9LCH2"
   },
   "outputs": [],
   "source": [
    "import random"
   ]
  },
  {
   "cell_type": "code",
   "execution_count": 0,
   "metadata": {
    "colab": {},
    "colab_type": "code",
    "id": "52hjtWqEHCBP"
   },
   "outputs": [],
   "source": [
    "X_train = os.listdir(os.path.join(DATA_DIR, TRAIN_DIR, \"dog\")) + os.listdir(os.path.join(DATA_DIR, TRAIN_DIR, \"cat\"))\n",
    "random.shuffle(X_train)\n",
    "y_train = [0 if filename.split(\".\")[0] == \"cat\" else 1 for filename in X_train ] \n",
    "X_train = [os.path.join(DATA_DIR, TRAIN_DIR, \"cat\",filename) \\\n",
    "           if filename.split(\".\")[0] == \"cat\" \\\n",
    "           else os.path.join(DATA_DIR, TRAIN_DIR, \"dog\",filename) \n",
    "           for filename in X_train ]"
   ]
  },
  {
   "cell_type": "code",
   "execution_count": 0,
   "metadata": {
    "colab": {},
    "colab_type": "code",
    "id": "8ajTAzaFHbZ2"
   },
   "outputs": [],
   "source": [
    "X_val = os.listdir(os.path.join(DATA_DIR, VAL_DIR, \"dog\")) + os.listdir(os.path.join(DATA_DIR, VAL_DIR, \"cat\"))\n",
    "random.shuffle(X_val)\n",
    "y_val = [0 if filename.split(\".\")[0] == \"cat\" else 1 for filename in X_val ] \n",
    "X_val = [os.path.join(DATA_DIR, VAL_DIR, \"cat\",filename) \\\n",
    "           if filename.split(\".\")[0] == \"cat\" \\\n",
    "           else os.path.join(DATA_DIR, VAL_DIR, \"dog\",filename) \n",
    "           for filename in X_val ]"
   ]
  },
  {
   "cell_type": "code",
   "execution_count": 0,
   "metadata": {
    "colab": {},
    "colab_type": "code",
    "id": "tYcNM8yFG8cT"
   },
   "outputs": [],
   "source": [
    "train_dataset = tf.data.Dataset.from_tensor_slices((X_train, y_train))\n",
    "val_dataset = tf.data.Dataset.from_tensor_slices((X_val, y_val))\n",
    "\n",
    "train_dataset = get_dataset(train_dataset)\n",
    "val_dataset = get_dataset(val_dataset)\n"
   ]
  },
  {
   "cell_type": "code",
   "execution_count": 0,
   "metadata": {
    "colab": {
     "base_uri": "https://localhost:8080/",
     "height": 479
    },
    "colab_type": "code",
    "id": "_F2O6bnWJL5U",
    "outputId": "a5bdeea4-165e-43cf-da2b-d0647ce2eb63"
   },
   "outputs": [
    {
     "name": "stdout",
     "output_type": "stream",
     "text": [
      "Model: \"sequential_7\"\n",
      "_________________________________________________________________\n",
      "Layer (type)                 Output Shape              Param #   \n",
      "=================================================================\n",
      "flatten_7 (Flatten)          (None, 49152)             0         \n",
      "_________________________________________________________________\n",
      "dense_49 (Dense)             (None, 128)               6291584   \n",
      "_________________________________________________________________\n",
      "dense_50 (Dense)             (None, 64)                8256      \n",
      "_________________________________________________________________\n",
      "dense_51 (Dense)             (None, 128)               8320      \n",
      "_________________________________________________________________\n",
      "dense_52 (Dense)             (None, 64)                8256      \n",
      "_________________________________________________________________\n",
      "dense_53 (Dense)             (None, 32)                2080      \n",
      "_________________________________________________________________\n",
      "dense_54 (Dense)             (None, 64)                2112      \n",
      "_________________________________________________________________\n",
      "dense_55 (Dense)             (None, 10)                650       \n",
      "=================================================================\n",
      "Total params: 6,321,258\n",
      "Trainable params: 6,321,258\n",
      "Non-trainable params: 0\n",
      "_________________________________________________________________\n",
      "Train on 20 steps, validate on 5 steps\n",
      "Epoch 1/50\n"
     ]
    }
   ],
   "source": [
    "model = Sequential()\n",
    "model.add(Flatten(input_shape = (128, 128,3)))\n",
    "model.add(Dense(128, activation='relu'))\n",
    "model.add(Dense(64, activation='relu'))\n",
    "model.add(Dense(128, activation='relu'))\n",
    "model.add(Dense(64, activation='relu'))\n",
    "model.add(Dense(32, activation='relu'))\n",
    "model.add(Dense(64, activation='relu'))\n",
    "model.add(Dense(10, activation='softmax'))\n",
    "\n",
    "model.summary()\n",
    "model.compile(loss='binary_crossentropy',\n",
    "              optimizer=\"adam\",\n",
    "              metrics=['accuracy'])\n",
    "\n",
    "history = model.fit(train_dataset, epochs=50, validation_data=val_dataset,\n",
    "                    verbose=1, shuffle=True)\n",
    "\n",
    "score = model.evaluate(test_dataset, verbose=0)"
   ]
  },
  {
   "cell_type": "code",
   "execution_count": 0,
   "metadata": {
    "colab": {},
    "colab_type": "code",
    "id": "TU_c1lxgJPXI"
   },
   "outputs": [],
   "source": [
    ""
   ]
  },
  {
   "cell_type": "code",
   "execution_count": 0,
   "metadata": {
    "colab": {},
    "colab_type": "code",
    "id": "zJ_jbObIJLLy"
   },
   "outputs": [],
   "source": [
    ""
   ]
  },
  {
   "cell_type": "code",
   "execution_count": 0,
   "metadata": {
    "colab": {},
    "colab_type": "code",
    "id": "mBe-yuQGJLHC"
   },
   "outputs": [],
   "source": [
    ""
   ]
  },
  {
   "cell_type": "code",
   "execution_count": 0,
   "metadata": {
    "colab": {},
    "colab_type": "code",
    "id": "Z_0Th0m7If1f"
   },
   "outputs": [],
   "source": [
    ""
   ]
  }
 ],
 "metadata": {
  "colab": {
   "collapsed_sections": [],
   "name": "dogs_and_cats_holdout.ipynb",
   "provenance": []
  },
  "kernelspec": {
   "display_name": "Python 3",
   "name": "python3"
  }
 },
 "nbformat": 4,
 "nbformat_minor": 0
}
