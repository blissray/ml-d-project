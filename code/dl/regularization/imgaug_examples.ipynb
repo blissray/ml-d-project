{
 "cells": [
  {
   "cell_type": "code",
   "execution_count": null,
   "metadata": {},
   "outputs": [],
   "source": [
    "target_dir = \"data\"\n",
    "\n",
    "for filename in os.listdir(target_dir):\n",
    "  target_file_path = os.path.join(target_dir, filename)\n",
    "  image = imread(target_file_path)\n",
    "  seq = iaa.Sequential([\n",
    "      iaa.Crop(px=(0, 16)), # crop images from each side by 0 to 16px (randomly chosen)\n",
    "      iaa.Fliplr(0.5), # horizontally flip 50% of the images\n",
    "      iaa.GaussianBlur(sigma=(0, 3.0)) # blur images with a sigma of 0 to 3.0\n",
    "  ])\n",
    "  for _ in range(50):\n",
    "      images_aug = seq.augment_images(image)\n",
    "      im = Image.fromarray(images_aug)\n",
    "      im.save(os.path.join(target_dir, \"img_aug_{}\".format(_) + filename))\n"
   ]
  }
 ],
 "metadata": {
  "kernelspec": {
   "display_name": "Python 3",
   "language": "python",
   "name": "python3"
  },
  "language_info": {
   "codemirror_mode": {
    "name": "ipython",
    "version": 3
   },
   "file_extension": ".py",
   "mimetype": "text/x-python",
   "name": "python",
   "nbconvert_exporter": "python",
   "pygments_lexer": "ipython3",
   "version": "3.6.9"
  }
 },
 "nbformat": 4,
 "nbformat_minor": 2
}
